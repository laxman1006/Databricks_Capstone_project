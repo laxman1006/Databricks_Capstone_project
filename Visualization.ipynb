{
 "cells": [
  {
   "cell_type": "markdown",
   "metadata": {
    "application/vnd.databricks.v1+cell": {
     "cellMetadata": {},
     "inputWidgets": {},
     "nuid": "f7db54bb-aa81-4fcb-b950-0a853a0f4e65",
     "showTitle": false,
     "title": ""
    }
   },
   "source": [
    "## Gold layer Data visualization"
   ]
  },
  {
   "cell_type": "markdown",
   "metadata": {
    "application/vnd.databricks.v1+cell": {
     "cellMetadata": {},
     "inputWidgets": {},
     "nuid": "74ebdf59-fd8b-4a97-9899-9c2eafc68a48",
     "showTitle": false,
     "title": ""
    }
   },
   "source": [
    "## Transaction patterns"
   ]
  },
  {
   "cell_type": "code",
   "execution_count": 0,
   "metadata": {
    "application/vnd.databricks.v1+cell": {
     "cellMetadata": {
      "byteLimit": 2048000,
      "rowLimit": 10000
     },
     "inputWidgets": {},
     "nuid": "9e59b90a-b913-4faf-9f32-2355dce014c4",
     "showTitle": false,
     "title": ""
    }
   },
   "outputs": [],
   "source": [
    "trans_patterns = spark.readStream.table(\"Gold_layer.trans_patterns\")\n"
   ]
  },
  {
   "cell_type": "code",
   "execution_count": 0,
   "metadata": {
    "application/vnd.databricks.v1+cell": {
     "cellMetadata": {
      "byteLimit": 2048000,
      "rowLimit": 10000
     },
     "inputWidgets": {},
     "nuid": "44a8c5bd-8bad-4bc8-a95b-f0c0843e499b",
     "showTitle": false,
     "title": ""
    }
   },
   "outputs": [
    {
     "output_type": "display_data",
     "data": {
      "text/html": [
       "<style scoped>\n",
       "  .table-result-container {\n",
       "    max-height: 300px;\n",
       "    overflow: auto;\n",
       "  }\n",
       "  table, th, td {\n",
       "    border: 1px solid black;\n",
       "    border-collapse: collapse;\n",
       "  }\n",
       "  th, td {\n",
       "    padding: 5px;\n",
       "  }\n",
       "  th {\n",
       "    text-align: left;\n",
       "  }\n",
       "</style><div class='table-result-container'><table class='table-result'><thead style='background-color: white'><tr><th>month</th><th>transaction_type</th><th>transaction_count</th><th>total_amount</th></tr></thead><tbody><tr><td>2024-02</td><td>balancecheck</td><td>40</td><td>2140900.0</td></tr><tr><td>2024-01</td><td>balancecheck</td><td>45</td><td>2184600.0</td></tr><tr><td>2024-03</td><td>balancecheck</td><td>46</td><td>2134700.0</td></tr><tr><td>2024-04</td><td>balancecheck</td><td>53</td><td>2258300.0</td></tr><tr><td>2024-05</td><td>balancecheck</td><td>37</td><td>1856000.0</td></tr><tr><td>2024-06</td><td>balancecheck</td><td>49</td><td>2286600.0</td></tr><tr><td>2024-07</td><td>balancecheck</td><td>41</td><td>2124500.0</td></tr><tr><td>2024-01</td><td>withdrawal</td><td>51</td><td>2439700.0</td></tr><tr><td>2024-02</td><td>withdrawal</td><td>53</td><td>2410300.0</td></tr><tr><td>2024-03</td><td>withdrawal</td><td>38</td><td>1550700.0</td></tr><tr><td>2024-04</td><td>withdrawal</td><td>35</td><td>1956900.0</td></tr><tr><td>2024-05</td><td>withdrawal</td><td>41</td><td>2053600.0</td></tr><tr><td>2024-06</td><td>withdrawal</td><td>41</td><td>2534700.0</td></tr><tr><td>2024-07</td><td>withdrawal</td><td>36</td><td>1689000.0</td></tr><tr><td>2024-01</td><td>transfer</td><td>36</td><td>1509300.0</td></tr><tr><td>2024-02</td><td>transfer</td><td>51</td><td>2316100.0</td></tr><tr><td>2024-03</td><td>transfer</td><td>64</td><td>3577800.0</td></tr><tr><td>2024-04</td><td>transfer</td><td>38</td><td>2135100.0</td></tr><tr><td>2024-06</td><td>transfer</td><td>55</td><td>2732600.0</td></tr><tr><td>2024-07</td><td>transfer</td><td>43</td><td>2030000.0</td></tr><tr><td>2024-05</td><td>transfer</td><td>44</td><td>2167000.0</td></tr><tr><td>2024-01</td><td>deposit</td><td>43</td><td>2232000.0</td></tr><tr><td>2024-02</td><td>deposit</td><td>47</td><td>2590100.0</td></tr><tr><td>2024-03</td><td>deposit</td><td>54</td><td>2637900.0</td></tr><tr><td>2024-04</td><td>deposit</td><td>41</td><td>1946500.0</td></tr><tr><td>2024-05</td><td>deposit</td><td>47</td><td>2336200.0</td></tr><tr><td>2024-06</td><td>deposit</td><td>50</td><td>2415000.0</td></tr><tr><td>2024-07</td><td>deposit</td><td>46</td><td>2084000.0</td></tr></tbody></table></div>"
      ]
     },
     "metadata": {
      "application/vnd.databricks.v1+output": {
       "addedWidgets": {},
       "aggData": [],
       "aggError": "",
       "aggOverflow": false,
       "aggSchema": [],
       "aggSeriesLimitReached": false,
       "aggType": "",
       "arguments": {},
       "columnCustomDisplayInfos": {},
       "data": [
        [
         "2024-02",
         "balancecheck",
         40,
         2140900.0
        ],
        [
         "2024-01",
         "balancecheck",
         45,
         2184600.0
        ],
        [
         "2024-03",
         "balancecheck",
         46,
         2134700.0
        ],
        [
         "2024-04",
         "balancecheck",
         53,
         2258300.0
        ],
        [
         "2024-05",
         "balancecheck",
         37,
         1856000.0
        ],
        [
         "2024-06",
         "balancecheck",
         49,
         2286600.0
        ],
        [
         "2024-07",
         "balancecheck",
         41,
         2124500.0
        ],
        [
         "2024-01",
         "withdrawal",
         51,
         2439700.0
        ],
        [
         "2024-02",
         "withdrawal",
         53,
         2410300.0
        ],
        [
         "2024-03",
         "withdrawal",
         38,
         1550700.0
        ],
        [
         "2024-04",
         "withdrawal",
         35,
         1956900.0
        ],
        [
         "2024-05",
         "withdrawal",
         41,
         2053600.0
        ],
        [
         "2024-06",
         "withdrawal",
         41,
         2534700.0
        ],
        [
         "2024-07",
         "withdrawal",
         36,
         1689000.0
        ],
        [
         "2024-01",
         "transfer",
         36,
         1509300.0
        ],
        [
         "2024-02",
         "transfer",
         51,
         2316100.0
        ],
        [
         "2024-03",
         "transfer",
         64,
         3577800.0
        ],
        [
         "2024-04",
         "transfer",
         38,
         2135100.0
        ],
        [
         "2024-06",
         "transfer",
         55,
         2732600.0
        ],
        [
         "2024-07",
         "transfer",
         43,
         2030000.0
        ],
        [
         "2024-05",
         "transfer",
         44,
         2167000.0
        ],
        [
         "2024-01",
         "deposit",
         43,
         2232000.0
        ],
        [
         "2024-02",
         "deposit",
         47,
         2590100.0
        ],
        [
         "2024-03",
         "deposit",
         54,
         2637900.0
        ],
        [
         "2024-04",
         "deposit",
         41,
         1946500.0
        ],
        [
         "2024-05",
         "deposit",
         47,
         2336200.0
        ],
        [
         "2024-06",
         "deposit",
         50,
         2415000.0
        ],
        [
         "2024-07",
         "deposit",
         46,
         2084000.0
        ]
       ],
       "datasetInfos": [],
       "dbfsResultPath": null,
       "isJsonSchema": true,
       "metadata": {
        "isDbfsCommandResult": false
       },
       "overflow": false,
       "plotOptions": {
        "customPlotOptions": {},
        "displayType": "table",
        "pivotAggregation": null,
        "pivotColumns": null,
        "xColumns": null,
        "yColumns": null
       },
       "removedWidgets": [],
       "schema": [
        {
         "metadata": "{}",
         "name": "month",
         "type": "\"string\""
        },
        {
         "metadata": "{}",
         "name": "transaction_type",
         "type": "\"string\""
        },
        {
         "metadata": "{}",
         "name": "transaction_count",
         "type": "\"long\""
        },
        {
         "metadata": "{}",
         "name": "total_amount",
         "type": "\"double\""
        }
       ],
       "type": "table"
      }
     },
     "output_type": "display_data"
    }
   ],
   "source": [
    "trans_patterns.display()"
   ]
  },
  {
   "cell_type": "markdown",
   "metadata": {
    "application/vnd.databricks.v1+cell": {
     "cellMetadata": {},
     "inputWidgets": {},
     "nuid": "df889b3e-4d08-4f26-be2f-9088191a4814",
     "showTitle": false,
     "title": ""
    }
   },
   "source": [
    "## Monthly transaction count and Total amount"
   ]
  },
  {
   "cell_type": "code",
   "execution_count": 0,
   "metadata": {
    "application/vnd.databricks.v1+cell": {
     "cellMetadata": {
      "byteLimit": 2048000,
      "rowLimit": 10000
     },
     "inputWidgets": {},
     "nuid": "acca2193-8687-42d7-95f5-68927e9bc932",
     "showTitle": false,
     "title": ""
    }
   },
   "outputs": [
    {
     "output_type": "display_data",
     "data": {
      "text/html": [
       "<style scoped>\n",
       "  .table-result-container {\n",
       "    max-height: 300px;\n",
       "    overflow: auto;\n",
       "  }\n",
       "  table, th, td {\n",
       "    border: 1px solid black;\n",
       "    border-collapse: collapse;\n",
       "  }\n",
       "  th, td {\n",
       "    padding: 5px;\n",
       "  }\n",
       "  th {\n",
       "    text-align: left;\n",
       "  }\n",
       "</style><div class='table-result-container'><table class='table-result'><thead style='background-color: white'><tr><th>month</th><th>transaction_count</th><th>total_amount</th></tr></thead><tbody><tr><td>2024-01</td><td>175</td><td>8365600.0</td></tr><tr><td>2024-02</td><td>191</td><td>9457400.0</td></tr><tr><td>2024-04</td><td>167</td><td>8296800.0</td></tr><tr><td>2024-05</td><td>169</td><td>8412800.0</td></tr><tr><td>2024-06</td><td>195</td><td>9968900.0</td></tr><tr><td>2024-03</td><td>202</td><td>9901100.0</td></tr><tr><td>2024-07</td><td>166</td><td>7927500.0</td></tr></tbody></table></div>"
      ]
     },
     "metadata": {
      "application/vnd.databricks.v1+output": {
       "addedWidgets": {},
       "aggData": [],
       "aggError": "",
       "aggOverflow": false,
       "aggSchema": [],
       "aggSeriesLimitReached": false,
       "aggType": "",
       "arguments": {},
       "columnCustomDisplayInfos": {},
       "data": [
        [
         "2024-01",
         175,
         8365600.0
        ],
        [
         "2024-02",
         191,
         9457400.0
        ],
        [
         "2024-04",
         167,
         8296800.0
        ],
        [
         "2024-05",
         169,
         8412800.0
        ],
        [
         "2024-06",
         195,
         9968900.0
        ],
        [
         "2024-03",
         202,
         9901100.0
        ],
        [
         "2024-07",
         166,
         7927500.0
        ]
       ],
       "datasetInfos": [],
       "dbfsResultPath": null,
       "isJsonSchema": true,
       "metadata": {
        "isDbfsCommandResult": false
       },
       "overflow": false,
       "plotOptions": {
        "customPlotOptions": {},
        "displayType": "table",
        "pivotAggregation": null,
        "pivotColumns": null,
        "xColumns": null,
        "yColumns": null
       },
       "removedWidgets": [],
       "schema": [
        {
         "metadata": "{}",
         "name": "month",
         "type": "\"string\""
        },
        {
         "metadata": "{}",
         "name": "transaction_count",
         "type": "\"long\""
        },
        {
         "metadata": "{}",
         "name": "total_amount",
         "type": "\"double\""
        }
       ],
       "type": "table"
      }
     },
     "output_type": "display_data"
    },
    {
     "output_type": "display_data",
     "data": {
      "text/plain": [
       "Databricks visualization. Run in Databricks to view."
      ]
     },
     "metadata": {
      "application/vnd.databricks.v1.subcommand+json": {
       "baseErrorDetails": null,
       "bindings": {},
       "collapsed": false,
       "command": "# Databricks no-op command",
       "commandTitle": "Visualization 1",
       "commandType": "auto",
       "commandVersion": 0,
       "commentThread": [],
       "commentsVisible": false,
       "contentSha256Hex": null,
       "customPlotOptions": {
        "redashChart": [
         {
          "key": "type",
          "value": "CHART"
         },
         {
          "key": "options",
          "value": {
           "alignYAxesAtZero": true,
           "coefficient": 1,
           "columnConfigurationMap": {
            "series": {
             "column": "month",
             "id": "column_30613d1a78"
            },
            "x": {
             "column": "transaction_count",
             "id": "column_30613d1a76"
            },
            "y": [
             {
              "column": "total_amount",
              "id": "column_30613d1a77"
             }
            ]
           },
           "dateTimeFormat": "DD/MM/YYYY HH:mm",
           "direction": {
            "type": "counterclockwise"
           },
           "error_y": {
            "type": "data",
            "visible": true
           },
           "globalSeriesType": "scatter",
           "legend": {
            "traceorder": "normal"
           },
           "missingValuesAsZero": true,
           "numberFormat": "0,0.[00000]",
           "percentFormat": "0[.]00%",
           "series": {
            "error_y": {
             "type": "data",
             "visible": true
            },
            "stacking": null
           },
           "seriesOptions": {
            "column_30613d1a77": {
             "name": "total_amount",
             "yAxis": 0
            }
           },
           "showDataLabels": false,
           "sizemode": "diameter",
           "sortX": true,
           "sortY": true,
           "swappedAxes": false,
           "textFormat": "",
           "useAggregationsUi": true,
           "valuesOptions": {},
           "version": 2,
           "xAxis": {
            "labels": {
             "enabled": true
            },
            "type": "-"
           },
           "yAxis": [
            {
             "type": "-"
            },
            {
             "opposite": true,
             "type": "-"
            }
           ]
          }
         }
        ]
       },
       "datasetPreviewNameToCmdIdMap": {},
       "diffDeletes": [],
       "diffInserts": [],
       "displayType": "redashChart",
       "error": null,
       "errorDetails": null,
       "errorSummary": null,
       "errorTraceType": null,
       "finishTime": 0,
       "globalVars": {},
       "guid": "",
       "height": "auto",
       "hideCommandCode": false,
       "hideCommandResult": false,
       "iPythonMetadata": null,
       "inputWidgets": {},
       "isLockedInExamMode": false,
       "latestUser": "a user",
       "latestUserId": null,
       "listResultMetadata": null,
       "metadata": {},
       "nuid": "3ffa6edf-c609-47eb-8d00-85411ef9d2de",
       "origId": 0,
       "parentHierarchy": [],
       "pivotAggregation": null,
       "pivotColumns": null,
       "position": 10.0,
       "resultDbfsErrorMessage": null,
       "resultDbfsStatus": "INLINED_IN_TREE",
       "results": null,
       "showCommandTitle": false,
       "startTime": 0,
       "state": "input",
       "streamStates": {},
       "subcommandOptions": {
        "queryPlan": {
         "selects": [
          {
           "column": "transaction_count",
           "type": "column"
          },
          {
           "column": "total_amount",
           "type": "column"
          },
          {
           "column": "month",
           "type": "column"
          }
         ]
        }
       },
       "submitTime": 0,
       "subtype": "tableResultSubCmd.visualization",
       "tableResultIndex": 0,
       "useConsistentColors": false,
       "version": "CommandV1",
       "width": "auto",
       "workflows": [],
       "xColumns": null,
       "yColumns": null
      }
     },
     "output_type": "display_data"
    }
   ],
   "source": [
    "Monthly_trans = spark.readStream.table(\"Gold_layer.monthly_trans\")\n",
    "Monthly_trans.display()"
   ]
  },
  {
   "cell_type": "markdown",
   "metadata": {
    "application/vnd.databricks.v1+cell": {
     "cellMetadata": {},
     "inputWidgets": {},
     "nuid": "95ab0554-1728-48f7-a718-5fb47457c83b",
     "showTitle": false,
     "title": ""
    }
   },
   "source": [
    "## High transaction by branch customers"
   ]
  },
  {
   "cell_type": "code",
   "execution_count": 0,
   "metadata": {
    "application/vnd.databricks.v1+cell": {
     "cellMetadata": {
      "byteLimit": 2048000,
      "rowLimit": 10000
     },
     "inputWidgets": {},
     "nuid": "e89d3c77-303d-41d6-8832-310e8c5db4c0",
     "showTitle": false,
     "title": ""
    }
   },
   "outputs": [
    {
     "output_type": "display_data",
     "data": {
      "text/html": [
       "<style scoped>\n",
       "  .table-result-container {\n",
       "    max-height: 300px;\n",
       "    overflow: auto;\n",
       "  }\n",
       "  table, th, td {\n",
       "    border: 1px solid black;\n",
       "    border-collapse: collapse;\n",
       "  }\n",
       "  th, td {\n",
       "    padding: 5px;\n",
       "  }\n",
       "  th {\n",
       "    text-align: left;\n",
       "  }\n",
       "</style><div class='table-result-container'><table class='table-result'><thead style='background-color: white'><tr><th>branch_id</th><th>customer_id</th><th>highest_amount</th></tr></thead><tbody><tr><td>B105</td><td>C6364</td><td>54400.0</td></tr><tr><td>B105</td><td>C6365</td><td>81200.0</td></tr><tr><td>B105</td><td>C6370</td><td>90300.0</td></tr><tr><td>B105</td><td>C6392</td><td>81200.0</td></tr><tr><td>B105</td><td>C6507</td><td>17400.0</td></tr><tr><td>B105</td><td>C6562</td><td>3200.0</td></tr><tr><td>B105</td><td>C6617</td><td>46400.0</td></tr><tr><td>B102</td><td>C6143</td><td>93700.0</td></tr><tr><td>B102</td><td>C6234</td><td>85200.0</td></tr><tr><td>B102</td><td>C6252</td><td>14500.0</td></tr><tr><td>B102</td><td>C6265</td><td>85200.0</td></tr><tr><td>B102</td><td>C6374</td><td>56300.0</td></tr><tr><td>B102</td><td>C6378</td><td>36100.0</td></tr><tr><td>B108</td><td>C6449</td><td>78100.0</td></tr><tr><td>B108</td><td>C6466</td><td>78100.0</td></tr><tr><td>B108</td><td>C6552</td><td>83000.0</td></tr><tr><td>B108</td><td>C6579</td><td>9800.0</td></tr><tr><td>B108</td><td>C6587</td><td>48300.0</td></tr><tr><td>B108</td><td>C6640</td><td>16100.0</td></tr><tr><td>B101</td><td>C3861</td><td>97700.0</td></tr><tr><td>B101</td><td>C3977</td><td>87100.0</td></tr><tr><td>B101</td><td>C4052</td><td>79700.0</td></tr><tr><td>B101</td><td>C4252</td><td>17300.0</td></tr><tr><td>B101</td><td>C4336</td><td>21800.0</td></tr><tr><td>B101</td><td>C4345</td><td>55000.0</td></tr><tr><td>B101</td><td>C4353</td><td>31800.0</td></tr><tr><td>B104</td><td>C5737</td><td>96700.0</td></tr><tr><td>B104</td><td>C5773</td><td>41200.0</td></tr><tr><td>B104</td><td>C5851</td><td>87700.0</td></tr><tr><td>B104</td><td>C5912</td><td>44500.0</td></tr><tr><td>B104</td><td>C5968</td><td>52900.0</td></tr><tr><td>B104</td><td>C6060</td><td>68200.0</td></tr><tr><td>B104</td><td>C6072</td><td>14400.0</td></tr><tr><td>B101</td><td>C3089</td><td>80700.0</td></tr><tr><td>B101</td><td>C3102</td><td>77800.0</td></tr><tr><td>B101</td><td>C3103</td><td>32400.0</td></tr><tr><td>B101</td><td>C3186</td><td>37900.0</td></tr><tr><td>B101</td><td>C3352</td><td>40100.0</td></tr><tr><td>B101</td><td>C3360</td><td>8700.0</td></tr><tr><td>B101</td><td>C3366</td><td>44600.0</td></tr><tr><td>B103</td><td>C5975</td><td>7400.0</td></tr><tr><td>B103</td><td>C5996</td><td>2900.0</td></tr><tr><td>B103</td><td>C6031</td><td>26700.0</td></tr><tr><td>B103</td><td>C6037</td><td>16700.0</td></tr><tr><td>B103</td><td>C6052</td><td>99300.0</td></tr><tr><td>B103</td><td>C6187</td><td>15800.0</td></tr><tr><td>B103</td><td>C6201</td><td>76700.0</td></tr><tr><td>B104</td><td>C4716</td><td>34100.0</td></tr><tr><td>B104</td><td>C4821</td><td>55500.0</td></tr><tr><td>B104</td><td>C4859</td><td>47800.0</td></tr><tr><td>B104</td><td>C4860</td><td>43900.0</td></tr><tr><td>B104</td><td>C4882</td><td>23900.0</td></tr><tr><td>B104</td><td>C4935</td><td>80600.0</td></tr><tr><td>B104</td><td>C5027</td><td>94500.0</td></tr><tr><td>B106</td><td>C6018</td><td>17700.0</td></tr><tr><td>B106</td><td>C6087</td><td>14800.0</td></tr><tr><td>B106</td><td>C6153</td><td>1800.0</td></tr><tr><td>B106</td><td>C6199</td><td>95100.0</td></tr><tr><td>B106</td><td>C6214</td><td>48200.0</td></tr><tr><td>B106</td><td>C6462</td><td>74500.0</td></tr><tr><td>B106</td><td>C6525</td><td>44400.0</td></tr><tr><td>B107</td><td>C3402</td><td>46500.0</td></tr><tr><td>B107</td><td>C3444</td><td>63900.0</td></tr><tr><td>B107</td><td>C3485</td><td>17300.0</td></tr><tr><td>B107</td><td>C3533</td><td>74200.0</td></tr><tr><td>B107</td><td>C3605</td><td>68000.0</td></tr><tr><td>B107</td><td>C3635</td><td>55500.0</td></tr><tr><td>B107</td><td>C3679</td><td>74800.0</td></tr><tr><td>B107</td><td>C5482</td><td>67100.0</td></tr><tr><td>B107</td><td>C5565</td><td>59200.0</td></tr><tr><td>B107</td><td>C5577</td><td>75300.0</td></tr><tr><td>B107</td><td>C5586</td><td>99700.0</td></tr><tr><td>B107</td><td>C5669</td><td>2800.0</td></tr><tr><td>B107</td><td>C5766</td><td>79600.0</td></tr><tr><td>B107</td><td>C5794</td><td>1300.0</td></tr><tr><td>B108</td><td>C3305</td><td>81100.0</td></tr><tr><td>B108</td><td>C3354</td><td>63800.0</td></tr><tr><td>B108</td><td>C3437</td><td>13900.0</td></tr><tr><td>B108</td><td>C3482</td><td>94600.0</td></tr><tr><td>B108</td><td>C3490</td><td>60600.0</td></tr><tr><td>B108</td><td>C3527</td><td>75000.0</td></tr><tr><td>B108</td><td>C3575</td><td>49600.0</td></tr><tr><td>B108</td><td>C4282</td><td>67300.0</td></tr><tr><td>B108</td><td>C4310</td><td>76000.0</td></tr><tr><td>B108</td><td>C4420</td><td>71300.0</td></tr><tr><td>B108</td><td>C4526</td><td>98600.0</td></tr><tr><td>B108</td><td>C4610</td><td>43300.0</td></tr><tr><td>B108</td><td>C4628</td><td>11900.0</td></tr><tr><td>B108</td><td>C4642</td><td>73600.0</td></tr><tr><td>B108</td><td>C5317</td><td>47100.0</td></tr><tr><td>B108</td><td>C5324</td><td>69900.0</td></tr><tr><td>B108</td><td>C5373</td><td>38100.0</td></tr><tr><td>B108</td><td>C5395</td><td>15700.0</td></tr><tr><td>B108</td><td>C5426</td><td>95300.0</td></tr><tr><td>B108</td><td>C5440</td><td>12600.0</td></tr><tr><td>B108</td><td>C5527</td><td>77900.0</td></tr><tr><td>B109</td><td>C4888</td><td>3900.0</td></tr><tr><td>B109</td><td>C4889</td><td>61100.0</td></tr><tr><td>B109</td><td>C4903</td><td>42400.0</td></tr><tr><td>B109</td><td>C4975</td><td>76600.0</td></tr><tr><td>B109</td><td>C5228</td><td>800.0</td></tr><tr><td>B109</td><td>C5243</td><td>61600.0</td></tr><tr><td>B109</td><td>C5258</td><td>30000.0</td></tr><tr><td>B101</td><td>C5124</td><td>27300.0</td></tr><tr><td>B101</td><td>C5147</td><td>92700.0</td></tr><tr><td>B101</td><td>C5169</td><td>44000.0</td></tr><tr><td>B101</td><td>C5267</td><td>40200.0</td></tr><tr><td>B101</td><td>C5268</td><td>65700.0</td></tr><tr><td>B101</td><td>C5336</td><td>55600.0</td></tr><tr><td>B101</td><td>C5469</td><td>12700.0</td></tr><tr><td>B105</td><td>C4392</td><td>76200.0</td></tr><tr><td>B105</td><td>C4480</td><td>48000.0</td></tr><tr><td>B105</td><td>C4486</td><td>6500.0</td></tr><tr><td>B105</td><td>C4532</td><td>82400.0</td></tr><tr><td>B105</td><td>C4565</td><td>90100.0</td></tr><tr><td>B105</td><td>C4657</td><td>19900.0</td></tr><tr><td>B105</td><td>C4698</td><td>22900.0</td></tr><tr><td>B106</td><td>C7316</td><td>88300.0</td></tr><tr><td>B106</td><td>C7322</td><td>30500.0</td></tr><tr><td>B106</td><td>C7350</td><td>80100.0</td></tr><tr><td>B106</td><td>C7375</td><td>17000.0</td></tr><tr><td>B106</td><td>C7390</td><td>33700.0</td></tr><tr><td>B106</td><td>C7494</td><td>34100.0</td></tr><tr><td>B106</td><td>C7594</td><td>22200.0</td></tr><tr><td>B110</td><td>C3340</td><td>85200.0</td></tr><tr><td>B110</td><td>C3345</td><td>92600.0</td></tr><tr><td>B110</td><td>C3355</td><td>14700.0</td></tr><tr><td>B110</td><td>C3448</td><td>39700.0</td></tr><tr><td>B110</td><td>C3482</td><td>30000.0</td></tr><tr><td>B110</td><td>C3511</td><td>37700.0</td></tr><tr><td>B110</td><td>C3516</td><td>87700.0</td></tr><tr><td>B110</td><td>C7092</td><td>65500.0</td></tr><tr><td>B110</td><td>C7097</td><td>2900.0</td></tr><tr><td>B110</td><td>C7100</td><td>33500.0</td></tr><tr><td>B110</td><td>C7162</td><td>17800.0</td></tr><tr><td>B110</td><td>C7197</td><td>96500.0</td></tr><tr><td>B110</td><td>C7223</td><td>92300.0</td></tr><tr><td>B110</td><td>C7227</td><td>59300.0</td></tr><tr><td>B102</td><td>C4547</td><td>74000.0</td></tr><tr><td>B102</td><td>C4552</td><td>81100.0</td></tr><tr><td>B102</td><td>C4565</td><td>72500.0</td></tr><tr><td>B102</td><td>C4593</td><td>41800.0</td></tr><tr><td>B102</td><td>C4707</td><td>60500.0</td></tr><tr><td>B102</td><td>C4722</td><td>83500.0</td></tr><tr><td>B102</td><td>C4729</td><td>14000.0</td></tr><tr><td>B102</td><td>C6418</td><td>48800.0</td></tr><tr><td>B102</td><td>C6460</td><td>27300.0</td></tr><tr><td>B102</td><td>C6519</td><td>67800.0</td></tr><tr><td>B102</td><td>C6558</td><td>73900.0</td></tr><tr><td>B102</td><td>C6569</td><td>2600.0</td></tr><tr><td>B102</td><td>C6573</td><td>50900.0</td></tr><tr><td>B102</td><td>C6586</td><td>32700.0</td></tr><tr><td>B105</td><td>C3652</td><td>5400.0</td></tr><tr><td>B105</td><td>C3742</td><td>19000.0</td></tr><tr><td>B105</td><td>C3816</td><td>24400.0</td></tr><tr><td>B105</td><td>C3888</td><td>46700.0</td></tr><tr><td>B105</td><td>C3913</td><td>64300.0</td></tr><tr><td>B105</td><td>C3917</td><td>30500.0</td></tr><tr><td>B105</td><td>C3933</td><td>80700.0</td></tr><tr><td>B106</td><td>C5292</td><td>78800.0</td></tr><tr><td>B106</td><td>C5305</td><td>64400.0</td></tr><tr><td>B106</td><td>C5370</td><td>90900.0</td></tr><tr><td>B106</td><td>C5386</td><td>61900.0</td></tr><tr><td>B106</td><td>C5436</td><td>72800.0</td></tr><tr><td>B106</td><td>C5449</td><td>31200.0</td></tr><tr><td>B106</td><td>C5461</td><td>89400.0</td></tr><tr><td>B109</td><td>C3841</td><td>3500.0</td></tr><tr><td>B109</td><td>C3843</td><td>21100.0</td></tr><tr><td>B109</td><td>C3853</td><td>14900.0</td></tr><tr><td>B109</td><td>C3922</td><td>67900.0</td></tr><tr><td>B109</td><td>C3969</td><td>81400.0</td></tr><tr><td>B109</td><td>C4026</td><td>55700.0</td></tr><tr><td>B109</td><td>C4141</td><td>47500.0</td></tr><tr><td>B109</td><td>C6132</td><td>67700.0</td></tr><tr><td>B109</td><td>C6133</td><td>48400.0</td></tr><tr><td>B109</td><td>C6165</td><td>44800.0</td></tr><tr><td>B109</td><td>C6260</td><td>51100.0</td></tr><tr><td>B109</td><td>C6309</td><td>62800.0</td></tr><tr><td>B109</td><td>C6328</td><td>86900.0</td></tr><tr><td>B109</td><td>C6346</td><td>8900.0</td></tr><tr><td>B103</td><td>C3080</td><td>28300.0</td></tr><tr><td>B103</td><td>C3083</td><td>13800.0</td></tr><tr><td>B103</td><td>C3206</td><td>70400.0</td></tr><tr><td>B103</td><td>C3248</td><td>42700.0</td></tr><tr><td>B103</td><td>C3262</td><td>81900.0</td></tr><tr><td>B103</td><td>C3294</td><td>28400.0</td></tr><tr><td>B103</td><td>C3309</td><td>17500.0</td></tr><tr><td>B103</td><td>C4183</td><td>57600.0</td></tr><tr><td>B103</td><td>C4188</td><td>6200.0</td></tr><tr><td>B103</td><td>C4213</td><td>98500.0</td></tr><tr><td>B103</td><td>C4249</td><td>10900.0</td></tr><tr><td>B103</td><td>C4307</td><td>32700.0</td></tr><tr><td>B103</td><td>C4350</td><td>56600.0</td></tr><tr><td>B103</td><td>C4361</td><td>96100.0</td></tr><tr><td>B103</td><td>C4971</td><td>68200.0</td></tr><tr><td>B103</td><td>C5135</td><td>7700.0</td></tr><tr><td>B103</td><td>C5318</td><td>8400.0</td></tr><tr><td>B103</td><td>C5335</td><td>32100.0</td></tr><tr><td>B103</td><td>C5346</td><td>59700.0</td></tr><tr><td>B103</td><td>C5397</td><td>53800.0</td></tr><tr><td>B103</td><td>C5439</td><td>48800.0</td></tr><tr><td>B103</td><td>C7894</td><td>73400.0</td></tr><tr><td>B103</td><td>C7899</td><td>18500.0</td></tr><tr><td>B103</td><td>C7908</td><td>26900.0</td></tr><tr><td>B103</td><td>C7916</td><td>11200.0</td></tr><tr><td>B103</td><td>C7925</td><td>70900.0</td></tr><tr><td>B103</td><td>C7976</td><td>38300.0</td></tr><tr><td>B103</td><td>C7993</td><td>25300.0</td></tr><tr><td>B104</td><td>C6588</td><td>52600.0</td></tr><tr><td>B104</td><td>C6701</td><td>93400.0</td></tr><tr><td>B104</td><td>C6716</td><td>88200.0</td></tr><tr><td>B104</td><td>C6847</td><td>36800.0</td></tr><tr><td>B104</td><td>C6849</td><td>28700.0</td></tr><tr><td>B104</td><td>C6865</td><td>39100.0</td></tr><tr><td>B104</td><td>C6880</td><td>34600.0</td></tr><tr><td>B104</td><td>C7666</td><td>90000.0</td></tr><tr><td>B104</td><td>C7671</td><td>88000.0</td></tr><tr><td>B104</td><td>C7719</td><td>54700.0</td></tr><tr><td>B104</td><td>C7778</td><td>12700.0</td></tr><tr><td>B104</td><td>C7824</td><td>62700.0</td></tr><tr><td>B104</td><td>C7827</td><td>7400.0</td></tr><tr><td>B104</td><td>C7954</td><td>34200.0</td></tr><tr><td>B107</td><td>C4480</td><td>68700.0</td></tr><tr><td>B107</td><td>C4498</td><td>96000.0</td></tr><tr><td>B107</td><td>C4599</td><td>30900.0</td></tr><tr><td>B107</td><td>C4643</td><td>60900.0</td></tr><tr><td>B107</td><td>C4653</td><td>61900.0</td></tr><tr><td>B107</td><td>C4676</td><td>36700.0</td></tr><tr><td>B107</td><td>C4701</td><td>2100.0</td></tr><tr><td>B107</td><td>C7428</td><td>21300.0</td></tr><tr><td>B107</td><td>C7483</td><td>23900.0</td></tr><tr><td>B107</td><td>C7530</td><td>76400.0</td></tr><tr><td>B107</td><td>C7588</td><td>75300.0</td></tr><tr><td>B107</td><td>C7654</td><td>80500.0</td></tr><tr><td>B107</td><td>C7659</td><td>16500.0</td></tr><tr><td>B107</td><td>C7710</td><td>87900.0</td></tr><tr><td>B108</td><td>C6833</td><td>41000.0</td></tr><tr><td>B108</td><td>C6835</td><td>86500.0</td></tr><tr><td>B108</td><td>C6845</td><td>84400.0</td></tr><tr><td>B108</td><td>C6979</td><td>12300.0</td></tr><tr><td>B108</td><td>C7026</td><td>91700.0</td></tr><tr><td>B108</td><td>C7083</td><td>92900.0</td></tr><tr><td>B108</td><td>C7085</td><td>32100.0</td></tr><tr><td>B110</td><td>C4141</td><td>44300.0</td></tr><tr><td>B110</td><td>C4217</td><td>50900.0</td></tr><tr><td>B110</td><td>C4330</td><td>54100.0</td></tr><tr><td>B110</td><td>C4335</td><td>33000.0</td></tr><tr><td>B110</td><td>C4367</td><td>37700.0</td></tr><tr><td>B110</td><td>C4425</td><td>28800.0</td></tr><tr><td>B110</td><td>C4473</td><td>88200.0</td></tr><tr><td>B107</td><td>C6488</td><td>84800.0</td></tr><tr><td>B107</td><td>C6502</td><td>27700.0</td></tr><tr><td>B107</td><td>C6539</td><td>84700.0</td></tr><tr><td>B107</td><td>C6589</td><td>16400.0</td></tr><tr><td>B107</td><td>C6591</td><td>97700.0</td></tr><tr><td>B107</td><td>C6606</td><td>11200.0</td></tr><tr><td>B107</td><td>C6701</td><td>45200.0</td></tr><tr><td>B110</td><td>C5247</td><td>59300.0</td></tr><tr><td>B110</td><td>C5253</td><td>34100.0</td></tr><tr><td>B110</td><td>C5256</td><td>57100.0</td></tr><tr><td>B110</td><td>C5312</td><td>47600.0</td></tr><tr><td>B110</td><td>C5337</td><td>82200.0</td></tr><tr><td>B110</td><td>C5346</td><td>6500.0</td></tr><tr><td>B110</td><td>C5403</td><td>35100.0</td></tr><tr><td>B108</td><td>C6012</td><td>53200.0</td></tr><tr><td>B108</td><td>C6069</td><td>17200.0</td></tr><tr><td>B108</td><td>C6093</td><td>35400.0</td></tr><tr><td>B108</td><td>C6165</td><td>18000.0</td></tr><tr><td>B108</td><td>C6180</td><td>19900.0</td></tr><tr><td>B108</td><td>C6203</td><td>46700.0</td></tr><tr><td>B108</td><td>C6216</td><td>57400.0</td></tr><tr><td>B109</td><td>C7376</td><td>26500.0</td></tr><tr><td>B109</td><td>C7411</td><td>55600.0</td></tr><tr><td>B109</td><td>C7452</td><td>37700.0</td></tr><tr><td>B109</td><td>C7504</td><td>76400.0</td></tr><tr><td>B109</td><td>C7573</td><td>38200.0</td></tr><tr><td>B109</td><td>C7602</td><td>80400.0</td></tr><tr><td>B109</td><td>C7658</td><td>54700.0</td></tr><tr><td>B102</td><td>C3257</td><td>47400.0</td></tr><tr><td>B102</td><td>C3290</td><td>69400.0</td></tr><tr><td>B102</td><td>C3332</td><td>46700.0</td></tr><tr><td>B102</td><td>C3369</td><td>87500.0</td></tr><tr><td>B102</td><td>C3391</td><td>78300.0</td></tr><tr><td>B102</td><td>C3396</td><td>96300.0</td></tr><tr><td>B102</td><td>C3510</td><td>55900.0</td></tr><tr><td>B102</td><td>C7512</td><td>70000.0</td></tr><tr><td>B102</td><td>C7516</td><td>77900.0</td></tr><tr><td>B102</td><td>C7579</td><td>4100.0</td></tr><tr><td>B102</td><td>C7596</td><td>20700.0</td></tr><tr><td>B102</td><td>C7604</td><td>71500.0</td></tr><tr><td>B102</td><td>C7648</td><td>92300.0</td></tr><tr><td>B102</td><td>C7653</td><td>89500.0</td></tr><tr><td>B103</td><td>C7041</td><td>27200.0</td></tr><tr><td>B103</td><td>C7047</td><td>68700.0</td></tr><tr><td>B103</td><td>C7060</td><td>80700.0</td></tr><tr><td>B103</td><td>C7240</td><td>62200.0</td></tr><tr><td>B103</td><td>C7252</td><td>34300.0</td></tr><tr><td>B103</td><td>C7276</td><td>39500.0</td></tr><tr><td>B103</td><td>C7331</td><td>12000.0</td></tr><tr><td>B104</td><td>C3840</td><td>98400.0</td></tr><tr><td>B104</td><td>C3871</td><td>62300.0</td></tr><tr><td>B104</td><td>C3885</td><td>44300.0</td></tr><tr><td>B104</td><td>C3893</td><td>9000.0</td></tr><tr><td>B104</td><td>C3897</td><td>100000.0</td></tr><tr><td>B104</td><td>C3919</td><td>88900.0</td></tr><tr><td>B104</td><td>C3925</td><td>59200.0</td></tr><tr><td>B105</td><td>C5356</td><td>91100.0</td></tr><tr><td>B105</td><td>C5416</td><td>68800.0</td></tr><tr><td>B105</td><td>C5434</td><td>65200.0</td></tr><tr><td>B105</td><td>C5435</td><td>8100.0</td></tr><tr><td>B105</td><td>C5475</td><td>19100.0</td></tr><tr><td>B105</td><td>C5537</td><td>82000.0</td></tr><tr><td>B105</td><td>C5683</td><td>66900.0</td></tr><tr><td>B105</td><td>C7466</td><td>97300.0</td></tr><tr><td>B105</td><td>C7484</td><td>21900.0</td></tr><tr><td>B105</td><td>C7504</td><td>91100.0</td></tr><tr><td>B105</td><td>C7505</td><td>38400.0</td></tr><tr><td>B105</td><td>C7535</td><td>24100.0</td></tr><tr><td>B105</td><td>C7596</td><td>11000.0</td></tr><tr><td>B105</td><td>C7616</td><td>73200.0</td></tr><tr><td>B106</td><td>C3261</td><td>1600.0</td></tr><tr><td>B106</td><td>C3287</td><td>44800.0</td></tr><tr><td>B106</td><td>C3290</td><td>61200.0</td></tr><tr><td>B106</td><td>C3304</td><td>60900.0</td></tr><tr><td>B106</td><td>C3329</td><td>11000.0</td></tr><tr><td>B106</td><td>C3367</td><td>74200.0</td></tr><tr><td>B106</td><td>C3471</td><td>73400.0</td></tr><tr><td>B106</td><td>C4399</td><td>38600.0</td></tr><tr><td>B106</td><td>C4415</td><td>24300.0</td></tr><tr><td>B106</td><td>C4419</td><td>55600.0</td></tr><tr><td>B106</td><td>C4462</td><td>89400.0</td></tr><tr><td>B106</td><td>C4486</td><td>15900.0</td></tr><tr><td>B106</td><td>C4560</td><td>40600.0</td></tr><tr><td>B106</td><td>C4562</td><td>50500.0</td></tr><tr><td>B101</td><td>C6254</td><td>44200.0</td></tr><tr><td>B101</td><td>C6263</td><td>16300.0</td></tr><tr><td>B101</td><td>C6323</td><td>85200.0</td></tr><tr><td>B101</td><td>C6360</td><td>54400.0</td></tr><tr><td>B101</td><td>C6387</td><td>23800.0</td></tr><tr><td>B101</td><td>C6466</td><td>88400.0</td></tr><tr><td>B101</td><td>C6474</td><td>23100.0</td></tr><tr><td>B101</td><td>C7300</td><td>13300.0</td></tr><tr><td>B101</td><td>C7329</td><td>92800.0</td></tr><tr><td>B101</td><td>C7362</td><td>80200.0</td></tr><tr><td>B101</td><td>C7402</td><td>44600.0</td></tr><tr><td>B101</td><td>C7412</td><td>28500.0</td></tr><tr><td>B101</td><td>C7413</td><td>65100.0</td></tr><tr><td>B101</td><td>C7518</td><td>69100.0</td></tr><tr><td>B110</td><td>C6102</td><td>31700.0</td></tr><tr><td>B110</td><td>C6104</td><td>61200.0</td></tr><tr><td>B110</td><td>C6117</td><td>68500.0</td></tr><tr><td>B110</td><td>C6124</td><td>83600.0</td></tr><tr><td>B110</td><td>C6137</td><td>43100.0</td></tr><tr><td>B110</td><td>C6169</td><td>1100.0</td></tr><tr><td>B110</td><td>C6181</td><td>25100.0</td></tr><tr><td>B108</td><td>C7699</td><td>39100.0</td></tr><tr><td>B108</td><td>C7820</td><td>45300.0</td></tr><tr><td>B108</td><td>C7902</td><td>83800.0</td></tr><tr><td>B108</td><td>C7903</td><td>82500.0</td></tr><tr><td>B108</td><td>C7920</td><td>73500.0</td></tr><tr><td>B108</td><td>C7926</td><td>63500.0</td></tr><tr><td>B108</td><td>C7936</td><td>88900.0</td></tr><tr><td>B102</td><td>C5630</td><td>18500.0</td></tr><tr><td>B102</td><td>C5634</td><td>33000.0</td></tr><tr><td>B102</td><td>C5661</td><td>33600.0</td></tr><tr><td>B102</td><td>C5689</td><td>63900.0</td></tr><tr><td>B102</td><td>C5805</td><td>19300.0</td></tr><tr><td>B102</td><td>C5815</td><td>12500.0</td></tr><tr><td>B102</td><td>C5843</td><td>18900.0</td></tr><tr><td>B107</td><td>C6800</td><td>78900.0</td></tr><tr><td>B107</td><td>C6874</td><td>71900.0</td></tr><tr><td>B107</td><td>C6913</td><td>43200.0</td></tr><tr><td>B107</td><td>C7039</td><td>95500.0</td></tr><tr><td>B107</td><td>C7079</td><td>20000.0</td></tr><tr><td>B107</td><td>C7106</td><td>92300.0</td></tr><tr><td>B102</td><td>C4932</td><td>55700.0</td></tr><tr><td>B102</td><td>C5083</td><td>93700.0</td></tr><tr><td>B102</td><td>C5098</td><td>23800.0</td></tr><tr><td>B102</td><td>C5212</td><td>94500.0</td></tr><tr><td>B102</td><td>C5222</td><td>54800.0</td></tr><tr><td>B102</td><td>C5308</td><td>45300.0</td></tr><tr><td>B103</td><td>C7690</td><td>22600.0</td></tr><tr><td>B103</td><td>C7731</td><td>37500.0</td></tr><tr><td>B103</td><td>C7787</td><td>46800.0</td></tr><tr><td>B103</td><td>C7802</td><td>67700.0</td></tr><tr><td>B103</td><td>C7857</td><td>5700.0</td></tr><tr><td>B103</td><td>C7886</td><td>60200.0</td></tr><tr><td>B101</td><td>C3382</td><td>79700.0</td></tr><tr><td>B101</td><td>C3408</td><td>51500.0</td></tr><tr><td>B101</td><td>C3452</td><td>70000.0</td></tr><tr><td>B101</td><td>C3524</td><td>83700.0</td></tr><tr><td>B101</td><td>C3559</td><td>59600.0</td></tr><tr><td>B101</td><td>C3582</td><td>18100.0</td></tr><tr><td>B103</td><td>C3857</td><td>67900.0</td></tr><tr><td>B103</td><td>C3859</td><td>33700.0</td></tr><tr><td>B103</td><td>C3937</td><td>78900.0</td></tr><tr><td>B103</td><td>C4063</td><td>27700.0</td></tr><tr><td>B103</td><td>C4102</td><td>53400.0</td></tr><tr><td>B103</td><td>C4181</td><td>16600.0</td></tr><tr><td>B103</td><td>C7995</td><td>87900.0</td></tr><tr><td>B104</td><td>C3011</td><td>91000.0</td></tr><tr><td>B104</td><td>C3029</td><td>96400.0</td></tr><tr><td>B104</td><td>C3104</td><td>40700.0</td></tr><tr><td>B104</td><td>C3228</td><td>28200.0</td></tr><tr><td>B104</td><td>C3239</td><td>22400.0</td></tr><tr><td>B104</td><td>C3927</td><td>48700.0</td></tr><tr><td>B104</td><td>C3975</td><td>50600.0</td></tr><tr><td>B104</td><td>C4012</td><td>71000.0</td></tr><tr><td>B104</td><td>C4021</td><td>94100.0</td></tr><tr><td>B104</td><td>C4034</td><td>60100.0</td></tr><tr><td>B104</td><td>C4050</td><td>84000.0</td></tr><tr><td>B106</td><td>C3485</td><td>94100.0</td></tr><tr><td>B106</td><td>C3550</td><td>31800.0</td></tr><tr><td>B106</td><td>C3572</td><td>32900.0</td></tr><tr><td>B106</td><td>C3612</td><td>32300.0</td></tr><tr><td>B106</td><td>C3627</td><td>20300.0</td></tr><tr><td>B106</td><td>C3656</td><td>16900.0</td></tr><tr><td>B108</td><td>C4878</td><td>75800.0</td></tr><tr><td>B108</td><td>C4887</td><td>26300.0</td></tr><tr><td>B108</td><td>C4912</td><td>99800.0</td></tr><tr><td>B108</td><td>C5124</td><td>28000.0</td></tr><tr><td>B108</td><td>C5128</td><td>60300.0</td></tr><tr><td>B108</td><td>C5130</td><td>74600.0</td></tr><tr><td>B108</td><td>C7116</td><td>2900.0</td></tr><tr><td>B108</td><td>C7154</td><td>37500.0</td></tr><tr><td>B108</td><td>C7206</td><td>64200.0</td></tr><tr><td>B108</td><td>C7312</td><td>51700.0</td></tr><tr><td>B108</td><td>C7333</td><td>25600.0</td></tr><tr><td>B108</td><td>C7335</td><td>72800.0</td></tr><tr><td>B109</td><td>C4286</td><td>63900.0</td></tr><tr><td>B109</td><td>C4376</td><td>9200.0</td></tr><tr><td>B109</td><td>C4461</td><td>53200.0</td></tr><tr><td>B109</td><td>C4475</td><td>5900.0</td></tr><tr><td>B109</td><td>C4511</td><td>74100.0</td></tr><tr><td>B109</td><td>C4566</td><td>53400.0</td></tr><tr><td>B110</td><td>C4936</td><td>6500.0</td></tr><tr><td>B110</td><td>C5046</td><td>65900.0</td></tr><tr><td>B110</td><td>C5122</td><td>32300.0</td></tr><tr><td>B110</td><td>C5174</td><td>13500.0</td></tr><tr><td>B110</td><td>C5209</td><td>77300.0</td></tr><tr><td>B110</td><td>C5225</td><td>44800.0</td></tr><tr><td>B110</td><td>C5865</td><td>97300.0</td></tr><tr><td>B110</td><td>C5873</td><td>73400.0</td></tr><tr><td>B110</td><td>C5950</td><td>81100.0</td></tr><tr><td>B110</td><td>C6076</td><td>14300.0</td></tr><tr><td>B110</td><td>C6079</td><td>25500.0</td></tr><tr><td>B110</td><td>C6090</td><td>13000.0</td></tr><tr><td>B110</td><td>C7582</td><td>54900.0</td></tr><tr><td>B110</td><td>C7592</td><td>21700.0</td></tr><tr><td>B110</td><td>C7600</td><td>65700.0</td></tr><tr><td>B110</td><td>C7607</td><td>7500.0</td></tr><tr><td>B110</td><td>C7785</td><td>81100.0</td></tr><tr><td>B110</td><td>C7796</td><td>26300.0</td></tr><tr><td>B101</td><td>C3584</td><td>77400.0</td></tr><tr><td>B101</td><td>C3626</td><td>40300.0</td></tr><tr><td>B101</td><td>C3695</td><td>28400.0</td></tr><tr><td>B101</td><td>C3754</td><td>56700.0</td></tr><tr><td>B101</td><td>C3767</td><td>14800.0</td></tr><tr><td>B101</td><td>C3798</td><td>17300.0</td></tr><tr><td>B101</td><td>C5893</td><td>65800.0</td></tr><tr><td>B101</td><td>C5988</td><td>26600.0</td></tr><tr><td>B101</td><td>C5990</td><td>87400.0</td></tr><tr><td>B101</td><td>C6033</td><td>14500.0</td></tr><tr><td>B101</td><td>C6036</td><td>43000.0</td></tr><tr><td>B101</td><td>C6063</td><td>11500.0</td></tr><tr><td>B101</td><td>C6567</td><td>72900.0</td></tr><tr><td>B101</td><td>C6584</td><td>18600.0</td></tr><tr><td>B101</td><td>C6649</td><td>56500.0</td></tr><tr><td>B101</td><td>C6681</td><td>24700.0</td></tr><tr><td>B101</td><td>C6699</td><td>86100.0</td></tr><tr><td>B101</td><td>C6701</td><td>18900.0</td></tr><tr><td>B102</td><td>C7144</td><td>74100.0</td></tr><tr><td>B102</td><td>C7152</td><td>55600.0</td></tr><tr><td>B102</td><td>C7190</td><td>35500.0</td></tr><tr><td>B102</td><td>C7451</td><td>81500.0</td></tr><tr><td>B102</td><td>C7468</td><td>31100.0</td></tr><tr><td>B102</td><td>C7472</td><td>36500.0</td></tr><tr><td>B102</td><td>C7722</td><td>98500.0</td></tr><tr><td>B102</td><td>C7841</td><td>7600.0</td></tr><tr><td>B102</td><td>C7885</td><td>65900.0</td></tr><tr><td>B102</td><td>C7901</td><td>18500.0</td></tr><tr><td>B102</td><td>C7915</td><td>24700.0</td></tr><tr><td>B102</td><td>C7954</td><td>50800.0</td></tr><tr><td>B103</td><td>C3330</td><td>59800.0</td></tr><tr><td>B103</td><td>C3424</td><td>83400.0</td></tr><tr><td>B103</td><td>C3449</td><td>70000.0</td></tr><tr><td>B103</td><td>C3582</td><td>46000.0</td></tr><tr><td>B103</td><td>C3613</td><td>57300.0</td></tr><tr><td>B103</td><td>C3638</td><td>61500.0</td></tr><tr><td>B104</td><td>C3374</td><td>35900.0</td></tr><tr><td>B104</td><td>C3389</td><td>19700.0</td></tr><tr><td>B104</td><td>C3393</td><td>46700.0</td></tr><tr><td>B104</td><td>C3452</td><td>51300.0</td></tr><tr><td>B104</td><td>C3568</td><td>16400.0</td></tr><tr><td>B104</td><td>C3589</td><td>82400.0</td></tr><tr><td>B105</td><td>C3938</td><td>99700.0</td></tr><tr><td>B105</td><td>C3945</td><td>39900.0</td></tr><tr><td>B105</td><td>C3989</td><td>92800.0</td></tr><tr><td>B105</td><td>C4008</td><td>63200.0</td></tr><tr><td>B105</td><td>C4013</td><td>2200.0</td></tr><tr><td>B105</td><td>C4029</td><td>99900.0</td></tr><tr><td>B105</td><td>C7137</td><td>68100.0</td></tr><tr><td>B105</td><td>C7256</td><td>16500.0</td></tr><tr><td>B105</td><td>C7284</td><td>3200.0</td></tr><tr><td>B105</td><td>C7342</td><td>89300.0</td></tr><tr><td>B105</td><td>C7361</td><td>200.0</td></tr><tr><td>B105</td><td>C7418</td><td>92500.0</td></tr><tr><td>B106</td><td>C5478</td><td>85800.0</td></tr><tr><td>B106</td><td>C5524</td><td>43100.0</td></tr><tr><td>B106</td><td>C5581</td><td>68900.0</td></tr><tr><td>B106</td><td>C5632</td><td>22500.0</td></tr><tr><td>B106</td><td>C5706</td><td>32300.0</td></tr><tr><td>B106</td><td>C5708</td><td>62800.0</td></tr><tr><td>B106</td><td>C7091</td><td>43500.0</td></tr><tr><td>B106</td><td>C7180</td><td>26800.0</td></tr><tr><td>B106</td><td>C7218</td><td>67700.0</td></tr><tr><td>B106</td><td>C7223</td><td>24200.0</td></tr><tr><td>B106</td><td>C7293</td><td>31800.0</td></tr><tr><td>B106</td><td>C7315</td><td>85100.0</td></tr><tr><td>B106</td><td>C7889</td><td>57900.0</td></tr><tr><td>B106</td><td>C7945</td><td>85900.0</td></tr><tr><td>B106</td><td>C7994</td><td>50000.0</td></tr><tr><td>B107</td><td>C3086</td><td>50100.0</td></tr><tr><td>B107</td><td>C3155</td><td>73800.0</td></tr><tr><td>B107</td><td>C3193</td><td>6500.0</td></tr><tr><td>B108</td><td>C3832</td><td>23600.0</td></tr><tr><td>B108</td><td>C3848</td><td>8800.0</td></tr><tr><td>B108</td><td>C3890</td><td>71800.0</td></tr><tr><td>B108</td><td>C3953</td><td>91800.0</td></tr><tr><td>B108</td><td>C4117</td><td>89600.0</td></tr><tr><td>B108</td><td>C4124</td><td>65100.0</td></tr><tr><td>B108</td><td>C4706</td><td>19500.0</td></tr><tr><td>B108</td><td>C4722</td><td>88400.0</td></tr><tr><td>B108</td><td>C4730</td><td>42500.0</td></tr><tr><td>B108</td><td>C4743</td><td>9300.0</td></tr><tr><td>B108</td><td>C4807</td><td>86500.0</td></tr><tr><td>B108</td><td>C4816</td><td>45400.0</td></tr><tr><td>B108</td><td>C7483</td><td>98200.0</td></tr><tr><td>B108</td><td>C7536</td><td>11200.0</td></tr><tr><td>B108</td><td>C7570</td><td>3100.0</td></tr><tr><td>B108</td><td>C7598</td><td>93400.0</td></tr><tr><td>B108</td><td>C7643</td><td>31500.0</td></tr><tr><td>B108</td><td>C7658</td><td>43400.0</td></tr><tr><td>B110</td><td>C3083</td><td>57700.0</td></tr><tr><td>B110</td><td>C3107</td><td>85500.0</td></tr><tr><td>B110</td><td>C3142</td><td>80300.0</td></tr><tr><td>B110</td><td>C3210</td><td>50500.0</td></tr><tr><td>B110</td><td>C3279</td><td>12900.0</td></tr><tr><td>B110</td><td>C3325</td><td>25600.0</td></tr><tr><td>B105</td><td>C3350</td><td>17000.0</td></tr><tr><td>B105</td><td>C3368</td><td>13400.0</td></tr><tr><td>B105</td><td>C3497</td><td>18100.0</td></tr><tr><td>B105</td><td>C3522</td><td>16100.0</td></tr><tr><td>B105</td><td>C3646</td><td>64300.0</td></tr><tr><td>B105</td><td>C3649</td><td>35100.0</td></tr><tr><td>B101</td><td>C5526</td><td>21700.0</td></tr><tr><td>B101</td><td>C5637</td><td>95400.0</td></tr><tr><td>B101</td><td>C5673</td><td>85800.0</td></tr><tr><td>B101</td><td>C5694</td><td>15500.0</td></tr><tr><td>B101</td><td>C5808</td><td>92300.0</td></tr><tr><td>B101</td><td>C5843</td><td>48200.0</td></tr><tr><td>B101</td><td>C7572</td><td>94400.0</td></tr><tr><td>B101</td><td>C7577</td><td>1200.0</td></tr><tr><td>B101</td><td>C7625</td><td>76500.0</td></tr><tr><td>B101</td><td>C7700</td><td>33200.0</td></tr><tr><td>B101</td><td>C7747</td><td>95300.0</td></tr><tr><td>B101</td><td>C7777</td><td>20400.0</td></tr><tr><td>B101</td><td>C7810</td><td>7600.0</td></tr><tr><td>B101</td><td>C7927</td><td>96500.0</td></tr><tr><td>B101</td><td>C7933</td><td>49900.0</td></tr><tr><td>B101</td><td>C7965</td><td>24200.0</td></tr><tr><td>B102</td><td>C3003</td><td>56600.0</td></tr><tr><td>B102</td><td>C3023</td><td>40000.0</td></tr><tr><td>B102</td><td>C3562</td><td>88200.0</td></tr><tr><td>B102</td><td>C3594</td><td>12200.0</td></tr><tr><td>B102</td><td>C3652</td><td>27700.0</td></tr><tr><td>B102</td><td>C3791</td><td>45000.0</td></tr><tr><td>B102</td><td>C3815</td><td>62100.0</td></tr><tr><td>B102</td><td>C3986</td><td>80200.0</td></tr><tr><td>B102</td><td>C4287</td><td>1300.0</td></tr><tr><td>B102</td><td>C4388</td><td>12500.0</td></tr><tr><td>B102</td><td>C4494</td><td>45800.0</td></tr><tr><td>B102</td><td>C4512</td><td>61500.0</td></tr><tr><td>B102</td><td>C4536</td><td>89700.0</td></tr><tr><td>B102</td><td>C4540</td><td>51900.0</td></tr><tr><td>B102</td><td>C5981</td><td>64400.0</td></tr><tr><td>B102</td><td>C5986</td><td>30500.0</td></tr><tr><td>B102</td><td>C6031</td><td>46400.0</td></tr><tr><td>B102</td><td>C6058</td><td>34500.0</td></tr><tr><td>B102</td><td>C6103</td><td>34900.0</td></tr><tr><td>B102</td><td>C6137</td><td>37200.0</td></tr><tr><td>B104</td><td>C4137</td><td>52000.0</td></tr><tr><td>B104</td><td>C4199</td><td>68300.0</td></tr><tr><td>B104</td><td>C4387</td><td>32900.0</td></tr><tr><td>B104</td><td>C4410</td><td>45900.0</td></tr><tr><td>B104</td><td>C4426</td><td>8700.0</td></tr><tr><td>B104</td><td>C4543</td><td>80300.0</td></tr><tr><td>B104</td><td>C5032</td><td>72400.0</td></tr><tr><td>B104</td><td>C5078</td><td>69700.0</td></tr><tr><td>B104</td><td>C5158</td><td>89600.0</td></tr><tr><td>B104</td><td>C5200</td><td>8400.0</td></tr><tr><td>B104</td><td>C5239</td><td>67900.0</td></tr><tr><td>B104</td><td>C5279</td><td>86900.0</td></tr><tr><td>B104</td><td>C5373</td><td>2000.0</td></tr><tr><td>B104</td><td>C5406</td><td>52800.0</td></tr><tr><td>B104</td><td>C5427</td><td>52500.0</td></tr><tr><td>B104</td><td>C5450</td><td>95900.0</td></tr><tr><td>B104</td><td>C5525</td><td>79000.0</td></tr><tr><td>B104</td><td>C5551</td><td>5900.0</td></tr><tr><td>B105</td><td>C4278</td><td>31500.0</td></tr><tr><td>B105</td><td>C4297</td><td>72900.0</td></tr><tr><td>B105</td><td>C4311</td><td>86000.0</td></tr><tr><td>B105</td><td>C4363</td><td>95500.0</td></tr><tr><td>B105</td><td>C4372</td><td>27900.0</td></tr><tr><td>B105</td><td>C4378</td><td>83100.0</td></tr><tr><td>B105</td><td>C4818</td><td>11100.0</td></tr><tr><td>B105</td><td>C4960</td><td>24300.0</td></tr><tr><td>B105</td><td>C4978</td><td>28400.0</td></tr><tr><td>B105</td><td>C5107</td><td>19500.0</td></tr><tr><td>B105</td><td>C5111</td><td>40600.0</td></tr><tr><td>B105</td><td>C5118</td><td>61700.0</td></tr><tr><td>B105</td><td>C6033</td><td>42400.0</td></tr><tr><td>B105</td><td>C6044</td><td>60300.0</td></tr><tr><td>B105</td><td>C6147</td><td>64700.0</td></tr><tr><td>B105</td><td>C6213</td><td>8800.0</td></tr><tr><td>B105</td><td>C6220</td><td>37500.0</td></tr><tr><td>B105</td><td>C6223</td><td>90600.0</td></tr><tr><td>B105</td><td>C6868</td><td>54700.0</td></tr><tr><td>B105</td><td>C6907</td><td>63000.0</td></tr><tr><td>B105</td><td>C6911</td><td>14000.0</td></tr><tr><td>B105</td><td>C7025</td><td>10600.0</td></tr><tr><td>B105</td><td>C7031</td><td>40200.0</td></tr><tr><td>B105</td><td>C7069</td><td>2300.0</td></tr><tr><td>B106</td><td>C3730</td><td>21600.0</td></tr><tr><td>B106</td><td>C3776</td><td>9700.0</td></tr><tr><td>B106</td><td>C3805</td><td>49100.0</td></tr><tr><td>B106</td><td>C3852</td><td>95700.0</td></tr><tr><td>B106</td><td>C3916</td><td>66900.0</td></tr><tr><td>B106</td><td>C3931</td><td>60100.0</td></tr><tr><td>B106</td><td>C4926</td><td>97100.0</td></tr><tr><td>B106</td><td>C4946</td><td>34800.0</td></tr><tr><td>B106</td><td>C4958</td><td>90200.0</td></tr><tr><td>B106</td><td>C5033</td><td>69000.0</td></tr><tr><td>B106</td><td>C5059</td><td>67200.0</td></tr><tr><td>B106</td><td>C5087</td><td>10500.0</td></tr><tr><td>B106</td><td>C5156</td><td>56100.0</td></tr><tr><td>B106</td><td>C5171</td><td>75800.0</td></tr><tr><td>B106</td><td>C5187</td><td>94400.0</td></tr><tr><td>B106</td><td>C5192</td><td>35700.0</td></tr><tr><td>B106</td><td>C5202</td><td>56400.0</td></tr><tr><td>B106</td><td>C5253</td><td>80900.0</td></tr><tr><td>B107</td><td>C4259</td><td>17100.0</td></tr><tr><td>B107</td><td>C4325</td><td>35400.0</td></tr><tr><td>B107</td><td>C4383</td><td>62400.0</td></tr><tr><td>B107</td><td>C4392</td><td>85800.0</td></tr><tr><td>B107</td><td>C4411</td><td>2100.0</td></tr><tr><td>B107</td><td>C4462</td><td>25600.0</td></tr><tr><td>B107</td><td>C4739</td><td>53400.0</td></tr><tr><td>B107</td><td>C4770</td><td>74100.0</td></tr><tr><td>B107</td><td>C4808</td><td>93800.0</td></tr><tr><td>B107</td><td>C4918</td><td>26300.0</td></tr><tr><td>B107</td><td>C4989</td><td>94900.0</td></tr><tr><td>B107</td><td>C4993</td><td>21500.0</td></tr><tr><td>B108</td><td>C5528</td><td>38900.0</td></tr><tr><td>B108</td><td>C5595</td><td>18900.0</td></tr><tr><td>B108</td><td>C5607</td><td>8200.0</td></tr><tr><td>B108</td><td>C5644</td><td>73800.0</td></tr><tr><td>B108</td><td>C5662</td><td>19400.0</td></tr><tr><td>B108</td><td>C5664</td><td>83400.0</td></tr><tr><td>B108</td><td>C5671</td><td>84300.0</td></tr><tr><td>B108</td><td>C5687</td><td>13500.0</td></tr><tr><td>B108</td><td>C5831</td><td>49200.0</td></tr><tr><td>B108</td><td>C5843</td><td>73500.0</td></tr><tr><td>B108</td><td>C5877</td><td>28100.0</td></tr><tr><td>B108</td><td>C5917</td><td>1100.0</td></tr><tr><td>B109</td><td>C6496</td><td>12000.0</td></tr><tr><td>B109</td><td>C6515</td><td>63200.0</td></tr><tr><td>B109</td><td>C6589</td><td>72100.0</td></tr><tr><td>B109</td><td>C6592</td><td>73400.0</td></tr><tr><td>B109</td><td>C6732</td><td>23200.0</td></tr><tr><td>B109</td><td>C6852</td><td>60600.0</td></tr><tr><td>B110</td><td>C6190</td><td>86500.0</td></tr><tr><td>B110</td><td>C6199</td><td>98000.0</td></tr><tr><td>B110</td><td>C6329</td><td>71000.0</td></tr><tr><td>B110</td><td>C6334</td><td>68100.0</td></tr><tr><td>B110</td><td>C6414</td><td>35200.0</td></tr><tr><td>B110</td><td>C6432</td><td>92000.0</td></tr><tr><td>B105</td><td>C7864</td><td>70700.0</td></tr><tr><td>B105</td><td>C7878</td><td>75100.0</td></tr><tr><td>B105</td><td>C7891</td><td>86100.0</td></tr><tr><td>B106</td><td>C3102</td><td>49300.0</td></tr><tr><td>B106</td><td>C3168</td><td>3500.0</td></tr><tr><td>B106</td><td>C3250</td><td>94200.0</td></tr><tr><td>B110</td><td>C3523</td><td>3300.0</td></tr><tr><td>B110</td><td>C3569</td><td>98900.0</td></tr><tr><td>B110</td><td>C3608</td><td>14700.0</td></tr><tr><td>B110</td><td>C3636</td><td>18700.0</td></tr><tr><td>B110</td><td>C3741</td><td>61700.0</td></tr><tr><td>B110</td><td>C3788</td><td>46700.0</td></tr><tr><td>B101</td><td>C4912</td><td>85600.0</td></tr><tr><td>B101</td><td>C4913</td><td>61700.0</td></tr><tr><td>B101</td><td>C4960</td><td>23700.0</td></tr><tr><td>B101</td><td>C5057</td><td>26900.0</td></tr><tr><td>B101</td><td>C5093</td><td>24700.0</td></tr><tr><td>B101</td><td>C5122</td><td>26400.0</td></tr><tr><td>B101</td><td>C6704</td><td>89800.0</td></tr><tr><td>B101</td><td>C6783</td><td>71900.0</td></tr><tr><td>B101</td><td>C6801</td><td>25300.0</td></tr><tr><td>B101</td><td>C6843</td><td>13200.0</td></tr><tr><td>B101</td><td>C6849</td><td>92200.0</td></tr><tr><td>B101</td><td>C6870</td><td>84600.0</td></tr><tr><td>B102</td><td>C3046</td><td>2000.0</td></tr><tr><td>B102</td><td>C3080</td><td>12000.0</td></tr><tr><td>B102</td><td>C3195</td><td>16500.0</td></tr><tr><td>B102</td><td>C3218</td><td>18200.0</td></tr><tr><td>B102</td><td>C3231</td><td>80500.0</td></tr><tr><td>B102</td><td>C3243</td><td>15300.0</td></tr><tr><td>B102</td><td>C4022</td><td>87400.0</td></tr><tr><td>B102</td><td>C4047</td><td>43000.0</td></tr><tr><td>B102</td><td>C4086</td><td>44600.0</td></tr><tr><td>B102</td><td>C4111</td><td>77300.0</td></tr><tr><td>B102</td><td>C4155</td><td>55200.0</td></tr><tr><td>B102</td><td>C4256</td><td>53400.0</td></tr><tr><td>B102</td><td>C5327</td><td>53500.0</td></tr><tr><td>B102</td><td>C5337</td><td>30800.0</td></tr><tr><td>B102</td><td>C5350</td><td>32500.0</td></tr><tr><td>B102</td><td>C5360</td><td>55500.0</td></tr><tr><td>B102</td><td>C5526</td><td>58000.0</td></tr><tr><td>B102</td><td>C5572</td><td>99900.0</td></tr><tr><td>B102</td><td>C6659</td><td>18600.0</td></tr><tr><td>B102</td><td>C6870</td><td>16300.0</td></tr><tr><td>B102</td><td>C6905</td><td>5100.0</td></tr><tr><td>B102</td><td>C6951</td><td>38200.0</td></tr><tr><td>B102</td><td>C6993</td><td>71900.0</td></tr><tr><td>B102</td><td>C7021</td><td>20900.0</td></tr><tr><td>B102</td><td>C7660</td><td>20600.0</td></tr><tr><td>B102</td><td>C7671</td><td>66300.0</td></tr><tr><td>B102</td><td>C7675</td><td>35800.0</td></tr><tr><td>B102</td><td>C7701</td><td>94200.0</td></tr><tr><td>B102</td><td>C7715</td><td>10000.0</td></tr><tr><td>B102</td><td>C7721</td><td>97500.0</td></tr><tr><td>B102</td><td>C7979</td><td>78300.0</td></tr><tr><td>B102</td><td>C7995</td><td>34000.0</td></tr><tr><td>B103</td><td>C3011</td><td>68300.0</td></tr><tr><td>B103</td><td>C3033</td><td>68700.0</td></tr><tr><td>B103</td><td>C3043</td><td>84000.0</td></tr><tr><td>B103</td><td>C3051</td><td>16900.0</td></tr><tr><td>B103</td><td>C4603</td><td>27600.0</td></tr><tr><td>B103</td><td>C4613</td><td>13000.0</td></tr><tr><td>B103</td><td>C4709</td><td>84100.0</td></tr><tr><td>B103</td><td>C4719</td><td>5800.0</td></tr><tr><td>B103</td><td>C4761</td><td>46000.0</td></tr><tr><td>B103</td><td>C4765</td><td>31100.0</td></tr><tr><td>B103</td><td>C5781</td><td>50400.0</td></tr><tr><td>B103</td><td>C5801</td><td>60700.0</td></tr><tr><td>B103</td><td>C5815</td><td>12000.0</td></tr><tr><td>B103</td><td>C5864</td><td>52900.0</td></tr><tr><td>B103</td><td>C5943</td><td>21800.0</td></tr><tr><td>B103</td><td>C5971</td><td>29200.0</td></tr><tr><td>B103</td><td>C6222</td><td>23700.0</td></tr><tr><td>B103</td><td>C6338</td><td>23800.0</td></tr><tr><td>B103</td><td>C6365</td><td>99400.0</td></tr><tr><td>B103</td><td>C6375</td><td>83500.0</td></tr><tr><td>B103</td><td>C6408</td><td>41500.0</td></tr><tr><td>B103</td><td>C6449</td><td>36400.0</td></tr><tr><td>B103</td><td>C6470</td><td>36900.0</td></tr><tr><td>B103</td><td>C6514</td><td>25500.0</td></tr><tr><td>B103</td><td>C6617</td><td>17600.0</td></tr><tr><td>B103</td><td>C6648</td><td>40800.0</td></tr><tr><td>B103</td><td>C6682</td><td>31600.0</td></tr><tr><td>B103</td><td>C6722</td><td>85800.0</td></tr><tr><td>B103</td><td>C7526</td><td>3400.0</td></tr><tr><td>B103</td><td>C7532</td><td>36700.0</td></tr><tr><td>B103</td><td>C7591</td><td>14700.0</td></tr><tr><td>B103</td><td>C7608</td><td>69000.0</td></tr><tr><td>B103</td><td>C7662</td><td>7600.0</td></tr><tr><td>B103</td><td>C7682</td><td>78500.0</td></tr><tr><td>B104</td><td>C6364</td><td>11200.0</td></tr><tr><td>B104</td><td>C6384</td><td>76100.0</td></tr><tr><td>B104</td><td>C6430</td><td>80200.0</td></tr><tr><td>B104</td><td>C6445</td><td>68700.0</td></tr><tr><td>B104</td><td>C6447</td><td>37800.0</td></tr><tr><td>B104</td><td>C6486</td><td>45500.0</td></tr><tr><td>B104</td><td>C6498</td><td>20400.0</td></tr><tr><td>B104</td><td>C6500</td><td>49500.0</td></tr><tr><td>B104</td><td>C6512</td><td>42100.0</td></tr><tr><td>B104</td><td>C6531</td><td>77500.0</td></tr><tr><td>B104</td><td>C6547</td><td>33300.0</td></tr><tr><td>B104</td><td>C6575</td><td>21900.0</td></tr><tr><td>B104</td><td>C6904</td><td>71800.0</td></tr><tr><td>B104</td><td>C6962</td><td>30800.0</td></tr><tr><td>B104</td><td>C6974</td><td>61700.0</td></tr><tr><td>B104</td><td>C7014</td><td>16300.0</td></tr><tr><td>B104</td><td>C7031</td><td>5000.0</td></tr><tr><td>B104</td><td>C7194</td><td>81100.0</td></tr><tr><td>B105</td><td>C7618</td><td>28600.0</td></tr><tr><td>B105</td><td>C7672</td><td>30600.0</td></tr><tr><td>B105</td><td>C7699</td><td>67700.0</td></tr><tr><td>B105</td><td>C7715</td><td>14000.0</td></tr><tr><td>B105</td><td>C7739</td><td>46800.0</td></tr><tr><td>B105</td><td>C7781</td><td>91800.0</td></tr><tr><td>B106</td><td>C4613</td><td>1300.0</td></tr><tr><td>B106</td><td>C4618</td><td>73800.0</td></tr><tr><td>B106</td><td>C4754</td><td>25400.0</td></tr><tr><td>B106</td><td>C4858</td><td>70100.0</td></tr><tr><td>B106</td><td>C4896</td><td>95800.0</td></tr><tr><td>B106</td><td>C4905</td><td>90300.0</td></tr><tr><td>B106</td><td>C5715</td><td>92900.0</td></tr><tr><td>B106</td><td>C5738</td><td>8200.0</td></tr><tr><td>B106</td><td>C5779</td><td>48500.0</td></tr><tr><td>B106</td><td>C5786</td><td>67100.0</td></tr><tr><td>B106</td><td>C5788</td><td>33500.0</td></tr><tr><td>B106</td><td>C5800</td><td>80500.0</td></tr><tr><td>B106</td><td>C5817</td><td>20000.0</td></tr><tr><td>B106</td><td>C5835</td><td>53300.0</td></tr><tr><td>B106</td><td>C5853</td><td>35400.0</td></tr><tr><td>B106</td><td>C5922</td><td>54700.0</td></tr><tr><td>B106</td><td>C5931</td><td>72600.0</td></tr><tr><td>B106</td><td>C5961</td><td>63700.0</td></tr><tr><td>B106</td><td>C6844</td><td>28000.0</td></tr><tr><td>B106</td><td>C6883</td><td>97100.0</td></tr><tr><td>B106</td><td>C6934</td><td>77700.0</td></tr><tr><td>B106</td><td>C6951</td><td>75400.0</td></tr><tr><td>B106</td><td>C6990</td><td>18100.0</td></tr><tr><td>B106</td><td>C7012</td><td>37900.0</td></tr><tr><td>B107</td><td>C3712</td><td>71100.0</td></tr><tr><td>B107</td><td>C3784</td><td>77700.0</td></tr><tr><td>B107</td><td>C3812</td><td>22100.0</td></tr><tr><td>B107</td><td>C3895</td><td>42600.0</td></tr><tr><td>B107</td><td>C3960</td><td>23000.0</td></tr><tr><td>B107</td><td>C3982</td><td>48100.0</td></tr><tr><td>B107</td><td>C5832</td><td>3300.0</td></tr><tr><td>B107</td><td>C5875</td><td>99100.0</td></tr><tr><td>B107</td><td>C5882</td><td>43200.0</td></tr><tr><td>B107</td><td>C5900</td><td>4800.0</td></tr><tr><td>B107</td><td>C5917</td><td>66500.0</td></tr><tr><td>B107</td><td>C5970</td><td>61800.0</td></tr><tr><td>B107</td><td>C5978</td><td>20600.0</td></tr><tr><td>B107</td><td>C6043</td><td>36500.0</td></tr><tr><td>B107</td><td>C6049</td><td>28200.0</td></tr><tr><td>B107</td><td>C6210</td><td>31100.0</td></tr><tr><td>B107</td><td>C6258</td><td>40800.0</td></tr><tr><td>B107</td><td>C6273</td><td>62000.0</td></tr><tr><td>B108</td><td>C7979</td><td>81100.0</td></tr><tr><td>B109</td><td>C3008</td><td>26000.0</td></tr><tr><td>B109</td><td>C3083</td><td>43300.0</td></tr><tr><td>B109</td><td>C3089</td><td>99100.0</td></tr><tr><td>B109</td><td>C3110</td><td>29500.0</td></tr><tr><td>B109</td><td>C3181</td><td>64200.0</td></tr><tr><td>B109</td><td>C3525</td><td>60400.0</td></tr><tr><td>B109</td><td>C3558</td><td>43700.0</td></tr><tr><td>B109</td><td>C3584</td><td>95200.0</td></tr><tr><td>B109</td><td>C3611</td><td>6400.0</td></tr><tr><td>B109</td><td>C3709</td><td>11000.0</td></tr><tr><td>B109</td><td>C3795</td><td>6300.0</td></tr><tr><td>B109</td><td>C5409</td><td>12700.0</td></tr><tr><td>B109</td><td>C5446</td><td>89500.0</td></tr><tr><td>B109</td><td>C5458</td><td>9500.0</td></tr><tr><td>B109</td><td>C5498</td><td>67700.0</td></tr><tr><td>B109</td><td>C5576</td><td>61300.0</td></tr><tr><td>B109</td><td>C5611</td><td>44900.0</td></tr><tr><td>B109</td><td>C5696</td><td>99100.0</td></tr><tr><td>B109</td><td>C5713</td><td>61500.0</td></tr><tr><td>B109</td><td>C5731</td><td>89900.0</td></tr><tr><td>B109</td><td>C5753</td><td>96300.0</td></tr><tr><td>B109</td><td>C5759</td><td>54500.0</td></tr><tr><td>B109</td><td>C5814</td><td>71500.0</td></tr><tr><td>B109</td><td>C7216</td><td>98200.0</td></tr><tr><td>B109</td><td>C7278</td><td>15300.0</td></tr><tr><td>B109</td><td>C7304</td><td>18400.0</td></tr><tr><td>B109</td><td>C7323</td><td>13900.0</td></tr><tr><td>B109</td><td>C7347</td><td>96700.0</td></tr><tr><td>B109</td><td>C7372</td><td>91900.0</td></tr><tr><td>B109</td><td>C7868</td><td>83900.0</td></tr><tr><td>B109</td><td>C7891</td><td>52700.0</td></tr><tr><td>B109</td><td>C7935</td><td>66200.0</td></tr><tr><td>B110</td><td>C3040</td><td>97400.0</td></tr><tr><td>B110</td><td>C3047</td><td>39000.0</td></tr><tr><td>B110</td><td>C3073</td><td>98700.0</td></tr><tr><td>B110</td><td>C3956</td><td>52100.0</td></tr><tr><td>B110</td><td>C3962</td><td>60500.0</td></tr><tr><td>B110</td><td>C4069</td><td>17500.0</td></tr><tr><td>B110</td><td>C4078</td><td>41000.0</td></tr><tr><td>B110</td><td>C4079</td><td>73400.0</td></tr><tr><td>B110</td><td>C4080</td><td>62100.0</td></tr><tr><td>B104</td><td>C7412</td><td>5000.0</td></tr><tr><td>B104</td><td>C7473</td><td>33700.0</td></tr><tr><td>B104</td><td>C7524</td><td>7800.0</td></tr><tr><td>B104</td><td>C7525</td><td>98300.0</td></tr><tr><td>B104</td><td>C7577</td><td>6500.0</td></tr><tr><td>B104</td><td>C7630</td><td>20500.0</td></tr><tr><td>B110</td><td>C6535</td><td>77700.0</td></tr><tr><td>B110</td><td>C6538</td><td>55100.0</td></tr><tr><td>B110</td><td>C6679</td><td>78400.0</td></tr><tr><td>B110</td><td>C6696</td><td>58200.0</td></tr><tr><td>B110</td><td>C6705</td><td>26200.0</td></tr><tr><td>B110</td><td>C6755</td><td>95700.0</td></tr><tr><td>B110</td><td>C6868</td><td>500.0</td></tr><tr><td>B110</td><td>C6893</td><td>42300.0</td></tr><tr><td>B110</td><td>C6949</td><td>80400.0</td></tr><tr><td>B110</td><td>C6960</td><td>98000.0</td></tr><tr><td>B110</td><td>C6987</td><td>71800.0</td></tr><tr><td>B110</td><td>C6990</td><td>64700.0</td></tr><tr><td>B101</td><td>C4356</td><td>43200.0</td></tr><tr><td>B101</td><td>C4391</td><td>99300.0</td></tr><tr><td>B101</td><td>C4393</td><td>82100.0</td></tr><tr><td>B101</td><td>C4407</td><td>60600.0</td></tr><tr><td>B101</td><td>C4425</td><td>97000.0</td></tr><tr><td>B101</td><td>C4440</td><td>11600.0</td></tr><tr><td>B101</td><td>C4562</td><td>23300.0</td></tr><tr><td>B101</td><td>C4587</td><td>56400.0</td></tr><tr><td>B101</td><td>C4611</td><td>27300.0</td></tr><tr><td>B101</td><td>C4653</td><td>98400.0</td></tr><tr><td>B101</td><td>C4749</td><td>6600.0</td></tr><tr><td>B101</td><td>C4781</td><td>39900.0</td></tr><tr><td>B101</td><td>C7117</td><td>99000.0</td></tr><tr><td>B101</td><td>C7160</td><td>11100.0</td></tr><tr><td>B101</td><td>C7176</td><td>42000.0</td></tr><tr><td>B101</td><td>C7200</td><td>41200.0</td></tr><tr><td>B101</td><td>C7232</td><td>62300.0</td></tr><tr><td>B101</td><td>C7233</td><td>21200.0</td></tr><tr><td>B103</td><td>C4379</td><td>25200.0</td></tr><tr><td>B103</td><td>C4382</td><td>81500.0</td></tr><tr><td>B103</td><td>C4387</td><td>300.0</td></tr><tr><td>B103</td><td>C4529</td><td>27600.0</td></tr><tr><td>B103</td><td>C4552</td><td>87700.0</td></tr><tr><td>B103</td><td>C4582</td><td>69800.0</td></tr><tr><td>B104</td><td>C5584</td><td>45500.0</td></tr><tr><td>B104</td><td>C5630</td><td>51600.0</td></tr><tr><td>B104</td><td>C5672</td><td>35300.0</td></tr><tr><td>B104</td><td>C5674</td><td>94500.0</td></tr><tr><td>B104</td><td>C5693</td><td>45000.0</td></tr><tr><td>B104</td><td>C5731</td><td>41100.0</td></tr><tr><td>B104</td><td>C6119</td><td>83400.0</td></tr><tr><td>B104</td><td>C6184</td><td>67600.0</td></tr><tr><td>B104</td><td>C6242</td><td>27400.0</td></tr><tr><td>B104</td><td>C6275</td><td>45400.0</td></tr><tr><td>B104</td><td>C6287</td><td>58200.0</td></tr><tr><td>B104</td><td>C6349</td><td>64900.0</td></tr><tr><td>B105</td><td>C4050</td><td>73400.0</td></tr><tr><td>B105</td><td>C4070</td><td>9400.0</td></tr><tr><td>B105</td><td>C4208</td><td>18400.0</td></tr><tr><td>B105</td><td>C4228</td><td>2500.0</td></tr><tr><td>B105</td><td>C4244</td><td>91400.0</td></tr><tr><td>B105</td><td>C4248</td><td>24300.0</td></tr><tr><td>B105</td><td>C6622</td><td>30200.0</td></tr><tr><td>B105</td><td>C6642</td><td>81500.0</td></tr><tr><td>B105</td><td>C6662</td><td>92400.0</td></tr><tr><td>B105</td><td>C6779</td><td>36000.0</td></tr><tr><td>B105</td><td>C6782</td><td>74900.0</td></tr><tr><td>B105</td><td>C6846</td><td>22200.0</td></tr><tr><td>B106</td><td>C4087</td><td>5900.0</td></tr><tr><td>B106</td><td>C4089</td><td>81900.0</td></tr><tr><td>B106</td><td>C4094</td><td>85000.0</td></tr><tr><td>B106</td><td>C4223</td><td>69100.0</td></tr><tr><td>B106</td><td>C4257</td><td>70300.0</td></tr><tr><td>B106</td><td>C4295</td><td>58000.0</td></tr><tr><td>B106</td><td>C7714</td><td>77000.0</td></tr><tr><td>B106</td><td>C7772</td><td>35000.0</td></tr><tr><td>B106</td><td>C7781</td><td>44600.0</td></tr><tr><td>B106</td><td>C7783</td><td>37300.0</td></tr><tr><td>B106</td><td>C7795</td><td>13700.0</td></tr><tr><td>B106</td><td>C7884</td><td>67400.0</td></tr><tr><td>B107</td><td>C6289</td><td>56000.0</td></tr><tr><td>B107</td><td>C6329</td><td>56500.0</td></tr><tr><td>B107</td><td>C6331</td><td>52300.0</td></tr><tr><td>B107</td><td>C6348</td><td>91500.0</td></tr><tr><td>B107</td><td>C6420</td><td>74100.0</td></tr><tr><td>B107</td><td>C6482</td><td>14600.0</td></tr><tr><td>B107</td><td>C5227</td><td>10500.0</td></tr><tr><td>B107</td><td>C5238</td><td>47000.0</td></tr><tr><td>B107</td><td>C5256</td><td>80000.0</td></tr><tr><td>B107</td><td>C5417</td><td>63800.0</td></tr><tr><td>B107</td><td>C5457</td><td>75300.0</td></tr><tr><td>B107</td><td>C5462</td><td>58500.0</td></tr><tr><td>B107</td><td>C7284</td><td>87600.0</td></tr><tr><td>B107</td><td>C7317</td><td>12500.0</td></tr><tr><td>B107</td><td>C7337</td><td>85200.0</td></tr><tr><td>B107</td><td>C7362</td><td>23400.0</td></tr><tr><td>B107</td><td>C7413</td><td>95800.0</td></tr><tr><td>B107</td><td>C7417</td><td>49400.0</td></tr><tr><td>B107</td><td>C7924</td><td>7000.0</td></tr><tr><td>B107</td><td>C7958</td><td>40600.0</td></tr><tr><td>B107</td><td>C7996</td><td>43300.0</td></tr><tr><td>B108</td><td>C3020</td><td>56400.0</td></tr><tr><td>B108</td><td>C3023</td><td>36200.0</td></tr><tr><td>B108</td><td>C3052</td><td>28200.0</td></tr><tr><td>B108</td><td>C3590</td><td>80500.0</td></tr><tr><td>B108</td><td>C3597</td><td>71200.0</td></tr><tr><td>B108</td><td>C3692</td><td>88700.0</td></tr><tr><td>B108</td><td>C3693</td><td>4900.0</td></tr><tr><td>B108</td><td>C3699</td><td>47900.0</td></tr><tr><td>B108</td><td>C3704</td><td>33000.0</td></tr><tr><td>B108</td><td>C5148</td><td>38500.0</td></tr><tr><td>B108</td><td>C5225</td><td>2200.0</td></tr><tr><td>B108</td><td>C5245</td><td>900.0</td></tr><tr><td>B108</td><td>C5261</td><td>56500.0</td></tr><tr><td>B108</td><td>C5276</td><td>25500.0</td></tr><tr><td>B108</td><td>C5310</td><td>30400.0</td></tr><tr><td>B108</td><td>C7337</td><td>43300.0</td></tr></tbody></table>Showing the first 1000 rows.</div>"
      ]
     },
     "metadata": {
      "application/vnd.databricks.v1+output": {
       "addedWidgets": {},
       "aggData": [],
       "aggError": "",
       "aggOverflow": false,
       "aggSchema": [],
       "aggSeriesLimitReached": false,
       "aggType": "",
       "arguments": {},
       "columnCustomDisplayInfos": {},
       "data": [
        [
         "B105",
         "C6364",
         54400.0
        ],
        [
         "B105",
         "C6365",
         81200.0
        ],
        [
         "B105",
         "C6370",
         90300.0
        ],
        [
         "B105",
         "C6392",
         81200.0
        ],
        [
         "B105",
         "C6507",
         17400.0
        ],
        [
         "B105",
         "C6562",
         3200.0
        ],
        [
         "B105",
         "C6617",
         46400.0
        ],
        [
         "B102",
         "C6143",
         93700.0
        ],
        [
         "B102",
         "C6234",
         85200.0
        ],
        [
         "B102",
         "C6252",
         14500.0
        ],
        [
         "B102",
         "C6265",
         85200.0
        ],
        [
         "B102",
         "C6374",
         56300.0
        ],
        [
         "B102",
         "C6378",
         36100.0
        ],
        [
         "B108",
         "C6449",
         78100.0
        ],
        [
         "B108",
         "C6466",
         78100.0
        ],
        [
         "B108",
         "C6552",
         83000.0
        ],
        [
         "B108",
         "C6579",
         9800.0
        ],
        [
         "B108",
         "C6587",
         48300.0
        ],
        [
         "B108",
         "C6640",
         16100.0
        ],
        [
         "B101",
         "C3861",
         97700.0
        ],
        [
         "B101",
         "C3977",
         87100.0
        ],
        [
         "B101",
         "C4052",
         79700.0
        ],
        [
         "B101",
         "C4252",
         17300.0
        ],
        [
         "B101",
         "C4336",
         21800.0
        ],
        [
         "B101",
         "C4345",
         55000.0
        ],
        [
         "B101",
         "C4353",
         31800.0
        ],
        [
         "B104",
         "C5737",
         96700.0
        ],
        [
         "B104",
         "C5773",
         41200.0
        ],
        [
         "B104",
         "C5851",
         87700.0
        ],
        [
         "B104",
         "C5912",
         44500.0
        ],
        [
         "B104",
         "C5968",
         52900.0
        ],
        [
         "B104",
         "C6060",
         68200.0
        ],
        [
         "B104",
         "C6072",
         14400.0
        ],
        [
         "B101",
         "C3089",
         80700.0
        ],
        [
         "B101",
         "C3102",
         77800.0
        ],
        [
         "B101",
         "C3103",
         32400.0
        ],
        [
         "B101",
         "C3186",
         37900.0
        ],
        [
         "B101",
         "C3352",
         40100.0
        ],
        [
         "B101",
         "C3360",
         8700.0
        ],
        [
         "B101",
         "C3366",
         44600.0
        ],
        [
         "B103",
         "C5975",
         7400.0
        ],
        [
         "B103",
         "C5996",
         2900.0
        ],
        [
         "B103",
         "C6031",
         26700.0
        ],
        [
         "B103",
         "C6037",
         16700.0
        ],
        [
         "B103",
         "C6052",
         99300.0
        ],
        [
         "B103",
         "C6187",
         15800.0
        ],
        [
         "B103",
         "C6201",
         76700.0
        ],
        [
         "B104",
         "C4716",
         34100.0
        ],
        [
         "B104",
         "C4821",
         55500.0
        ],
        [
         "B104",
         "C4859",
         47800.0
        ],
        [
         "B104",
         "C4860",
         43900.0
        ],
        [
         "B104",
         "C4882",
         23900.0
        ],
        [
         "B104",
         "C4935",
         80600.0
        ],
        [
         "B104",
         "C5027",
         94500.0
        ],
        [
         "B106",
         "C6018",
         17700.0
        ],
        [
         "B106",
         "C6087",
         14800.0
        ],
        [
         "B106",
         "C6153",
         1800.0
        ],
        [
         "B106",
         "C6199",
         95100.0
        ],
        [
         "B106",
         "C6214",
         48200.0
        ],
        [
         "B106",
         "C6462",
         74500.0
        ],
        [
         "B106",
         "C6525",
         44400.0
        ],
        [
         "B107",
         "C3402",
         46500.0
        ],
        [
         "B107",
         "C3444",
         63900.0
        ],
        [
         "B107",
         "C3485",
         17300.0
        ],
        [
         "B107",
         "C3533",
         74200.0
        ],
        [
         "B107",
         "C3605",
         68000.0
        ],
        [
         "B107",
         "C3635",
         55500.0
        ],
        [
         "B107",
         "C3679",
         74800.0
        ],
        [
         "B107",
         "C5482",
         67100.0
        ],
        [
         "B107",
         "C5565",
         59200.0
        ],
        [
         "B107",
         "C5577",
         75300.0
        ],
        [
         "B107",
         "C5586",
         99700.0
        ],
        [
         "B107",
         "C5669",
         2800.0
        ],
        [
         "B107",
         "C5766",
         79600.0
        ],
        [
         "B107",
         "C5794",
         1300.0
        ],
        [
         "B108",
         "C3305",
         81100.0
        ],
        [
         "B108",
         "C3354",
         63800.0
        ],
        [
         "B108",
         "C3437",
         13900.0
        ],
        [
         "B108",
         "C3482",
         94600.0
        ],
        [
         "B108",
         "C3490",
         60600.0
        ],
        [
         "B108",
         "C3527",
         75000.0
        ],
        [
         "B108",
         "C3575",
         49600.0
        ],
        [
         "B108",
         "C4282",
         67300.0
        ],
        [
         "B108",
         "C4310",
         76000.0
        ],
        [
         "B108",
         "C4420",
         71300.0
        ],
        [
         "B108",
         "C4526",
         98600.0
        ],
        [
         "B108",
         "C4610",
         43300.0
        ],
        [
         "B108",
         "C4628",
         11900.0
        ],
        [
         "B108",
         "C4642",
         73600.0
        ],
        [
         "B108",
         "C5317",
         47100.0
        ],
        [
         "B108",
         "C5324",
         69900.0
        ],
        [
         "B108",
         "C5373",
         38100.0
        ],
        [
         "B108",
         "C5395",
         15700.0
        ],
        [
         "B108",
         "C5426",
         95300.0
        ],
        [
         "B108",
         "C5440",
         12600.0
        ],
        [
         "B108",
         "C5527",
         77900.0
        ],
        [
         "B109",
         "C4888",
         3900.0
        ],
        [
         "B109",
         "C4889",
         61100.0
        ],
        [
         "B109",
         "C4903",
         42400.0
        ],
        [
         "B109",
         "C4975",
         76600.0
        ],
        [
         "B109",
         "C5228",
         800.0
        ],
        [
         "B109",
         "C5243",
         61600.0
        ],
        [
         "B109",
         "C5258",
         30000.0
        ],
        [
         "B101",
         "C5124",
         27300.0
        ],
        [
         "B101",
         "C5147",
         92700.0
        ],
        [
         "B101",
         "C5169",
         44000.0
        ],
        [
         "B101",
         "C5267",
         40200.0
        ],
        [
         "B101",
         "C5268",
         65700.0
        ],
        [
         "B101",
         "C5336",
         55600.0
        ],
        [
         "B101",
         "C5469",
         12700.0
        ],
        [
         "B105",
         "C4392",
         76200.0
        ],
        [
         "B105",
         "C4480",
         48000.0
        ],
        [
         "B105",
         "C4486",
         6500.0
        ],
        [
         "B105",
         "C4532",
         82400.0
        ],
        [
         "B105",
         "C4565",
         90100.0
        ],
        [
         "B105",
         "C4657",
         19900.0
        ],
        [
         "B105",
         "C4698",
         22900.0
        ],
        [
         "B106",
         "C7316",
         88300.0
        ],
        [
         "B106",
         "C7322",
         30500.0
        ],
        [
         "B106",
         "C7350",
         80100.0
        ],
        [
         "B106",
         "C7375",
         17000.0
        ],
        [
         "B106",
         "C7390",
         33700.0
        ],
        [
         "B106",
         "C7494",
         34100.0
        ],
        [
         "B106",
         "C7594",
         22200.0
        ],
        [
         "B110",
         "C3340",
         85200.0
        ],
        [
         "B110",
         "C3345",
         92600.0
        ],
        [
         "B110",
         "C3355",
         14700.0
        ],
        [
         "B110",
         "C3448",
         39700.0
        ],
        [
         "B110",
         "C3482",
         30000.0
        ],
        [
         "B110",
         "C3511",
         37700.0
        ],
        [
         "B110",
         "C3516",
         87700.0
        ],
        [
         "B110",
         "C7092",
         65500.0
        ],
        [
         "B110",
         "C7097",
         2900.0
        ],
        [
         "B110",
         "C7100",
         33500.0
        ],
        [
         "B110",
         "C7162",
         17800.0
        ],
        [
         "B110",
         "C7197",
         96500.0
        ],
        [
         "B110",
         "C7223",
         92300.0
        ],
        [
         "B110",
         "C7227",
         59300.0
        ],
        [
         "B102",
         "C4547",
         74000.0
        ],
        [
         "B102",
         "C4552",
         81100.0
        ],
        [
         "B102",
         "C4565",
         72500.0
        ],
        [
         "B102",
         "C4593",
         41800.0
        ],
        [
         "B102",
         "C4707",
         60500.0
        ],
        [
         "B102",
         "C4722",
         83500.0
        ],
        [
         "B102",
         "C4729",
         14000.0
        ],
        [
         "B102",
         "C6418",
         48800.0
        ],
        [
         "B102",
         "C6460",
         27300.0
        ],
        [
         "B102",
         "C6519",
         67800.0
        ],
        [
         "B102",
         "C6558",
         73900.0
        ],
        [
         "B102",
         "C6569",
         2600.0
        ],
        [
         "B102",
         "C6573",
         50900.0
        ],
        [
         "B102",
         "C6586",
         32700.0
        ],
        [
         "B105",
         "C3652",
         5400.0
        ],
        [
         "B105",
         "C3742",
         19000.0
        ],
        [
         "B105",
         "C3816",
         24400.0
        ],
        [
         "B105",
         "C3888",
         46700.0
        ],
        [
         "B105",
         "C3913",
         64300.0
        ],
        [
         "B105",
         "C3917",
         30500.0
        ],
        [
         "B105",
         "C3933",
         80700.0
        ],
        [
         "B106",
         "C5292",
         78800.0
        ],
        [
         "B106",
         "C5305",
         64400.0
        ],
        [
         "B106",
         "C5370",
         90900.0
        ],
        [
         "B106",
         "C5386",
         61900.0
        ],
        [
         "B106",
         "C5436",
         72800.0
        ],
        [
         "B106",
         "C5449",
         31200.0
        ],
        [
         "B106",
         "C5461",
         89400.0
        ],
        [
         "B109",
         "C3841",
         3500.0
        ],
        [
         "B109",
         "C3843",
         21100.0
        ],
        [
         "B109",
         "C3853",
         14900.0
        ],
        [
         "B109",
         "C3922",
         67900.0
        ],
        [
         "B109",
         "C3969",
         81400.0
        ],
        [
         "B109",
         "C4026",
         55700.0
        ],
        [
         "B109",
         "C4141",
         47500.0
        ],
        [
         "B109",
         "C6132",
         67700.0
        ],
        [
         "B109",
         "C6133",
         48400.0
        ],
        [
         "B109",
         "C6165",
         44800.0
        ],
        [
         "B109",
         "C6260",
         51100.0
        ],
        [
         "B109",
         "C6309",
         62800.0
        ],
        [
         "B109",
         "C6328",
         86900.0
        ],
        [
         "B109",
         "C6346",
         8900.0
        ],
        [
         "B103",
         "C3080",
         28300.0
        ],
        [
         "B103",
         "C3083",
         13800.0
        ],
        [
         "B103",
         "C3206",
         70400.0
        ],
        [
         "B103",
         "C3248",
         42700.0
        ],
        [
         "B103",
         "C3262",
         81900.0
        ],
        [
         "B103",
         "C3294",
         28400.0
        ],
        [
         "B103",
         "C3309",
         17500.0
        ],
        [
         "B103",
         "C4183",
         57600.0
        ],
        [
         "B103",
         "C4188",
         6200.0
        ],
        [
         "B103",
         "C4213",
         98500.0
        ],
        [
         "B103",
         "C4249",
         10900.0
        ],
        [
         "B103",
         "C4307",
         32700.0
        ],
        [
         "B103",
         "C4350",
         56600.0
        ],
        [
         "B103",
         "C4361",
         96100.0
        ],
        [
         "B103",
         "C4971",
         68200.0
        ],
        [
         "B103",
         "C5135",
         7700.0
        ],
        [
         "B103",
         "C5318",
         8400.0
        ],
        [
         "B103",
         "C5335",
         32100.0
        ],
        [
         "B103",
         "C5346",
         59700.0
        ],
        [
         "B103",
         "C5397",
         53800.0
        ],
        [
         "B103",
         "C5439",
         48800.0
        ],
        [
         "B103",
         "C7894",
         73400.0
        ],
        [
         "B103",
         "C7899",
         18500.0
        ],
        [
         "B103",
         "C7908",
         26900.0
        ],
        [
         "B103",
         "C7916",
         11200.0
        ],
        [
         "B103",
         "C7925",
         70900.0
        ],
        [
         "B103",
         "C7976",
         38300.0
        ],
        [
         "B103",
         "C7993",
         25300.0
        ],
        [
         "B104",
         "C6588",
         52600.0
        ],
        [
         "B104",
         "C6701",
         93400.0
        ],
        [
         "B104",
         "C6716",
         88200.0
        ],
        [
         "B104",
         "C6847",
         36800.0
        ],
        [
         "B104",
         "C6849",
         28700.0
        ],
        [
         "B104",
         "C6865",
         39100.0
        ],
        [
         "B104",
         "C6880",
         34600.0
        ],
        [
         "B104",
         "C7666",
         90000.0
        ],
        [
         "B104",
         "C7671",
         88000.0
        ],
        [
         "B104",
         "C7719",
         54700.0
        ],
        [
         "B104",
         "C7778",
         12700.0
        ],
        [
         "B104",
         "C7824",
         62700.0
        ],
        [
         "B104",
         "C7827",
         7400.0
        ],
        [
         "B104",
         "C7954",
         34200.0
        ],
        [
         "B107",
         "C4480",
         68700.0
        ],
        [
         "B107",
         "C4498",
         96000.0
        ],
        [
         "B107",
         "C4599",
         30900.0
        ],
        [
         "B107",
         "C4643",
         60900.0
        ],
        [
         "B107",
         "C4653",
         61900.0
        ],
        [
         "B107",
         "C4676",
         36700.0
        ],
        [
         "B107",
         "C4701",
         2100.0
        ],
        [
         "B107",
         "C7428",
         21300.0
        ],
        [
         "B107",
         "C7483",
         23900.0
        ],
        [
         "B107",
         "C7530",
         76400.0
        ],
        [
         "B107",
         "C7588",
         75300.0
        ],
        [
         "B107",
         "C7654",
         80500.0
        ],
        [
         "B107",
         "C7659",
         16500.0
        ],
        [
         "B107",
         "C7710",
         87900.0
        ],
        [
         "B108",
         "C6833",
         41000.0
        ],
        [
         "B108",
         "C6835",
         86500.0
        ],
        [
         "B108",
         "C6845",
         84400.0
        ],
        [
         "B108",
         "C6979",
         12300.0
        ],
        [
         "B108",
         "C7026",
         91700.0
        ],
        [
         "B108",
         "C7083",
         92900.0
        ],
        [
         "B108",
         "C7085",
         32100.0
        ],
        [
         "B110",
         "C4141",
         44300.0
        ],
        [
         "B110",
         "C4217",
         50900.0
        ],
        [
         "B110",
         "C4330",
         54100.0
        ],
        [
         "B110",
         "C4335",
         33000.0
        ],
        [
         "B110",
         "C4367",
         37700.0
        ],
        [
         "B110",
         "C4425",
         28800.0
        ],
        [
         "B110",
         "C4473",
         88200.0
        ],
        [
         "B107",
         "C6488",
         84800.0
        ],
        [
         "B107",
         "C6502",
         27700.0
        ],
        [
         "B107",
         "C6539",
         84700.0
        ],
        [
         "B107",
         "C6589",
         16400.0
        ],
        [
         "B107",
         "C6591",
         97700.0
        ],
        [
         "B107",
         "C6606",
         11200.0
        ],
        [
         "B107",
         "C6701",
         45200.0
        ],
        [
         "B110",
         "C5247",
         59300.0
        ],
        [
         "B110",
         "C5253",
         34100.0
        ],
        [
         "B110",
         "C5256",
         57100.0
        ],
        [
         "B110",
         "C5312",
         47600.0
        ],
        [
         "B110",
         "C5337",
         82200.0
        ],
        [
         "B110",
         "C5346",
         6500.0
        ],
        [
         "B110",
         "C5403",
         35100.0
        ],
        [
         "B108",
         "C6012",
         53200.0
        ],
        [
         "B108",
         "C6069",
         17200.0
        ],
        [
         "B108",
         "C6093",
         35400.0
        ],
        [
         "B108",
         "C6165",
         18000.0
        ],
        [
         "B108",
         "C6180",
         19900.0
        ],
        [
         "B108",
         "C6203",
         46700.0
        ],
        [
         "B108",
         "C6216",
         57400.0
        ],
        [
         "B109",
         "C7376",
         26500.0
        ],
        [
         "B109",
         "C7411",
         55600.0
        ],
        [
         "B109",
         "C7452",
         37700.0
        ],
        [
         "B109",
         "C7504",
         76400.0
        ],
        [
         "B109",
         "C7573",
         38200.0
        ],
        [
         "B109",
         "C7602",
         80400.0
        ],
        [
         "B109",
         "C7658",
         54700.0
        ],
        [
         "B102",
         "C3257",
         47400.0
        ],
        [
         "B102",
         "C3290",
         69400.0
        ],
        [
         "B102",
         "C3332",
         46700.0
        ],
        [
         "B102",
         "C3369",
         87500.0
        ],
        [
         "B102",
         "C3391",
         78300.0
        ],
        [
         "B102",
         "C3396",
         96300.0
        ],
        [
         "B102",
         "C3510",
         55900.0
        ],
        [
         "B102",
         "C7512",
         70000.0
        ],
        [
         "B102",
         "C7516",
         77900.0
        ],
        [
         "B102",
         "C7579",
         4100.0
        ],
        [
         "B102",
         "C7596",
         20700.0
        ],
        [
         "B102",
         "C7604",
         71500.0
        ],
        [
         "B102",
         "C7648",
         92300.0
        ],
        [
         "B102",
         "C7653",
         89500.0
        ],
        [
         "B103",
         "C7041",
         27200.0
        ],
        [
         "B103",
         "C7047",
         68700.0
        ],
        [
         "B103",
         "C7060",
         80700.0
        ],
        [
         "B103",
         "C7240",
         62200.0
        ],
        [
         "B103",
         "C7252",
         34300.0
        ],
        [
         "B103",
         "C7276",
         39500.0
        ],
        [
         "B103",
         "C7331",
         12000.0
        ],
        [
         "B104",
         "C3840",
         98400.0
        ],
        [
         "B104",
         "C3871",
         62300.0
        ],
        [
         "B104",
         "C3885",
         44300.0
        ],
        [
         "B104",
         "C3893",
         9000.0
        ],
        [
         "B104",
         "C3897",
         100000.0
        ],
        [
         "B104",
         "C3919",
         88900.0
        ],
        [
         "B104",
         "C3925",
         59200.0
        ],
        [
         "B105",
         "C5356",
         91100.0
        ],
        [
         "B105",
         "C5416",
         68800.0
        ],
        [
         "B105",
         "C5434",
         65200.0
        ],
        [
         "B105",
         "C5435",
         8100.0
        ],
        [
         "B105",
         "C5475",
         19100.0
        ],
        [
         "B105",
         "C5537",
         82000.0
        ],
        [
         "B105",
         "C5683",
         66900.0
        ],
        [
         "B105",
         "C7466",
         97300.0
        ],
        [
         "B105",
         "C7484",
         21900.0
        ],
        [
         "B105",
         "C7504",
         91100.0
        ],
        [
         "B105",
         "C7505",
         38400.0
        ],
        [
         "B105",
         "C7535",
         24100.0
        ],
        [
         "B105",
         "C7596",
         11000.0
        ],
        [
         "B105",
         "C7616",
         73200.0
        ],
        [
         "B106",
         "C3261",
         1600.0
        ],
        [
         "B106",
         "C3287",
         44800.0
        ],
        [
         "B106",
         "C3290",
         61200.0
        ],
        [
         "B106",
         "C3304",
         60900.0
        ],
        [
         "B106",
         "C3329",
         11000.0
        ],
        [
         "B106",
         "C3367",
         74200.0
        ],
        [
         "B106",
         "C3471",
         73400.0
        ],
        [
         "B106",
         "C4399",
         38600.0
        ],
        [
         "B106",
         "C4415",
         24300.0
        ],
        [
         "B106",
         "C4419",
         55600.0
        ],
        [
         "B106",
         "C4462",
         89400.0
        ],
        [
         "B106",
         "C4486",
         15900.0
        ],
        [
         "B106",
         "C4560",
         40600.0
        ],
        [
         "B106",
         "C4562",
         50500.0
        ],
        [
         "B101",
         "C6254",
         44200.0
        ],
        [
         "B101",
         "C6263",
         16300.0
        ],
        [
         "B101",
         "C6323",
         85200.0
        ],
        [
         "B101",
         "C6360",
         54400.0
        ],
        [
         "B101",
         "C6387",
         23800.0
        ],
        [
         "B101",
         "C6466",
         88400.0
        ],
        [
         "B101",
         "C6474",
         23100.0
        ],
        [
         "B101",
         "C7300",
         13300.0
        ],
        [
         "B101",
         "C7329",
         92800.0
        ],
        [
         "B101",
         "C7362",
         80200.0
        ],
        [
         "B101",
         "C7402",
         44600.0
        ],
        [
         "B101",
         "C7412",
         28500.0
        ],
        [
         "B101",
         "C7413",
         65100.0
        ],
        [
         "B101",
         "C7518",
         69100.0
        ],
        [
         "B110",
         "C6102",
         31700.0
        ],
        [
         "B110",
         "C6104",
         61200.0
        ],
        [
         "B110",
         "C6117",
         68500.0
        ],
        [
         "B110",
         "C6124",
         83600.0
        ],
        [
         "B110",
         "C6137",
         43100.0
        ],
        [
         "B110",
         "C6169",
         1100.0
        ],
        [
         "B110",
         "C6181",
         25100.0
        ],
        [
         "B108",
         "C7699",
         39100.0
        ],
        [
         "B108",
         "C7820",
         45300.0
        ],
        [
         "B108",
         "C7902",
         83800.0
        ],
        [
         "B108",
         "C7903",
         82500.0
        ],
        [
         "B108",
         "C7920",
         73500.0
        ],
        [
         "B108",
         "C7926",
         63500.0
        ],
        [
         "B108",
         "C7936",
         88900.0
        ],
        [
         "B102",
         "C5630",
         18500.0
        ],
        [
         "B102",
         "C5634",
         33000.0
        ],
        [
         "B102",
         "C5661",
         33600.0
        ],
        [
         "B102",
         "C5689",
         63900.0
        ],
        [
         "B102",
         "C5805",
         19300.0
        ],
        [
         "B102",
         "C5815",
         12500.0
        ],
        [
         "B102",
         "C5843",
         18900.0
        ],
        [
         "B107",
         "C6800",
         78900.0
        ],
        [
         "B107",
         "C6874",
         71900.0
        ],
        [
         "B107",
         "C6913",
         43200.0
        ],
        [
         "B107",
         "C7039",
         95500.0
        ],
        [
         "B107",
         "C7079",
         20000.0
        ],
        [
         "B107",
         "C7106",
         92300.0
        ],
        [
         "B102",
         "C4932",
         55700.0
        ],
        [
         "B102",
         "C5083",
         93700.0
        ],
        [
         "B102",
         "C5098",
         23800.0
        ],
        [
         "B102",
         "C5212",
         94500.0
        ],
        [
         "B102",
         "C5222",
         54800.0
        ],
        [
         "B102",
         "C5308",
         45300.0
        ],
        [
         "B103",
         "C7690",
         22600.0
        ],
        [
         "B103",
         "C7731",
         37500.0
        ],
        [
         "B103",
         "C7787",
         46800.0
        ],
        [
         "B103",
         "C7802",
         67700.0
        ],
        [
         "B103",
         "C7857",
         5700.0
        ],
        [
         "B103",
         "C7886",
         60200.0
        ],
        [
         "B101",
         "C3382",
         79700.0
        ],
        [
         "B101",
         "C3408",
         51500.0
        ],
        [
         "B101",
         "C3452",
         70000.0
        ],
        [
         "B101",
         "C3524",
         83700.0
        ],
        [
         "B101",
         "C3559",
         59600.0
        ],
        [
         "B101",
         "C3582",
         18100.0
        ],
        [
         "B103",
         "C3857",
         67900.0
        ],
        [
         "B103",
         "C3859",
         33700.0
        ],
        [
         "B103",
         "C3937",
         78900.0
        ],
        [
         "B103",
         "C4063",
         27700.0
        ],
        [
         "B103",
         "C4102",
         53400.0
        ],
        [
         "B103",
         "C4181",
         16600.0
        ],
        [
         "B103",
         "C7995",
         87900.0
        ],
        [
         "B104",
         "C3011",
         91000.0
        ],
        [
         "B104",
         "C3029",
         96400.0
        ],
        [
         "B104",
         "C3104",
         40700.0
        ],
        [
         "B104",
         "C3228",
         28200.0
        ],
        [
         "B104",
         "C3239",
         22400.0
        ],
        [
         "B104",
         "C3927",
         48700.0
        ],
        [
         "B104",
         "C3975",
         50600.0
        ],
        [
         "B104",
         "C4012",
         71000.0
        ],
        [
         "B104",
         "C4021",
         94100.0
        ],
        [
         "B104",
         "C4034",
         60100.0
        ],
        [
         "B104",
         "C4050",
         84000.0
        ],
        [
         "B106",
         "C3485",
         94100.0
        ],
        [
         "B106",
         "C3550",
         31800.0
        ],
        [
         "B106",
         "C3572",
         32900.0
        ],
        [
         "B106",
         "C3612",
         32300.0
        ],
        [
         "B106",
         "C3627",
         20300.0
        ],
        [
         "B106",
         "C3656",
         16900.0
        ],
        [
         "B108",
         "C4878",
         75800.0
        ],
        [
         "B108",
         "C4887",
         26300.0
        ],
        [
         "B108",
         "C4912",
         99800.0
        ],
        [
         "B108",
         "C5124",
         28000.0
        ],
        [
         "B108",
         "C5128",
         60300.0
        ],
        [
         "B108",
         "C5130",
         74600.0
        ],
        [
         "B108",
         "C7116",
         2900.0
        ],
        [
         "B108",
         "C7154",
         37500.0
        ],
        [
         "B108",
         "C7206",
         64200.0
        ],
        [
         "B108",
         "C7312",
         51700.0
        ],
        [
         "B108",
         "C7333",
         25600.0
        ],
        [
         "B108",
         "C7335",
         72800.0
        ],
        [
         "B109",
         "C4286",
         63900.0
        ],
        [
         "B109",
         "C4376",
         9200.0
        ],
        [
         "B109",
         "C4461",
         53200.0
        ],
        [
         "B109",
         "C4475",
         5900.0
        ],
        [
         "B109",
         "C4511",
         74100.0
        ],
        [
         "B109",
         "C4566",
         53400.0
        ],
        [
         "B110",
         "C4936",
         6500.0
        ],
        [
         "B110",
         "C5046",
         65900.0
        ],
        [
         "B110",
         "C5122",
         32300.0
        ],
        [
         "B110",
         "C5174",
         13500.0
        ],
        [
         "B110",
         "C5209",
         77300.0
        ],
        [
         "B110",
         "C5225",
         44800.0
        ],
        [
         "B110",
         "C5865",
         97300.0
        ],
        [
         "B110",
         "C5873",
         73400.0
        ],
        [
         "B110",
         "C5950",
         81100.0
        ],
        [
         "B110",
         "C6076",
         14300.0
        ],
        [
         "B110",
         "C6079",
         25500.0
        ],
        [
         "B110",
         "C6090",
         13000.0
        ],
        [
         "B110",
         "C7582",
         54900.0
        ],
        [
         "B110",
         "C7592",
         21700.0
        ],
        [
         "B110",
         "C7600",
         65700.0
        ],
        [
         "B110",
         "C7607",
         7500.0
        ],
        [
         "B110",
         "C7785",
         81100.0
        ],
        [
         "B110",
         "C7796",
         26300.0
        ],
        [
         "B101",
         "C3584",
         77400.0
        ],
        [
         "B101",
         "C3626",
         40300.0
        ],
        [
         "B101",
         "C3695",
         28400.0
        ],
        [
         "B101",
         "C3754",
         56700.0
        ],
        [
         "B101",
         "C3767",
         14800.0
        ],
        [
         "B101",
         "C3798",
         17300.0
        ],
        [
         "B101",
         "C5893",
         65800.0
        ],
        [
         "B101",
         "C5988",
         26600.0
        ],
        [
         "B101",
         "C5990",
         87400.0
        ],
        [
         "B101",
         "C6033",
         14500.0
        ],
        [
         "B101",
         "C6036",
         43000.0
        ],
        [
         "B101",
         "C6063",
         11500.0
        ],
        [
         "B101",
         "C6567",
         72900.0
        ],
        [
         "B101",
         "C6584",
         18600.0
        ],
        [
         "B101",
         "C6649",
         56500.0
        ],
        [
         "B101",
         "C6681",
         24700.0
        ],
        [
         "B101",
         "C6699",
         86100.0
        ],
        [
         "B101",
         "C6701",
         18900.0
        ],
        [
         "B102",
         "C7144",
         74100.0
        ],
        [
         "B102",
         "C7152",
         55600.0
        ],
        [
         "B102",
         "C7190",
         35500.0
        ],
        [
         "B102",
         "C7451",
         81500.0
        ],
        [
         "B102",
         "C7468",
         31100.0
        ],
        [
         "B102",
         "C7472",
         36500.0
        ],
        [
         "B102",
         "C7722",
         98500.0
        ],
        [
         "B102",
         "C7841",
         7600.0
        ],
        [
         "B102",
         "C7885",
         65900.0
        ],
        [
         "B102",
         "C7901",
         18500.0
        ],
        [
         "B102",
         "C7915",
         24700.0
        ],
        [
         "B102",
         "C7954",
         50800.0
        ],
        [
         "B103",
         "C3330",
         59800.0
        ],
        [
         "B103",
         "C3424",
         83400.0
        ],
        [
         "B103",
         "C3449",
         70000.0
        ],
        [
         "B103",
         "C3582",
         46000.0
        ],
        [
         "B103",
         "C3613",
         57300.0
        ],
        [
         "B103",
         "C3638",
         61500.0
        ],
        [
         "B104",
         "C3374",
         35900.0
        ],
        [
         "B104",
         "C3389",
         19700.0
        ],
        [
         "B104",
         "C3393",
         46700.0
        ],
        [
         "B104",
         "C3452",
         51300.0
        ],
        [
         "B104",
         "C3568",
         16400.0
        ],
        [
         "B104",
         "C3589",
         82400.0
        ],
        [
         "B105",
         "C3938",
         99700.0
        ],
        [
         "B105",
         "C3945",
         39900.0
        ],
        [
         "B105",
         "C3989",
         92800.0
        ],
        [
         "B105",
         "C4008",
         63200.0
        ],
        [
         "B105",
         "C4013",
         2200.0
        ],
        [
         "B105",
         "C4029",
         99900.0
        ],
        [
         "B105",
         "C7137",
         68100.0
        ],
        [
         "B105",
         "C7256",
         16500.0
        ],
        [
         "B105",
         "C7284",
         3200.0
        ],
        [
         "B105",
         "C7342",
         89300.0
        ],
        [
         "B105",
         "C7361",
         200.0
        ],
        [
         "B105",
         "C7418",
         92500.0
        ],
        [
         "B106",
         "C5478",
         85800.0
        ],
        [
         "B106",
         "C5524",
         43100.0
        ],
        [
         "B106",
         "C5581",
         68900.0
        ],
        [
         "B106",
         "C5632",
         22500.0
        ],
        [
         "B106",
         "C5706",
         32300.0
        ],
        [
         "B106",
         "C5708",
         62800.0
        ],
        [
         "B106",
         "C7091",
         43500.0
        ],
        [
         "B106",
         "C7180",
         26800.0
        ],
        [
         "B106",
         "C7218",
         67700.0
        ],
        [
         "B106",
         "C7223",
         24200.0
        ],
        [
         "B106",
         "C7293",
         31800.0
        ],
        [
         "B106",
         "C7315",
         85100.0
        ],
        [
         "B106",
         "C7889",
         57900.0
        ],
        [
         "B106",
         "C7945",
         85900.0
        ],
        [
         "B106",
         "C7994",
         50000.0
        ],
        [
         "B107",
         "C3086",
         50100.0
        ],
        [
         "B107",
         "C3155",
         73800.0
        ],
        [
         "B107",
         "C3193",
         6500.0
        ],
        [
         "B108",
         "C3832",
         23600.0
        ],
        [
         "B108",
         "C3848",
         8800.0
        ],
        [
         "B108",
         "C3890",
         71800.0
        ],
        [
         "B108",
         "C3953",
         91800.0
        ],
        [
         "B108",
         "C4117",
         89600.0
        ],
        [
         "B108",
         "C4124",
         65100.0
        ],
        [
         "B108",
         "C4706",
         19500.0
        ],
        [
         "B108",
         "C4722",
         88400.0
        ],
        [
         "B108",
         "C4730",
         42500.0
        ],
        [
         "B108",
         "C4743",
         9300.0
        ],
        [
         "B108",
         "C4807",
         86500.0
        ],
        [
         "B108",
         "C4816",
         45400.0
        ],
        [
         "B108",
         "C7483",
         98200.0
        ],
        [
         "B108",
         "C7536",
         11200.0
        ],
        [
         "B108",
         "C7570",
         3100.0
        ],
        [
         "B108",
         "C7598",
         93400.0
        ],
        [
         "B108",
         "C7643",
         31500.0
        ],
        [
         "B108",
         "C7658",
         43400.0
        ],
        [
         "B110",
         "C3083",
         57700.0
        ],
        [
         "B110",
         "C3107",
         85500.0
        ],
        [
         "B110",
         "C3142",
         80300.0
        ],
        [
         "B110",
         "C3210",
         50500.0
        ],
        [
         "B110",
         "C3279",
         12900.0
        ],
        [
         "B110",
         "C3325",
         25600.0
        ],
        [
         "B105",
         "C3350",
         17000.0
        ],
        [
         "B105",
         "C3368",
         13400.0
        ],
        [
         "B105",
         "C3497",
         18100.0
        ],
        [
         "B105",
         "C3522",
         16100.0
        ],
        [
         "B105",
         "C3646",
         64300.0
        ],
        [
         "B105",
         "C3649",
         35100.0
        ],
        [
         "B101",
         "C5526",
         21700.0
        ],
        [
         "B101",
         "C5637",
         95400.0
        ],
        [
         "B101",
         "C5673",
         85800.0
        ],
        [
         "B101",
         "C5694",
         15500.0
        ],
        [
         "B101",
         "C5808",
         92300.0
        ],
        [
         "B101",
         "C5843",
         48200.0
        ],
        [
         "B101",
         "C7572",
         94400.0
        ],
        [
         "B101",
         "C7577",
         1200.0
        ],
        [
         "B101",
         "C7625",
         76500.0
        ],
        [
         "B101",
         "C7700",
         33200.0
        ],
        [
         "B101",
         "C7747",
         95300.0
        ],
        [
         "B101",
         "C7777",
         20400.0
        ],
        [
         "B101",
         "C7810",
         7600.0
        ],
        [
         "B101",
         "C7927",
         96500.0
        ],
        [
         "B101",
         "C7933",
         49900.0
        ],
        [
         "B101",
         "C7965",
         24200.0
        ],
        [
         "B102",
         "C3003",
         56600.0
        ],
        [
         "B102",
         "C3023",
         40000.0
        ],
        [
         "B102",
         "C3562",
         88200.0
        ],
        [
         "B102",
         "C3594",
         12200.0
        ],
        [
         "B102",
         "C3652",
         27700.0
        ],
        [
         "B102",
         "C3791",
         45000.0
        ],
        [
         "B102",
         "C3815",
         62100.0
        ],
        [
         "B102",
         "C3986",
         80200.0
        ],
        [
         "B102",
         "C4287",
         1300.0
        ],
        [
         "B102",
         "C4388",
         12500.0
        ],
        [
         "B102",
         "C4494",
         45800.0
        ],
        [
         "B102",
         "C4512",
         61500.0
        ],
        [
         "B102",
         "C4536",
         89700.0
        ],
        [
         "B102",
         "C4540",
         51900.0
        ],
        [
         "B102",
         "C5981",
         64400.0
        ],
        [
         "B102",
         "C5986",
         30500.0
        ],
        [
         "B102",
         "C6031",
         46400.0
        ],
        [
         "B102",
         "C6058",
         34500.0
        ],
        [
         "B102",
         "C6103",
         34900.0
        ],
        [
         "B102",
         "C6137",
         37200.0
        ],
        [
         "B104",
         "C4137",
         52000.0
        ],
        [
         "B104",
         "C4199",
         68300.0
        ],
        [
         "B104",
         "C4387",
         32900.0
        ],
        [
         "B104",
         "C4410",
         45900.0
        ],
        [
         "B104",
         "C4426",
         8700.0
        ],
        [
         "B104",
         "C4543",
         80300.0
        ],
        [
         "B104",
         "C5032",
         72400.0
        ],
        [
         "B104",
         "C5078",
         69700.0
        ],
        [
         "B104",
         "C5158",
         89600.0
        ],
        [
         "B104",
         "C5200",
         8400.0
        ],
        [
         "B104",
         "C5239",
         67900.0
        ],
        [
         "B104",
         "C5279",
         86900.0
        ],
        [
         "B104",
         "C5373",
         2000.0
        ],
        [
         "B104",
         "C5406",
         52800.0
        ],
        [
         "B104",
         "C5427",
         52500.0
        ],
        [
         "B104",
         "C5450",
         95900.0
        ],
        [
         "B104",
         "C5525",
         79000.0
        ],
        [
         "B104",
         "C5551",
         5900.0
        ],
        [
         "B105",
         "C4278",
         31500.0
        ],
        [
         "B105",
         "C4297",
         72900.0
        ],
        [
         "B105",
         "C4311",
         86000.0
        ],
        [
         "B105",
         "C4363",
         95500.0
        ],
        [
         "B105",
         "C4372",
         27900.0
        ],
        [
         "B105",
         "C4378",
         83100.0
        ],
        [
         "B105",
         "C4818",
         11100.0
        ],
        [
         "B105",
         "C4960",
         24300.0
        ],
        [
         "B105",
         "C4978",
         28400.0
        ],
        [
         "B105",
         "C5107",
         19500.0
        ],
        [
         "B105",
         "C5111",
         40600.0
        ],
        [
         "B105",
         "C5118",
         61700.0
        ],
        [
         "B105",
         "C6033",
         42400.0
        ],
        [
         "B105",
         "C6044",
         60300.0
        ],
        [
         "B105",
         "C6147",
         64700.0
        ],
        [
         "B105",
         "C6213",
         8800.0
        ],
        [
         "B105",
         "C6220",
         37500.0
        ],
        [
         "B105",
         "C6223",
         90600.0
        ],
        [
         "B105",
         "C6868",
         54700.0
        ],
        [
         "B105",
         "C6907",
         63000.0
        ],
        [
         "B105",
         "C6911",
         14000.0
        ],
        [
         "B105",
         "C7025",
         10600.0
        ],
        [
         "B105",
         "C7031",
         40200.0
        ],
        [
         "B105",
         "C7069",
         2300.0
        ],
        [
         "B106",
         "C3730",
         21600.0
        ],
        [
         "B106",
         "C3776",
         9700.0
        ],
        [
         "B106",
         "C3805",
         49100.0
        ],
        [
         "B106",
         "C3852",
         95700.0
        ],
        [
         "B106",
         "C3916",
         66900.0
        ],
        [
         "B106",
         "C3931",
         60100.0
        ],
        [
         "B106",
         "C4926",
         97100.0
        ],
        [
         "B106",
         "C4946",
         34800.0
        ],
        [
         "B106",
         "C4958",
         90200.0
        ],
        [
         "B106",
         "C5033",
         69000.0
        ],
        [
         "B106",
         "C5059",
         67200.0
        ],
        [
         "B106",
         "C5087",
         10500.0
        ],
        [
         "B106",
         "C5156",
         56100.0
        ],
        [
         "B106",
         "C5171",
         75800.0
        ],
        [
         "B106",
         "C5187",
         94400.0
        ],
        [
         "B106",
         "C5192",
         35700.0
        ],
        [
         "B106",
         "C5202",
         56400.0
        ],
        [
         "B106",
         "C5253",
         80900.0
        ],
        [
         "B107",
         "C4259",
         17100.0
        ],
        [
         "B107",
         "C4325",
         35400.0
        ],
        [
         "B107",
         "C4383",
         62400.0
        ],
        [
         "B107",
         "C4392",
         85800.0
        ],
        [
         "B107",
         "C4411",
         2100.0
        ],
        [
         "B107",
         "C4462",
         25600.0
        ],
        [
         "B107",
         "C4739",
         53400.0
        ],
        [
         "B107",
         "C4770",
         74100.0
        ],
        [
         "B107",
         "C4808",
         93800.0
        ],
        [
         "B107",
         "C4918",
         26300.0
        ],
        [
         "B107",
         "C4989",
         94900.0
        ],
        [
         "B107",
         "C4993",
         21500.0
        ],
        [
         "B108",
         "C5528",
         38900.0
        ],
        [
         "B108",
         "C5595",
         18900.0
        ],
        [
         "B108",
         "C5607",
         8200.0
        ],
        [
         "B108",
         "C5644",
         73800.0
        ],
        [
         "B108",
         "C5662",
         19400.0
        ],
        [
         "B108",
         "C5664",
         83400.0
        ],
        [
         "B108",
         "C5671",
         84300.0
        ],
        [
         "B108",
         "C5687",
         13500.0
        ],
        [
         "B108",
         "C5831",
         49200.0
        ],
        [
         "B108",
         "C5843",
         73500.0
        ],
        [
         "B108",
         "C5877",
         28100.0
        ],
        [
         "B108",
         "C5917",
         1100.0
        ],
        [
         "B109",
         "C6496",
         12000.0
        ],
        [
         "B109",
         "C6515",
         63200.0
        ],
        [
         "B109",
         "C6589",
         72100.0
        ],
        [
         "B109",
         "C6592",
         73400.0
        ],
        [
         "B109",
         "C6732",
         23200.0
        ],
        [
         "B109",
         "C6852",
         60600.0
        ],
        [
         "B110",
         "C6190",
         86500.0
        ],
        [
         "B110",
         "C6199",
         98000.0
        ],
        [
         "B110",
         "C6329",
         71000.0
        ],
        [
         "B110",
         "C6334",
         68100.0
        ],
        [
         "B110",
         "C6414",
         35200.0
        ],
        [
         "B110",
         "C6432",
         92000.0
        ],
        [
         "B105",
         "C7864",
         70700.0
        ],
        [
         "B105",
         "C7878",
         75100.0
        ],
        [
         "B105",
         "C7891",
         86100.0
        ],
        [
         "B106",
         "C3102",
         49300.0
        ],
        [
         "B106",
         "C3168",
         3500.0
        ],
        [
         "B106",
         "C3250",
         94200.0
        ],
        [
         "B110",
         "C3523",
         3300.0
        ],
        [
         "B110",
         "C3569",
         98900.0
        ],
        [
         "B110",
         "C3608",
         14700.0
        ],
        [
         "B110",
         "C3636",
         18700.0
        ],
        [
         "B110",
         "C3741",
         61700.0
        ],
        [
         "B110",
         "C3788",
         46700.0
        ],
        [
         "B101",
         "C4912",
         85600.0
        ],
        [
         "B101",
         "C4913",
         61700.0
        ],
        [
         "B101",
         "C4960",
         23700.0
        ],
        [
         "B101",
         "C5057",
         26900.0
        ],
        [
         "B101",
         "C5093",
         24700.0
        ],
        [
         "B101",
         "C5122",
         26400.0
        ],
        [
         "B101",
         "C6704",
         89800.0
        ],
        [
         "B101",
         "C6783",
         71900.0
        ],
        [
         "B101",
         "C6801",
         25300.0
        ],
        [
         "B101",
         "C6843",
         13200.0
        ],
        [
         "B101",
         "C6849",
         92200.0
        ],
        [
         "B101",
         "C6870",
         84600.0
        ],
        [
         "B102",
         "C3046",
         2000.0
        ],
        [
         "B102",
         "C3080",
         12000.0
        ],
        [
         "B102",
         "C3195",
         16500.0
        ],
        [
         "B102",
         "C3218",
         18200.0
        ],
        [
         "B102",
         "C3231",
         80500.0
        ],
        [
         "B102",
         "C3243",
         15300.0
        ],
        [
         "B102",
         "C4022",
         87400.0
        ],
        [
         "B102",
         "C4047",
         43000.0
        ],
        [
         "B102",
         "C4086",
         44600.0
        ],
        [
         "B102",
         "C4111",
         77300.0
        ],
        [
         "B102",
         "C4155",
         55200.0
        ],
        [
         "B102",
         "C4256",
         53400.0
        ],
        [
         "B102",
         "C5327",
         53500.0
        ],
        [
         "B102",
         "C5337",
         30800.0
        ],
        [
         "B102",
         "C5350",
         32500.0
        ],
        [
         "B102",
         "C5360",
         55500.0
        ],
        [
         "B102",
         "C5526",
         58000.0
        ],
        [
         "B102",
         "C5572",
         99900.0
        ],
        [
         "B102",
         "C6659",
         18600.0
        ],
        [
         "B102",
         "C6870",
         16300.0
        ],
        [
         "B102",
         "C6905",
         5100.0
        ],
        [
         "B102",
         "C6951",
         38200.0
        ],
        [
         "B102",
         "C6993",
         71900.0
        ],
        [
         "B102",
         "C7021",
         20900.0
        ],
        [
         "B102",
         "C7660",
         20600.0
        ],
        [
         "B102",
         "C7671",
         66300.0
        ],
        [
         "B102",
         "C7675",
         35800.0
        ],
        [
         "B102",
         "C7701",
         94200.0
        ],
        [
         "B102",
         "C7715",
         10000.0
        ],
        [
         "B102",
         "C7721",
         97500.0
        ],
        [
         "B102",
         "C7979",
         78300.0
        ],
        [
         "B102",
         "C7995",
         34000.0
        ],
        [
         "B103",
         "C3011",
         68300.0
        ],
        [
         "B103",
         "C3033",
         68700.0
        ],
        [
         "B103",
         "C3043",
         84000.0
        ],
        [
         "B103",
         "C3051",
         16900.0
        ],
        [
         "B103",
         "C4603",
         27600.0
        ],
        [
         "B103",
         "C4613",
         13000.0
        ],
        [
         "B103",
         "C4709",
         84100.0
        ],
        [
         "B103",
         "C4719",
         5800.0
        ],
        [
         "B103",
         "C4761",
         46000.0
        ],
        [
         "B103",
         "C4765",
         31100.0
        ],
        [
         "B103",
         "C5781",
         50400.0
        ],
        [
         "B103",
         "C5801",
         60700.0
        ],
        [
         "B103",
         "C5815",
         12000.0
        ],
        [
         "B103",
         "C5864",
         52900.0
        ],
        [
         "B103",
         "C5943",
         21800.0
        ],
        [
         "B103",
         "C5971",
         29200.0
        ],
        [
         "B103",
         "C6222",
         23700.0
        ],
        [
         "B103",
         "C6338",
         23800.0
        ],
        [
         "B103",
         "C6365",
         99400.0
        ],
        [
         "B103",
         "C6375",
         83500.0
        ],
        [
         "B103",
         "C6408",
         41500.0
        ],
        [
         "B103",
         "C6449",
         36400.0
        ],
        [
         "B103",
         "C6470",
         36900.0
        ],
        [
         "B103",
         "C6514",
         25500.0
        ],
        [
         "B103",
         "C6617",
         17600.0
        ],
        [
         "B103",
         "C6648",
         40800.0
        ],
        [
         "B103",
         "C6682",
         31600.0
        ],
        [
         "B103",
         "C6722",
         85800.0
        ],
        [
         "B103",
         "C7526",
         3400.0
        ],
        [
         "B103",
         "C7532",
         36700.0
        ],
        [
         "B103",
         "C7591",
         14700.0
        ],
        [
         "B103",
         "C7608",
         69000.0
        ],
        [
         "B103",
         "C7662",
         7600.0
        ],
        [
         "B103",
         "C7682",
         78500.0
        ],
        [
         "B104",
         "C6364",
         11200.0
        ],
        [
         "B104",
         "C6384",
         76100.0
        ],
        [
         "B104",
         "C6430",
         80200.0
        ],
        [
         "B104",
         "C6445",
         68700.0
        ],
        [
         "B104",
         "C6447",
         37800.0
        ],
        [
         "B104",
         "C6486",
         45500.0
        ],
        [
         "B104",
         "C6498",
         20400.0
        ],
        [
         "B104",
         "C6500",
         49500.0
        ],
        [
         "B104",
         "C6512",
         42100.0
        ],
        [
         "B104",
         "C6531",
         77500.0
        ],
        [
         "B104",
         "C6547",
         33300.0
        ],
        [
         "B104",
         "C6575",
         21900.0
        ],
        [
         "B104",
         "C6904",
         71800.0
        ],
        [
         "B104",
         "C6962",
         30800.0
        ],
        [
         "B104",
         "C6974",
         61700.0
        ],
        [
         "B104",
         "C7014",
         16300.0
        ],
        [
         "B104",
         "C7031",
         5000.0
        ],
        [
         "B104",
         "C7194",
         81100.0
        ],
        [
         "B105",
         "C7618",
         28600.0
        ],
        [
         "B105",
         "C7672",
         30600.0
        ],
        [
         "B105",
         "C7699",
         67700.0
        ],
        [
         "B105",
         "C7715",
         14000.0
        ],
        [
         "B105",
         "C7739",
         46800.0
        ],
        [
         "B105",
         "C7781",
         91800.0
        ],
        [
         "B106",
         "C4613",
         1300.0
        ],
        [
         "B106",
         "C4618",
         73800.0
        ],
        [
         "B106",
         "C4754",
         25400.0
        ],
        [
         "B106",
         "C4858",
         70100.0
        ],
        [
         "B106",
         "C4896",
         95800.0
        ],
        [
         "B106",
         "C4905",
         90300.0
        ],
        [
         "B106",
         "C5715",
         92900.0
        ],
        [
         "B106",
         "C5738",
         8200.0
        ],
        [
         "B106",
         "C5779",
         48500.0
        ],
        [
         "B106",
         "C5786",
         67100.0
        ],
        [
         "B106",
         "C5788",
         33500.0
        ],
        [
         "B106",
         "C5800",
         80500.0
        ],
        [
         "B106",
         "C5817",
         20000.0
        ],
        [
         "B106",
         "C5835",
         53300.0
        ],
        [
         "B106",
         "C5853",
         35400.0
        ],
        [
         "B106",
         "C5922",
         54700.0
        ],
        [
         "B106",
         "C5931",
         72600.0
        ],
        [
         "B106",
         "C5961",
         63700.0
        ],
        [
         "B106",
         "C6844",
         28000.0
        ],
        [
         "B106",
         "C6883",
         97100.0
        ],
        [
         "B106",
         "C6934",
         77700.0
        ],
        [
         "B106",
         "C6951",
         75400.0
        ],
        [
         "B106",
         "C6990",
         18100.0
        ],
        [
         "B106",
         "C7012",
         37900.0
        ],
        [
         "B107",
         "C3712",
         71100.0
        ],
        [
         "B107",
         "C3784",
         77700.0
        ],
        [
         "B107",
         "C3812",
         22100.0
        ],
        [
         "B107",
         "C3895",
         42600.0
        ],
        [
         "B107",
         "C3960",
         23000.0
        ],
        [
         "B107",
         "C3982",
         48100.0
        ],
        [
         "B107",
         "C5832",
         3300.0
        ],
        [
         "B107",
         "C5875",
         99100.0
        ],
        [
         "B107",
         "C5882",
         43200.0
        ],
        [
         "B107",
         "C5900",
         4800.0
        ],
        [
         "B107",
         "C5917",
         66500.0
        ],
        [
         "B107",
         "C5970",
         61800.0
        ],
        [
         "B107",
         "C5978",
         20600.0
        ],
        [
         "B107",
         "C6043",
         36500.0
        ],
        [
         "B107",
         "C6049",
         28200.0
        ],
        [
         "B107",
         "C6210",
         31100.0
        ],
        [
         "B107",
         "C6258",
         40800.0
        ],
        [
         "B107",
         "C6273",
         62000.0
        ],
        [
         "B108",
         "C7979",
         81100.0
        ],
        [
         "B109",
         "C3008",
         26000.0
        ],
        [
         "B109",
         "C3083",
         43300.0
        ],
        [
         "B109",
         "C3089",
         99100.0
        ],
        [
         "B109",
         "C3110",
         29500.0
        ],
        [
         "B109",
         "C3181",
         64200.0
        ],
        [
         "B109",
         "C3525",
         60400.0
        ],
        [
         "B109",
         "C3558",
         43700.0
        ],
        [
         "B109",
         "C3584",
         95200.0
        ],
        [
         "B109",
         "C3611",
         6400.0
        ],
        [
         "B109",
         "C3709",
         11000.0
        ],
        [
         "B109",
         "C3795",
         6300.0
        ],
        [
         "B109",
         "C5409",
         12700.0
        ],
        [
         "B109",
         "C5446",
         89500.0
        ],
        [
         "B109",
         "C5458",
         9500.0
        ],
        [
         "B109",
         "C5498",
         67700.0
        ],
        [
         "B109",
         "C5576",
         61300.0
        ],
        [
         "B109",
         "C5611",
         44900.0
        ],
        [
         "B109",
         "C5696",
         99100.0
        ],
        [
         "B109",
         "C5713",
         61500.0
        ],
        [
         "B109",
         "C5731",
         89900.0
        ],
        [
         "B109",
         "C5753",
         96300.0
        ],
        [
         "B109",
         "C5759",
         54500.0
        ],
        [
         "B109",
         "C5814",
         71500.0
        ],
        [
         "B109",
         "C7216",
         98200.0
        ],
        [
         "B109",
         "C7278",
         15300.0
        ],
        [
         "B109",
         "C7304",
         18400.0
        ],
        [
         "B109",
         "C7323",
         13900.0
        ],
        [
         "B109",
         "C7347",
         96700.0
        ],
        [
         "B109",
         "C7372",
         91900.0
        ],
        [
         "B109",
         "C7868",
         83900.0
        ],
        [
         "B109",
         "C7891",
         52700.0
        ],
        [
         "B109",
         "C7935",
         66200.0
        ],
        [
         "B110",
         "C3040",
         97400.0
        ],
        [
         "B110",
         "C3047",
         39000.0
        ],
        [
         "B110",
         "C3073",
         98700.0
        ],
        [
         "B110",
         "C3956",
         52100.0
        ],
        [
         "B110",
         "C3962",
         60500.0
        ],
        [
         "B110",
         "C4069",
         17500.0
        ],
        [
         "B110",
         "C4078",
         41000.0
        ],
        [
         "B110",
         "C4079",
         73400.0
        ],
        [
         "B110",
         "C4080",
         62100.0
        ],
        [
         "B104",
         "C7412",
         5000.0
        ],
        [
         "B104",
         "C7473",
         33700.0
        ],
        [
         "B104",
         "C7524",
         7800.0
        ],
        [
         "B104",
         "C7525",
         98300.0
        ],
        [
         "B104",
         "C7577",
         6500.0
        ],
        [
         "B104",
         "C7630",
         20500.0
        ],
        [
         "B110",
         "C6535",
         77700.0
        ],
        [
         "B110",
         "C6538",
         55100.0
        ],
        [
         "B110",
         "C6679",
         78400.0
        ],
        [
         "B110",
         "C6696",
         58200.0
        ],
        [
         "B110",
         "C6705",
         26200.0
        ],
        [
         "B110",
         "C6755",
         95700.0
        ],
        [
         "B110",
         "C6868",
         500.0
        ],
        [
         "B110",
         "C6893",
         42300.0
        ],
        [
         "B110",
         "C6949",
         80400.0
        ],
        [
         "B110",
         "C6960",
         98000.0
        ],
        [
         "B110",
         "C6987",
         71800.0
        ],
        [
         "B110",
         "C6990",
         64700.0
        ],
        [
         "B101",
         "C4356",
         43200.0
        ],
        [
         "B101",
         "C4391",
         99300.0
        ],
        [
         "B101",
         "C4393",
         82100.0
        ],
        [
         "B101",
         "C4407",
         60600.0
        ],
        [
         "B101",
         "C4425",
         97000.0
        ],
        [
         "B101",
         "C4440",
         11600.0
        ],
        [
         "B101",
         "C4562",
         23300.0
        ],
        [
         "B101",
         "C4587",
         56400.0
        ],
        [
         "B101",
         "C4611",
         27300.0
        ],
        [
         "B101",
         "C4653",
         98400.0
        ],
        [
         "B101",
         "C4749",
         6600.0
        ],
        [
         "B101",
         "C4781",
         39900.0
        ],
        [
         "B101",
         "C7117",
         99000.0
        ],
        [
         "B101",
         "C7160",
         11100.0
        ],
        [
         "B101",
         "C7176",
         42000.0
        ],
        [
         "B101",
         "C7200",
         41200.0
        ],
        [
         "B101",
         "C7232",
         62300.0
        ],
        [
         "B101",
         "C7233",
         21200.0
        ],
        [
         "B103",
         "C4379",
         25200.0
        ],
        [
         "B103",
         "C4382",
         81500.0
        ],
        [
         "B103",
         "C4387",
         300.0
        ],
        [
         "B103",
         "C4529",
         27600.0
        ],
        [
         "B103",
         "C4552",
         87700.0
        ],
        [
         "B103",
         "C4582",
         69800.0
        ],
        [
         "B104",
         "C5584",
         45500.0
        ],
        [
         "B104",
         "C5630",
         51600.0
        ],
        [
         "B104",
         "C5672",
         35300.0
        ],
        [
         "B104",
         "C5674",
         94500.0
        ],
        [
         "B104",
         "C5693",
         45000.0
        ],
        [
         "B104",
         "C5731",
         41100.0
        ],
        [
         "B104",
         "C6119",
         83400.0
        ],
        [
         "B104",
         "C6184",
         67600.0
        ],
        [
         "B104",
         "C6242",
         27400.0
        ],
        [
         "B104",
         "C6275",
         45400.0
        ],
        [
         "B104",
         "C6287",
         58200.0
        ],
        [
         "B104",
         "C6349",
         64900.0
        ],
        [
         "B105",
         "C4050",
         73400.0
        ],
        [
         "B105",
         "C4070",
         9400.0
        ],
        [
         "B105",
         "C4208",
         18400.0
        ],
        [
         "B105",
         "C4228",
         2500.0
        ],
        [
         "B105",
         "C4244",
         91400.0
        ],
        [
         "B105",
         "C4248",
         24300.0
        ],
        [
         "B105",
         "C6622",
         30200.0
        ],
        [
         "B105",
         "C6642",
         81500.0
        ],
        [
         "B105",
         "C6662",
         92400.0
        ],
        [
         "B105",
         "C6779",
         36000.0
        ],
        [
         "B105",
         "C6782",
         74900.0
        ],
        [
         "B105",
         "C6846",
         22200.0
        ],
        [
         "B106",
         "C4087",
         5900.0
        ],
        [
         "B106",
         "C4089",
         81900.0
        ],
        [
         "B106",
         "C4094",
         85000.0
        ],
        [
         "B106",
         "C4223",
         69100.0
        ],
        [
         "B106",
         "C4257",
         70300.0
        ],
        [
         "B106",
         "C4295",
         58000.0
        ],
        [
         "B106",
         "C7714",
         77000.0
        ],
        [
         "B106",
         "C7772",
         35000.0
        ],
        [
         "B106",
         "C7781",
         44600.0
        ],
        [
         "B106",
         "C7783",
         37300.0
        ],
        [
         "B106",
         "C7795",
         13700.0
        ],
        [
         "B106",
         "C7884",
         67400.0
        ],
        [
         "B107",
         "C6289",
         56000.0
        ],
        [
         "B107",
         "C6329",
         56500.0
        ],
        [
         "B107",
         "C6331",
         52300.0
        ],
        [
         "B107",
         "C6348",
         91500.0
        ],
        [
         "B107",
         "C6420",
         74100.0
        ],
        [
         "B107",
         "C6482",
         14600.0
        ],
        [
         "B107",
         "C5227",
         10500.0
        ],
        [
         "B107",
         "C5238",
         47000.0
        ],
        [
         "B107",
         "C5256",
         80000.0
        ],
        [
         "B107",
         "C5417",
         63800.0
        ],
        [
         "B107",
         "C5457",
         75300.0
        ],
        [
         "B107",
         "C5462",
         58500.0
        ],
        [
         "B107",
         "C7284",
         87600.0
        ],
        [
         "B107",
         "C7317",
         12500.0
        ],
        [
         "B107",
         "C7337",
         85200.0
        ],
        [
         "B107",
         "C7362",
         23400.0
        ],
        [
         "B107",
         "C7413",
         95800.0
        ],
        [
         "B107",
         "C7417",
         49400.0
        ],
        [
         "B107",
         "C7924",
         7000.0
        ],
        [
         "B107",
         "C7958",
         40600.0
        ],
        [
         "B107",
         "C7996",
         43300.0
        ],
        [
         "B108",
         "C3020",
         56400.0
        ],
        [
         "B108",
         "C3023",
         36200.0
        ],
        [
         "B108",
         "C3052",
         28200.0
        ],
        [
         "B108",
         "C3590",
         80500.0
        ],
        [
         "B108",
         "C3597",
         71200.0
        ],
        [
         "B108",
         "C3692",
         88700.0
        ],
        [
         "B108",
         "C3693",
         4900.0
        ],
        [
         "B108",
         "C3699",
         47900.0
        ],
        [
         "B108",
         "C3704",
         33000.0
        ],
        [
         "B108",
         "C5148",
         38500.0
        ],
        [
         "B108",
         "C5225",
         2200.0
        ],
        [
         "B108",
         "C5245",
         900.0
        ],
        [
         "B108",
         "C5261",
         56500.0
        ],
        [
         "B108",
         "C5276",
         25500.0
        ],
        [
         "B108",
         "C5310",
         30400.0
        ],
        [
         "B108",
         "C7337",
         43300.0
        ]
       ],
       "datasetInfos": [],
       "dbfsResultPath": null,
       "isJsonSchema": true,
       "metadata": {},
       "overflow": true,
       "plotOptions": {
        "customPlotOptions": {},
        "displayType": "table",
        "pivotAggregation": null,
        "pivotColumns": null,
        "xColumns": null,
        "yColumns": null
       },
       "removedWidgets": [],
       "schema": [
        {
         "metadata": "{}",
         "name": "branch_id",
         "type": "\"string\""
        },
        {
         "metadata": "{}",
         "name": "customer_id",
         "type": "\"string\""
        },
        {
         "metadata": "{}",
         "name": "highest_amount",
         "type": "\"double\""
        }
       ],
       "type": "table"
      }
     },
     "output_type": "display_data"
    },
    {
     "output_type": "display_data",
     "data": {
      "text/plain": [
       "Databricks visualization. Run in Databricks to view."
      ]
     },
     "metadata": {
      "application/vnd.databricks.v1.subcommand+json": {
       "baseErrorDetails": null,
       "bindings": {},
       "collapsed": false,
       "command": "# Databricks no-op command",
       "commandTitle": "Highest amount",
       "commandType": "auto",
       "commandVersion": 0,
       "commentThread": [],
       "commentsVisible": false,
       "contentSha256Hex": null,
       "customPlotOptions": {
        "redashChart": [
         {
          "key": "type",
          "value": "CHART"
         },
         {
          "key": "options",
          "value": {
           "alignYAxesAtZero": true,
           "coefficient": 1,
           "columnConfigurationMap": {
            "series": {
             "column": "branch_id",
             "id": "column_30613d1a75"
            },
            "x": {
             "column": "customer_id",
             "id": "column_30613d1a71"
            },
            "y": [
             {
              "column": "highest_amount",
              "id": "column_30613d1a73",
              "transform": "SUM"
             }
            ]
           },
           "dateTimeFormat": "DD/MM/YYYY HH:mm",
           "direction": {
            "type": "counterclockwise"
           },
           "error_y": {
            "type": "data",
            "visible": true
           },
           "globalSeriesType": "column",
           "isAggregationOn": true,
           "legend": {
            "traceorder": "normal"
           },
           "missingValuesAsZero": true,
           "numberFormat": "0,0.[00000]",
           "percentFormat": "0[.]00%",
           "series": {
            "error_y": {
             "type": "data",
             "visible": true
            },
            "stacking": null
           },
           "seriesOptions": {
            "column_30613d1a73": {
             "type": "column",
             "yAxis": 0
            }
           },
           "showDataLabels": false,
           "sizemode": "diameter",
           "sortX": true,
           "sortY": true,
           "swappedAxes": false,
           "textFormat": "",
           "useAggregationsUi": true,
           "valuesOptions": {},
           "version": 2,
           "xAxis": {
            "labels": {
             "enabled": true
            },
            "type": "-"
           },
           "yAxis": [
            {
             "type": "-"
            },
            {
             "opposite": true,
             "type": "-"
            }
           ]
          }
         }
        ]
       },
       "datasetPreviewNameToCmdIdMap": {},
       "diffDeletes": [],
       "diffInserts": [],
       "displayType": "redashChart",
       "error": null,
       "errorDetails": null,
       "errorSummary": null,
       "errorTraceType": null,
       "finishTime": 0,
       "globalVars": {},
       "guid": "",
       "height": "auto",
       "hideCommandCode": false,
       "hideCommandResult": false,
       "iPythonMetadata": null,
       "inputWidgets": {},
       "isLockedInExamMode": false,
       "latestUser": "a user",
       "latestUserId": null,
       "listResultMetadata": null,
       "metadata": {},
       "nuid": "03e6891a-bea0-4ae6-8064-34e7ef1faba7",
       "origId": 0,
       "parentHierarchy": [],
       "pivotAggregation": null,
       "pivotColumns": null,
       "position": 11.0,
       "resultDbfsErrorMessage": null,
       "resultDbfsStatus": "INLINED_IN_TREE",
       "results": null,
       "showCommandTitle": false,
       "startTime": 0,
       "state": "input",
       "streamStates": {},
       "subcommandOptions": {
        "queryPlan": {
         "groups": [
          {
           "column": "customer_id",
           "type": "column"
          },
          {
           "column": "branch_id",
           "type": "column"
          }
         ],
         "selects": [
          {
           "column": "customer_id",
           "type": "column"
          },
          {
           "alias": "column_30613d1a73",
           "args": [
            {
             "column": "highest_amount",
             "type": "column"
            }
           ],
           "function": "SUM",
           "type": "function"
          },
          {
           "column": "branch_id",
           "type": "column"
          }
         ]
        }
       },
       "submitTime": 0,
       "subtype": "tableResultSubCmd.visualization",
       "tableResultIndex": 0,
       "useConsistentColors": false,
       "version": "CommandV1",
       "width": "auto",
       "workflows": [],
       "xColumns": null,
       "yColumns": null
      }
     },
     "output_type": "display_data"
    }
   ],
   "source": [
    "high_trans = spark.readStream.table(\"Gold_layer.high_trans_by_branch_cus\")\n",
    "high_trans.display()"
   ]
  },
  {
   "cell_type": "markdown",
   "metadata": {
    "application/vnd.databricks.v1+cell": {
     "cellMetadata": {},
     "inputWidgets": {},
     "nuid": "59bfd08a-7078-4946-9a95-7da03c81900a",
     "showTitle": false,
     "title": ""
    }
   },
   "source": [
    "## Total transaction amount by branch"
   ]
  },
  {
   "cell_type": "markdown",
   "metadata": {
    "application/vnd.databricks.v1+cell": {
     "cellMetadata": {},
     "inputWidgets": {},
     "nuid": "a73936ae-f773-46fb-ba49-6c48641181f7",
     "showTitle": false,
     "title": ""
    }
   },
   "source": [
    "<h5>Showing the proportion of total amount contributed by each branch.</h5>"
   ]
  },
  {
   "cell_type": "code",
   "execution_count": 0,
   "metadata": {
    "application/vnd.databricks.v1+cell": {
     "cellMetadata": {
      "byteLimit": 2048000,
      "rowLimit": 10000
     },
     "inputWidgets": {},
     "nuid": "0235441c-a57f-4b83-84b7-ae7ce103a6da",
     "showTitle": false,
     "title": ""
    }
   },
   "outputs": [
    {
     "output_type": "display_data",
     "data": {
      "text/html": [
       "<style scoped>\n",
       "  .table-result-container {\n",
       "    max-height: 300px;\n",
       "    overflow: auto;\n",
       "  }\n",
       "  table, th, td {\n",
       "    border: 1px solid black;\n",
       "    border-collapse: collapse;\n",
       "  }\n",
       "  th, td {\n",
       "    padding: 5px;\n",
       "  }\n",
       "  th {\n",
       "    text-align: left;\n",
       "  }\n",
       "</style><div class='table-result-container'><table class='table-result'><thead style='background-color: white'><tr><th>branch_id</th><th>total_amount</th></tr></thead><tbody><tr><td>B101</td><td>5606300.0</td></tr><tr><td>B102</td><td>6424700.0</td></tr><tr><td>B103</td><td>5879800.0</td></tr><tr><td>B105</td><td>6577300.0</td></tr><tr><td>B106</td><td>6223000.0</td></tr><tr><td>B107</td><td>5792300.0</td></tr><tr><td>B108</td><td>6872500.0</td></tr><tr><td>B109</td><td>5695500.0</td></tr><tr><td>B110</td><td>6684600.0</td></tr><tr><td>B104</td><td>6574100.0</td></tr></tbody></table></div>"
      ]
     },
     "metadata": {
      "application/vnd.databricks.v1+output": {
       "addedWidgets": {},
       "aggData": [],
       "aggError": "",
       "aggOverflow": false,
       "aggSchema": [],
       "aggSeriesLimitReached": false,
       "aggType": "",
       "arguments": {},
       "columnCustomDisplayInfos": {},
       "data": [
        [
         "B101",
         5606300.0
        ],
        [
         "B102",
         6424700.0
        ],
        [
         "B103",
         5879800.0
        ],
        [
         "B105",
         6577300.0
        ],
        [
         "B106",
         6223000.0
        ],
        [
         "B107",
         5792300.0
        ],
        [
         "B108",
         6872500.0
        ],
        [
         "B109",
         5695500.0
        ],
        [
         "B110",
         6684600.0
        ],
        [
         "B104",
         6574100.0
        ]
       ],
       "datasetInfos": [],
       "dbfsResultPath": null,
       "isJsonSchema": true,
       "metadata": {
        "isDbfsCommandResult": false
       },
       "overflow": false,
       "plotOptions": {
        "customPlotOptions": {},
        "displayType": "table",
        "pivotAggregation": null,
        "pivotColumns": null,
        "xColumns": null,
        "yColumns": null
       },
       "removedWidgets": [],
       "schema": [
        {
         "metadata": "{}",
         "name": "branch_id",
         "type": "\"string\""
        },
        {
         "metadata": "{}",
         "name": "total_amount",
         "type": "\"double\""
        }
       ],
       "type": "table"
      }
     },
     "output_type": "display_data"
    },
    {
     "output_type": "display_data",
     "data": {
      "text/plain": [
       "Databricks visualization. Run in Databricks to view."
      ]
     },
     "metadata": {
      "application/vnd.databricks.v1.subcommand+json": {
       "baseErrorDetails": null,
       "bindings": {},
       "collapsed": false,
       "command": "# Databricks no-op command",
       "commandTitle": "Visualization 1",
       "commandType": "auto",
       "commandVersion": 0,
       "commentThread": [],
       "commentsVisible": false,
       "contentSha256Hex": null,
       "customPlotOptions": {
        "redashChart": [
         {
          "key": "type",
          "value": "CHART"
         },
         {
          "key": "options",
          "value": {
           "alignYAxesAtZero": true,
           "coefficient": 1,
           "columnConfigurationMap": {
            "x": {
             "column": "branch_id",
             "id": "column_30613d1a68"
            },
            "y": [
             {
              "column": "total_amount",
              "id": "column_30613d1a69",
              "transform": "SUM"
             }
            ]
           },
           "dateTimeFormat": "DD/MM/YYYY HH:mm",
           "direction": {
            "type": "counterclockwise"
           },
           "error_y": {
            "type": "data",
            "visible": true
           },
           "globalSeriesType": "pie",
           "legend": {
            "traceorder": "normal"
           },
           "missingValuesAsZero": true,
           "numberFormat": "0,0.[00000]",
           "percentFormat": "0[.]00%",
           "series": {
            "error_y": {
             "type": "data",
             "visible": true
            },
            "stacking": null
           },
           "seriesOptions": {
            "column_30613d1a69": {
             "name": "total_amount",
             "type": "pie",
             "yAxis": 0
            }
           },
           "showDataLabels": true,
           "sizemode": "diameter",
           "sortX": true,
           "sortY": true,
           "swappedAxes": false,
           "textFormat": "",
           "useAggregationsUi": true,
           "valuesOptions": {},
           "version": 2,
           "xAxis": {
            "labels": {
             "enabled": true
            },
            "type": "-"
           },
           "yAxis": [
            {
             "type": "-"
            },
            {
             "opposite": true,
             "type": "-"
            }
           ]
          }
         }
        ]
       },
       "datasetPreviewNameToCmdIdMap": {},
       "diffDeletes": [],
       "diffInserts": [],
       "displayType": "redashChart",
       "error": null,
       "errorDetails": null,
       "errorSummary": null,
       "errorTraceType": null,
       "finishTime": 0,
       "globalVars": {},
       "guid": "",
       "height": "auto",
       "hideCommandCode": false,
       "hideCommandResult": false,
       "iPythonMetadata": null,
       "inputWidgets": {},
       "isLockedInExamMode": false,
       "latestUser": "a user",
       "latestUserId": null,
       "listResultMetadata": null,
       "metadata": {},
       "nuid": "afd9cb14-f0ff-4a6a-869d-f166114410bd",
       "origId": 0,
       "parentHierarchy": [],
       "pivotAggregation": null,
       "pivotColumns": null,
       "position": 12.0,
       "resultDbfsErrorMessage": null,
       "resultDbfsStatus": "INLINED_IN_TREE",
       "results": null,
       "showCommandTitle": false,
       "startTime": 0,
       "state": "input",
       "streamStates": {},
       "subcommandOptions": {
        "queryPlan": {
         "groups": [
          {
           "column": "branch_id",
           "type": "column"
          }
         ],
         "selects": [
          {
           "column": "branch_id",
           "type": "column"
          },
          {
           "alias": "column_30613d1a69",
           "args": [
            {
             "column": "total_amount",
             "type": "column"
            }
           ],
           "function": "SUM",
           "type": "function"
          }
         ]
        }
       },
       "submitTime": 0,
       "subtype": "tableResultSubCmd.visualization",
       "tableResultIndex": 0,
       "useConsistentColors": false,
       "version": "CommandV1",
       "width": "auto",
       "workflows": [],
       "xColumns": null,
       "yColumns": null
      }
     },
     "output_type": "display_data"
    }
   ],
   "source": [
    "Total_trans = spark.readStream.table(\"Gold_layer.tot_trans_amt_by_branch\")\n",
    "Total_trans.display()"
   ]
  },
  {
   "cell_type": "markdown",
   "metadata": {
    "application/vnd.databricks.v1+cell": {
     "cellMetadata": {},
     "inputWidgets": {},
     "nuid": "aea0568a-42a2-40b3-8fbb-87c579303dea",
     "showTitle": false,
     "title": ""
    }
   },
   "source": [
    "## Transaction count by branch and channel"
   ]
  },
  {
   "cell_type": "markdown",
   "metadata": {
    "application/vnd.databricks.v1+cell": {
     "cellMetadata": {},
     "inputWidgets": {},
     "nuid": "f2fb198a-5767-459f-a013-32a17be85de4",
     "showTitle": false,
     "title": ""
    }
   },
   "source": [
    "<h5> Transaction counts for different statuses grouped by channel.</h5>"
   ]
  },
  {
   "cell_type": "code",
   "execution_count": 0,
   "metadata": {
    "application/vnd.databricks.v1+cell": {
     "cellMetadata": {
      "byteLimit": 2048000,
      "rowLimit": 10000
     },
     "inputWidgets": {},
     "nuid": "90b2c1b5-1c54-4579-8a88-0fda4f7bf3f8",
     "showTitle": false,
     "title": ""
    }
   },
   "outputs": [
    {
     "output_type": "display_data",
     "data": {
      "text/html": [
       "<style scoped>\n",
       "  .table-result-container {\n",
       "    max-height: 300px;\n",
       "    overflow: auto;\n",
       "  }\n",
       "  table, th, td {\n",
       "    border: 1px solid black;\n",
       "    border-collapse: collapse;\n",
       "  }\n",
       "  th, td {\n",
       "    padding: 5px;\n",
       "  }\n",
       "  th {\n",
       "    text-align: left;\n",
       "  }\n",
       "</style><div class='table-result-container'><table class='table-result'><thead style='background-color: white'><tr><th>channel</th><th>status</th><th>transaction_count</th></tr></thead><tbody><tr><td>branch</td><td>pending</td><td>94</td></tr><tr><td>branch</td><td>success</td><td>111</td></tr><tr><td>mobile</td><td>pending</td><td>109</td></tr><tr><td>mobile</td><td>success</td><td>91</td></tr><tr><td>online</td><td>pending</td><td>103</td></tr><tr><td>online</td><td>success</td><td>120</td></tr><tr><td>branch</td><td>failed</td><td>122</td></tr><tr><td>mobile</td><td>failed</td><td>91</td></tr><tr><td>online</td><td>failed</td><td>103</td></tr><tr><td>ATM</td><td>pending</td><td>103</td></tr><tr><td>ATM</td><td>success</td><td>107</td></tr><tr><td>ATM</td><td>failed</td><td>111</td></tr></tbody></table></div>"
      ]
     },
     "metadata": {
      "application/vnd.databricks.v1+output": {
       "addedWidgets": {},
       "aggData": [],
       "aggError": "",
       "aggOverflow": false,
       "aggSchema": [],
       "aggSeriesLimitReached": false,
       "aggType": "",
       "arguments": {},
       "columnCustomDisplayInfos": {},
       "data": [
        [
         "branch",
         "pending",
         94
        ],
        [
         "branch",
         "success",
         111
        ],
        [
         "mobile",
         "pending",
         109
        ],
        [
         "mobile",
         "success",
         91
        ],
        [
         "online",
         "pending",
         103
        ],
        [
         "online",
         "success",
         120
        ],
        [
         "branch",
         "failed",
         122
        ],
        [
         "mobile",
         "failed",
         91
        ],
        [
         "online",
         "failed",
         103
        ],
        [
         "ATM",
         "pending",
         103
        ],
        [
         "ATM",
         "success",
         107
        ],
        [
         "ATM",
         "failed",
         111
        ]
       ],
       "datasetInfos": [],
       "dbfsResultPath": null,
       "isJsonSchema": true,
       "metadata": {
        "isDbfsCommandResult": false
       },
       "overflow": false,
       "plotOptions": {
        "customPlotOptions": {},
        "displayType": "table",
        "pivotAggregation": null,
        "pivotColumns": null,
        "xColumns": null,
        "yColumns": null
       },
       "removedWidgets": [],
       "schema": [
        {
         "metadata": "{}",
         "name": "channel",
         "type": "\"string\""
        },
        {
         "metadata": "{}",
         "name": "status",
         "type": "\"string\""
        },
        {
         "metadata": "{}",
         "name": "transaction_count",
         "type": "\"long\""
        }
       ],
       "type": "table"
      }
     },
     "output_type": "display_data"
    },
    {
     "output_type": "display_data",
     "data": {
      "text/plain": [
       "Databricks visualization. Run in Databricks to view."
      ]
     },
     "metadata": {
      "application/vnd.databricks.v1.subcommand+json": {
       "baseErrorDetails": null,
       "bindings": {},
       "collapsed": false,
       "command": "# Databricks no-op command",
       "commandTitle": "Different channels count",
       "commandType": "auto",
       "commandVersion": 0,
       "commentThread": [],
       "commentsVisible": false,
       "contentSha256Hex": null,
       "customPlotOptions": {
        "redashChart": [
         {
          "key": "type",
          "value": "CHART"
         },
         {
          "key": "options",
          "value": {
           "alignYAxesAtZero": true,
           "coefficient": 1,
           "columnConfigurationMap": {
            "series": {
             "column": "status",
             "id": "column_30613d1a65"
            },
            "x": {
             "column": "channel",
             "id": "column_30613d1a64"
            },
            "y": [
             {
              "column": "transaction_count",
              "id": "column_30613d1a66",
              "transform": "SUM"
             }
            ]
           },
           "dateTimeFormat": "DD/MM/YYYY HH:mm",
           "direction": {
            "type": "counterclockwise"
           },
           "error_y": {
            "type": "data",
            "visible": true
           },
           "globalSeriesType": "column",
           "legend": {
            "traceorder": "normal"
           },
           "missingValuesAsZero": true,
           "numberFormat": "0,0.[00000]",
           "percentFormat": "0[.]00%",
           "series": {
            "error_y": {
             "type": "data",
             "visible": true
            },
            "stacking": null
           },
           "seriesOptions": {
            "column_30613d1a66": {
             "name": "transaction_count",
             "type": "column",
             "yAxis": 0
            }
           },
           "showDataLabels": false,
           "sizemode": "diameter",
           "sortX": true,
           "sortY": true,
           "swappedAxes": false,
           "textFormat": "",
           "useAggregationsUi": true,
           "valuesOptions": {},
           "version": 2,
           "xAxis": {
            "labels": {
             "enabled": true
            },
            "type": "-"
           },
           "yAxis": [
            {
             "type": "-"
            },
            {
             "opposite": true,
             "type": "-"
            }
           ]
          }
         }
        ]
       },
       "datasetPreviewNameToCmdIdMap": {},
       "diffDeletes": [],
       "diffInserts": [],
       "displayType": "redashChart",
       "error": null,
       "errorDetails": null,
       "errorSummary": null,
       "errorTraceType": null,
       "finishTime": 0,
       "globalVars": {},
       "guid": "",
       "height": "auto",
       "hideCommandCode": false,
       "hideCommandResult": false,
       "iPythonMetadata": null,
       "inputWidgets": {},
       "isLockedInExamMode": false,
       "latestUser": "a user",
       "latestUserId": null,
       "listResultMetadata": null,
       "metadata": {},
       "nuid": "015e7873-551c-486b-a7a3-c082f7ae93e1",
       "origId": 0,
       "parentHierarchy": [],
       "pivotAggregation": null,
       "pivotColumns": null,
       "position": 14.0,
       "resultDbfsErrorMessage": null,
       "resultDbfsStatus": "INLINED_IN_TREE",
       "results": null,
       "showCommandTitle": false,
       "startTime": 0,
       "state": "input",
       "streamStates": {},
       "subcommandOptions": {
        "queryPlan": {
         "groups": [
          {
           "column": "channel",
           "type": "column"
          },
          {
           "column": "status",
           "type": "column"
          }
         ],
         "selects": [
          {
           "column": "channel",
           "type": "column"
          },
          {
           "column": "status",
           "type": "column"
          },
          {
           "alias": "column_30613d1a66",
           "args": [
            {
             "column": "transaction_count",
             "type": "column"
            }
           ],
           "function": "SUM",
           "type": "function"
          }
         ]
        }
       },
       "submitTime": 0,
       "subtype": "tableResultSubCmd.visualization",
       "tableResultIndex": 0,
       "useConsistentColors": false,
       "version": "CommandV1",
       "width": "auto",
       "workflows": [],
       "xColumns": null,
       "yColumns": null
      }
     },
     "output_type": "display_data"
    }
   ],
   "source": [
    "trans_count = spark.readStream.table(\"Gold_layer.trans_count_by_branch_and_chnl\")\n",
    "trans_count.display()"
   ]
  },
  {
   "cell_type": "markdown",
   "metadata": {
    "application/vnd.databricks.v1+cell": {
     "cellMetadata": {},
     "inputWidgets": {},
     "nuid": "efd894c8-caff-4231-be97-08b941e64d17",
     "showTitle": false,
     "title": ""
    }
   },
   "source": [
    "## Transaction Based on Geological (Distinct)"
   ]
  },
  {
   "cell_type": "markdown",
   "metadata": {
    "application/vnd.databricks.v1+cell": {
     "cellMetadata": {},
     "inputWidgets": {},
     "nuid": "1ce08d73-dbf2-4523-94d2-767d5ff6d20b",
     "showTitle": false,
     "title": ""
    }
   },
   "source": [
    "<h5>Compare transaction counts across different locations.</h5>"
   ]
  },
  {
   "cell_type": "code",
   "execution_count": 0,
   "metadata": {
    "application/vnd.databricks.v1+cell": {
     "cellMetadata": {
      "byteLimit": 2048000,
      "rowLimit": 10000
     },
     "inputWidgets": {},
     "nuid": "dd5a15cc-8252-44de-8cf6-f1823268cbce",
     "showTitle": false,
     "title": ""
    }
   },
   "outputs": [
    {
     "output_type": "display_data",
     "data": {
      "text/html": [
       "<style scoped>\n",
       "  .table-result-container {\n",
       "    max-height: 300px;\n",
       "    overflow: auto;\n",
       "  }\n",
       "  table, th, td {\n",
       "    border: 1px solid black;\n",
       "    border-collapse: collapse;\n",
       "  }\n",
       "  th, td {\n",
       "    padding: 5px;\n",
       "  }\n",
       "  th {\n",
       "    text-align: left;\n",
       "  }\n",
       "</style><div class='table-result-container'><table class='table-result'><thead style='background-color: white'><tr><th>location</th><th>transaction_count</th></tr></thead><tbody><tr><td>Sydney Australia</td><td>388</td></tr><tr><td>Los Angeles USA</td><td>130</td></tr><tr><td>Toronto Canada</td><td>127</td></tr><tr><td>New York USA</td><td>221</td></tr><tr><td>London UK</td><td>384</td></tr></tbody></table></div>"
      ]
     },
     "metadata": {
      "application/vnd.databricks.v1+output": {
       "addedWidgets": {},
       "aggData": [],
       "aggError": "",
       "aggOverflow": false,
       "aggSchema": [],
       "aggSeriesLimitReached": false,
       "aggType": "",
       "arguments": {},
       "columnCustomDisplayInfos": {},
       "data": [
        [
         "Sydney Australia",
         388
        ],
        [
         "Los Angeles USA",
         130
        ],
        [
         "Toronto Canada",
         127
        ],
        [
         "New York USA",
         221
        ],
        [
         "London UK",
         384
        ]
       ],
       "datasetInfos": [],
       "dbfsResultPath": null,
       "isJsonSchema": true,
       "metadata": {
        "isDbfsCommandResult": false
       },
       "overflow": false,
       "plotOptions": {
        "customPlotOptions": {},
        "displayType": "table",
        "pivotAggregation": null,
        "pivotColumns": null,
        "xColumns": null,
        "yColumns": null
       },
       "removedWidgets": [],
       "schema": [
        {
         "metadata": "{}",
         "name": "location",
         "type": "\"string\""
        },
        {
         "metadata": "{}",
         "name": "transaction_count",
         "type": "\"long\""
        }
       ],
       "type": "table"
      }
     },
     "output_type": "display_data"
    },
    {
     "output_type": "display_data",
     "data": {
      "text/plain": [
       "Databricks visualization. Run in Databricks to view."
      ]
     },
     "metadata": {
      "application/vnd.databricks.v1.subcommand+json": {
       "baseErrorDetails": null,
       "bindings": {},
       "collapsed": false,
       "command": "# Databricks no-op command",
       "commandTitle": "Transaction count cities",
       "commandType": "auto",
       "commandVersion": 0,
       "commentThread": [],
       "commentsVisible": false,
       "contentSha256Hex": null,
       "customPlotOptions": {
        "redashChart": [
         {
          "key": "type",
          "value": "CHART"
         },
         {
          "key": "options",
          "value": {
           "alignYAxesAtZero": true,
           "coefficient": 1,
           "columnConfigurationMap": {
            "x": {
             "column": "location",
             "id": "column_30613d1a54"
            },
            "y": [
             {
              "column": "transaction_count",
              "id": "column_30613d1a55",
              "transform": "SUM"
             }
            ]
           },
           "dateTimeFormat": "DD/MM/YYYY HH:mm",
           "direction": {
            "type": "counterclockwise"
           },
           "error_y": {
            "type": "data",
            "visible": true
           },
           "globalSeriesType": "column",
           "isAggregationOn": true,
           "legend": {
            "traceorder": "normal"
           },
           "missingValuesAsZero": true,
           "numberFormat": "0,0.[00000]",
           "percentFormat": "0[.]00%",
           "series": {
            "error_y": {
             "type": "data",
             "visible": true
            },
            "stacking": null
           },
           "seriesOptions": {
            "column_30613d1a55": {
             "color": "#E92828",
             "name": "transaction_count",
             "yAxis": 0
            }
           },
           "showDataLabels": false,
           "sizemode": "diameter",
           "sortX": true,
           "sortY": true,
           "swappedAxes": false,
           "textFormat": "",
           "useAggregationsUi": true,
           "valuesOptions": {},
           "version": 2,
           "xAxis": {
            "labels": {
             "enabled": true
            },
            "type": "-"
           },
           "yAxis": [
            {
             "type": "-"
            },
            {
             "opposite": true,
             "type": "-"
            }
           ]
          }
         }
        ]
       },
       "datasetPreviewNameToCmdIdMap": {},
       "diffDeletes": [],
       "diffInserts": [],
       "displayType": "redashChart",
       "error": null,
       "errorDetails": null,
       "errorSummary": null,
       "errorTraceType": null,
       "finishTime": 0,
       "globalVars": {},
       "guid": "",
       "height": "auto",
       "hideCommandCode": false,
       "hideCommandResult": false,
       "iPythonMetadata": null,
       "inputWidgets": {},
       "isLockedInExamMode": false,
       "latestUser": "a user",
       "latestUserId": null,
       "listResultMetadata": null,
       "metadata": {},
       "nuid": "8ebe7754-436c-48fb-8b88-a285f88eeb13",
       "origId": 0,
       "parentHierarchy": [],
       "pivotAggregation": null,
       "pivotColumns": null,
       "position": 16.0,
       "resultDbfsErrorMessage": null,
       "resultDbfsStatus": "INLINED_IN_TREE",
       "results": null,
       "showCommandTitle": false,
       "startTime": 0,
       "state": "input",
       "streamStates": {},
       "subcommandOptions": {
        "queryPlan": {
         "groups": [
          {
           "column": "location",
           "type": "column"
          }
         ],
         "selects": [
          {
           "column": "location",
           "type": "column"
          },
          {
           "alias": "column_30613d1a55",
           "args": [
            {
             "column": "transaction_count",
             "type": "column"
            }
           ],
           "function": "SUM",
           "type": "function"
          }
         ]
        }
       },
       "submitTime": 0,
       "subtype": "tableResultSubCmd.visualization",
       "tableResultIndex": 0,
       "useConsistentColors": false,
       "version": "CommandV1",
       "width": "auto",
       "workflows": [],
       "xColumns": null,
       "yColumns": null
      }
     },
     "output_type": "display_data"
    }
   ],
   "source": [
    "trans_geo = spark.readStream.table(\"Gold_layer.trans_geo_distinct\")\n",
    "trans_geo.display()"
   ]
  },
  {
   "cell_type": "markdown",
   "metadata": {
    "application/vnd.databricks.v1+cell": {
     "cellMetadata": {},
     "inputWidgets": {},
     "nuid": "a5f0fc53-b0f2-4b4e-9f68-6f7b7e5f845b",
     "showTitle": false,
     "title": ""
    }
   },
   "source": [
    "## Transaction volume"
   ]
  },
  {
   "cell_type": "markdown",
   "metadata": {
    "application/vnd.databricks.v1+cell": {
     "cellMetadata": {},
     "inputWidgets": {},
     "nuid": "d3e4a568-e252-4e86-a420-73e7e5de1246",
     "showTitle": false,
     "title": ""
    }
   },
   "source": [
    "\n",
    "<h5>Propotion of each channel</h5>\n",
    "<h5>Total number of transactions for each channel</h5>"
   ]
  },
  {
   "cell_type": "code",
   "execution_count": 0,
   "metadata": {
    "application/vnd.databricks.v1+cell": {
     "cellMetadata": {
      "byteLimit": 2048000,
      "rowLimit": 10000
     },
     "inputWidgets": {},
     "nuid": "74106a35-1806-4581-bd8f-ca49a029b66e",
     "showTitle": false,
     "title": ""
    }
   },
   "outputs": [
    {
     "output_type": "display_data",
     "data": {
      "text/html": [
       "<style scoped>\n",
       "  .table-result-container {\n",
       "    max-height: 300px;\n",
       "    overflow: auto;\n",
       "  }\n",
       "  table, th, td {\n",
       "    border: 1px solid black;\n",
       "    border-collapse: collapse;\n",
       "  }\n",
       "  th, td {\n",
       "    padding: 5px;\n",
       "  }\n",
       "  th {\n",
       "    text-align: left;\n",
       "  }\n",
       "</style><div class='table-result-container'><table class='table-result'><thead style='background-color: white'><tr><th>channel</th><th>total_transactions</th></tr></thead><tbody><tr><td>branch</td><td>327</td></tr><tr><td>mobile</td><td>291</td></tr><tr><td>online</td><td>326</td></tr><tr><td>ATM</td><td>321</td></tr></tbody></table></div>"
      ]
     },
     "metadata": {
      "application/vnd.databricks.v1+output": {
       "addedWidgets": {},
       "aggData": [],
       "aggError": "",
       "aggOverflow": false,
       "aggSchema": [],
       "aggSeriesLimitReached": false,
       "aggType": "",
       "arguments": {},
       "columnCustomDisplayInfos": {},
       "data": [
        [
         "branch",
         327
        ],
        [
         "mobile",
         291
        ],
        [
         "online",
         326
        ],
        [
         "ATM",
         321
        ]
       ],
       "datasetInfos": [],
       "dbfsResultPath": null,
       "isJsonSchema": true,
       "metadata": {
        "isDbfsCommandResult": false
       },
       "overflow": false,
       "plotOptions": {
        "customPlotOptions": {},
        "displayType": "table",
        "pivotAggregation": null,
        "pivotColumns": null,
        "xColumns": null,
        "yColumns": null
       },
       "removedWidgets": [],
       "schema": [
        {
         "metadata": "{}",
         "name": "channel",
         "type": "\"string\""
        },
        {
         "metadata": "{}",
         "name": "total_transactions",
         "type": "\"long\""
        }
       ],
       "type": "table"
      }
     },
     "output_type": "display_data"
    },
    {
     "output_type": "display_data",
     "data": {
      "text/plain": [
       "Databricks visualization. Run in Databricks to view."
      ]
     },
     "metadata": {
      "application/vnd.databricks.v1.subcommand+json": {
       "baseErrorDetails": null,
       "bindings": {},
       "collapsed": false,
       "command": "# Databricks no-op command",
       "commandTitle": "Propotion of channel",
       "commandType": "auto",
       "commandVersion": 0,
       "commentThread": [],
       "commentsVisible": false,
       "contentSha256Hex": null,
       "customPlotOptions": {
        "redashChart": [
         {
          "key": "type",
          "value": "CHART"
         },
         {
          "key": "options",
          "value": {
           "alignYAxesAtZero": true,
           "coefficient": 1,
           "columnConfigurationMap": {
            "x": {
             "column": "channel",
             "id": "column_30613d1a51"
            },
            "y": [
             {
              "column": "total_transactions",
              "id": "column_30613d1a52",
              "transform": "SUM"
             }
            ]
           },
           "dateTimeFormat": "DD/MM/YYYY HH:mm",
           "direction": {
            "type": "counterclockwise"
           },
           "error_y": {
            "type": "data",
            "visible": true
           },
           "globalSeriesType": "pie",
           "legend": {
            "traceorder": "normal"
           },
           "missingValuesAsZero": true,
           "numberFormat": "0,0.[00000]",
           "percentFormat": "0[.]00%",
           "series": {
            "error_y": {
             "type": "data",
             "visible": true
            },
            "stacking": null
           },
           "seriesOptions": {
            "column_30613d1a52": {
             "name": "total_transactions",
             "type": "pie",
             "yAxis": 0
            }
           },
           "showDataLabels": true,
           "sizemode": "diameter",
           "sortX": true,
           "sortY": true,
           "swappedAxes": false,
           "textFormat": "",
           "useAggregationsUi": true,
           "valuesOptions": {},
           "version": 2,
           "xAxis": {
            "labels": {
             "enabled": true
            },
            "type": "-"
           },
           "yAxis": [
            {
             "type": "-"
            },
            {
             "opposite": true,
             "type": "-"
            }
           ]
          }
         }
        ]
       },
       "datasetPreviewNameToCmdIdMap": {},
       "diffDeletes": [],
       "diffInserts": [],
       "displayType": "redashChart",
       "error": null,
       "errorDetails": null,
       "errorSummary": null,
       "errorTraceType": null,
       "finishTime": 0,
       "globalVars": {},
       "guid": "",
       "height": "auto",
       "hideCommandCode": false,
       "hideCommandResult": false,
       "iPythonMetadata": null,
       "inputWidgets": {},
       "isLockedInExamMode": false,
       "latestUser": "a user",
       "latestUserId": null,
       "listResultMetadata": null,
       "metadata": {},
       "nuid": "ce0f1839-8cd6-4cb5-9131-bcbbdb1e856c",
       "origId": 0,
       "parentHierarchy": [],
       "pivotAggregation": null,
       "pivotColumns": null,
       "position": 8.5,
       "resultDbfsErrorMessage": null,
       "resultDbfsStatus": "INLINED_IN_TREE",
       "results": null,
       "showCommandTitle": false,
       "startTime": 0,
       "state": "input",
       "streamStates": {},
       "subcommandOptions": {
        "queryPlan": {
         "groups": [
          {
           "column": "channel",
           "type": "column"
          }
         ],
         "selects": [
          {
           "column": "channel",
           "type": "column"
          },
          {
           "alias": "column_30613d1a52",
           "args": [
            {
             "column": "total_transactions",
             "type": "column"
            }
           ],
           "function": "SUM",
           "type": "function"
          }
         ]
        }
       },
       "submitTime": 0,
       "subtype": "tableResultSubCmd.visualization",
       "tableResultIndex": 0,
       "useConsistentColors": false,
       "version": "CommandV1",
       "width": "auto",
       "workflows": [],
       "xColumns": null,
       "yColumns": null
      }
     },
     "output_type": "display_data"
    },
    {
     "output_type": "display_data",
     "data": {
      "text/plain": [
       "Databricks visualization. Run in Databricks to view."
      ]
     },
     "metadata": {
      "application/vnd.databricks.v1.subcommand+json": {
       "baseErrorDetails": null,
       "bindings": {},
       "collapsed": false,
       "command": "# Databricks no-op command",
       "commandTitle": "Transaction per channel",
       "commandType": "auto",
       "commandVersion": 0,
       "commentThread": [],
       "commentsVisible": false,
       "contentSha256Hex": null,
       "customPlotOptions": {
        "redashChart": [
         {
          "key": "type",
          "value": "CHART"
         },
         {
          "key": "options",
          "value": {
           "alignYAxesAtZero": true,
           "coefficient": 1,
           "columnConfigurationMap": {
            "x": {
             "column": "total_transactions",
             "id": "column_30613d1a50"
            },
            "y": [
             {
              "column": "channel",
              "id": "column_30613d1a48",
              "transform": "COUNT"
             }
            ]
           },
           "dateTimeFormat": "DD/MM/YYYY HH:mm",
           "direction": {
            "type": "counterclockwise"
           },
           "error_y": {
            "type": "data",
            "visible": true
           },
           "globalSeriesType": "column",
           "isAggregationOn": true,
           "legend": {
            "traceorder": "normal"
           },
           "missingValuesAsZero": true,
           "numberFormat": "0,0.[00000]",
           "percentFormat": "0[.]00%",
           "series": {
            "error_y": {
             "type": "data",
             "visible": true
            },
            "stacking": null
           },
           "seriesOptions": {
            "column_30613d1a48": {
             "color": "#981717",
             "name": "total_transactions",
             "type": "column",
             "yAxis": 0
            }
           },
           "showDataLabels": false,
           "sizemode": "diameter",
           "sortX": true,
           "sortY": true,
           "swappedAxes": false,
           "textFormat": "",
           "useAggregationsUi": true,
           "valuesOptions": {},
           "version": 2,
           "xAxis": {
            "labels": {
             "enabled": true
            },
            "type": "-"
           },
           "yAxis": [
            {
             "type": "-"
            },
            {
             "opposite": true,
             "type": "-"
            }
           ]
          }
         }
        ]
       },
       "datasetPreviewNameToCmdIdMap": {},
       "diffDeletes": [],
       "diffInserts": [],
       "displayType": "redashChart",
       "error": null,
       "errorDetails": null,
       "errorSummary": null,
       "errorTraceType": null,
       "finishTime": 0,
       "globalVars": {},
       "guid": "",
       "height": "auto",
       "hideCommandCode": false,
       "hideCommandResult": false,
       "iPythonMetadata": null,
       "inputWidgets": {},
       "isLockedInExamMode": false,
       "latestUser": "a user",
       "latestUserId": null,
       "listResultMetadata": null,
       "metadata": {},
       "nuid": "e325d67d-db5c-468d-820f-4afb7161e9fe",
       "origId": 0,
       "parentHierarchy": [],
       "pivotAggregation": null,
       "pivotColumns": null,
       "position": 17.0,
       "resultDbfsErrorMessage": null,
       "resultDbfsStatus": "INLINED_IN_TREE",
       "results": null,
       "showCommandTitle": false,
       "startTime": 0,
       "state": "input",
       "streamStates": {},
       "subcommandOptions": {
        "queryPlan": {
         "groups": [
          {
           "column": "total_transactions",
           "type": "column"
          }
         ],
         "selects": [
          {
           "column": "total_transactions",
           "type": "column"
          },
          {
           "alias": "column_30613d1a48",
           "args": [
            {
             "column": "channel",
             "type": "column"
            }
           ],
           "function": "COUNT",
           "type": "function"
          }
         ]
        }
       },
       "submitTime": 0,
       "subtype": "tableResultSubCmd.visualization",
       "tableResultIndex": 0,
       "useConsistentColors": false,
       "version": "CommandV1",
       "width": "auto",
       "workflows": [],
       "xColumns": null,
       "yColumns": null
      }
     },
     "output_type": "display_data"
    }
   ],
   "source": [
    "trans_volume = spark.readStream.table(\"Gold_layer.trans_volumes\")\n",
    "trans_volume.display()"
   ]
  },
  {
   "cell_type": "markdown",
   "metadata": {
    "application/vnd.databricks.v1+cell": {
     "cellMetadata": {},
     "inputWidgets": {},
     "nuid": "d700020c-6ead-459b-b8d9-71c27e08ac13",
     "showTitle": false,
     "title": ""
    }
   },
   "source": [
    "## Using fraud flags "
   ]
  },
  {
   "cell_type": "markdown",
   "metadata": {
    "application/vnd.databricks.v1+cell": {
     "cellMetadata": {},
     "inputWidgets": {},
     "nuid": "0a83659b-fda1-4a2f-8ea0-686af82d4d9d",
     "showTitle": false,
     "title": ""
    }
   },
   "source": [
    "<h5>count of fraud flags by flagtype</h5>\n",
    "<h5> Trend of confidence_score over time.</h5>"
   ]
  },
  {
   "cell_type": "code",
   "execution_count": 0,
   "metadata": {
    "application/vnd.databricks.v1+cell": {
     "cellMetadata": {
      "byteLimit": 2048000,
      "rowLimit": 10000
     },
     "inputWidgets": {},
     "nuid": "8bf01e77-a2be-4ada-91db-a4466311865c",
     "showTitle": false,
     "title": ""
    }
   },
   "outputs": [
    {
     "output_type": "display_data",
     "data": {
      "text/html": [
       "<style scoped>\n",
       "  .table-result-container {\n",
       "    max-height: 300px;\n",
       "    overflow: auto;\n",
       "  }\n",
       "  table, th, td {\n",
       "    border: 1px solid black;\n",
       "    border-collapse: collapse;\n",
       "  }\n",
       "  th, td {\n",
       "    padding: 5px;\n",
       "  }\n",
       "  th {\n",
       "    text-align: left;\n",
       "  }\n",
       "</style><div class='table-result-container'><table class='table-result'><thead style='background-color: white'><tr><th>flag_id</th><th>transaction_id</th><th>flag_type</th><th>confidence_score</th><th>timestamp</th></tr></thead><tbody><tr><td>FT1693</td><td>T1693</td><td>unusual_amount</td><td>0.9</td><td>2024-03-04 06:19:41</td></tr><tr><td>FT1345</td><td>T1345</td><td>unusual_amount</td><td>0.9</td><td>2024-01-12 03:25:25</td></tr><tr><td>FT8986</td><td>T8986</td><td>velocity_check</td><td>0.8</td><td>2024-04-29 07:55:02</td></tr><tr><td>FT7325</td><td>T7325</td><td>unusual_amount</td><td>0.9</td><td>2024-03-17 15:16:18</td></tr><tr><td>FT4004</td><td>T4004</td><td>unusual_amount</td><td>0.9</td><td>2024-06-19 18:56:04</td></tr><tr><td>FT8800</td><td>T8800</td><td>unusual_amount</td><td>0.9</td><td>2024-03-30 23:29:49</td></tr><tr><td>FT2135</td><td>T2135</td><td>unusual_amount</td><td>0.9</td><td>2024-06-22 23:42:20</td></tr><tr><td>FT6650</td><td>T6650</td><td>unusual_amount</td><td>0.9</td><td>2024-02-17 15:58:19</td></tr><tr><td>FT1924</td><td>T1924</td><td>velocity_check</td><td>0.8</td><td>2024-03-09 11:15:16</td></tr><tr><td>FT8500</td><td>T8500</td><td>unusual_amount</td><td>0.9</td><td>2024-01-15 23:55:52</td></tr><tr><td>FT2365</td><td>T2365</td><td>pattern_anomaly</td><td>0.7</td><td>2024-04-06 02:27:21</td></tr><tr><td>FT8760</td><td>T8760</td><td>velocity_check</td><td>0.8</td><td>2024-06-03 12:23:34</td></tr><tr><td>FT5720</td><td>T5720</td><td>pattern_anomaly</td><td>0.7</td><td>2024-03-18 10:30:15</td></tr><tr><td>FT8702</td><td>T8702</td><td>velocity_check</td><td>0.8</td><td>2024-07-17 20:03:36</td></tr><tr><td>FT9478</td><td>T9478</td><td>unusual_amount</td><td>0.9</td><td>2024-07-21 16:12:43</td></tr><tr><td>FT7702</td><td>T7702</td><td>unusual_amount</td><td>0.9</td><td>2024-01-16 19:36:44</td></tr><tr><td>FT6616</td><td>T6616</td><td>pattern_anomaly</td><td>0.7</td><td>2024-03-23 08:02:03</td></tr><tr><td>FT1559</td><td>T1559</td><td>pattern_anomaly</td><td>0.7</td><td>2024-05-01 14:38:50</td></tr><tr><td>FT5610</td><td>T5610</td><td>pattern_anomaly</td><td>0.7</td><td>2024-03-24 08:34:58</td></tr><tr><td>FT2043</td><td>T2043</td><td>pattern_anomaly</td><td>0.7</td><td>2024-02-03 02:05:00</td></tr><tr><td>FT9254</td><td>T9254</td><td>unusual_amount</td><td>0.9</td><td>2024-03-22 14:24:03</td></tr><tr><td>FT4711</td><td>T4711</td><td>unusual_amount</td><td>0.9</td><td>2024-05-10 03:28:27</td></tr><tr><td>FT5541</td><td>T5541</td><td>unusual_amount</td><td>0.9</td><td>2024-04-27 18:01:30</td></tr><tr><td>FT6206</td><td>T6206</td><td>velocity_check</td><td>0.8</td><td>2024-04-17 15:08:14</td></tr><tr><td>FT6683</td><td>T6683</td><td>unusual_amount</td><td>0.9</td><td>2024-05-16 15:47:10</td></tr><tr><td>FT1345</td><td>T1345</td><td>pattern_anomaly</td><td>0.7</td><td>2024-01-04 21:07:38</td></tr><tr><td>FT9628</td><td>T9628</td><td>unusual_amount</td><td>0.9</td><td>2024-04-25 07:13:55</td></tr><tr><td>FT7180</td><td>T7180</td><td>unusual_amount</td><td>0.9</td><td>2024-04-04 06:35:41</td></tr><tr><td>FT8767</td><td>T8767</td><td>pattern_anomaly</td><td>0.7</td><td>2024-07-27 10:26:02</td></tr><tr><td>FT3549</td><td>T3549</td><td>pattern_anomaly</td><td>0.7</td><td>2024-01-23 19:29:14</td></tr><tr><td>FT6783</td><td>T6783</td><td>velocity_check</td><td>0.8</td><td>2024-07-20 11:31:28</td></tr><tr><td>FT1811</td><td>T1811</td><td>pattern_anomaly</td><td>0.7</td><td>2024-07-07 22:27:31</td></tr><tr><td>FT6373</td><td>T6373</td><td>velocity_check</td><td>0.8</td><td>2024-03-12 13:53:16</td></tr><tr><td>FT6974</td><td>T6974</td><td>unusual_amount</td><td>0.9</td><td>2024-03-07 06:34:40</td></tr><tr><td>FT4390</td><td>T4390</td><td>unusual_amount</td><td>0.9</td><td>2024-06-14 00:27:25</td></tr><tr><td>FT2061</td><td>T2061</td><td>unusual_amount</td><td>0.9</td><td>2024-02-04 16:37:57</td></tr><tr><td>FT1838</td><td>T1838</td><td>unusual_amount</td><td>0.9</td><td>2024-03-08 23:50:06</td></tr><tr><td>FT6620</td><td>T6620</td><td>unusual_amount</td><td>0.9</td><td>2024-06-26 21:03:54</td></tr><tr><td>FT4212</td><td>T4212</td><td>unusual_amount</td><td>0.9</td><td>2024-01-30 01:49:33</td></tr><tr><td>FT8208</td><td>T8208</td><td>pattern_anomaly</td><td>0.7</td><td>2024-07-28 06:41:40</td></tr><tr><td>FT7940</td><td>T7940</td><td>unusual_amount</td><td>0.9</td><td>2024-01-19 02:45:24</td></tr><tr><td>FT6618</td><td>T6618</td><td>unusual_amount</td><td>0.9</td><td>2024-01-05 19:11:16</td></tr><tr><td>FT8439</td><td>T8439</td><td>unusual_amount</td><td>0.9</td><td>2024-01-12 10:27:29</td></tr><tr><td>FT4814</td><td>T4814</td><td>unusual_amount</td><td>0.9</td><td>2024-01-05 02:36:01</td></tr><tr><td>FT6594</td><td>T6594</td><td>unusual_amount</td><td>0.9</td><td>2024-02-18 19:17:15</td></tr><tr><td>FT4054</td><td>T4054</td><td>pattern_anomaly</td><td>0.7</td><td>2024-02-15 01:34:52</td></tr><tr><td>FT8583</td><td>T8583</td><td>unusual_amount</td><td>0.9</td><td>2024-05-14 15:41:16</td></tr><tr><td>FT9770</td><td>T9770</td><td>velocity_check</td><td>0.8</td><td>2024-04-06 11:16:51</td></tr><tr><td>FT4783</td><td>T4783</td><td>unusual_amount</td><td>0.9</td><td>2024-03-29 02:57:08</td></tr><tr><td>FT1977</td><td>T1977</td><td>pattern_anomaly</td><td>0.7</td><td>2024-07-09 08:17:19</td></tr><tr><td>FT8636</td><td>T8636</td><td>unusual_amount</td><td>0.9</td><td>2024-07-25 16:08:38</td></tr><tr><td>FT9430</td><td>T9430</td><td>pattern_anomaly</td><td>0.7</td><td>2024-06-18 20:14:23</td></tr><tr><td>FT7143</td><td>T7143</td><td>unusual_amount</td><td>0.9</td><td>2024-02-15 06:27:23</td></tr><tr><td>FT5637</td><td>T5637</td><td>velocity_check</td><td>0.8</td><td>2024-05-27 20:55:55</td></tr><tr><td>FT2639</td><td>T2639</td><td>unusual_amount</td><td>0.9</td><td>2024-06-18 05:14:51</td></tr><tr><td>FT1891</td><td>T1891</td><td>unusual_amount</td><td>0.9</td><td>2024-07-01 08:23:45</td></tr><tr><td>FT4019</td><td>T4019</td><td>unusual_amount</td><td>0.9</td><td>2024-01-18 10:04:34</td></tr><tr><td>FT2605</td><td>T2605</td><td>unusual_amount</td><td>0.9</td><td>2024-05-12 20:13:08</td></tr><tr><td>FT2738</td><td>T2738</td><td>unusual_amount</td><td>0.9</td><td>2024-07-09 06:20:02</td></tr><tr><td>FT6119</td><td>T6119</td><td>unusual_amount</td><td>0.9</td><td>2024-05-24 00:36:14</td></tr><tr><td>FT9299</td><td>T9299</td><td>unusual_amount</td><td>0.9</td><td>2024-04-22 23:32:20</td></tr><tr><td>FT9048</td><td>T9048</td><td>unusual_amount</td><td>0.9</td><td>2024-07-11 12:57:58</td></tr><tr><td>FT3877</td><td>T3877</td><td>unusual_amount</td><td>0.9</td><td>2024-04-23 22:48:20</td></tr><tr><td>FT5958</td><td>T5958</td><td>unusual_amount</td><td>0.9</td><td>2024-06-05 15:12:05</td></tr><tr><td>FT5403</td><td>T5403</td><td>unusual_amount</td><td>0.9</td><td>2024-03-09 09:10:34</td></tr><tr><td>FT2425</td><td>T2425</td><td>unusual_amount</td><td>0.9</td><td>2024-01-26 17:18:41</td></tr><tr><td>FT9602</td><td>T9602</td><td>pattern_anomaly</td><td>0.7</td><td>2024-05-08 16:57:45</td></tr><tr><td>FT3436</td><td>T3436</td><td>unusual_amount</td><td>0.9</td><td>2024-02-05 23:56:39</td></tr><tr><td>FT7791</td><td>T7791</td><td>unusual_amount</td><td>0.9</td><td>2024-06-02 01:59:54</td></tr><tr><td>FT9314</td><td>T9314</td><td>pattern_anomaly</td><td>0.7</td><td>2024-02-29 23:53:41</td></tr><tr><td>FT8561</td><td>T8561</td><td>unusual_amount</td><td>0.9</td><td>2024-07-21 08:31:06</td></tr><tr><td>FT7093</td><td>T7093</td><td>velocity_check</td><td>0.8</td><td>2024-01-05 14:41:58</td></tr><tr><td>FT2862</td><td>T2862</td><td>velocity_check</td><td>0.8</td><td>2024-03-16 05:22:23</td></tr><tr><td>FT3022</td><td>T3022</td><td>unusual_amount</td><td>0.9</td><td>2024-05-07 15:17:46</td></tr><tr><td>FT8525</td><td>T8525</td><td>unusual_amount</td><td>0.9</td><td>2024-01-20 04:43:47</td></tr><tr><td>FT6496</td><td>T6496</td><td>pattern_anomaly</td><td>0.7</td><td>2024-01-21 07:01:55</td></tr><tr><td>FT8019</td><td>T8019</td><td>unusual_amount</td><td>0.9</td><td>2024-07-19 12:13:50</td></tr><tr><td>FT7112</td><td>T7112</td><td>velocity_check</td><td>0.8</td><td>2024-06-18 13:50:23</td></tr><tr><td>FT1316</td><td>T1316</td><td>unusual_amount</td><td>0.9</td><td>2024-07-19 20:00:03</td></tr><tr><td>FT7787</td><td>T7787</td><td>unusual_amount</td><td>0.9</td><td>2024-06-08 19:28:46</td></tr><tr><td>FT6412</td><td>T6412</td><td>unusual_amount</td><td>0.9</td><td>2024-04-24 05:38:18</td></tr><tr><td>FT3757</td><td>T3757</td><td>unusual_amount</td><td>0.9</td><td>2024-07-28 23:41:53</td></tr><tr><td>FT9439</td><td>T9439</td><td>pattern_anomaly</td><td>0.7</td><td>2024-02-16 15:02:55</td></tr><tr><td>FT3221</td><td>T3221</td><td>unusual_amount</td><td>0.9</td><td>2024-04-13 03:27:35</td></tr><tr><td>FT4585</td><td>T4585</td><td>unusual_amount</td><td>0.9</td><td>2024-07-27 14:14:05</td></tr><tr><td>FT4205</td><td>T4205</td><td>pattern_anomaly</td><td>0.7</td><td>2024-06-06 03:42:05</td></tr><tr><td>FT1755</td><td>T1755</td><td>unusual_amount</td><td>0.9</td><td>2024-05-14 11:58:49</td></tr><tr><td>FT1719</td><td>T1719</td><td>unusual_amount</td><td>0.9</td><td>2024-03-21 03:39:14</td></tr><tr><td>FT6116</td><td>T6116</td><td>unusual_amount</td><td>0.9</td><td>2024-05-14 03:14:03</td></tr><tr><td>FT7466</td><td>T7466</td><td>pattern_anomaly</td><td>0.7</td><td>2024-03-08 16:51:57</td></tr><tr><td>FT3406</td><td>T3406</td><td>unusual_amount</td><td>0.9</td><td>2024-03-06 17:56:08</td></tr><tr><td>FT4191</td><td>T4191</td><td>unusual_amount</td><td>0.9</td><td>2024-06-06 20:32:37</td></tr><tr><td>FT3883</td><td>T3883</td><td>unusual_amount</td><td>0.9</td><td>2024-07-05 04:45:05</td></tr><tr><td>FT7993</td><td>T7993</td><td>unusual_amount</td><td>0.9</td><td>2024-05-06 09:12:50</td></tr><tr><td>FT7230</td><td>T7230</td><td>unusual_amount</td><td>0.9</td><td>2024-01-29 20:51:29</td></tr><tr><td>FT6012</td><td>T6012</td><td>unusual_amount</td><td>0.9</td><td>2024-01-07 10:25:47</td></tr><tr><td>FT1578</td><td>T1578</td><td>velocity_check</td><td>0.8</td><td>2024-07-07 12:21:33</td></tr><tr><td>FT9316</td><td>T9316</td><td>pattern_anomaly</td><td>0.7</td><td>2024-07-20 18:07:55</td></tr><tr><td>FT4246</td><td>T4246</td><td>pattern_anomaly</td><td>0.7</td><td>2024-05-24 22:09:23</td></tr><tr><td>FT3408</td><td>T3408</td><td>pattern_anomaly</td><td>0.7</td><td>2024-01-27 11:22:48</td></tr><tr><td>FT1608</td><td>T1608</td><td>pattern_anomaly</td><td>0.7</td><td>2024-03-05 19:04:19</td></tr><tr><td>FT8556</td><td>T8556</td><td>unusual_amount</td><td>0.9</td><td>2024-06-03 15:25:30</td></tr><tr><td>FT2148</td><td>T2148</td><td>unusual_amount</td><td>0.9</td><td>2024-04-05 10:58:24</td></tr><tr><td>FT3144</td><td>T3144</td><td>velocity_check</td><td>0.8</td><td>2024-04-23 16:04:39</td></tr><tr><td>FT5472</td><td>T5472</td><td>unusual_amount</td><td>0.9</td><td>2024-01-01 04:26:13</td></tr><tr><td>FT6670</td><td>T6670</td><td>unusual_amount</td><td>0.9</td><td>2024-03-27 21:55:51</td></tr><tr><td>FT5174</td><td>T5174</td><td>pattern_anomaly</td><td>0.7</td><td>2024-06-04 13:02:25</td></tr><tr><td>FT1555</td><td>T1555</td><td>unusual_amount</td><td>0.9</td><td>2024-05-28 23:10:42</td></tr><tr><td>FT8505</td><td>T8505</td><td>unusual_amount</td><td>0.9</td><td>2024-04-03 20:22:51</td></tr><tr><td>FT4468</td><td>T4468</td><td>velocity_check</td><td>0.8</td><td>2024-03-09 14:03:41</td></tr><tr><td>FT4901</td><td>T4901</td><td>unusual_amount</td><td>0.9</td><td>2024-06-07 14:42:28</td></tr><tr><td>FT3464</td><td>T3464</td><td>pattern_anomaly</td><td>0.7</td><td>2024-07-13 17:06:11</td></tr><tr><td>FT4151</td><td>T4151</td><td>unusual_amount</td><td>0.9</td><td>2024-01-26 12:54:16</td></tr><tr><td>FT8781</td><td>T8781</td><td>unusual_amount</td><td>0.9</td><td>2024-06-30 04:47:43</td></tr><tr><td>FT7675</td><td>T7675</td><td>unusual_amount</td><td>0.9</td><td>2024-03-04 22:16:42</td></tr><tr><td>FT3662</td><td>T3662</td><td>unusual_amount</td><td>0.9</td><td>2024-02-09 16:36:20</td></tr><tr><td>FT8981</td><td>T8981</td><td>velocity_check</td><td>0.8</td><td>2024-07-30 02:05:57</td></tr><tr><td>FT1483</td><td>T1483</td><td>unusual_amount</td><td>0.9</td><td>2024-03-04 00:37:27</td></tr><tr><td>FT6590</td><td>T6590</td><td>velocity_check</td><td>0.8</td><td>2024-07-01 03:03:45</td></tr><tr><td>FT4077</td><td>T4077</td><td>unusual_amount</td><td>0.9</td><td>2024-06-25 12:29:55</td></tr><tr><td>FT8896</td><td>T8896</td><td>unusual_amount</td><td>0.9</td><td>2024-03-05 12:44:35</td></tr><tr><td>FT2604</td><td>T2604</td><td>unusual_amount</td><td>0.9</td><td>2024-03-26 01:12:56</td></tr><tr><td>FT3451</td><td>T3451</td><td>unusual_amount</td><td>0.9</td><td>2024-04-26 07:26:55</td></tr><tr><td>FT9407</td><td>T9407</td><td>unusual_amount</td><td>0.9</td><td>2024-06-14 22:40:22</td></tr><tr><td>FT3750</td><td>T3750</td><td>unusual_amount</td><td>0.9</td><td>2024-01-17 18:31:51</td></tr><tr><td>FT7748</td><td>T7748</td><td>unusual_amount</td><td>0.9</td><td>2024-05-04 06:39:51</td></tr><tr><td>FT7502</td><td>T7502</td><td>unusual_amount</td><td>0.9</td><td>2024-04-13 21:07:34</td></tr><tr><td>FT6924</td><td>T6924</td><td>unusual_amount</td><td>0.9</td><td>2024-05-02 19:22:51</td></tr><tr><td>FT3903</td><td>T3903</td><td>unusual_amount</td><td>0.9</td><td>2024-05-18 13:41:42</td></tr><tr><td>FT4686</td><td>T4686</td><td>unusual_amount</td><td>0.9</td><td>2024-06-06 13:57:56</td></tr><tr><td>FT1212</td><td>T1212</td><td>pattern_anomaly</td><td>0.7</td><td>2024-01-10 04:27:12</td></tr><tr><td>FT1625</td><td>T1625</td><td>unusual_amount</td><td>0.9</td><td>2024-04-28 16:31:09</td></tr><tr><td>FT9920</td><td>T9920</td><td>unusual_amount</td><td>0.9</td><td>2024-05-01 10:01:40</td></tr><tr><td>FT8914</td><td>T8914</td><td>unusual_amount</td><td>0.9</td><td>2024-02-24 21:57:37</td></tr><tr><td>FT1084</td><td>T1084</td><td>unusual_amount</td><td>0.9</td><td>2024-05-22 13:58:56</td></tr><tr><td>FT1133</td><td>T1133</td><td>unusual_amount</td><td>0.9</td><td>2024-03-01 12:56:20</td></tr><tr><td>FT5210</td><td>T5210</td><td>unusual_amount</td><td>0.9</td><td>2024-05-21 07:50:39</td></tr><tr><td>FT1680</td><td>T1680</td><td>unusual_amount</td><td>0.9</td><td>2024-01-19 23:06:50</td></tr><tr><td>FT4937</td><td>T4937</td><td>unusual_amount</td><td>0.9</td><td>2024-02-13 15:12:52</td></tr><tr><td>FT2917</td><td>T2917</td><td>unusual_amount</td><td>0.9</td><td>2024-03-26 07:16:16</td></tr><tr><td>FT7876</td><td>T7876</td><td>unusual_amount</td><td>0.9</td><td>2024-02-20 20:49:38</td></tr><tr><td>FT6973</td><td>T6973</td><td>velocity_check</td><td>0.8</td><td>2024-04-04 22:27:10</td></tr><tr><td>FT3064</td><td>T3064</td><td>unusual_amount</td><td>0.9</td><td>2024-06-12 03:31:06</td></tr><tr><td>FT6460</td><td>T6460</td><td>velocity_check</td><td>0.8</td><td>2024-01-31 13:58:14</td></tr><tr><td>FT4487</td><td>T4487</td><td>unusual_amount</td><td>0.9</td><td>2024-05-30 13:12:23</td></tr><tr><td>FT3524</td><td>T3524</td><td>unusual_amount</td><td>0.9</td><td>2024-06-23 15:55:43</td></tr><tr><td>FT8287</td><td>T8287</td><td>unusual_amount</td><td>0.9</td><td>2024-03-02 16:18:05</td></tr><tr><td>FT8163</td><td>T8163</td><td>unusual_amount</td><td>0.9</td><td>2024-01-20 22:48:39</td></tr><tr><td>FT2341</td><td>T2341</td><td>unusual_amount</td><td>0.9</td><td>2024-04-14 06:22:55</td></tr><tr><td>FT5311</td><td>T5311</td><td>unusual_amount</td><td>0.9</td><td>2024-03-28 09:18:58</td></tr><tr><td>FT4239</td><td>T4239</td><td>velocity_check</td><td>0.8</td><td>2024-02-01 19:43:11</td></tr><tr><td>FT7864</td><td>T7864</td><td>unusual_amount</td><td>0.9</td><td>2024-03-15 12:40:48</td></tr><tr><td>FT7088</td><td>T7088</td><td>unusual_amount</td><td>0.9</td><td>2024-07-09 01:38:40</td></tr><tr><td>FT3414</td><td>T3414</td><td>pattern_anomaly</td><td>0.7</td><td>2024-05-28 11:33:00</td></tr><tr><td>FT2079</td><td>T2079</td><td>unusual_amount</td><td>0.9</td><td>2024-04-25 00:32:37</td></tr><tr><td>FT1960</td><td>T1960</td><td>unusual_amount</td><td>0.9</td><td>2024-02-23 01:22:08</td></tr><tr><td>FT6133</td><td>T6133</td><td>unusual_amount</td><td>0.9</td><td>2024-05-14 11:30:42</td></tr><tr><td>FT4902</td><td>T4902</td><td>velocity_check</td><td>0.8</td><td>2024-01-15 15:09:01</td></tr><tr><td>FT2785</td><td>T2785</td><td>velocity_check</td><td>0.8</td><td>2024-03-21 20:45:52</td></tr><tr><td>FT3149</td><td>T3149</td><td>unusual_amount</td><td>0.9</td><td>2024-03-29 07:42:25</td></tr><tr><td>FT4393</td><td>T4393</td><td>unusual_amount</td><td>0.9</td><td>2024-06-11 12:56:45</td></tr><tr><td>FT1675</td><td>T1675</td><td>unusual_amount</td><td>0.9</td><td>2024-04-27 04:58:41</td></tr><tr><td>FT8126</td><td>T8126</td><td>unusual_amount</td><td>0.9</td><td>2024-03-19 15:38:42</td></tr><tr><td>FT6900</td><td>T6900</td><td>velocity_check</td><td>0.8</td><td>2024-01-03 04:17:38</td></tr><tr><td>FT6000</td><td>T6000</td><td>velocity_check</td><td>0.8</td><td>2024-05-09 21:45:23</td></tr><tr><td>FT2123</td><td>T2123</td><td>unusual_amount</td><td>0.9</td><td>2024-03-08 23:22:21</td></tr><tr><td>FT4146</td><td>T4146</td><td>pattern_anomaly</td><td>0.7</td><td>2024-07-21 02:46:30</td></tr><tr><td>FT8918</td><td>T8918</td><td>unusual_amount</td><td>0.9</td><td>2024-02-17 14:20:05</td></tr><tr><td>FT5863</td><td>T5863</td><td>pattern_anomaly</td><td>0.7</td><td>2024-02-08 12:39:10</td></tr><tr><td>FT3926</td><td>T3926</td><td>pattern_anomaly</td><td>0.7</td><td>2024-07-16 09:11:54</td></tr><tr><td>FT6570</td><td>T6570</td><td>unusual_amount</td><td>0.9</td><td>2024-07-17 18:25:34</td></tr><tr><td>FT1078</td><td>T1078</td><td>unusual_amount</td><td>0.9</td><td>2024-03-10 05:18:56</td></tr><tr><td>FT5198</td><td>T5198</td><td>unusual_amount</td><td>0.9</td><td>2024-06-03 09:56:07</td></tr><tr><td>FT7737</td><td>T7737</td><td>unusual_amount</td><td>0.9</td><td>2024-01-14 11:25:51</td></tr><tr><td>FT9464</td><td>T9464</td><td>velocity_check</td><td>0.8</td><td>2024-07-22 04:12:46</td></tr><tr><td>FT8446</td><td>T8446</td><td>unusual_amount</td><td>0.9</td><td>2024-01-28 02:29:03</td></tr><tr><td>FT1015</td><td>T1015</td><td>unusual_amount</td><td>0.9</td><td>2024-07-19 05:10:47</td></tr><tr><td>FT7562</td><td>T7562</td><td>unusual_amount</td><td>0.9</td><td>2024-07-30 00:05:57</td></tr><tr><td>FT6017</td><td>T6017</td><td>unusual_amount</td><td>0.9</td><td>2024-01-29 13:50:50</td></tr><tr><td>FT3121</td><td>T3121</td><td>unusual_amount</td><td>0.9</td><td>2024-04-18 15:00:53</td></tr><tr><td>FT7119</td><td>T7119</td><td>unusual_amount</td><td>0.9</td><td>2024-01-21 07:47:05</td></tr><tr><td>FT8676</td><td>T8676</td><td>unusual_amount</td><td>0.9</td><td>2024-06-20 16:47:11</td></tr><tr><td>FT7582</td><td>T7582</td><td>unusual_amount</td><td>0.9</td><td>2024-01-08 08:42:21</td></tr><tr><td>FT1117</td><td>T1117</td><td>unusual_amount</td><td>0.9</td><td>2024-06-23 13:18:40</td></tr><tr><td>FT9818</td><td>T9818</td><td>unusual_amount</td><td>0.9</td><td>2024-07-17 09:52:50</td></tr><tr><td>FT8977</td><td>T8977</td><td>pattern_anomaly</td><td>0.7</td><td>2024-05-01 04:57:03</td></tr><tr><td>FT2978</td><td>T2978</td><td>unusual_amount</td><td>0.9</td><td>2024-02-03 09:05:38</td></tr><tr><td>FT5027</td><td>T5027</td><td>unusual_amount</td><td>0.9</td><td>2024-06-17 13:59:40</td></tr><tr><td>FT9252</td><td>T9252</td><td>pattern_anomaly</td><td>0.7</td><td>2024-07-04 02:50:43</td></tr><tr><td>FT7589</td><td>T7589</td><td>unusual_amount</td><td>0.9</td><td>2024-04-01 15:10:00</td></tr><tr><td>FT2793</td><td>T2793</td><td>unusual_amount</td><td>0.9</td><td>2024-07-08 23:45:25</td></tr><tr><td>FT4652</td><td>T4652</td><td>unusual_amount</td><td>0.9</td><td>2024-04-15 02:29:30</td></tr><tr><td>FT6192</td><td>T6192</td><td>unusual_amount</td><td>0.9</td><td>2024-05-04 04:08:50</td></tr><tr><td>FT5172</td><td>T5172</td><td>velocity_check</td><td>0.8</td><td>2024-05-28 22:14:40</td></tr><tr><td>FT6549</td><td>T6549</td><td>pattern_anomaly</td><td>0.7</td><td>2024-05-22 11:02:51</td></tr><tr><td>FT4225</td><td>T4225</td><td>pattern_anomaly</td><td>0.7</td><td>2024-05-07 13:13:47</td></tr><tr><td>FT5959</td><td>T5959</td><td>unusual_amount</td><td>0.9</td><td>2024-03-31 06:18:15</td></tr><tr><td>FT2892</td><td>T2892</td><td>velocity_check</td><td>0.8</td><td>2024-02-27 07:30:20</td></tr><tr><td>FT3316</td><td>T3316</td><td>unusual_amount</td><td>0.9</td><td>2024-02-19 15:43:44</td></tr><tr><td>FT7789</td><td>T7789</td><td>velocity_check</td><td>0.8</td><td>2024-03-06 05:29:56</td></tr><tr><td>FT1245</td><td>T1245</td><td>unusual_amount</td><td>0.9</td><td>2024-03-02 17:10:26</td></tr><tr><td>FT1136</td><td>T1136</td><td>unusual_amount</td><td>0.9</td><td>2024-03-10 11:17:17</td></tr><tr><td>FT1358</td><td>T1358</td><td>unusual_amount</td><td>0.9</td><td>2024-02-27 16:33:27</td></tr><tr><td>FT1686</td><td>T1686</td><td>unusual_amount</td><td>0.9</td><td>2024-01-29 09:17:38</td></tr><tr><td>FT4413</td><td>T4413</td><td>unusual_amount</td><td>0.9</td><td>2024-02-06 01:59:04</td></tr><tr><td>FT3707</td><td>T3707</td><td>velocity_check</td><td>0.8</td><td>2024-07-06 20:34:57</td></tr><tr><td>FT7356</td><td>T7356</td><td>pattern_anomaly</td><td>0.7</td><td>2024-07-22 05:03:21</td></tr><tr><td>FT1364</td><td>T1364</td><td>unusual_amount</td><td>0.9</td><td>2024-02-28 10:58:18</td></tr><tr><td>FT1193</td><td>T1193</td><td>unusual_amount</td><td>0.9</td><td>2024-05-12 21:24:12</td></tr><tr><td>FT6350</td><td>T6350</td><td>unusual_amount</td><td>0.9</td><td>2024-03-19 01:33:57</td></tr><tr><td>FT7629</td><td>T7629</td><td>unusual_amount</td><td>0.9</td><td>2024-02-07 15:57:15</td></tr><tr><td>FT2403</td><td>T2403</td><td>unusual_amount</td><td>0.9</td><td>2024-01-14 05:05:59</td></tr><tr><td>FT2934</td><td>T2934</td><td>pattern_anomaly</td><td>0.7</td><td>2024-02-22 19:22:20</td></tr><tr><td>FT5066</td><td>T5066</td><td>unusual_amount</td><td>0.9</td><td>2024-01-25 15:58:10</td></tr><tr><td>FT9870</td><td>T9870</td><td>pattern_anomaly</td><td>0.7</td><td>2024-06-07 22:07:39</td></tr><tr><td>FT6011</td><td>T6011</td><td>unusual_amount</td><td>0.9</td><td>2024-07-09 09:09:14</td></tr><tr><td>FT9546</td><td>T9546</td><td>unusual_amount</td><td>0.9</td><td>2024-05-04 12:24:04</td></tr><tr><td>FT8765</td><td>T8765</td><td>unusual_amount</td><td>0.9</td><td>2024-05-25 11:08:59</td></tr><tr><td>FT4470</td><td>T4470</td><td>unusual_amount</td><td>0.9</td><td>2024-05-18 10:15:33</td></tr><tr><td>FT6226</td><td>T6226</td><td>unusual_amount</td><td>0.9</td><td>2024-06-15 20:57:42</td></tr><tr><td>FT5113</td><td>T5113</td><td>unusual_amount</td><td>0.9</td><td>2024-05-01 06:04:37</td></tr><tr><td>FT3382</td><td>T3382</td><td>velocity_check</td><td>0.8</td><td>2024-01-06 18:09:59</td></tr><tr><td>FT8206</td><td>T8206</td><td>velocity_check</td><td>0.8</td><td>2024-03-04 10:11:36</td></tr><tr><td>FT6472</td><td>T6472</td><td>velocity_check</td><td>0.8</td><td>2024-07-12 01:02:29</td></tr><tr><td>FT1035</td><td>T1035</td><td>unusual_amount</td><td>0.9</td><td>2024-05-22 09:31:28</td></tr><tr><td>FT3535</td><td>T3535</td><td>velocity_check</td><td>0.8</td><td>2024-01-18 01:40:38</td></tr><tr><td>FT3291</td><td>T3291</td><td>unusual_amount</td><td>0.9</td><td>2024-06-05 12:59:23</td></tr><tr><td>FT8591</td><td>T8591</td><td>pattern_anomaly</td><td>0.7</td><td>2024-06-15 16:39:35</td></tr><tr><td>FT4899</td><td>T4899</td><td>unusual_amount</td><td>0.9</td><td>2024-05-01 15:36:52</td></tr><tr><td>FT9108</td><td>T9108</td><td>unusual_amount</td><td>0.9</td><td>2024-05-15 15:33:24</td></tr><tr><td>FT7119</td><td>T7119</td><td>unusual_amount</td><td>0.9</td><td>2024-01-09 09:06:14</td></tr><tr><td>FT3220</td><td>T3220</td><td>unusual_amount</td><td>0.9</td><td>2024-03-15 05:56:54</td></tr><tr><td>FT6557</td><td>T6557</td><td>unusual_amount</td><td>0.9</td><td>2024-06-12 23:14:58</td></tr><tr><td>FT9827</td><td>T9827</td><td>unusual_amount</td><td>0.9</td><td>2024-07-27 22:23:24</td></tr><tr><td>FT4641</td><td>T4641</td><td>unusual_amount</td><td>0.9</td><td>2024-03-01 16:21:02</td></tr><tr><td>FT2171</td><td>T2171</td><td>pattern_anomaly</td><td>0.7</td><td>2024-07-07 08:41:17</td></tr><tr><td>FT5151</td><td>T5151</td><td>unusual_amount</td><td>0.9</td><td>2024-07-08 08:19:25</td></tr><tr><td>FT6414</td><td>T6414</td><td>unusual_amount</td><td>0.9</td><td>2024-06-14 20:07:01</td></tr><tr><td>FT7704</td><td>T7704</td><td>unusual_amount</td><td>0.9</td><td>2024-05-26 12:05:47</td></tr><tr><td>FT1998</td><td>T1998</td><td>unusual_amount</td><td>0.9</td><td>2024-01-27 09:55:55</td></tr><tr><td>FT1228</td><td>T1228</td><td>unusual_amount</td><td>0.9</td><td>2024-03-22 20:09:45</td></tr><tr><td>FT7809</td><td>T7809</td><td>unusual_amount</td><td>0.9</td><td>2024-05-26 20:18:06</td></tr><tr><td>FT5427</td><td>T5427</td><td>unusual_amount</td><td>0.9</td><td>2024-03-25 03:04:58</td></tr><tr><td>FT9263</td><td>T9263</td><td>velocity_check</td><td>0.8</td><td>2024-06-14 00:02:51</td></tr><tr><td>FT4427</td><td>T4427</td><td>pattern_anomaly</td><td>0.7</td><td>2024-07-27 20:29:58</td></tr><tr><td>FT4507</td><td>T4507</td><td>unusual_amount</td><td>0.9</td><td>2024-02-29 15:52:52</td></tr><tr><td>FT3979</td><td>T3979</td><td>unusual_amount</td><td>0.9</td><td>2024-07-19 01:53:20</td></tr><tr><td>FT2170</td><td>T2170</td><td>pattern_anomaly</td><td>0.7</td><td>2024-04-18 19:34:04</td></tr><tr><td>FT9519</td><td>T9519</td><td>pattern_anomaly</td><td>0.7</td><td>2024-04-03 10:27:14</td></tr><tr><td>FT9879</td><td>T9879</td><td>unusual_amount</td><td>0.9</td><td>2024-01-12 04:05:00</td></tr><tr><td>FT3065</td><td>T3065</td><td>unusual_amount</td><td>0.9</td><td>2024-03-17 23:04:51</td></tr><tr><td>FT5450</td><td>T5450</td><td>unusual_amount</td><td>0.9</td><td>2024-01-24 18:25:02</td></tr><tr><td>FT6901</td><td>T6901</td><td>unusual_amount</td><td>0.9</td><td>2024-07-06 02:46:24</td></tr><tr><td>FT8039</td><td>T8039</td><td>unusual_amount</td><td>0.9</td><td>2024-02-09 23:22:16</td></tr><tr><td>FT7690</td><td>T7690</td><td>unusual_amount</td><td>0.9</td><td>2024-01-21 23:29:07</td></tr><tr><td>FT4796</td><td>T4796</td><td>unusual_amount</td><td>0.9</td><td>2024-02-15 01:58:02</td></tr><tr><td>FT2598</td><td>T2598</td><td>unusual_amount</td><td>0.9</td><td>2024-05-19 06:15:39</td></tr><tr><td>FT3031</td><td>T3031</td><td>unusual_amount</td><td>0.9</td><td>2024-03-17 14:35:11</td></tr><tr><td>FT4555</td><td>T4555</td><td>unusual_amount</td><td>0.9</td><td>2024-01-22 22:16:36</td></tr><tr><td>FT9443</td><td>T9443</td><td>unusual_amount</td><td>0.9</td><td>2024-07-25 04:11:11</td></tr><tr><td>FT1412</td><td>T1412</td><td>unusual_amount</td><td>0.9</td><td>2024-01-28 21:45:31</td></tr><tr><td>FT5211</td><td>T5211</td><td>unusual_amount</td><td>0.9</td><td>2024-03-31 19:23:10</td></tr><tr><td>FT1818</td><td>T1818</td><td>unusual_amount</td><td>0.9</td><td>2024-01-02 12:56:56</td></tr><tr><td>FT3869</td><td>T3869</td><td>pattern_anomaly</td><td>0.7</td><td>2024-05-18 14:18:37</td></tr><tr><td>FT1971</td><td>T1971</td><td>velocity_check</td><td>0.8</td><td>2024-04-18 20:48:09</td></tr><tr><td>FT3084</td><td>T3084</td><td>unusual_amount</td><td>0.9</td><td>2024-05-25 10:41:10</td></tr><tr><td>FT1381</td><td>T1381</td><td>unusual_amount</td><td>0.9</td><td>2024-05-28 20:05:46</td></tr><tr><td>FT6891</td><td>T6891</td><td>pattern_anomaly</td><td>0.7</td><td>2024-06-08 08:56:06</td></tr><tr><td>FT3150</td><td>T3150</td><td>unusual_amount</td><td>0.9</td><td>2024-06-23 19:51:43</td></tr><tr><td>FT3181</td><td>T3181</td><td>unusual_amount</td><td>0.9</td><td>2024-05-25 13:28:03</td></tr><tr><td>FT4856</td><td>T4856</td><td>unusual_amount</td><td>0.9</td><td>2024-03-27 20:11:57</td></tr><tr><td>FT9027</td><td>T9027</td><td>unusual_amount</td><td>0.9</td><td>2024-02-06 08:35:42</td></tr><tr><td>FT5484</td><td>T5484</td><td>unusual_amount</td><td>0.9</td><td>2024-06-23 17:42:09</td></tr><tr><td>FT1198</td><td>T1198</td><td>unusual_amount</td><td>0.9</td><td>2024-02-24 18:24:34</td></tr><tr><td>FT8913</td><td>T8913</td><td>unusual_amount</td><td>0.9</td><td>2024-04-26 01:13:29</td></tr><tr><td>FT1484</td><td>T1484</td><td>unusual_amount</td><td>0.9</td><td>2024-05-31 03:05:11</td></tr><tr><td>FT9088</td><td>T9088</td><td>unusual_amount</td><td>0.9</td><td>2024-02-03 10:26:40</td></tr><tr><td>FT1128</td><td>T1128</td><td>pattern_anomaly</td><td>0.7</td><td>2024-05-01 05:17:39</td></tr><tr><td>FT5191</td><td>T5191</td><td>pattern_anomaly</td><td>0.7</td><td>2024-02-10 03:23:33</td></tr><tr><td>FT4512</td><td>T4512</td><td>unusual_amount</td><td>0.9</td><td>2024-06-07 13:31:24</td></tr><tr><td>FT2475</td><td>T2475</td><td>unusual_amount</td><td>0.9</td><td>2024-02-03 00:43:23</td></tr><tr><td>FT3951</td><td>T3951</td><td>unusual_amount</td><td>0.9</td><td>2024-02-04 07:40:10</td></tr><tr><td>FT3345</td><td>T3345</td><td>velocity_check</td><td>0.8</td><td>2024-01-27 02:59:51</td></tr><tr><td>FT2550</td><td>T2550</td><td>unusual_amount</td><td>0.9</td><td>2024-07-18 21:36:44</td></tr><tr><td>FT6043</td><td>T6043</td><td>pattern_anomaly</td><td>0.7</td><td>2024-06-24 10:53:58</td></tr><tr><td>FT2573</td><td>T2573</td><td>pattern_anomaly</td><td>0.7</td><td>2024-01-09 21:54:31</td></tr><tr><td>FT6057</td><td>T6057</td><td>velocity_check</td><td>0.8</td><td>2024-07-02 17:25:15</td></tr><tr><td>FT2613</td><td>T2613</td><td>unusual_amount</td><td>0.9</td><td>2024-07-03 04:10:44</td></tr><tr><td>FT1785</td><td>T1785</td><td>unusual_amount</td><td>0.9</td><td>2024-03-17 07:39:30</td></tr><tr><td>FT6106</td><td>T6106</td><td>unusual_amount</td><td>0.9</td><td>2024-06-04 15:21:32</td></tr><tr><td>FT1689</td><td>T1689</td><td>pattern_anomaly</td><td>0.7</td><td>2024-02-04 14:53:57</td></tr><tr><td>FT9775</td><td>T9775</td><td>velocity_check</td><td>0.8</td><td>2024-05-04 22:33:56</td></tr><tr><td>FT2822</td><td>T2822</td><td>velocity_check</td><td>0.8</td><td>2024-04-23 02:36:50</td></tr><tr><td>FT3455</td><td>T3455</td><td>unusual_amount</td><td>0.9</td><td>2024-07-04 21:26:44</td></tr><tr><td>FT6509</td><td>T6509</td><td>velocity_check</td><td>0.8</td><td>2024-02-01 12:36:09</td></tr><tr><td>FT5378</td><td>T5378</td><td>unusual_amount</td><td>0.9</td><td>2024-06-25 03:56:01</td></tr><tr><td>FT6504</td><td>T6504</td><td>velocity_check</td><td>0.8</td><td>2024-03-01 16:09:12</td></tr><tr><td>FT6989</td><td>T6989</td><td>unusual_amount</td><td>0.9</td><td>2024-07-16 21:45:54</td></tr><tr><td>FT3111</td><td>T3111</td><td>pattern_anomaly</td><td>0.7</td><td>2024-04-13 03:15:01</td></tr><tr><td>FT2878</td><td>T2878</td><td>unusual_amount</td><td>0.9</td><td>2024-02-22 10:14:24</td></tr><tr><td>FT3167</td><td>T3167</td><td>velocity_check</td><td>0.8</td><td>2024-01-18 08:29:00</td></tr><tr><td>FT8000</td><td>T8000</td><td>unusual_amount</td><td>0.9</td><td>2024-02-16 02:38:34</td></tr><tr><td>FT2998</td><td>T2998</td><td>unusual_amount</td><td>0.9</td><td>2024-02-08 21:03:42</td></tr><tr><td>FT3254</td><td>T3254</td><td>unusual_amount</td><td>0.9</td><td>2024-03-12 19:43:27</td></tr><tr><td>FT2439</td><td>T2439</td><td>unusual_amount</td><td>0.9</td><td>2024-07-01 23:52:01</td></tr><tr><td>FT4539</td><td>T4539</td><td>unusual_amount</td><td>0.9</td><td>2024-05-10 16:55:28</td></tr><tr><td>FT3364</td><td>T3364</td><td>velocity_check</td><td>0.8</td><td>2024-04-01 01:49:55</td></tr><tr><td>FT7711</td><td>T7711</td><td>unusual_amount</td><td>0.9</td><td>2024-03-28 21:32:15</td></tr><tr><td>FT5438</td><td>T5438</td><td>pattern_anomaly</td><td>0.7</td><td>2024-03-12 10:06:43</td></tr><tr><td>FT4335</td><td>T4335</td><td>pattern_anomaly</td><td>0.7</td><td>2024-02-26 14:46:14</td></tr><tr><td>FT8929</td><td>T8929</td><td>unusual_amount</td><td>0.9</td><td>2024-02-11 18:27:24</td></tr><tr><td>FT3060</td><td>T3060</td><td>unusual_amount</td><td>0.9</td><td>2024-02-12 23:04:54</td></tr><tr><td>FT9884</td><td>T9884</td><td>unusual_amount</td><td>0.9</td><td>2024-02-14 03:07:51</td></tr><tr><td>FT7732</td><td>T7732</td><td>unusual_amount</td><td>0.9</td><td>2024-03-15 19:41:38</td></tr><tr><td>FT5047</td><td>T5047</td><td>unusual_amount</td><td>0.9</td><td>2024-06-14 13:30:26</td></tr><tr><td>FT2902</td><td>T2902</td><td>unusual_amount</td><td>0.9</td><td>2024-04-09 00:07:52</td></tr><tr><td>FT4444</td><td>T4444</td><td>unusual_amount</td><td>0.9</td><td>2024-04-27 16:50:25</td></tr><tr><td>FT9111</td><td>T9111</td><td>pattern_anomaly</td><td>0.7</td><td>2024-02-23 05:05:30</td></tr><tr><td>FT3952</td><td>T3952</td><td>unusual_amount</td><td>0.9</td><td>2024-01-06 00:54:33</td></tr><tr><td>FT5370</td><td>T5370</td><td>velocity_check</td><td>0.8</td><td>2024-02-25 01:30:57</td></tr><tr><td>FT1812</td><td>T1812</td><td>velocity_check</td><td>0.8</td><td>2024-07-27 17:26:10</td></tr><tr><td>FT4333</td><td>T4333</td><td>velocity_check</td><td>0.8</td><td>2024-07-18 23:03:14</td></tr><tr><td>FT3344</td><td>T3344</td><td>unusual_amount</td><td>0.9</td><td>2024-03-10 09:51:43</td></tr><tr><td>FT2252</td><td>T2252</td><td>unusual_amount</td><td>0.9</td><td>2024-04-30 10:51:16</td></tr><tr><td>FT8964</td><td>T8964</td><td>unusual_amount</td><td>0.9</td><td>2024-07-03 18:35:02</td></tr><tr><td>FT6458</td><td>T6458</td><td>velocity_check</td><td>0.8</td><td>2024-07-28 13:51:01</td></tr><tr><td>FT7313</td><td>T7313</td><td>velocity_check</td><td>0.8</td><td>2024-06-10 17:46:54</td></tr><tr><td>FT6124</td><td>T6124</td><td>velocity_check</td><td>0.8</td><td>2024-01-10 15:46:22</td></tr><tr><td>FT6461</td><td>T6461</td><td>velocity_check</td><td>0.8</td><td>2024-06-20 06:06:18</td></tr><tr><td>FT1801</td><td>T1801</td><td>unusual_amount</td><td>0.9</td><td>2024-05-18 14:40:20</td></tr><tr><td>FT2562</td><td>T2562</td><td>unusual_amount</td><td>0.9</td><td>2024-01-06 07:07:37</td></tr><tr><td>FT1978</td><td>T1978</td><td>velocity_check</td><td>0.8</td><td>2024-04-08 15:32:18</td></tr><tr><td>FT4866</td><td>T4866</td><td>unusual_amount</td><td>0.9</td><td>2024-02-29 15:03:25</td></tr><tr><td>FT2207</td><td>T2207</td><td>velocity_check</td><td>0.8</td><td>2024-04-29 00:56:31</td></tr><tr><td>FT7773</td><td>T7773</td><td>unusual_amount</td><td>0.9</td><td>2024-07-13 21:36:54</td></tr><tr><td>FT1213</td><td>T1213</td><td>unusual_amount</td><td>0.9</td><td>2024-06-29 00:01:55</td></tr><tr><td>FT5156</td><td>T5156</td><td>unusual_amount</td><td>0.9</td><td>2024-03-24 14:25:55</td></tr><tr><td>FT1716</td><td>T1716</td><td>unusual_amount</td><td>0.9</td><td>2024-06-28 01:18:54</td></tr><tr><td>FT3565</td><td>T3565</td><td>unusual_amount</td><td>0.9</td><td>2024-03-28 04:03:04</td></tr><tr><td>FT7182</td><td>T7182</td><td>unusual_amount</td><td>0.9</td><td>2024-04-10 09:11:15</td></tr><tr><td>FT1760</td><td>T1760</td><td>unusual_amount</td><td>0.9</td><td>2024-06-16 22:58:29</td></tr><tr><td>FT6373</td><td>T6373</td><td>unusual_amount</td><td>0.9</td><td>2024-01-12 05:29:48</td></tr><tr><td>FT7253</td><td>T7253</td><td>unusual_amount</td><td>0.9</td><td>2024-05-20 16:04:13</td></tr><tr><td>FT8891</td><td>T8891</td><td>velocity_check</td><td>0.8</td><td>2024-05-30 06:33:50</td></tr><tr><td>FT2401</td><td>T2401</td><td>pattern_anomaly</td><td>0.7</td><td>2024-03-19 04:11:44</td></tr><tr><td>FT7893</td><td>T7893</td><td>unusual_amount</td><td>0.9</td><td>2024-03-01 14:51:00</td></tr><tr><td>FT6407</td><td>T6407</td><td>unusual_amount</td><td>0.9</td><td>2024-06-10 07:02:06</td></tr><tr><td>FT7828</td><td>T7828</td><td>velocity_check</td><td>0.8</td><td>2024-03-24 03:54:38</td></tr><tr><td>FT6726</td><td>T6726</td><td>unusual_amount</td><td>0.9</td><td>2024-03-27 21:51:42</td></tr><tr><td>FT3522</td><td>T3522</td><td>velocity_check</td><td>0.8</td><td>2024-03-06 00:33:16</td></tr><tr><td>FT5522</td><td>T5522</td><td>unusual_amount</td><td>0.9</td><td>2024-04-13 02:12:07</td></tr><tr><td>FT9297</td><td>T9297</td><td>unusual_amount</td><td>0.9</td><td>2024-02-05 19:34:09</td></tr><tr><td>FT6631</td><td>T6631</td><td>unusual_amount</td><td>0.9</td><td>2024-04-27 11:30:46</td></tr><tr><td>FT7071</td><td>T7071</td><td>unusual_amount</td><td>0.9</td><td>2024-06-26 05:54:24</td></tr><tr><td>FT9609</td><td>T9609</td><td>unusual_amount</td><td>0.9</td><td>2024-07-09 01:55:34</td></tr><tr><td>FT5477</td><td>T5477</td><td>unusual_amount</td><td>0.9</td><td>2024-06-16 07:47:26</td></tr><tr><td>FT1900</td><td>T1900</td><td>unusual_amount</td><td>0.9</td><td>2024-06-24 02:25:39</td></tr><tr><td>FT4299</td><td>T4299</td><td>unusual_amount</td><td>0.9</td><td>2024-03-30 14:44:22</td></tr><tr><td>FT2371</td><td>T2371</td><td>pattern_anomaly</td><td>0.7</td><td>2024-04-30 07:21:25</td></tr><tr><td>FT6372</td><td>T6372</td><td>pattern_anomaly</td><td>0.7</td><td>2024-03-18 06:53:21</td></tr><tr><td>FT3664</td><td>T3664</td><td>velocity_check</td><td>0.8</td><td>2024-06-12 20:39:28</td></tr><tr><td>FT6576</td><td>T6576</td><td>unusual_amount</td><td>0.9</td><td>2024-01-24 11:51:50</td></tr><tr><td>FT5486</td><td>T5486</td><td>unusual_amount</td><td>0.9</td><td>2024-06-30 04:53:19</td></tr><tr><td>FT4023</td><td>T4023</td><td>unusual_amount</td><td>0.9</td><td>2024-06-14 23:11:46</td></tr><tr><td>FT8017</td><td>T8017</td><td>velocity_check</td><td>0.8</td><td>2024-07-30 22:56:53</td></tr><tr><td>FT8197</td><td>T8197</td><td>unusual_amount</td><td>0.9</td><td>2024-05-14 19:20:40</td></tr><tr><td>FT3667</td><td>T3667</td><td>unusual_amount</td><td>0.9</td><td>2024-07-09 00:20:54</td></tr><tr><td>FT5429</td><td>T5429</td><td>velocity_check</td><td>0.8</td><td>2024-07-05 06:22:59</td></tr><tr><td>FT7621</td><td>T7621</td><td>unusual_amount</td><td>0.9</td><td>2024-03-17 16:08:01</td></tr><tr><td>FT7697</td><td>T7697</td><td>pattern_anomaly</td><td>0.7</td><td>2024-01-02 18:34:03</td></tr><tr><td>FT7293</td><td>T7293</td><td>unusual_amount</td><td>0.9</td><td>2024-05-13 16:24:13</td></tr><tr><td>FT2285</td><td>T2285</td><td>unusual_amount</td><td>0.9</td><td>2024-07-05 16:50:08</td></tr><tr><td>FT8114</td><td>T8114</td><td>pattern_anomaly</td><td>0.7</td><td>2024-02-06 07:43:41</td></tr><tr><td>FT9773</td><td>T9773</td><td>unusual_amount</td><td>0.9</td><td>2024-02-12 11:40:30</td></tr><tr><td>FT7242</td><td>T7242</td><td>pattern_anomaly</td><td>0.7</td><td>2024-05-23 16:03:00</td></tr><tr><td>FT8544</td><td>T8544</td><td>pattern_anomaly</td><td>0.7</td><td>2024-06-14 09:51:07</td></tr><tr><td>FT2818</td><td>T2818</td><td>unusual_amount</td><td>0.9</td><td>2024-07-02 12:53:21</td></tr><tr><td>FT5345</td><td>T5345</td><td>pattern_anomaly</td><td>0.7</td><td>2024-03-29 03:58:21</td></tr><tr><td>FT9549</td><td>T9549</td><td>unusual_amount</td><td>0.9</td><td>2024-07-23 08:26:30</td></tr><tr><td>FT8425</td><td>T8425</td><td>pattern_anomaly</td><td>0.7</td><td>2024-06-02 19:04:59</td></tr><tr><td>FT6319</td><td>T6319</td><td>unusual_amount</td><td>0.9</td><td>2024-06-08 15:13:56</td></tr><tr><td>FT5319</td><td>T5319</td><td>pattern_anomaly</td><td>0.7</td><td>2024-02-12 01:22:50</td></tr><tr><td>FT6491</td><td>T6491</td><td>unusual_amount</td><td>0.9</td><td>2024-03-05 20:32:50</td></tr><tr><td>FT4372</td><td>T4372</td><td>unusual_amount</td><td>0.9</td><td>2024-07-03 23:11:49</td></tr><tr><td>FT1049</td><td>T1049</td><td>unusual_amount</td><td>0.9</td><td>2024-03-03 01:17:18</td></tr><tr><td>FT5208</td><td>T5208</td><td>unusual_amount</td><td>0.9</td><td>2024-05-26 21:03:24</td></tr><tr><td>FT6234</td><td>T6234</td><td>unusual_amount</td><td>0.9</td><td>2024-03-16 07:54:21</td></tr><tr><td>FT4390</td><td>T4390</td><td>unusual_amount</td><td>0.9</td><td>2024-07-11 16:44:12</td></tr><tr><td>FT2422</td><td>T2422</td><td>unusual_amount</td><td>0.9</td><td>2024-04-04 04:01:41</td></tr><tr><td>FT9821</td><td>T9821</td><td>velocity_check</td><td>0.8</td><td>2024-03-11 03:03:26</td></tr><tr><td>FT2088</td><td>T2088</td><td>velocity_check</td><td>0.8</td><td>2024-02-05 20:02:41</td></tr><tr><td>FT9654</td><td>T9654</td><td>pattern_anomaly</td><td>0.7</td><td>2024-01-02 05:53:07</td></tr><tr><td>FT9286</td><td>T9286</td><td>unusual_amount</td><td>0.9</td><td>2024-05-03 08:11:16</td></tr><tr><td>FT4198</td><td>T4198</td><td>unusual_amount</td><td>0.9</td><td>2024-02-26 22:25:20</td></tr><tr><td>FT8763</td><td>T8763</td><td>pattern_anomaly</td><td>0.7</td><td>2024-03-31 00:41:40</td></tr><tr><td>FT3015</td><td>T3015</td><td>unusual_amount</td><td>0.9</td><td>2024-04-11 02:08:06</td></tr><tr><td>FT2635</td><td>T2635</td><td>pattern_anomaly</td><td>0.7</td><td>2024-01-12 00:45:21</td></tr><tr><td>FT7508</td><td>T7508</td><td>unusual_amount</td><td>0.9</td><td>2024-06-01 05:28:57</td></tr><tr><td>FT9435</td><td>T9435</td><td>unusual_amount</td><td>0.9</td><td>2024-06-23 00:47:01</td></tr><tr><td>FT6910</td><td>T6910</td><td>pattern_anomaly</td><td>0.7</td><td>2024-06-18 14:17:49</td></tr><tr><td>FT4963</td><td>T4963</td><td>unusual_amount</td><td>0.9</td><td>2024-02-02 05:14:16</td></tr><tr><td>FT2249</td><td>T2249</td><td>unusual_amount</td><td>0.9</td><td>2024-02-18 06:26:38</td></tr><tr><td>FT8359</td><td>T8359</td><td>velocity_check</td><td>0.8</td><td>2024-06-05 08:28:47</td></tr><tr><td>FT6688</td><td>T6688</td><td>velocity_check</td><td>0.8</td><td>2024-03-12 06:40:20</td></tr><tr><td>FT9033</td><td>T9033</td><td>unusual_amount</td><td>0.9</td><td>2024-03-04 17:44:14</td></tr><tr><td>FT4008</td><td>T4008</td><td>unusual_amount</td><td>0.9</td><td>2024-06-21 17:05:12</td></tr><tr><td>FT7300</td><td>T7300</td><td>unusual_amount</td><td>0.9</td><td>2024-02-17 07:13:37</td></tr><tr><td>FT6884</td><td>T6884</td><td>unusual_amount</td><td>0.9</td><td>2024-03-08 11:43:39</td></tr><tr><td>FT3096</td><td>T3096</td><td>velocity_check</td><td>0.8</td><td>2024-02-29 07:11:47</td></tr><tr><td>FT5591</td><td>T5591</td><td>pattern_anomaly</td><td>0.7</td><td>2024-04-25 14:48:41</td></tr><tr><td>FT2580</td><td>T2580</td><td>unusual_amount</td><td>0.9</td><td>2024-01-06 22:55:37</td></tr><tr><td>FT5717</td><td>T5717</td><td>unusual_amount</td><td>0.9</td><td>2024-06-29 04:47:55</td></tr><tr><td>FT1085</td><td>T1085</td><td>unusual_amount</td><td>0.9</td><td>2024-06-21 22:06:25</td></tr><tr><td>FT2491</td><td>T2491</td><td>pattern_anomaly</td><td>0.7</td><td>2024-04-18 10:05:37</td></tr><tr><td>FT9875</td><td>T9875</td><td>velocity_check</td><td>0.8</td><td>2024-05-03 14:30:35</td></tr><tr><td>FT9530</td><td>T9530</td><td>unusual_amount</td><td>0.9</td><td>2024-02-22 18:08:25</td></tr><tr><td>FT1533</td><td>T1533</td><td>velocity_check</td><td>0.8</td><td>2024-05-17 08:06:04</td></tr><tr><td>FT4472</td><td>T4472</td><td>unusual_amount</td><td>0.9</td><td>2024-06-29 09:42:45</td></tr><tr><td>FT3652</td><td>T3652</td><td>velocity_check</td><td>0.8</td><td>2024-07-19 08:20:01</td></tr><tr><td>FT4995</td><td>T4995</td><td>unusual_amount</td><td>0.9</td><td>2024-02-05 23:06:18</td></tr><tr><td>FT1896</td><td>T1896</td><td>pattern_anomaly</td><td>0.7</td><td>2024-02-11 05:06:28</td></tr><tr><td>FT2309</td><td>T2309</td><td>unusual_amount</td><td>0.9</td><td>2024-07-11 16:57:22</td></tr><tr><td>FT3526</td><td>T3526</td><td>unusual_amount</td><td>0.9</td><td>2024-05-28 21:22:43</td></tr><tr><td>FT2488</td><td>T2488</td><td>velocity_check</td><td>0.8</td><td>2024-01-30 13:54:59</td></tr><tr><td>FT1567</td><td>T1567</td><td>unusual_amount</td><td>0.9</td><td>2024-02-24 06:30:33</td></tr><tr><td>FT2367</td><td>T2367</td><td>unusual_amount</td><td>0.9</td><td>2024-07-15 21:17:52</td></tr><tr><td>FT4893</td><td>T4893</td><td>unusual_amount</td><td>0.9</td><td>2024-02-11 03:21:15</td></tr><tr><td>FT9583</td><td>T9583</td><td>unusual_amount</td><td>0.9</td><td>2024-02-14 19:17:18</td></tr><tr><td>FT8948</td><td>T8948</td><td>velocity_check</td><td>0.8</td><td>2024-05-09 22:43:12</td></tr><tr><td>FT6900</td><td>T6900</td><td>unusual_amount</td><td>0.9</td><td>2024-03-08 15:16:53</td></tr><tr><td>FT7812</td><td>T7812</td><td>unusual_amount</td><td>0.9</td><td>2024-02-20 00:49:31</td></tr><tr><td>FT9315</td><td>T9315</td><td>unusual_amount</td><td>0.9</td><td>2024-05-28 09:50:16</td></tr><tr><td>FT9523</td><td>T9523</td><td>unusual_amount</td><td>0.9</td><td>2024-01-07 23:05:07</td></tr><tr><td>FT4510</td><td>T4510</td><td>pattern_anomaly</td><td>0.7</td><td>2024-02-19 12:02:50</td></tr><tr><td>FT2397</td><td>T2397</td><td>pattern_anomaly</td><td>0.7</td><td>2024-06-17 12:46:45</td></tr><tr><td>FT9754</td><td>T9754</td><td>unusual_amount</td><td>0.9</td><td>2024-03-03 17:50:22</td></tr><tr><td>FT6835</td><td>T6835</td><td>unusual_amount</td><td>0.9</td><td>2024-02-26 22:29:22</td></tr><tr><td>FT6197</td><td>T6197</td><td>unusual_amount</td><td>0.9</td><td>2024-04-18 18:55:35</td></tr><tr><td>FT6835</td><td>T6835</td><td>unusual_amount</td><td>0.9</td><td>2024-02-26 22:14:18</td></tr><tr><td>FT3427</td><td>T3427</td><td>unusual_amount</td><td>0.9</td><td>2024-07-11 03:06:57</td></tr><tr><td>FT8499</td><td>T8499</td><td>velocity_check</td><td>0.8</td><td>2024-01-08 07:03:38</td></tr><tr><td>FT6235</td><td>T6235</td><td>unusual_amount</td><td>0.9</td><td>2024-03-01 00:01:36</td></tr><tr><td>FT4487</td><td>T4487</td><td>unusual_amount</td><td>0.9</td><td>2024-06-19 01:58:32</td></tr><tr><td>FT7587</td><td>T7587</td><td>unusual_amount</td><td>0.9</td><td>2024-02-10 02:07:45</td></tr><tr><td>FT8040</td><td>T8040</td><td>unusual_amount</td><td>0.9</td><td>2024-02-12 13:43:53</td></tr><tr><td>FT2060</td><td>T2060</td><td>velocity_check</td><td>0.8</td><td>2024-02-03 00:58:49</td></tr><tr><td>FT2907</td><td>T2907</td><td>unusual_amount</td><td>0.9</td><td>2024-05-01 23:14:52</td></tr><tr><td>FT8848</td><td>T8848</td><td>velocity_check</td><td>0.8</td><td>2024-03-14 03:50:51</td></tr><tr><td>FT8042</td><td>T8042</td><td>velocity_check</td><td>0.8</td><td>2024-06-16 15:18:00</td></tr><tr><td>FT9792</td><td>T9792</td><td>pattern_anomaly</td><td>0.7</td><td>2024-06-18 04:34:43</td></tr><tr><td>FT6744</td><td>T6744</td><td>unusual_amount</td><td>0.9</td><td>2024-02-24 17:15:38</td></tr><tr><td>FT3214</td><td>T3214</td><td>unusual_amount</td><td>0.9</td><td>2024-05-08 07:13:01</td></tr><tr><td>FT7328</td><td>T7328</td><td>pattern_anomaly</td><td>0.7</td><td>2024-07-02 02:00:10</td></tr><tr><td>FT9713</td><td>T9713</td><td>unusual_amount</td><td>0.9</td><td>2024-03-27 21:03:04</td></tr><tr><td>FT2954</td><td>T2954</td><td>unusual_amount</td><td>0.9</td><td>2024-01-25 21:41:23</td></tr><tr><td>FT6677</td><td>T6677</td><td>unusual_amount</td><td>0.9</td><td>2024-05-14 17:01:40</td></tr><tr><td>FT8609</td><td>T8609</td><td>pattern_anomaly</td><td>0.7</td><td>2024-04-27 11:46:18</td></tr><tr><td>FT1075</td><td>T1075</td><td>unusual_amount</td><td>0.9</td><td>2024-04-16 01:43:52</td></tr><tr><td>FT4391</td><td>T4391</td><td>unusual_amount</td><td>0.9</td><td>2024-02-16 19:45:28</td></tr><tr><td>FT9471</td><td>T9471</td><td>unusual_amount</td><td>0.9</td><td>2024-02-14 06:42:27</td></tr><tr><td>FT6577</td><td>T6577</td><td>unusual_amount</td><td>0.9</td><td>2024-03-06 01:14:48</td></tr><tr><td>FT8003</td><td>T8003</td><td>unusual_amount</td><td>0.9</td><td>2024-04-16 20:26:38</td></tr><tr><td>FT1967</td><td>T1967</td><td>pattern_anomaly</td><td>0.7</td><td>2024-02-28 19:32:34</td></tr><tr><td>FT7114</td><td>T7114</td><td>velocity_check</td><td>0.8</td><td>2024-06-17 06:29:14</td></tr><tr><td>FT1375</td><td>T1375</td><td>pattern_anomaly</td><td>0.7</td><td>2024-05-25 04:48:34</td></tr><tr><td>FT1850</td><td>T1850</td><td>velocity_check</td><td>0.8</td><td>2024-04-05 09:37:35</td></tr><tr><td>FT8558</td><td>T8558</td><td>unusual_amount</td><td>0.9</td><td>2024-05-12 22:48:36</td></tr><tr><td>FT5701</td><td>T5701</td><td>unusual_amount</td><td>0.9</td><td>2024-01-20 01:50:40</td></tr><tr><td>FT5931</td><td>T5931</td><td>velocity_check</td><td>0.8</td><td>2024-01-06 09:04:45</td></tr><tr><td>FT3824</td><td>T3824</td><td>unusual_amount</td><td>0.9</td><td>2024-04-19 04:10:42</td></tr><tr><td>FT2643</td><td>T2643</td><td>velocity_check</td><td>0.8</td><td>2024-07-10 10:24:33</td></tr><tr><td>FT4281</td><td>T4281</td><td>pattern_anomaly</td><td>0.7</td><td>2024-06-01 03:21:16</td></tr><tr><td>FT3034</td><td>T3034</td><td>velocity_check</td><td>0.8</td><td>2024-06-26 05:51:16</td></tr><tr><td>FT1862</td><td>T1862</td><td>pattern_anomaly</td><td>0.7</td><td>2024-06-29 02:02:11</td></tr><tr><td>FT4258</td><td>T4258</td><td>unusual_amount</td><td>0.9</td><td>2024-02-13 03:15:32</td></tr><tr><td>FT1554</td><td>T1554</td><td>velocity_check</td><td>0.8</td><td>2024-03-08 10:01:27</td></tr><tr><td>FT7535</td><td>T7535</td><td>velocity_check</td><td>0.8</td><td>2024-02-19 01:36:14</td></tr><tr><td>FT4177</td><td>T4177</td><td>unusual_amount</td><td>0.9</td><td>2024-04-21 18:52:47</td></tr><tr><td>FT9612</td><td>T9612</td><td>unusual_amount</td><td>0.9</td><td>2024-05-31 04:33:39</td></tr><tr><td>FT3789</td><td>T3789</td><td>unusual_amount</td><td>0.9</td><td>2024-02-28 04:33:58</td></tr><tr><td>FT1399</td><td>T1399</td><td>velocity_check</td><td>0.8</td><td>2024-04-09 21:36:06</td></tr><tr><td>FT1854</td><td>T1854</td><td>unusual_amount</td><td>0.9</td><td>2024-04-30 18:13:46</td></tr><tr><td>FT7120</td><td>T7120</td><td>unusual_amount</td><td>0.9</td><td>2024-02-02 02:03:37</td></tr><tr><td>FT8312</td><td>T8312</td><td>unusual_amount</td><td>0.9</td><td>2024-06-09 18:08:46</td></tr><tr><td>FT6432</td><td>T6432</td><td>unusual_amount</td><td>0.9</td><td>2024-04-11 20:49:36</td></tr><tr><td>FT5050</td><td>T5050</td><td>unusual_amount</td><td>0.9</td><td>2024-06-22 21:32:14</td></tr><tr><td>FT3499</td><td>T3499</td><td>unusual_amount</td><td>0.9</td><td>2024-03-06 01:26:30</td></tr><tr><td>FT3579</td><td>T3579</td><td>unusual_amount</td><td>0.9</td><td>2024-03-25 00:52:19</td></tr><tr><td>FT7501</td><td>T7501</td><td>unusual_amount</td><td>0.9</td><td>2024-07-28 05:49:40</td></tr><tr><td>FT7444</td><td>T7444</td><td>unusual_amount</td><td>0.9</td><td>2024-04-07 22:41:24</td></tr><tr><td>FT5102</td><td>T5102</td><td>unusual_amount</td><td>0.9</td><td>2024-04-06 14:31:07</td></tr><tr><td>FT2932</td><td>T2932</td><td>pattern_anomaly</td><td>0.7</td><td>2024-01-07 12:03:13</td></tr><tr><td>FT7924</td><td>T7924</td><td>unusual_amount</td><td>0.9</td><td>2024-06-16 16:04:02</td></tr><tr><td>FT1175</td><td>T1175</td><td>unusual_amount</td><td>0.9</td><td>2024-02-01 22:46:44</td></tr><tr><td>FT6281</td><td>T6281</td><td>unusual_amount</td><td>0.9</td><td>2024-01-18 12:10:19</td></tr><tr><td>FT4815</td><td>T4815</td><td>pattern_anomaly</td><td>0.7</td><td>2024-02-21 00:02:35</td></tr><tr><td>FT2075</td><td>T2075</td><td>pattern_anomaly</td><td>0.7</td><td>2024-06-17 03:24:13</td></tr><tr><td>FT7744</td><td>T7744</td><td>unusual_amount</td><td>0.9</td><td>2024-04-13 01:52:31</td></tr><tr><td>FT8942</td><td>T8942</td><td>velocity_check</td><td>0.8</td><td>2024-01-06 17:28:32</td></tr><tr><td>FT9877</td><td>T9877</td><td>pattern_anomaly</td><td>0.7</td><td>2024-02-10 02:25:53</td></tr><tr><td>FT8581</td><td>T8581</td><td>unusual_amount</td><td>0.9</td><td>2024-03-13 07:08:18</td></tr><tr><td>FT3351</td><td>T3351</td><td>unusual_amount</td><td>0.9</td><td>2024-02-27 18:07:34</td></tr><tr><td>FT8262</td><td>T8262</td><td>unusual_amount</td><td>0.9</td><td>2024-04-25 04:44:34</td></tr><tr><td>FT9645</td><td>T9645</td><td>unusual_amount</td><td>0.9</td><td>2024-05-10 15:10:54</td></tr><tr><td>FT4907</td><td>T4907</td><td>unusual_amount</td><td>0.9</td><td>2024-01-03 00:35:12</td></tr><tr><td>FT8266</td><td>T8266</td><td>velocity_check</td><td>0.8</td><td>2024-01-20 16:33:08</td></tr><tr><td>FT6809</td><td>T6809</td><td>unusual_amount</td><td>0.9</td><td>2024-05-06 17:12:57</td></tr><tr><td>FT9643</td><td>T9643</td><td>pattern_anomaly</td><td>0.7</td><td>2024-06-03 07:33:59</td></tr><tr><td>FT7249</td><td>T7249</td><td>unusual_amount</td><td>0.9</td><td>2024-02-22 06:07:18</td></tr><tr><td>FT1364</td><td>T1364</td><td>unusual_amount</td><td>0.9</td><td>2024-02-27 01:17:12</td></tr><tr><td>FT8639</td><td>T8639</td><td>unusual_amount</td><td>0.9</td><td>2024-01-28 22:43:03</td></tr><tr><td>FT3972</td><td>T3972</td><td>unusual_amount</td><td>0.9</td><td>2024-07-29 20:44:14</td></tr><tr><td>FT8839</td><td>T8839</td><td>unusual_amount</td><td>0.9</td><td>2024-01-23 18:32:45</td></tr><tr><td>FT8073</td><td>T8073</td><td>pattern_anomaly</td><td>0.7</td><td>2024-06-04 06:24:09</td></tr><tr><td>FT6664</td><td>T6664</td><td>unusual_amount</td><td>0.9</td><td>2024-04-24 17:52:03</td></tr><tr><td>FT5884</td><td>T5884</td><td>unusual_amount</td><td>0.9</td><td>2024-06-07 00:52:01</td></tr><tr><td>FT9128</td><td>T9128</td><td>pattern_anomaly</td><td>0.7</td><td>2024-01-24 23:40:15</td></tr><tr><td>FT9230</td><td>T9230</td><td>unusual_amount</td><td>0.9</td><td>2024-02-26 06:49:12</td></tr><tr><td>FT9399</td><td>T9399</td><td>unusual_amount</td><td>0.9</td><td>2024-02-12 04:52:49</td></tr><tr><td>FT8472</td><td>T8472</td><td>unusual_amount</td><td>0.9</td><td>2024-01-16 08:57:40</td></tr><tr><td>FT7835</td><td>T7835</td><td>unusual_amount</td><td>0.9</td><td>2024-05-08 12:38:34</td></tr><tr><td>FT4681</td><td>T4681</td><td>unusual_amount</td><td>0.9</td><td>2024-05-10 17:20:07</td></tr><tr><td>FT1534</td><td>T1534</td><td>unusual_amount</td><td>0.9</td><td>2024-03-15 04:01:21</td></tr><tr><td>FT9017</td><td>T9017</td><td>unusual_amount</td><td>0.9</td><td>2024-03-10 05:23:44</td></tr><tr><td>FT4044</td><td>T4044</td><td>unusual_amount</td><td>0.9</td><td>2024-03-18 05:04:55</td></tr><tr><td>FT5610</td><td>T5610</td><td>unusual_amount</td><td>0.9</td><td>2024-02-05 11:35:05</td></tr><tr><td>FT4821</td><td>T4821</td><td>unusual_amount</td><td>0.9</td><td>2024-05-13 20:49:44</td></tr><tr><td>FT2907</td><td>T2907</td><td>unusual_amount</td><td>0.9</td><td>2024-04-05 15:02:33</td></tr><tr><td>FT8901</td><td>T8901</td><td>unusual_amount</td><td>0.9</td><td>2024-01-24 03:26:33</td></tr><tr><td>FT3805</td><td>T3805</td><td>velocity_check</td><td>0.8</td><td>2024-01-01 21:28:51</td></tr><tr><td>FT9179</td><td>T9179</td><td>unusual_amount</td><td>0.9</td><td>2024-03-01 03:21:39</td></tr><tr><td>FT8244</td><td>T8244</td><td>unusual_amount</td><td>0.9</td><td>2024-07-15 11:13:31</td></tr><tr><td>FT8356</td><td>T8356</td><td>unusual_amount</td><td>0.9</td><td>2024-03-26 18:24:11</td></tr><tr><td>FT8836</td><td>T8836</td><td>velocity_check</td><td>0.8</td><td>2024-06-02 21:03:08</td></tr><tr><td>FT5193</td><td>T5193</td><td>unusual_amount</td><td>0.9</td><td>2024-06-20 08:37:19</td></tr><tr><td>FT5391</td><td>T5391</td><td>unusual_amount</td><td>0.9</td><td>2024-01-13 03:38:24</td></tr><tr><td>FT5229</td><td>T5229</td><td>unusual_amount</td><td>0.9</td><td>2024-05-23 07:18:31</td></tr><tr><td>FT7078</td><td>T7078</td><td>unusual_amount</td><td>0.9</td><td>2024-07-18 06:38:52</td></tr><tr><td>FT9885</td><td>T9885</td><td>unusual_amount</td><td>0.9</td><td>2024-03-05 16:48:27</td></tr><tr><td>FT8191</td><td>T8191</td><td>pattern_anomaly</td><td>0.7</td><td>2024-03-17 23:56:40</td></tr><tr><td>FT4700</td><td>T4700</td><td>unusual_amount</td><td>0.9</td><td>2024-06-26 07:15:53</td></tr><tr><td>FT8470</td><td>T8470</td><td>unusual_amount</td><td>0.9</td><td>2024-06-19 05:57:36</td></tr><tr><td>FT3071</td><td>T3071</td><td>unusual_amount</td><td>0.9</td><td>2024-06-05 20:27:00</td></tr><tr><td>FT6061</td><td>T6061</td><td>unusual_amount</td><td>0.9</td><td>2024-07-01 14:32:08</td></tr><tr><td>FT8015</td><td>T8015</td><td>unusual_amount</td><td>0.9</td><td>2024-02-27 07:59:58</td></tr><tr><td>FT9212</td><td>T9212</td><td>unusual_amount</td><td>0.9</td><td>2024-02-25 22:27:08</td></tr><tr><td>FT6471</td><td>T6471</td><td>pattern_anomaly</td><td>0.7</td><td>2024-04-27 17:23:44</td></tr><tr><td>FT2568</td><td>T2568</td><td>unusual_amount</td><td>0.9</td><td>2024-07-13 17:06:34</td></tr><tr><td>FT2502</td><td>T2502</td><td>unusual_amount</td><td>0.9</td><td>2024-06-22 01:53:57</td></tr><tr><td>FT7409</td><td>T7409</td><td>unusual_amount</td><td>0.9</td><td>2024-01-04 05:23:16</td></tr><tr><td>FT2863</td><td>T2863</td><td>velocity_check</td><td>0.8</td><td>2024-07-11 01:51:33</td></tr><tr><td>FT5363</td><td>T5363</td><td>unusual_amount</td><td>0.9</td><td>2024-05-05 17:41:46</td></tr><tr><td>FT6510</td><td>T6510</td><td>unusual_amount</td><td>0.9</td><td>2024-01-18 03:35:00</td></tr><tr><td>FT8021</td><td>T8021</td><td>velocity_check</td><td>0.8</td><td>2024-02-25 05:03:22</td></tr><tr><td>FT5045</td><td>T5045</td><td>unusual_amount</td><td>0.9</td><td>2024-04-26 07:13:27</td></tr><tr><td>FT9587</td><td>T9587</td><td>unusual_amount</td><td>0.9</td><td>2024-04-19 05:52:38</td></tr><tr><td>FT1926</td><td>T1926</td><td>unusual_amount</td><td>0.9</td><td>2024-01-09 19:44:23</td></tr><tr><td>FT6567</td><td>T6567</td><td>unusual_amount</td><td>0.9</td><td>2024-04-01 12:38:00</td></tr><tr><td>FT3589</td><td>T3589</td><td>unusual_amount</td><td>0.9</td><td>2024-01-03 00:05:35</td></tr><tr><td>FT7977</td><td>T7977</td><td>unusual_amount</td><td>0.9</td><td>2024-06-15 20:41:44</td></tr><tr><td>FT5225</td><td>T5225</td><td>unusual_amount</td><td>0.9</td><td>2024-02-18 19:54:08</td></tr><tr><td>FT9829</td><td>T9829</td><td>pattern_anomaly</td><td>0.7</td><td>2024-05-03 22:52:55</td></tr><tr><td>FT2913</td><td>T2913</td><td>unusual_amount</td><td>0.9</td><td>2024-01-24 18:57:41</td></tr><tr><td>FT7953</td><td>T7953</td><td>pattern_anomaly</td><td>0.7</td><td>2024-05-13 23:52:47</td></tr><tr><td>FT3671</td><td>T3671</td><td>pattern_anomaly</td><td>0.7</td><td>2024-07-19 08:55:07</td></tr><tr><td>FT7632</td><td>T7632</td><td>unusual_amount</td><td>0.9</td><td>2024-04-29 07:38:56</td></tr><tr><td>FT6917</td><td>T6917</td><td>pattern_anomaly</td><td>0.7</td><td>2024-04-15 08:44:24</td></tr><tr><td>FT6763</td><td>T6763</td><td>unusual_amount</td><td>0.9</td><td>2024-02-03 04:13:53</td></tr><tr><td>FT1125</td><td>T1125</td><td>unusual_amount</td><td>0.9</td><td>2024-06-17 07:26:56</td></tr><tr><td>FT3673</td><td>T3673</td><td>velocity_check</td><td>0.8</td><td>2024-02-21 04:32:01</td></tr><tr><td>FT5857</td><td>T5857</td><td>pattern_anomaly</td><td>0.7</td><td>2024-01-18 11:31:34</td></tr><tr><td>FT7411</td><td>T7411</td><td>velocity_check</td><td>0.8</td><td>2024-07-13 17:03:52</td></tr><tr><td>FT2669</td><td>T2669</td><td>velocity_check</td><td>0.8</td><td>2024-06-22 07:10:52</td></tr><tr><td>FT6876</td><td>T6876</td><td>unusual_amount</td><td>0.9</td><td>2024-06-21 18:46:45</td></tr><tr><td>FT3550</td><td>T3550</td><td>unusual_amount</td><td>0.9</td><td>2024-04-24 08:17:16</td></tr><tr><td>FT6418</td><td>T6418</td><td>unusual_amount</td><td>0.9</td><td>2024-02-02 02:15:06</td></tr><tr><td>FT7375</td><td>T7375</td><td>pattern_anomaly</td><td>0.7</td><td>2024-01-21 14:21:30</td></tr><tr><td>FT2083</td><td>T2083</td><td>unusual_amount</td><td>0.9</td><td>2024-03-12 07:27:01</td></tr><tr><td>FT3169</td><td>T3169</td><td>velocity_check</td><td>0.8</td><td>2024-03-01 00:00:37</td></tr><tr><td>FT8443</td><td>T8443</td><td>unusual_amount</td><td>0.9</td><td>2024-07-04 18:02:10</td></tr><tr><td>FT9745</td><td>T9745</td><td>unusual_amount</td><td>0.9</td><td>2024-05-31 21:55:46</td></tr><tr><td>FT8255</td><td>T8255</td><td>pattern_anomaly</td><td>0.7</td><td>2024-04-17 06:43:39</td></tr><tr><td>FT8201</td><td>T8201</td><td>unusual_amount</td><td>0.9</td><td>2024-04-29 22:59:27</td></tr><tr><td>FT2518</td><td>T2518</td><td>pattern_anomaly</td><td>0.7</td><td>2024-02-03 05:23:08</td></tr><tr><td>FT4528</td><td>T4528</td><td>unusual_amount</td><td>0.9</td><td>2024-05-10 01:26:47</td></tr><tr><td>FT4484</td><td>T4484</td><td>unusual_amount</td><td>0.9</td><td>2024-02-12 04:49:08</td></tr><tr><td>FT6268</td><td>T6268</td><td>unusual_amount</td><td>0.9</td><td>2024-05-02 13:33:32</td></tr><tr><td>FT5015</td><td>T5015</td><td>velocity_check</td><td>0.8</td><td>2024-04-14 22:05:08</td></tr><tr><td>FT2485</td><td>T2485</td><td>unusual_amount</td><td>0.9</td><td>2024-02-03 11:57:23</td></tr><tr><td>FT6722</td><td>T6722</td><td>unusual_amount</td><td>0.9</td><td>2024-02-19 11:02:35</td></tr><tr><td>FT8417</td><td>T8417</td><td>unusual_amount</td><td>0.9</td><td>2024-04-15 03:25:03</td></tr><tr><td>FT3283</td><td>T3283</td><td>unusual_amount</td><td>0.9</td><td>2024-05-28 19:22:23</td></tr><tr><td>FT2079</td><td>T2079</td><td>unusual_amount</td><td>0.9</td><td>2024-04-11 03:06:48</td></tr><tr><td>FT9696</td><td>T9696</td><td>velocity_check</td><td>0.8</td><td>2024-01-05 07:23:03</td></tr><tr><td>FT4580</td><td>T4580</td><td>velocity_check</td><td>0.8</td><td>2024-03-18 01:06:50</td></tr><tr><td>FT7131</td><td>T7131</td><td>velocity_check</td><td>0.8</td><td>2024-05-13 23:55:46</td></tr><tr><td>FT4846</td><td>T4846</td><td>unusual_amount</td><td>0.9</td><td>2024-05-21 20:05:01</td></tr><tr><td>FT6775</td><td>T6775</td><td>unusual_amount</td><td>0.9</td><td>2024-07-22 15:50:59</td></tr><tr><td>FT1738</td><td>T1738</td><td>unusual_amount</td><td>0.9</td><td>2024-03-28 16:06:18</td></tr><tr><td>FT6522</td><td>T6522</td><td>velocity_check</td><td>0.8</td><td>2024-07-24 14:50:24</td></tr><tr><td>FT3650</td><td>T3650</td><td>velocity_check</td><td>0.8</td><td>2024-03-04 01:12:10</td></tr><tr><td>FT7145</td><td>T7145</td><td>unusual_amount</td><td>0.9</td><td>2024-03-03 07:10:13</td></tr><tr><td>FT5658</td><td>T5658</td><td>unusual_amount</td><td>0.9</td><td>2024-02-14 08:23:01</td></tr><tr><td>FT3495</td><td>T3495</td><td>velocity_check</td><td>0.8</td><td>2024-02-11 00:03:13</td></tr><tr><td>FT7569</td><td>T7569</td><td>unusual_amount</td><td>0.9</td><td>2024-06-16 02:38:50</td></tr><tr><td>FT4590</td><td>T4590</td><td>pattern_anomaly</td><td>0.7</td><td>2024-05-13 02:35:14</td></tr><tr><td>FT8710</td><td>T8710</td><td>unusual_amount</td><td>0.9</td><td>2024-04-12 04:41:25</td></tr><tr><td>FT4394</td><td>T4394</td><td>unusual_amount</td><td>0.9</td><td>2024-05-17 08:59:48</td></tr><tr><td>FT4733</td><td>T4733</td><td>pattern_anomaly</td><td>0.7</td><td>2024-02-28 06:44:55</td></tr><tr><td>FT4018</td><td>T4018</td><td>unusual_amount</td><td>0.9</td><td>2024-02-25 09:13:01</td></tr><tr><td>FT5994</td><td>T5994</td><td>unusual_amount</td><td>0.9</td><td>2024-03-07 02:02:25</td></tr><tr><td>FT8800</td><td>T8800</td><td>pattern_anomaly</td><td>0.7</td><td>2024-05-12 17:07:48</td></tr><tr><td>FT1684</td><td>T1684</td><td>pattern_anomaly</td><td>0.7</td><td>2024-03-16 20:26:50</td></tr><tr><td>FT7021</td><td>T7021</td><td>unusual_amount</td><td>0.9</td><td>2024-01-19 06:36:10</td></tr><tr><td>FT3934</td><td>T3934</td><td>unusual_amount</td><td>0.9</td><td>2024-03-09 19:15:16</td></tr><tr><td>FT3830</td><td>T3830</td><td>pattern_anomaly</td><td>0.7</td><td>2024-06-10 13:33:51</td></tr><tr><td>FT6583</td><td>T6583</td><td>unusual_amount</td><td>0.9</td><td>2024-03-01 22:06:55</td></tr><tr><td>FT1552</td><td>T1552</td><td>unusual_amount</td><td>0.9</td><td>2024-06-17 10:15:01</td></tr><tr><td>FT1800</td><td>T1800</td><td>unusual_amount</td><td>0.9</td><td>2024-05-25 03:57:02</td></tr><tr><td>FT2308</td><td>T2308</td><td>velocity_check</td><td>0.8</td><td>2024-04-05 15:20:43</td></tr><tr><td>FT2200</td><td>T2200</td><td>pattern_anomaly</td><td>0.7</td><td>2024-02-07 14:48:14</td></tr><tr><td>FT9617</td><td>T9617</td><td>unusual_amount</td><td>0.9</td><td>2024-06-09 17:58:36</td></tr><tr><td>FT7676</td><td>T7676</td><td>velocity_check</td><td>0.8</td><td>2024-05-01 14:39:48</td></tr><tr><td>FT4904</td><td>T4904</td><td>unusual_amount</td><td>0.9</td><td>2024-03-15 19:03:08</td></tr><tr><td>FT3901</td><td>T3901</td><td>unusual_amount</td><td>0.9</td><td>2024-01-29 23:24:49</td></tr><tr><td>FT5035</td><td>T5035</td><td>unusual_amount</td><td>0.9</td><td>2024-03-11 19:13:20</td></tr><tr><td>FT3990</td><td>T3990</td><td>unusual_amount</td><td>0.9</td><td>2024-01-04 16:10:09</td></tr><tr><td>FT9112</td><td>T9112</td><td>unusual_amount</td><td>0.9</td><td>2024-07-12 06:59:31</td></tr><tr><td>FT5479</td><td>T5479</td><td>velocity_check</td><td>0.8</td><td>2024-01-08 19:16:14</td></tr><tr><td>FT8836</td><td>T8836</td><td>velocity_check</td><td>0.8</td><td>2024-07-08 07:09:26</td></tr><tr><td>FT4130</td><td>T4130</td><td>unusual_amount</td><td>0.9</td><td>2024-06-29 02:05:27</td></tr><tr><td>FT3585</td><td>T3585</td><td>unusual_amount</td><td>0.9</td><td>2024-06-26 14:46:51</td></tr><tr><td>FT1246</td><td>T1246</td><td>unusual_amount</td><td>0.9</td><td>2024-03-09 20:12:45</td></tr><tr><td>FT5643</td><td>T5643</td><td>unusual_amount</td><td>0.9</td><td>2024-04-16 09:44:29</td></tr><tr><td>FT6982</td><td>T6982</td><td>velocity_check</td><td>0.8</td><td>2024-01-23 18:06:43</td></tr><tr><td>FT3574</td><td>T3574</td><td>unusual_amount</td><td>0.9</td><td>2024-04-08 02:31:43</td></tr><tr><td>FT2357</td><td>T2357</td><td>unusual_amount</td><td>0.9</td><td>2024-03-26 09:46:58</td></tr><tr><td>FT7806</td><td>T7806</td><td>unusual_amount</td><td>0.9</td><td>2024-02-24 20:32:53</td></tr><tr><td>FT1068</td><td>T1068</td><td>unusual_amount</td><td>0.9</td><td>2024-02-20 23:49:00</td></tr><tr><td>FT8913</td><td>T8913</td><td>unusual_amount</td><td>0.9</td><td>2024-06-17 23:16:09</td></tr><tr><td>FT4508</td><td>T4508</td><td>unusual_amount</td><td>0.9</td><td>2024-01-20 07:58:51</td></tr><tr><td>FT8127</td><td>T8127</td><td>unusual_amount</td><td>0.9</td><td>2024-02-02 08:00:00</td></tr><tr><td>FT4144</td><td>T4144</td><td>velocity_check</td><td>0.8</td><td>2024-01-31 20:43:39</td></tr><tr><td>FT8262</td><td>T8262</td><td>unusual_amount</td><td>0.9</td><td>2024-01-22 10:18:19</td></tr><tr><td>FT6725</td><td>T6725</td><td>unusual_amount</td><td>0.9</td><td>2024-03-16 06:40:13</td></tr><tr><td>FT3938</td><td>T3938</td><td>unusual_amount</td><td>0.9</td><td>2024-03-30 07:05:33</td></tr><tr><td>FT3566</td><td>T3566</td><td>unusual_amount</td><td>0.9</td><td>2024-03-21 01:02:44</td></tr><tr><td>FT4646</td><td>T4646</td><td>velocity_check</td><td>0.8</td><td>2024-02-27 03:02:53</td></tr><tr><td>FT5984</td><td>T5984</td><td>unusual_amount</td><td>0.9</td><td>2024-05-02 21:20:03</td></tr><tr><td>FT1642</td><td>T1642</td><td>unusual_amount</td><td>0.9</td><td>2024-07-19 16:57:09</td></tr><tr><td>FT7160</td><td>T7160</td><td>unusual_amount</td><td>0.9</td><td>2024-02-14 12:51:01</td></tr><tr><td>FT8013</td><td>T8013</td><td>unusual_amount</td><td>0.9</td><td>2024-01-25 08:32:46</td></tr><tr><td>FT8474</td><td>T8474</td><td>unusual_amount</td><td>0.9</td><td>2024-01-09 11:04:46</td></tr><tr><td>FT3675</td><td>T3675</td><td>unusual_amount</td><td>0.9</td><td>2024-01-28 09:05:22</td></tr><tr><td>FT5221</td><td>T5221</td><td>pattern_anomaly</td><td>0.7</td><td>2024-02-07 05:34:28</td></tr><tr><td>FT7200</td><td>T7200</td><td>pattern_anomaly</td><td>0.7</td><td>2024-02-10 01:27:47</td></tr><tr><td>FT9295</td><td>T9295</td><td>pattern_anomaly</td><td>0.7</td><td>2024-01-15 17:22:08</td></tr><tr><td>FT4621</td><td>T4621</td><td>unusual_amount</td><td>0.9</td><td>2024-04-08 07:24:02</td></tr><tr><td>FT2718</td><td>T2718</td><td>unusual_amount</td><td>0.9</td><td>2024-01-11 18:00:01</td></tr><tr><td>FT1086</td><td>T1086</td><td>pattern_anomaly</td><td>0.7</td><td>2024-06-05 04:50:49</td></tr><tr><td>FT7270</td><td>T7270</td><td>velocity_check</td><td>0.8</td><td>2024-02-18 12:04:26</td></tr><tr><td>FT9187</td><td>T9187</td><td>unusual_amount</td><td>0.9</td><td>2024-01-06 12:59:44</td></tr><tr><td>FT3232</td><td>T3232</td><td>unusual_amount</td><td>0.9</td><td>2024-05-09 15:23:54</td></tr><tr><td>FT7461</td><td>T7461</td><td>unusual_amount</td><td>0.9</td><td>2024-07-22 07:15:03</td></tr><tr><td>FT3028</td><td>T3028</td><td>unusual_amount</td><td>0.9</td><td>2024-01-03 11:26:42</td></tr><tr><td>FT8009</td><td>T8009</td><td>unusual_amount</td><td>0.9</td><td>2024-03-29 04:00:55</td></tr><tr><td>FT5705</td><td>T5705</td><td>unusual_amount</td><td>0.9</td><td>2024-04-06 19:07:28</td></tr><tr><td>FT5274</td><td>T5274</td><td>unusual_amount</td><td>0.9</td><td>2024-03-29 09:30:26</td></tr><tr><td>FT4635</td><td>T4635</td><td>unusual_amount</td><td>0.9</td><td>2024-04-22 11:05:56</td></tr><tr><td>FT5877</td><td>T5877</td><td>unusual_amount</td><td>0.9</td><td>2024-03-05 08:48:41</td></tr><tr><td>FT3608</td><td>T3608</td><td>velocity_check</td><td>0.8</td><td>2024-01-25 22:31:31</td></tr><tr><td>FT9706</td><td>T9706</td><td>unusual_amount</td><td>0.9</td><td>2024-06-26 01:28:54</td></tr><tr><td>FT5784</td><td>T5784</td><td>pattern_anomaly</td><td>0.7</td><td>2024-06-06 13:30:07</td></tr><tr><td>FT4593</td><td>T4593</td><td>velocity_check</td><td>0.8</td><td>2024-03-21 17:08:28</td></tr><tr><td>FT1670</td><td>T1670</td><td>unusual_amount</td><td>0.9</td><td>2024-04-16 02:42:41</td></tr><tr><td>FT7259</td><td>T7259</td><td>unusual_amount</td><td>0.9</td><td>2024-04-19 09:41:49</td></tr><tr><td>FT4910</td><td>T4910</td><td>unusual_amount</td><td>0.9</td><td>2024-02-28 19:09:11</td></tr><tr><td>FT8563</td><td>T8563</td><td>unusual_amount</td><td>0.9</td><td>2024-06-29 00:51:20</td></tr><tr><td>FT7951</td><td>T7951</td><td>pattern_anomaly</td><td>0.7</td><td>2024-06-18 04:23:44</td></tr><tr><td>FT5031</td><td>T5031</td><td>unusual_amount</td><td>0.9</td><td>2024-07-14 07:05:35</td></tr><tr><td>FT1248</td><td>T1248</td><td>unusual_amount</td><td>0.9</td><td>2024-04-03 23:56:59</td></tr><tr><td>FT6309</td><td>T6309</td><td>unusual_amount</td><td>0.9</td><td>2024-04-06 10:59:31</td></tr><tr><td>FT4666</td><td>T4666</td><td>pattern_anomaly</td><td>0.7</td><td>2024-05-16 05:04:09</td></tr><tr><td>FT8362</td><td>T8362</td><td>unusual_amount</td><td>0.9</td><td>2024-04-28 14:50:33</td></tr><tr><td>FT1041</td><td>T1041</td><td>unusual_amount</td><td>0.9</td><td>2024-06-07 21:55:44</td></tr><tr><td>FT5572</td><td>T5572</td><td>pattern_anomaly</td><td>0.7</td><td>2024-01-10 16:50:55</td></tr><tr><td>FT8604</td><td>T8604</td><td>unusual_amount</td><td>0.9</td><td>2024-06-02 10:29:09</td></tr><tr><td>FT1175</td><td>T1175</td><td>velocity_check</td><td>0.8</td><td>2024-06-22 18:33:35</td></tr><tr><td>FT7880</td><td>T7880</td><td>unusual_amount</td><td>0.9</td><td>2024-06-21 03:48:24</td></tr><tr><td>FT4657</td><td>T4657</td><td>unusual_amount</td><td>0.9</td><td>2024-04-02 19:01:28</td></tr><tr><td>FT1903</td><td>T1903</td><td>unusual_amount</td><td>0.9</td><td>2024-03-12 21:04:17</td></tr><tr><td>FT5266</td><td>T5266</td><td>pattern_anomaly</td><td>0.7</td><td>2024-06-25 23:43:33</td></tr><tr><td>FT8344</td><td>T8344</td><td>unusual_amount</td><td>0.9</td><td>2024-07-22 11:42:16</td></tr><tr><td>FT8198</td><td>T8198</td><td>velocity_check</td><td>0.8</td><td>2024-04-19 20:53:17</td></tr><tr><td>FT7257</td><td>T7257</td><td>unusual_amount</td><td>0.9</td><td>2024-03-16 01:09:37</td></tr><tr><td>FT6842</td><td>T6842</td><td>velocity_check</td><td>0.8</td><td>2024-07-13 02:41:27</td></tr><tr><td>FT1722</td><td>T1722</td><td>unusual_amount</td><td>0.9</td><td>2024-04-22 03:32:54</td></tr><tr><td>FT9693</td><td>T9693</td><td>unusual_amount</td><td>0.9</td><td>2024-02-03 15:12:42</td></tr><tr><td>FT4535</td><td>T4535</td><td>unusual_amount</td><td>0.9</td><td>2024-04-26 14:57:54</td></tr><tr><td>FT9871</td><td>T9871</td><td>unusual_amount</td><td>0.9</td><td>2024-04-03 19:45:28</td></tr><tr><td>FT2157</td><td>T2157</td><td>unusual_amount</td><td>0.9</td><td>2024-02-03 16:12:13</td></tr><tr><td>FT8632</td><td>T8632</td><td>pattern_anomaly</td><td>0.7</td><td>2024-03-02 22:45:13</td></tr><tr><td>FT6962</td><td>T6962</td><td>unusual_amount</td><td>0.9</td><td>2024-04-16 21:23:42</td></tr><tr><td>FT6273</td><td>T6273</td><td>unusual_amount</td><td>0.9</td><td>2024-05-06 02:04:02</td></tr><tr><td>FT3525</td><td>T3525</td><td>unusual_amount</td><td>0.9</td><td>2024-07-06 11:09:12</td></tr><tr><td>FT6075</td><td>T6075</td><td>unusual_amount</td><td>0.9</td><td>2024-03-14 03:47:06</td></tr><tr><td>FT6708</td><td>T6708</td><td>unusual_amount</td><td>0.9</td><td>2024-03-09 19:19:48</td></tr><tr><td>FT1057</td><td>T1057</td><td>unusual_amount</td><td>0.9</td><td>2024-01-08 09:34:20</td></tr><tr><td>FT6317</td><td>T6317</td><td>unusual_amount</td><td>0.9</td><td>2024-05-23 19:33:38</td></tr><tr><td>FT9175</td><td>T9175</td><td>velocity_check</td><td>0.8</td><td>2024-05-25 19:32:06</td></tr><tr><td>FT7348</td><td>T7348</td><td>unusual_amount</td><td>0.9</td><td>2024-03-11 00:02:43</td></tr><tr><td>FT6426</td><td>T6426</td><td>unusual_amount</td><td>0.9</td><td>2024-04-21 12:54:28</td></tr><tr><td>FT4829</td><td>T4829</td><td>unusual_amount</td><td>0.9</td><td>2024-03-10 06:18:34</td></tr><tr><td>FT9087</td><td>T9087</td><td>unusual_amount</td><td>0.9</td><td>2024-03-23 03:29:10</td></tr><tr><td>FT8195</td><td>T8195</td><td>unusual_amount</td><td>0.9</td><td>2024-06-15 13:04:21</td></tr><tr><td>FT7123</td><td>T7123</td><td>unusual_amount</td><td>0.9</td><td>2024-06-28 16:56:28</td></tr><tr><td>FT7871</td><td>T7871</td><td>unusual_amount</td><td>0.9</td><td>2024-06-10 01:16:36</td></tr><tr><td>FT3164</td><td>T3164</td><td>unusual_amount</td><td>0.9</td><td>2024-06-10 08:46:51</td></tr><tr><td>FT1287</td><td>T1287</td><td>unusual_amount</td><td>0.9</td><td>2024-04-18 12:35:02</td></tr><tr><td>FT4606</td><td>T4606</td><td>unusual_amount</td><td>0.9</td><td>2024-02-15 14:16:02</td></tr><tr><td>FT7786</td><td>T7786</td><td>unusual_amount</td><td>0.9</td><td>2024-06-02 02:06:44</td></tr><tr><td>FT2571</td><td>T2571</td><td>unusual_amount</td><td>0.9</td><td>2024-05-08 01:49:53</td></tr><tr><td>FT6434</td><td>T6434</td><td>unusual_amount</td><td>0.9</td><td>2024-05-18 15:14:30</td></tr><tr><td>FT2163</td><td>T2163</td><td>unusual_amount</td><td>0.9</td><td>2024-06-24 23:09:18</td></tr><tr><td>FT3687</td><td>T3687</td><td>unusual_amount</td><td>0.9</td><td>2024-02-03 19:45:05</td></tr><tr><td>FT3690</td><td>T3690</td><td>unusual_amount</td><td>0.9</td><td>2024-07-13 21:53:12</td></tr><tr><td>FT8272</td><td>T8272</td><td>unusual_amount</td><td>0.9</td><td>2024-01-28 19:13:54</td></tr><tr><td>FT2284</td><td>T2284</td><td>unusual_amount</td><td>0.9</td><td>2024-04-19 01:18:47</td></tr><tr><td>FT6344</td><td>T6344</td><td>unusual_amount</td><td>0.9</td><td>2024-06-15 07:00:35</td></tr><tr><td>FT3666</td><td>T3666</td><td>unusual_amount</td><td>0.9</td><td>2024-02-05 11:03:41</td></tr><tr><td>FT5106</td><td>T5106</td><td>unusual_amount</td><td>0.9</td><td>2024-07-16 09:53:31</td></tr><tr><td>FT8989</td><td>T8989</td><td>unusual_amount</td><td>0.9</td><td>2024-05-08 21:08:45</td></tr><tr><td>FT2970</td><td>T2970</td><td>unusual_amount</td><td>0.9</td><td>2024-05-16 03:54:12</td></tr><tr><td>FT4031</td><td>T4031</td><td>pattern_anomaly</td><td>0.7</td><td>2024-07-17 16:13:29</td></tr><tr><td>FT2409</td><td>T2409</td><td>velocity_check</td><td>0.8</td><td>2024-07-22 19:55:54</td></tr><tr><td>FT6036</td><td>T6036</td><td>unusual_amount</td><td>0.9</td><td>2024-05-15 02:51:04</td></tr><tr><td>FT9981</td><td>T9981</td><td>unusual_amount</td><td>0.9</td><td>2024-02-21 05:25:51</td></tr><tr><td>FT7235</td><td>T7235</td><td>velocity_check</td><td>0.8</td><td>2024-01-09 10:47:07</td></tr><tr><td>FT7778</td><td>T7778</td><td>unusual_amount</td><td>0.9</td><td>2024-07-25 10:45:51</td></tr><tr><td>FT3629</td><td>T3629</td><td>velocity_check</td><td>0.8</td><td>2024-01-29 12:01:09</td></tr><tr><td>FT6087</td><td>T6087</td><td>pattern_anomaly</td><td>0.7</td><td>2024-02-24 22:03:05</td></tr><tr><td>FT4411</td><td>T4411</td><td>unusual_amount</td><td>0.9</td><td>2024-04-24 05:04:30</td></tr><tr><td>FT5172</td><td>T5172</td><td>unusual_amount</td><td>0.9</td><td>2024-07-23 16:52:15</td></tr><tr><td>FT5463</td><td>T5463</td><td>unusual_amount</td><td>0.9</td><td>2024-03-21 01:24:42</td></tr><tr><td>FT7468</td><td>T7468</td><td>unusual_amount</td><td>0.9</td><td>2024-01-21 07:06:48</td></tr><tr><td>FT9439</td><td>T9439</td><td>velocity_check</td><td>0.8</td><td>2024-06-10 21:19:05</td></tr><tr><td>FT4800</td><td>T4800</td><td>unusual_amount</td><td>0.9</td><td>2024-06-03 18:49:49</td></tr><tr><td>FT8255</td><td>T8255</td><td>unusual_amount</td><td>0.9</td><td>2024-07-05 06:45:06</td></tr><tr><td>FT4556</td><td>T4556</td><td>unusual_amount</td><td>0.9</td><td>2024-04-13 06:03:43</td></tr><tr><td>FT4909</td><td>T4909</td><td>unusual_amount</td><td>0.9</td><td>2024-06-04 08:36:31</td></tr><tr><td>FT8938</td><td>T8938</td><td>velocity_check</td><td>0.8</td><td>2024-04-09 06:03:27</td></tr><tr><td>FT9777</td><td>T9777</td><td>unusual_amount</td><td>0.9</td><td>2024-06-22 09:56:10</td></tr><tr><td>FT1267</td><td>T1267</td><td>unusual_amount</td><td>0.9</td><td>2024-07-19 02:43:16</td></tr><tr><td>FT5029</td><td>T5029</td><td>unusual_amount</td><td>0.9</td><td>2024-04-13 01:57:34</td></tr><tr><td>FT5098</td><td>T5098</td><td>unusual_amount</td><td>0.9</td><td>2024-06-19 06:51:31</td></tr><tr><td>FT9640</td><td>T9640</td><td>pattern_anomaly</td><td>0.7</td><td>2024-03-07 09:09:34</td></tr><tr><td>FT3491</td><td>T3491</td><td>pattern_anomaly</td><td>0.7</td><td>2024-01-27 02:30:19</td></tr><tr><td>FT2745</td><td>T2745</td><td>velocity_check</td><td>0.8</td><td>2024-06-06 03:19:34</td></tr><tr><td>FT8268</td><td>T8268</td><td>unusual_amount</td><td>0.9</td><td>2024-05-12 05:07:42</td></tr><tr><td>FT7622</td><td>T7622</td><td>pattern_anomaly</td><td>0.7</td><td>2024-02-23 18:54:12</td></tr><tr><td>FT9324</td><td>T9324</td><td>pattern_anomaly</td><td>0.7</td><td>2024-03-29 20:34:48</td></tr><tr><td>FT6955</td><td>T6955</td><td>unusual_amount</td><td>0.9</td><td>2024-01-09 07:24:29</td></tr><tr><td>FT8345</td><td>T8345</td><td>unusual_amount</td><td>0.9</td><td>2024-05-04 02:56:29</td></tr><tr><td>FT6199</td><td>T6199</td><td>unusual_amount</td><td>0.9</td><td>2024-03-13 17:52:21</td></tr><tr><td>FT4352</td><td>T4352</td><td>pattern_anomaly</td><td>0.7</td><td>2024-03-03 11:58:23</td></tr><tr><td>FT6474</td><td>T6474</td><td>unusual_amount</td><td>0.9</td><td>2024-04-16 16:50:45</td></tr><tr><td>FT6047</td><td>T6047</td><td>pattern_anomaly</td><td>0.7</td><td>2024-03-19 11:02:02</td></tr><tr><td>FT5815</td><td>T5815</td><td>velocity_check</td><td>0.8</td><td>2024-04-08 06:01:26</td></tr><tr><td>FT1537</td><td>T1537</td><td>unusual_amount</td><td>0.9</td><td>2024-06-24 19:13:53</td></tr><tr><td>FT9587</td><td>T9587</td><td>unusual_amount</td><td>0.9</td><td>2024-04-06 01:03:24</td></tr><tr><td>FT8600</td><td>T8600</td><td>unusual_amount</td><td>0.9</td><td>2024-07-06 10:41:25</td></tr><tr><td>FT3191</td><td>T3191</td><td>velocity_check</td><td>0.8</td><td>2024-02-05 05:04:57</td></tr><tr><td>FT5376</td><td>T5376</td><td>unusual_amount</td><td>0.9</td><td>2024-06-12 22:47:38</td></tr><tr><td>FT7836</td><td>T7836</td><td>unusual_amount</td><td>0.9</td><td>2024-07-11 08:57:31</td></tr><tr><td>FT8477</td><td>T8477</td><td>unusual_amount</td><td>0.9</td><td>2024-02-10 06:45:49</td></tr><tr><td>FT5898</td><td>T5898</td><td>unusual_amount</td><td>0.9</td><td>2024-03-15 04:40:41</td></tr><tr><td>FT4543</td><td>T4543</td><td>velocity_check</td><td>0.8</td><td>2024-01-18 13:16:45</td></tr><tr><td>FT7337</td><td>T7337</td><td>velocity_check</td><td>0.8</td><td>2024-02-21 13:47:27</td></tr><tr><td>FT2925</td><td>T2925</td><td>unusual_amount</td><td>0.9</td><td>2024-06-21 04:32:18</td></tr><tr><td>FT8770</td><td>T8770</td><td>unusual_amount</td><td>0.9</td><td>2024-05-02 23:52:53</td></tr><tr><td>FT1129</td><td>T1129</td><td>velocity_check</td><td>0.8</td><td>2024-04-20 09:44:16</td></tr><tr><td>FT3520</td><td>T3520</td><td>pattern_anomaly</td><td>0.7</td><td>2024-05-11 23:14:23</td></tr><tr><td>FT9191</td><td>T9191</td><td>unusual_amount</td><td>0.9</td><td>2024-05-04 20:08:14</td></tr><tr><td>FT6933</td><td>T6933</td><td>velocity_check</td><td>0.8</td><td>2024-01-07 23:45:35</td></tr><tr><td>FT6534</td><td>T6534</td><td>unusual_amount</td><td>0.9</td><td>2024-07-01 11:22:24</td></tr><tr><td>FT5025</td><td>T5025</td><td>unusual_amount</td><td>0.9</td><td>2024-02-04 05:40:45</td></tr><tr><td>FT3385</td><td>T3385</td><td>unusual_amount</td><td>0.9</td><td>2024-04-18 21:56:42</td></tr><tr><td>FT6204</td><td>T6204</td><td>pattern_anomaly</td><td>0.7</td><td>2024-03-09 00:15:00</td></tr><tr><td>FT2310</td><td>T2310</td><td>unusual_amount</td><td>0.9</td><td>2024-03-29 02:32:33</td></tr><tr><td>FT2639</td><td>T2639</td><td>unusual_amount</td><td>0.9</td><td>2024-01-20 17:38:25</td></tr><tr><td>FT7713</td><td>T7713</td><td>unusual_amount</td><td>0.9</td><td>2024-03-11 08:42:55</td></tr><tr><td>FT1750</td><td>T1750</td><td>unusual_amount</td><td>0.9</td><td>2024-06-18 07:11:06</td></tr><tr><td>FT3218</td><td>T3218</td><td>unusual_amount</td><td>0.9</td><td>2024-07-07 22:15:59</td></tr><tr><td>FT6993</td><td>T6993</td><td>unusual_amount</td><td>0.9</td><td>2024-05-19 11:16:39</td></tr><tr><td>FT7104</td><td>T7104</td><td>unusual_amount</td><td>0.9</td><td>2024-03-24 00:27:59</td></tr><tr><td>FT1451</td><td>T1451</td><td>velocity_check</td><td>0.8</td><td>2024-05-14 16:24:23</td></tr><tr><td>FT8537</td><td>T8537</td><td>velocity_check</td><td>0.8</td><td>2024-07-07 07:19:02</td></tr><tr><td>FT6648</td><td>T6648</td><td>unusual_amount</td><td>0.9</td><td>2024-01-04 08:33:12</td></tr><tr><td>FT3252</td><td>T3252</td><td>unusual_amount</td><td>0.9</td><td>2024-02-27 04:51:15</td></tr><tr><td>FT6093</td><td>T6093</td><td>unusual_amount</td><td>0.9</td><td>2024-04-03 22:23:42</td></tr><tr><td>FT9620</td><td>T9620</td><td>unusual_amount</td><td>0.9</td><td>2024-03-11 15:00:36</td></tr><tr><td>FT9775</td><td>T9775</td><td>unusual_amount</td><td>0.9</td><td>2024-04-05 11:31:04</td></tr><tr><td>FT3235</td><td>T3235</td><td>unusual_amount</td><td>0.9</td><td>2024-03-18 06:36:28</td></tr><tr><td>FT2434</td><td>T2434</td><td>pattern_anomaly</td><td>0.7</td><td>2024-06-30 13:12:47</td></tr><tr><td>FT9730</td><td>T9730</td><td>unusual_amount</td><td>0.9</td><td>2024-04-21 11:45:56</td></tr><tr><td>FT4269</td><td>T4269</td><td>unusual_amount</td><td>0.9</td><td>2024-01-20 03:00:46</td></tr><tr><td>FT1856</td><td>T1856</td><td>velocity_check</td><td>0.8</td><td>2024-07-04 04:16:07</td></tr><tr><td>FT5187</td><td>T5187</td><td>pattern_anomaly</td><td>0.7</td><td>2024-06-18 03:24:27</td></tr><tr><td>FT5480</td><td>T5480</td><td>unusual_amount</td><td>0.9</td><td>2024-02-21 03:09:35</td></tr><tr><td>FT5064</td><td>T5064</td><td>pattern_anomaly</td><td>0.7</td><td>2024-06-12 18:34:17</td></tr><tr><td>FT1922</td><td>T1922</td><td>unusual_amount</td><td>0.9</td><td>2024-07-25 16:53:30</td></tr><tr><td>FT6149</td><td>T6149</td><td>unusual_amount</td><td>0.9</td><td>2024-07-29 23:21:49</td></tr><tr><td>FT7599</td><td>T7599</td><td>velocity_check</td><td>0.8</td><td>2024-03-11 12:54:19</td></tr><tr><td>FT8096</td><td>T8096</td><td>unusual_amount</td><td>0.9</td><td>2024-07-06 10:18:27</td></tr><tr><td>FT3517</td><td>T3517</td><td>unusual_amount</td><td>0.9</td><td>2024-03-29 12:49:26</td></tr><tr><td>FT1134</td><td>T1134</td><td>unusual_amount</td><td>0.9</td><td>2024-06-01 12:43:11</td></tr><tr><td>FT9143</td><td>T9143</td><td>velocity_check</td><td>0.8</td><td>2024-01-14 10:42:52</td></tr><tr><td>FT8896</td><td>T8896</td><td>unusual_amount</td><td>0.9</td><td>2024-04-05 00:48:42</td></tr><tr><td>FT5433</td><td>T5433</td><td>unusual_amount</td><td>0.9</td><td>2024-05-10 00:06:45</td></tr><tr><td>FT3439</td><td>T3439</td><td>velocity_check</td><td>0.8</td><td>2024-05-22 08:27:27</td></tr><tr><td>FT3160</td><td>T3160</td><td>unusual_amount</td><td>0.9</td><td>2024-07-14 16:24:28</td></tr><tr><td>FT1466</td><td>T1466</td><td>unusual_amount</td><td>0.9</td><td>2024-06-14 01:28:05</td></tr><tr><td>FT4190</td><td>T4190</td><td>pattern_anomaly</td><td>0.7</td><td>2024-05-11 08:25:39</td></tr><tr><td>FT9263</td><td>T9263</td><td>velocity_check</td><td>0.8</td><td>2024-04-03 05:24:13</td></tr><tr><td>FT2981</td><td>T2981</td><td>unusual_amount</td><td>0.9</td><td>2024-06-20 13:20:06</td></tr><tr><td>FT5441</td><td>T5441</td><td>unusual_amount</td><td>0.9</td><td>2024-02-14 17:47:06</td></tr><tr><td>FT7113</td><td>T7113</td><td>unusual_amount</td><td>0.9</td><td>2024-05-10 12:46:42</td></tr><tr><td>FT9096</td><td>T9096</td><td>unusual_amount</td><td>0.9</td><td>2024-03-02 14:50:57</td></tr><tr><td>FT3753</td><td>T3753</td><td>unusual_amount</td><td>0.9</td><td>2024-07-11 17:30:56</td></tr><tr><td>FT2741</td><td>T2741</td><td>unusual_amount</td><td>0.9</td><td>2024-02-29 13:03:36</td></tr><tr><td>FT7003</td><td>T7003</td><td>unusual_amount</td><td>0.9</td><td>2024-03-04 03:52:45</td></tr><tr><td>FT4962</td><td>T4962</td><td>unusual_amount</td><td>0.9</td><td>2024-02-03 11:53:57</td></tr><tr><td>FT6468</td><td>T6468</td><td>unusual_amount</td><td>0.9</td><td>2024-06-15 00:35:11</td></tr><tr><td>FT8317</td><td>T8317</td><td>unusual_amount</td><td>0.9</td><td>2024-07-16 18:05:42</td></tr><tr><td>FT6546</td><td>T6546</td><td>unusual_amount</td><td>0.9</td><td>2024-05-06 18:44:07</td></tr><tr><td>FT2849</td><td>T2849</td><td>unusual_amount</td><td>0.9</td><td>2024-04-02 08:36:48</td></tr><tr><td>FT3640</td><td>T3640</td><td>unusual_amount</td><td>0.9</td><td>2024-01-17 19:49:03</td></tr><tr><td>FT6421</td><td>T6421</td><td>unusual_amount</td><td>0.9</td><td>2024-04-13 05:53:05</td></tr><tr><td>FT5998</td><td>T5998</td><td>unusual_amount</td><td>0.9</td><td>2024-07-01 06:24:01</td></tr><tr><td>FT4852</td><td>T4852</td><td>unusual_amount</td><td>0.9</td><td>2024-06-01 19:12:11</td></tr><tr><td>FT1219</td><td>T1219</td><td>pattern_anomaly</td><td>0.7</td><td>2024-02-26 00:27:20</td></tr><tr><td>FT5758</td><td>T5758</td><td>pattern_anomaly</td><td>0.7</td><td>2024-05-01 09:39:32</td></tr><tr><td>FT4841</td><td>T4841</td><td>unusual_amount</td><td>0.9</td><td>2024-06-28 14:16:34</td></tr><tr><td>FT2918</td><td>T2918</td><td>velocity_check</td><td>0.8</td><td>2024-07-11 16:21:03</td></tr><tr><td>FT1078</td><td>T1078</td><td>unusual_amount</td><td>0.9</td><td>2024-06-13 02:16:13</td></tr><tr><td>FT5113</td><td>T5113</td><td>unusual_amount</td><td>0.9</td><td>2024-06-01 23:23:20</td></tr><tr><td>FT9928</td><td>T9928</td><td>unusual_amount</td><td>0.9</td><td>2024-03-13 15:21:33</td></tr><tr><td>FT2316</td><td>T2316</td><td>velocity_check</td><td>0.8</td><td>2024-01-29 20:48:26</td></tr><tr><td>FT3124</td><td>T3124</td><td>unusual_amount</td><td>0.9</td><td>2024-07-26 10:20:11</td></tr><tr><td>FT1079</td><td>T1079</td><td>velocity_check</td><td>0.8</td><td>2024-06-14 08:58:29</td></tr><tr><td>FT7597</td><td>T7597</td><td>unusual_amount</td><td>0.9</td><td>2024-02-24 08:00:06</td></tr><tr><td>FT6535</td><td>T6535</td><td>unusual_amount</td><td>0.9</td><td>2024-01-02 12:37:35</td></tr><tr><td>FT5418</td><td>T5418</td><td>unusual_amount</td><td>0.9</td><td>2024-06-13 01:21:02</td></tr><tr><td>FT7024</td><td>T7024</td><td>unusual_amount</td><td>0.9</td><td>2024-02-29 17:41:36</td></tr><tr><td>FT3929</td><td>T3929</td><td>unusual_amount</td><td>0.9</td><td>2024-06-08 13:22:25</td></tr><tr><td>FT7724</td><td>T7724</td><td>unusual_amount</td><td>0.9</td><td>2024-06-29 14:38:19</td></tr><tr><td>FT3085</td><td>T3085</td><td>velocity_check</td><td>0.8</td><td>2024-01-13 10:40:35</td></tr><tr><td>FT2254</td><td>T2254</td><td>pattern_anomaly</td><td>0.7</td><td>2024-04-27 11:38:52</td></tr><tr><td>FT5057</td><td>T5057</td><td>unusual_amount</td><td>0.9</td><td>2024-07-24 03:21:06</td></tr><tr><td>FT5258</td><td>T5258</td><td>unusual_amount</td><td>0.9</td><td>2024-03-19 05:40:44</td></tr><tr><td>FT9343</td><td>T9343</td><td>unusual_amount</td><td>0.9</td><td>2024-04-07 19:22:46</td></tr><tr><td>FT4425</td><td>T4425</td><td>unusual_amount</td><td>0.9</td><td>2024-06-20 19:50:21</td></tr><tr><td>FT2296</td><td>T2296</td><td>unusual_amount</td><td>0.9</td><td>2024-01-03 16:12:28</td></tr><tr><td>FT5542</td><td>T5542</td><td>unusual_amount</td><td>0.9</td><td>2024-07-31 05:28:03</td></tr><tr><td>FT3572</td><td>T3572</td><td>unusual_amount</td><td>0.9</td><td>2024-06-13 09:09:07</td></tr><tr><td>FT8905</td><td>T8905</td><td>unusual_amount</td><td>0.9</td><td>2024-01-25 16:13:08</td></tr><tr><td>FT2406</td><td>T2406</td><td>unusual_amount</td><td>0.9</td><td>2024-04-10 04:15:13</td></tr><tr><td>FT9901</td><td>T9901</td><td>unusual_amount</td><td>0.9</td><td>2024-02-22 09:11:37</td></tr><tr><td>FT4505</td><td>T4505</td><td>unusual_amount</td><td>0.9</td><td>2024-03-18 11:28:18</td></tr><tr><td>FT4846</td><td>T4846</td><td>unusual_amount</td><td>0.9</td><td>2024-01-17 07:26:56</td></tr><tr><td>FT8038</td><td>T8038</td><td>unusual_amount</td><td>0.9</td><td>2024-06-03 07:17:32</td></tr><tr><td>FT4040</td><td>T4040</td><td>unusual_amount</td><td>0.9</td><td>2024-06-03 22:14:32</td></tr><tr><td>FT4142</td><td>T4142</td><td>unusual_amount</td><td>0.9</td><td>2024-03-29 23:09:00</td></tr><tr><td>FT6782</td><td>T6782</td><td>velocity_check</td><td>0.8</td><td>2024-03-01 05:50:35</td></tr><tr><td>FT9883</td><td>T9883</td><td>unusual_amount</td><td>0.9</td><td>2024-04-26 20:08:05</td></tr><tr><td>FT1844</td><td>T1844</td><td>pattern_anomaly</td><td>0.7</td><td>2024-02-11 03:43:35</td></tr><tr><td>FT8027</td><td>T8027</td><td>unusual_amount</td><td>0.9</td><td>2024-06-20 19:10:51</td></tr><tr><td>FT2123</td><td>T2123</td><td>pattern_anomaly</td><td>0.7</td><td>2024-07-30 05:52:11</td></tr><tr><td>FT3241</td><td>T3241</td><td>unusual_amount</td><td>0.9</td><td>2024-01-18 14:56:09</td></tr><tr><td>FT2536</td><td>T2536</td><td>pattern_anomaly</td><td>0.7</td><td>2024-05-20 19:21:23</td></tr><tr><td>FT9735</td><td>T9735</td><td>unusual_amount</td><td>0.9</td><td>2024-05-16 19:04:17</td></tr><tr><td>FT8948</td><td>T8948</td><td>unusual_amount</td><td>0.9</td><td>2024-06-03 04:25:04</td></tr><tr><td>FT7945</td><td>T7945</td><td>velocity_check</td><td>0.8</td><td>2024-04-26 05:48:11</td></tr></tbody></table></div>"
      ]
     },
     "metadata": {
      "application/vnd.databricks.v1+output": {
       "addedWidgets": {},
       "aggData": [],
       "aggError": "",
       "aggOverflow": false,
       "aggSchema": [],
       "aggSeriesLimitReached": false,
       "aggType": "",
       "arguments": {},
       "columnCustomDisplayInfos": {},
       "data": [
        [
         "FT1693",
         "T1693",
         "unusual_amount",
         0.9,
         "2024-03-04 06:19:41"
        ],
        [
         "FT1345",
         "T1345",
         "unusual_amount",
         0.9,
         "2024-01-12 03:25:25"
        ],
        [
         "FT8986",
         "T8986",
         "velocity_check",
         0.8,
         "2024-04-29 07:55:02"
        ],
        [
         "FT7325",
         "T7325",
         "unusual_amount",
         0.9,
         "2024-03-17 15:16:18"
        ],
        [
         "FT4004",
         "T4004",
         "unusual_amount",
         0.9,
         "2024-06-19 18:56:04"
        ],
        [
         "FT8800",
         "T8800",
         "unusual_amount",
         0.9,
         "2024-03-30 23:29:49"
        ],
        [
         "FT2135",
         "T2135",
         "unusual_amount",
         0.9,
         "2024-06-22 23:42:20"
        ],
        [
         "FT6650",
         "T6650",
         "unusual_amount",
         0.9,
         "2024-02-17 15:58:19"
        ],
        [
         "FT1924",
         "T1924",
         "velocity_check",
         0.8,
         "2024-03-09 11:15:16"
        ],
        [
         "FT8500",
         "T8500",
         "unusual_amount",
         0.9,
         "2024-01-15 23:55:52"
        ],
        [
         "FT2365",
         "T2365",
         "pattern_anomaly",
         0.7,
         "2024-04-06 02:27:21"
        ],
        [
         "FT8760",
         "T8760",
         "velocity_check",
         0.8,
         "2024-06-03 12:23:34"
        ],
        [
         "FT5720",
         "T5720",
         "pattern_anomaly",
         0.7,
         "2024-03-18 10:30:15"
        ],
        [
         "FT8702",
         "T8702",
         "velocity_check",
         0.8,
         "2024-07-17 20:03:36"
        ],
        [
         "FT9478",
         "T9478",
         "unusual_amount",
         0.9,
         "2024-07-21 16:12:43"
        ],
        [
         "FT7702",
         "T7702",
         "unusual_amount",
         0.9,
         "2024-01-16 19:36:44"
        ],
        [
         "FT6616",
         "T6616",
         "pattern_anomaly",
         0.7,
         "2024-03-23 08:02:03"
        ],
        [
         "FT1559",
         "T1559",
         "pattern_anomaly",
         0.7,
         "2024-05-01 14:38:50"
        ],
        [
         "FT5610",
         "T5610",
         "pattern_anomaly",
         0.7,
         "2024-03-24 08:34:58"
        ],
        [
         "FT2043",
         "T2043",
         "pattern_anomaly",
         0.7,
         "2024-02-03 02:05:00"
        ],
        [
         "FT9254",
         "T9254",
         "unusual_amount",
         0.9,
         "2024-03-22 14:24:03"
        ],
        [
         "FT4711",
         "T4711",
         "unusual_amount",
         0.9,
         "2024-05-10 03:28:27"
        ],
        [
         "FT5541",
         "T5541",
         "unusual_amount",
         0.9,
         "2024-04-27 18:01:30"
        ],
        [
         "FT6206",
         "T6206",
         "velocity_check",
         0.8,
         "2024-04-17 15:08:14"
        ],
        [
         "FT6683",
         "T6683",
         "unusual_amount",
         0.9,
         "2024-05-16 15:47:10"
        ],
        [
         "FT1345",
         "T1345",
         "pattern_anomaly",
         0.7,
         "2024-01-04 21:07:38"
        ],
        [
         "FT9628",
         "T9628",
         "unusual_amount",
         0.9,
         "2024-04-25 07:13:55"
        ],
        [
         "FT7180",
         "T7180",
         "unusual_amount",
         0.9,
         "2024-04-04 06:35:41"
        ],
        [
         "FT8767",
         "T8767",
         "pattern_anomaly",
         0.7,
         "2024-07-27 10:26:02"
        ],
        [
         "FT3549",
         "T3549",
         "pattern_anomaly",
         0.7,
         "2024-01-23 19:29:14"
        ],
        [
         "FT6783",
         "T6783",
         "velocity_check",
         0.8,
         "2024-07-20 11:31:28"
        ],
        [
         "FT1811",
         "T1811",
         "pattern_anomaly",
         0.7,
         "2024-07-07 22:27:31"
        ],
        [
         "FT6373",
         "T6373",
         "velocity_check",
         0.8,
         "2024-03-12 13:53:16"
        ],
        [
         "FT6974",
         "T6974",
         "unusual_amount",
         0.9,
         "2024-03-07 06:34:40"
        ],
        [
         "FT4390",
         "T4390",
         "unusual_amount",
         0.9,
         "2024-06-14 00:27:25"
        ],
        [
         "FT2061",
         "T2061",
         "unusual_amount",
         0.9,
         "2024-02-04 16:37:57"
        ],
        [
         "FT1838",
         "T1838",
         "unusual_amount",
         0.9,
         "2024-03-08 23:50:06"
        ],
        [
         "FT6620",
         "T6620",
         "unusual_amount",
         0.9,
         "2024-06-26 21:03:54"
        ],
        [
         "FT4212",
         "T4212",
         "unusual_amount",
         0.9,
         "2024-01-30 01:49:33"
        ],
        [
         "FT8208",
         "T8208",
         "pattern_anomaly",
         0.7,
         "2024-07-28 06:41:40"
        ],
        [
         "FT7940",
         "T7940",
         "unusual_amount",
         0.9,
         "2024-01-19 02:45:24"
        ],
        [
         "FT6618",
         "T6618",
         "unusual_amount",
         0.9,
         "2024-01-05 19:11:16"
        ],
        [
         "FT8439",
         "T8439",
         "unusual_amount",
         0.9,
         "2024-01-12 10:27:29"
        ],
        [
         "FT4814",
         "T4814",
         "unusual_amount",
         0.9,
         "2024-01-05 02:36:01"
        ],
        [
         "FT6594",
         "T6594",
         "unusual_amount",
         0.9,
         "2024-02-18 19:17:15"
        ],
        [
         "FT4054",
         "T4054",
         "pattern_anomaly",
         0.7,
         "2024-02-15 01:34:52"
        ],
        [
         "FT8583",
         "T8583",
         "unusual_amount",
         0.9,
         "2024-05-14 15:41:16"
        ],
        [
         "FT9770",
         "T9770",
         "velocity_check",
         0.8,
         "2024-04-06 11:16:51"
        ],
        [
         "FT4783",
         "T4783",
         "unusual_amount",
         0.9,
         "2024-03-29 02:57:08"
        ],
        [
         "FT1977",
         "T1977",
         "pattern_anomaly",
         0.7,
         "2024-07-09 08:17:19"
        ],
        [
         "FT8636",
         "T8636",
         "unusual_amount",
         0.9,
         "2024-07-25 16:08:38"
        ],
        [
         "FT9430",
         "T9430",
         "pattern_anomaly",
         0.7,
         "2024-06-18 20:14:23"
        ],
        [
         "FT7143",
         "T7143",
         "unusual_amount",
         0.9,
         "2024-02-15 06:27:23"
        ],
        [
         "FT5637",
         "T5637",
         "velocity_check",
         0.8,
         "2024-05-27 20:55:55"
        ],
        [
         "FT2639",
         "T2639",
         "unusual_amount",
         0.9,
         "2024-06-18 05:14:51"
        ],
        [
         "FT1891",
         "T1891",
         "unusual_amount",
         0.9,
         "2024-07-01 08:23:45"
        ],
        [
         "FT4019",
         "T4019",
         "unusual_amount",
         0.9,
         "2024-01-18 10:04:34"
        ],
        [
         "FT2605",
         "T2605",
         "unusual_amount",
         0.9,
         "2024-05-12 20:13:08"
        ],
        [
         "FT2738",
         "T2738",
         "unusual_amount",
         0.9,
         "2024-07-09 06:20:02"
        ],
        [
         "FT6119",
         "T6119",
         "unusual_amount",
         0.9,
         "2024-05-24 00:36:14"
        ],
        [
         "FT9299",
         "T9299",
         "unusual_amount",
         0.9,
         "2024-04-22 23:32:20"
        ],
        [
         "FT9048",
         "T9048",
         "unusual_amount",
         0.9,
         "2024-07-11 12:57:58"
        ],
        [
         "FT3877",
         "T3877",
         "unusual_amount",
         0.9,
         "2024-04-23 22:48:20"
        ],
        [
         "FT5958",
         "T5958",
         "unusual_amount",
         0.9,
         "2024-06-05 15:12:05"
        ],
        [
         "FT5403",
         "T5403",
         "unusual_amount",
         0.9,
         "2024-03-09 09:10:34"
        ],
        [
         "FT2425",
         "T2425",
         "unusual_amount",
         0.9,
         "2024-01-26 17:18:41"
        ],
        [
         "FT9602",
         "T9602",
         "pattern_anomaly",
         0.7,
         "2024-05-08 16:57:45"
        ],
        [
         "FT3436",
         "T3436",
         "unusual_amount",
         0.9,
         "2024-02-05 23:56:39"
        ],
        [
         "FT7791",
         "T7791",
         "unusual_amount",
         0.9,
         "2024-06-02 01:59:54"
        ],
        [
         "FT9314",
         "T9314",
         "pattern_anomaly",
         0.7,
         "2024-02-29 23:53:41"
        ],
        [
         "FT8561",
         "T8561",
         "unusual_amount",
         0.9,
         "2024-07-21 08:31:06"
        ],
        [
         "FT7093",
         "T7093",
         "velocity_check",
         0.8,
         "2024-01-05 14:41:58"
        ],
        [
         "FT2862",
         "T2862",
         "velocity_check",
         0.8,
         "2024-03-16 05:22:23"
        ],
        [
         "FT3022",
         "T3022",
         "unusual_amount",
         0.9,
         "2024-05-07 15:17:46"
        ],
        [
         "FT8525",
         "T8525",
         "unusual_amount",
         0.9,
         "2024-01-20 04:43:47"
        ],
        [
         "FT6496",
         "T6496",
         "pattern_anomaly",
         0.7,
         "2024-01-21 07:01:55"
        ],
        [
         "FT8019",
         "T8019",
         "unusual_amount",
         0.9,
         "2024-07-19 12:13:50"
        ],
        [
         "FT7112",
         "T7112",
         "velocity_check",
         0.8,
         "2024-06-18 13:50:23"
        ],
        [
         "FT1316",
         "T1316",
         "unusual_amount",
         0.9,
         "2024-07-19 20:00:03"
        ],
        [
         "FT7787",
         "T7787",
         "unusual_amount",
         0.9,
         "2024-06-08 19:28:46"
        ],
        [
         "FT6412",
         "T6412",
         "unusual_amount",
         0.9,
         "2024-04-24 05:38:18"
        ],
        [
         "FT3757",
         "T3757",
         "unusual_amount",
         0.9,
         "2024-07-28 23:41:53"
        ],
        [
         "FT9439",
         "T9439",
         "pattern_anomaly",
         0.7,
         "2024-02-16 15:02:55"
        ],
        [
         "FT3221",
         "T3221",
         "unusual_amount",
         0.9,
         "2024-04-13 03:27:35"
        ],
        [
         "FT4585",
         "T4585",
         "unusual_amount",
         0.9,
         "2024-07-27 14:14:05"
        ],
        [
         "FT4205",
         "T4205",
         "pattern_anomaly",
         0.7,
         "2024-06-06 03:42:05"
        ],
        [
         "FT1755",
         "T1755",
         "unusual_amount",
         0.9,
         "2024-05-14 11:58:49"
        ],
        [
         "FT1719",
         "T1719",
         "unusual_amount",
         0.9,
         "2024-03-21 03:39:14"
        ],
        [
         "FT6116",
         "T6116",
         "unusual_amount",
         0.9,
         "2024-05-14 03:14:03"
        ],
        [
         "FT7466",
         "T7466",
         "pattern_anomaly",
         0.7,
         "2024-03-08 16:51:57"
        ],
        [
         "FT3406",
         "T3406",
         "unusual_amount",
         0.9,
         "2024-03-06 17:56:08"
        ],
        [
         "FT4191",
         "T4191",
         "unusual_amount",
         0.9,
         "2024-06-06 20:32:37"
        ],
        [
         "FT3883",
         "T3883",
         "unusual_amount",
         0.9,
         "2024-07-05 04:45:05"
        ],
        [
         "FT7993",
         "T7993",
         "unusual_amount",
         0.9,
         "2024-05-06 09:12:50"
        ],
        [
         "FT7230",
         "T7230",
         "unusual_amount",
         0.9,
         "2024-01-29 20:51:29"
        ],
        [
         "FT6012",
         "T6012",
         "unusual_amount",
         0.9,
         "2024-01-07 10:25:47"
        ],
        [
         "FT1578",
         "T1578",
         "velocity_check",
         0.8,
         "2024-07-07 12:21:33"
        ],
        [
         "FT9316",
         "T9316",
         "pattern_anomaly",
         0.7,
         "2024-07-20 18:07:55"
        ],
        [
         "FT4246",
         "T4246",
         "pattern_anomaly",
         0.7,
         "2024-05-24 22:09:23"
        ],
        [
         "FT3408",
         "T3408",
         "pattern_anomaly",
         0.7,
         "2024-01-27 11:22:48"
        ],
        [
         "FT1608",
         "T1608",
         "pattern_anomaly",
         0.7,
         "2024-03-05 19:04:19"
        ],
        [
         "FT8556",
         "T8556",
         "unusual_amount",
         0.9,
         "2024-06-03 15:25:30"
        ],
        [
         "FT2148",
         "T2148",
         "unusual_amount",
         0.9,
         "2024-04-05 10:58:24"
        ],
        [
         "FT3144",
         "T3144",
         "velocity_check",
         0.8,
         "2024-04-23 16:04:39"
        ],
        [
         "FT5472",
         "T5472",
         "unusual_amount",
         0.9,
         "2024-01-01 04:26:13"
        ],
        [
         "FT6670",
         "T6670",
         "unusual_amount",
         0.9,
         "2024-03-27 21:55:51"
        ],
        [
         "FT5174",
         "T5174",
         "pattern_anomaly",
         0.7,
         "2024-06-04 13:02:25"
        ],
        [
         "FT1555",
         "T1555",
         "unusual_amount",
         0.9,
         "2024-05-28 23:10:42"
        ],
        [
         "FT8505",
         "T8505",
         "unusual_amount",
         0.9,
         "2024-04-03 20:22:51"
        ],
        [
         "FT4468",
         "T4468",
         "velocity_check",
         0.8,
         "2024-03-09 14:03:41"
        ],
        [
         "FT4901",
         "T4901",
         "unusual_amount",
         0.9,
         "2024-06-07 14:42:28"
        ],
        [
         "FT3464",
         "T3464",
         "pattern_anomaly",
         0.7,
         "2024-07-13 17:06:11"
        ],
        [
         "FT4151",
         "T4151",
         "unusual_amount",
         0.9,
         "2024-01-26 12:54:16"
        ],
        [
         "FT8781",
         "T8781",
         "unusual_amount",
         0.9,
         "2024-06-30 04:47:43"
        ],
        [
         "FT7675",
         "T7675",
         "unusual_amount",
         0.9,
         "2024-03-04 22:16:42"
        ],
        [
         "FT3662",
         "T3662",
         "unusual_amount",
         0.9,
         "2024-02-09 16:36:20"
        ],
        [
         "FT8981",
         "T8981",
         "velocity_check",
         0.8,
         "2024-07-30 02:05:57"
        ],
        [
         "FT1483",
         "T1483",
         "unusual_amount",
         0.9,
         "2024-03-04 00:37:27"
        ],
        [
         "FT6590",
         "T6590",
         "velocity_check",
         0.8,
         "2024-07-01 03:03:45"
        ],
        [
         "FT4077",
         "T4077",
         "unusual_amount",
         0.9,
         "2024-06-25 12:29:55"
        ],
        [
         "FT8896",
         "T8896",
         "unusual_amount",
         0.9,
         "2024-03-05 12:44:35"
        ],
        [
         "FT2604",
         "T2604",
         "unusual_amount",
         0.9,
         "2024-03-26 01:12:56"
        ],
        [
         "FT3451",
         "T3451",
         "unusual_amount",
         0.9,
         "2024-04-26 07:26:55"
        ],
        [
         "FT9407",
         "T9407",
         "unusual_amount",
         0.9,
         "2024-06-14 22:40:22"
        ],
        [
         "FT3750",
         "T3750",
         "unusual_amount",
         0.9,
         "2024-01-17 18:31:51"
        ],
        [
         "FT7748",
         "T7748",
         "unusual_amount",
         0.9,
         "2024-05-04 06:39:51"
        ],
        [
         "FT7502",
         "T7502",
         "unusual_amount",
         0.9,
         "2024-04-13 21:07:34"
        ],
        [
         "FT6924",
         "T6924",
         "unusual_amount",
         0.9,
         "2024-05-02 19:22:51"
        ],
        [
         "FT3903",
         "T3903",
         "unusual_amount",
         0.9,
         "2024-05-18 13:41:42"
        ],
        [
         "FT4686",
         "T4686",
         "unusual_amount",
         0.9,
         "2024-06-06 13:57:56"
        ],
        [
         "FT1212",
         "T1212",
         "pattern_anomaly",
         0.7,
         "2024-01-10 04:27:12"
        ],
        [
         "FT1625",
         "T1625",
         "unusual_amount",
         0.9,
         "2024-04-28 16:31:09"
        ],
        [
         "FT9920",
         "T9920",
         "unusual_amount",
         0.9,
         "2024-05-01 10:01:40"
        ],
        [
         "FT8914",
         "T8914",
         "unusual_amount",
         0.9,
         "2024-02-24 21:57:37"
        ],
        [
         "FT1084",
         "T1084",
         "unusual_amount",
         0.9,
         "2024-05-22 13:58:56"
        ],
        [
         "FT1133",
         "T1133",
         "unusual_amount",
         0.9,
         "2024-03-01 12:56:20"
        ],
        [
         "FT5210",
         "T5210",
         "unusual_amount",
         0.9,
         "2024-05-21 07:50:39"
        ],
        [
         "FT1680",
         "T1680",
         "unusual_amount",
         0.9,
         "2024-01-19 23:06:50"
        ],
        [
         "FT4937",
         "T4937",
         "unusual_amount",
         0.9,
         "2024-02-13 15:12:52"
        ],
        [
         "FT2917",
         "T2917",
         "unusual_amount",
         0.9,
         "2024-03-26 07:16:16"
        ],
        [
         "FT7876",
         "T7876",
         "unusual_amount",
         0.9,
         "2024-02-20 20:49:38"
        ],
        [
         "FT6973",
         "T6973",
         "velocity_check",
         0.8,
         "2024-04-04 22:27:10"
        ],
        [
         "FT3064",
         "T3064",
         "unusual_amount",
         0.9,
         "2024-06-12 03:31:06"
        ],
        [
         "FT6460",
         "T6460",
         "velocity_check",
         0.8,
         "2024-01-31 13:58:14"
        ],
        [
         "FT4487",
         "T4487",
         "unusual_amount",
         0.9,
         "2024-05-30 13:12:23"
        ],
        [
         "FT3524",
         "T3524",
         "unusual_amount",
         0.9,
         "2024-06-23 15:55:43"
        ],
        [
         "FT8287",
         "T8287",
         "unusual_amount",
         0.9,
         "2024-03-02 16:18:05"
        ],
        [
         "FT8163",
         "T8163",
         "unusual_amount",
         0.9,
         "2024-01-20 22:48:39"
        ],
        [
         "FT2341",
         "T2341",
         "unusual_amount",
         0.9,
         "2024-04-14 06:22:55"
        ],
        [
         "FT5311",
         "T5311",
         "unusual_amount",
         0.9,
         "2024-03-28 09:18:58"
        ],
        [
         "FT4239",
         "T4239",
         "velocity_check",
         0.8,
         "2024-02-01 19:43:11"
        ],
        [
         "FT7864",
         "T7864",
         "unusual_amount",
         0.9,
         "2024-03-15 12:40:48"
        ],
        [
         "FT7088",
         "T7088",
         "unusual_amount",
         0.9,
         "2024-07-09 01:38:40"
        ],
        [
         "FT3414",
         "T3414",
         "pattern_anomaly",
         0.7,
         "2024-05-28 11:33:00"
        ],
        [
         "FT2079",
         "T2079",
         "unusual_amount",
         0.9,
         "2024-04-25 00:32:37"
        ],
        [
         "FT1960",
         "T1960",
         "unusual_amount",
         0.9,
         "2024-02-23 01:22:08"
        ],
        [
         "FT6133",
         "T6133",
         "unusual_amount",
         0.9,
         "2024-05-14 11:30:42"
        ],
        [
         "FT4902",
         "T4902",
         "velocity_check",
         0.8,
         "2024-01-15 15:09:01"
        ],
        [
         "FT2785",
         "T2785",
         "velocity_check",
         0.8,
         "2024-03-21 20:45:52"
        ],
        [
         "FT3149",
         "T3149",
         "unusual_amount",
         0.9,
         "2024-03-29 07:42:25"
        ],
        [
         "FT4393",
         "T4393",
         "unusual_amount",
         0.9,
         "2024-06-11 12:56:45"
        ],
        [
         "FT1675",
         "T1675",
         "unusual_amount",
         0.9,
         "2024-04-27 04:58:41"
        ],
        [
         "FT8126",
         "T8126",
         "unusual_amount",
         0.9,
         "2024-03-19 15:38:42"
        ],
        [
         "FT6900",
         "T6900",
         "velocity_check",
         0.8,
         "2024-01-03 04:17:38"
        ],
        [
         "FT6000",
         "T6000",
         "velocity_check",
         0.8,
         "2024-05-09 21:45:23"
        ],
        [
         "FT2123",
         "T2123",
         "unusual_amount",
         0.9,
         "2024-03-08 23:22:21"
        ],
        [
         "FT4146",
         "T4146",
         "pattern_anomaly",
         0.7,
         "2024-07-21 02:46:30"
        ],
        [
         "FT8918",
         "T8918",
         "unusual_amount",
         0.9,
         "2024-02-17 14:20:05"
        ],
        [
         "FT5863",
         "T5863",
         "pattern_anomaly",
         0.7,
         "2024-02-08 12:39:10"
        ],
        [
         "FT3926",
         "T3926",
         "pattern_anomaly",
         0.7,
         "2024-07-16 09:11:54"
        ],
        [
         "FT6570",
         "T6570",
         "unusual_amount",
         0.9,
         "2024-07-17 18:25:34"
        ],
        [
         "FT1078",
         "T1078",
         "unusual_amount",
         0.9,
         "2024-03-10 05:18:56"
        ],
        [
         "FT5198",
         "T5198",
         "unusual_amount",
         0.9,
         "2024-06-03 09:56:07"
        ],
        [
         "FT7737",
         "T7737",
         "unusual_amount",
         0.9,
         "2024-01-14 11:25:51"
        ],
        [
         "FT9464",
         "T9464",
         "velocity_check",
         0.8,
         "2024-07-22 04:12:46"
        ],
        [
         "FT8446",
         "T8446",
         "unusual_amount",
         0.9,
         "2024-01-28 02:29:03"
        ],
        [
         "FT1015",
         "T1015",
         "unusual_amount",
         0.9,
         "2024-07-19 05:10:47"
        ],
        [
         "FT7562",
         "T7562",
         "unusual_amount",
         0.9,
         "2024-07-30 00:05:57"
        ],
        [
         "FT6017",
         "T6017",
         "unusual_amount",
         0.9,
         "2024-01-29 13:50:50"
        ],
        [
         "FT3121",
         "T3121",
         "unusual_amount",
         0.9,
         "2024-04-18 15:00:53"
        ],
        [
         "FT7119",
         "T7119",
         "unusual_amount",
         0.9,
         "2024-01-21 07:47:05"
        ],
        [
         "FT8676",
         "T8676",
         "unusual_amount",
         0.9,
         "2024-06-20 16:47:11"
        ],
        [
         "FT7582",
         "T7582",
         "unusual_amount",
         0.9,
         "2024-01-08 08:42:21"
        ],
        [
         "FT1117",
         "T1117",
         "unusual_amount",
         0.9,
         "2024-06-23 13:18:40"
        ],
        [
         "FT9818",
         "T9818",
         "unusual_amount",
         0.9,
         "2024-07-17 09:52:50"
        ],
        [
         "FT8977",
         "T8977",
         "pattern_anomaly",
         0.7,
         "2024-05-01 04:57:03"
        ],
        [
         "FT2978",
         "T2978",
         "unusual_amount",
         0.9,
         "2024-02-03 09:05:38"
        ],
        [
         "FT5027",
         "T5027",
         "unusual_amount",
         0.9,
         "2024-06-17 13:59:40"
        ],
        [
         "FT9252",
         "T9252",
         "pattern_anomaly",
         0.7,
         "2024-07-04 02:50:43"
        ],
        [
         "FT7589",
         "T7589",
         "unusual_amount",
         0.9,
         "2024-04-01 15:10:00"
        ],
        [
         "FT2793",
         "T2793",
         "unusual_amount",
         0.9,
         "2024-07-08 23:45:25"
        ],
        [
         "FT4652",
         "T4652",
         "unusual_amount",
         0.9,
         "2024-04-15 02:29:30"
        ],
        [
         "FT6192",
         "T6192",
         "unusual_amount",
         0.9,
         "2024-05-04 04:08:50"
        ],
        [
         "FT5172",
         "T5172",
         "velocity_check",
         0.8,
         "2024-05-28 22:14:40"
        ],
        [
         "FT6549",
         "T6549",
         "pattern_anomaly",
         0.7,
         "2024-05-22 11:02:51"
        ],
        [
         "FT4225",
         "T4225",
         "pattern_anomaly",
         0.7,
         "2024-05-07 13:13:47"
        ],
        [
         "FT5959",
         "T5959",
         "unusual_amount",
         0.9,
         "2024-03-31 06:18:15"
        ],
        [
         "FT2892",
         "T2892",
         "velocity_check",
         0.8,
         "2024-02-27 07:30:20"
        ],
        [
         "FT3316",
         "T3316",
         "unusual_amount",
         0.9,
         "2024-02-19 15:43:44"
        ],
        [
         "FT7789",
         "T7789",
         "velocity_check",
         0.8,
         "2024-03-06 05:29:56"
        ],
        [
         "FT1245",
         "T1245",
         "unusual_amount",
         0.9,
         "2024-03-02 17:10:26"
        ],
        [
         "FT1136",
         "T1136",
         "unusual_amount",
         0.9,
         "2024-03-10 11:17:17"
        ],
        [
         "FT1358",
         "T1358",
         "unusual_amount",
         0.9,
         "2024-02-27 16:33:27"
        ],
        [
         "FT1686",
         "T1686",
         "unusual_amount",
         0.9,
         "2024-01-29 09:17:38"
        ],
        [
         "FT4413",
         "T4413",
         "unusual_amount",
         0.9,
         "2024-02-06 01:59:04"
        ],
        [
         "FT3707",
         "T3707",
         "velocity_check",
         0.8,
         "2024-07-06 20:34:57"
        ],
        [
         "FT7356",
         "T7356",
         "pattern_anomaly",
         0.7,
         "2024-07-22 05:03:21"
        ],
        [
         "FT1364",
         "T1364",
         "unusual_amount",
         0.9,
         "2024-02-28 10:58:18"
        ],
        [
         "FT1193",
         "T1193",
         "unusual_amount",
         0.9,
         "2024-05-12 21:24:12"
        ],
        [
         "FT6350",
         "T6350",
         "unusual_amount",
         0.9,
         "2024-03-19 01:33:57"
        ],
        [
         "FT7629",
         "T7629",
         "unusual_amount",
         0.9,
         "2024-02-07 15:57:15"
        ],
        [
         "FT2403",
         "T2403",
         "unusual_amount",
         0.9,
         "2024-01-14 05:05:59"
        ],
        [
         "FT2934",
         "T2934",
         "pattern_anomaly",
         0.7,
         "2024-02-22 19:22:20"
        ],
        [
         "FT5066",
         "T5066",
         "unusual_amount",
         0.9,
         "2024-01-25 15:58:10"
        ],
        [
         "FT9870",
         "T9870",
         "pattern_anomaly",
         0.7,
         "2024-06-07 22:07:39"
        ],
        [
         "FT6011",
         "T6011",
         "unusual_amount",
         0.9,
         "2024-07-09 09:09:14"
        ],
        [
         "FT9546",
         "T9546",
         "unusual_amount",
         0.9,
         "2024-05-04 12:24:04"
        ],
        [
         "FT8765",
         "T8765",
         "unusual_amount",
         0.9,
         "2024-05-25 11:08:59"
        ],
        [
         "FT4470",
         "T4470",
         "unusual_amount",
         0.9,
         "2024-05-18 10:15:33"
        ],
        [
         "FT6226",
         "T6226",
         "unusual_amount",
         0.9,
         "2024-06-15 20:57:42"
        ],
        [
         "FT5113",
         "T5113",
         "unusual_amount",
         0.9,
         "2024-05-01 06:04:37"
        ],
        [
         "FT3382",
         "T3382",
         "velocity_check",
         0.8,
         "2024-01-06 18:09:59"
        ],
        [
         "FT8206",
         "T8206",
         "velocity_check",
         0.8,
         "2024-03-04 10:11:36"
        ],
        [
         "FT6472",
         "T6472",
         "velocity_check",
         0.8,
         "2024-07-12 01:02:29"
        ],
        [
         "FT1035",
         "T1035",
         "unusual_amount",
         0.9,
         "2024-05-22 09:31:28"
        ],
        [
         "FT3535",
         "T3535",
         "velocity_check",
         0.8,
         "2024-01-18 01:40:38"
        ],
        [
         "FT3291",
         "T3291",
         "unusual_amount",
         0.9,
         "2024-06-05 12:59:23"
        ],
        [
         "FT8591",
         "T8591",
         "pattern_anomaly",
         0.7,
         "2024-06-15 16:39:35"
        ],
        [
         "FT4899",
         "T4899",
         "unusual_amount",
         0.9,
         "2024-05-01 15:36:52"
        ],
        [
         "FT9108",
         "T9108",
         "unusual_amount",
         0.9,
         "2024-05-15 15:33:24"
        ],
        [
         "FT7119",
         "T7119",
         "unusual_amount",
         0.9,
         "2024-01-09 09:06:14"
        ],
        [
         "FT3220",
         "T3220",
         "unusual_amount",
         0.9,
         "2024-03-15 05:56:54"
        ],
        [
         "FT6557",
         "T6557",
         "unusual_amount",
         0.9,
         "2024-06-12 23:14:58"
        ],
        [
         "FT9827",
         "T9827",
         "unusual_amount",
         0.9,
         "2024-07-27 22:23:24"
        ],
        [
         "FT4641",
         "T4641",
         "unusual_amount",
         0.9,
         "2024-03-01 16:21:02"
        ],
        [
         "FT2171",
         "T2171",
         "pattern_anomaly",
         0.7,
         "2024-07-07 08:41:17"
        ],
        [
         "FT5151",
         "T5151",
         "unusual_amount",
         0.9,
         "2024-07-08 08:19:25"
        ],
        [
         "FT6414",
         "T6414",
         "unusual_amount",
         0.9,
         "2024-06-14 20:07:01"
        ],
        [
         "FT7704",
         "T7704",
         "unusual_amount",
         0.9,
         "2024-05-26 12:05:47"
        ],
        [
         "FT1998",
         "T1998",
         "unusual_amount",
         0.9,
         "2024-01-27 09:55:55"
        ],
        [
         "FT1228",
         "T1228",
         "unusual_amount",
         0.9,
         "2024-03-22 20:09:45"
        ],
        [
         "FT7809",
         "T7809",
         "unusual_amount",
         0.9,
         "2024-05-26 20:18:06"
        ],
        [
         "FT5427",
         "T5427",
         "unusual_amount",
         0.9,
         "2024-03-25 03:04:58"
        ],
        [
         "FT9263",
         "T9263",
         "velocity_check",
         0.8,
         "2024-06-14 00:02:51"
        ],
        [
         "FT4427",
         "T4427",
         "pattern_anomaly",
         0.7,
         "2024-07-27 20:29:58"
        ],
        [
         "FT4507",
         "T4507",
         "unusual_amount",
         0.9,
         "2024-02-29 15:52:52"
        ],
        [
         "FT3979",
         "T3979",
         "unusual_amount",
         0.9,
         "2024-07-19 01:53:20"
        ],
        [
         "FT2170",
         "T2170",
         "pattern_anomaly",
         0.7,
         "2024-04-18 19:34:04"
        ],
        [
         "FT9519",
         "T9519",
         "pattern_anomaly",
         0.7,
         "2024-04-03 10:27:14"
        ],
        [
         "FT9879",
         "T9879",
         "unusual_amount",
         0.9,
         "2024-01-12 04:05:00"
        ],
        [
         "FT3065",
         "T3065",
         "unusual_amount",
         0.9,
         "2024-03-17 23:04:51"
        ],
        [
         "FT5450",
         "T5450",
         "unusual_amount",
         0.9,
         "2024-01-24 18:25:02"
        ],
        [
         "FT6901",
         "T6901",
         "unusual_amount",
         0.9,
         "2024-07-06 02:46:24"
        ],
        [
         "FT8039",
         "T8039",
         "unusual_amount",
         0.9,
         "2024-02-09 23:22:16"
        ],
        [
         "FT7690",
         "T7690",
         "unusual_amount",
         0.9,
         "2024-01-21 23:29:07"
        ],
        [
         "FT4796",
         "T4796",
         "unusual_amount",
         0.9,
         "2024-02-15 01:58:02"
        ],
        [
         "FT2598",
         "T2598",
         "unusual_amount",
         0.9,
         "2024-05-19 06:15:39"
        ],
        [
         "FT3031",
         "T3031",
         "unusual_amount",
         0.9,
         "2024-03-17 14:35:11"
        ],
        [
         "FT4555",
         "T4555",
         "unusual_amount",
         0.9,
         "2024-01-22 22:16:36"
        ],
        [
         "FT9443",
         "T9443",
         "unusual_amount",
         0.9,
         "2024-07-25 04:11:11"
        ],
        [
         "FT1412",
         "T1412",
         "unusual_amount",
         0.9,
         "2024-01-28 21:45:31"
        ],
        [
         "FT5211",
         "T5211",
         "unusual_amount",
         0.9,
         "2024-03-31 19:23:10"
        ],
        [
         "FT1818",
         "T1818",
         "unusual_amount",
         0.9,
         "2024-01-02 12:56:56"
        ],
        [
         "FT3869",
         "T3869",
         "pattern_anomaly",
         0.7,
         "2024-05-18 14:18:37"
        ],
        [
         "FT1971",
         "T1971",
         "velocity_check",
         0.8,
         "2024-04-18 20:48:09"
        ],
        [
         "FT3084",
         "T3084",
         "unusual_amount",
         0.9,
         "2024-05-25 10:41:10"
        ],
        [
         "FT1381",
         "T1381",
         "unusual_amount",
         0.9,
         "2024-05-28 20:05:46"
        ],
        [
         "FT6891",
         "T6891",
         "pattern_anomaly",
         0.7,
         "2024-06-08 08:56:06"
        ],
        [
         "FT3150",
         "T3150",
         "unusual_amount",
         0.9,
         "2024-06-23 19:51:43"
        ],
        [
         "FT3181",
         "T3181",
         "unusual_amount",
         0.9,
         "2024-05-25 13:28:03"
        ],
        [
         "FT4856",
         "T4856",
         "unusual_amount",
         0.9,
         "2024-03-27 20:11:57"
        ],
        [
         "FT9027",
         "T9027",
         "unusual_amount",
         0.9,
         "2024-02-06 08:35:42"
        ],
        [
         "FT5484",
         "T5484",
         "unusual_amount",
         0.9,
         "2024-06-23 17:42:09"
        ],
        [
         "FT1198",
         "T1198",
         "unusual_amount",
         0.9,
         "2024-02-24 18:24:34"
        ],
        [
         "FT8913",
         "T8913",
         "unusual_amount",
         0.9,
         "2024-04-26 01:13:29"
        ],
        [
         "FT1484",
         "T1484",
         "unusual_amount",
         0.9,
         "2024-05-31 03:05:11"
        ],
        [
         "FT9088",
         "T9088",
         "unusual_amount",
         0.9,
         "2024-02-03 10:26:40"
        ],
        [
         "FT1128",
         "T1128",
         "pattern_anomaly",
         0.7,
         "2024-05-01 05:17:39"
        ],
        [
         "FT5191",
         "T5191",
         "pattern_anomaly",
         0.7,
         "2024-02-10 03:23:33"
        ],
        [
         "FT4512",
         "T4512",
         "unusual_amount",
         0.9,
         "2024-06-07 13:31:24"
        ],
        [
         "FT2475",
         "T2475",
         "unusual_amount",
         0.9,
         "2024-02-03 00:43:23"
        ],
        [
         "FT3951",
         "T3951",
         "unusual_amount",
         0.9,
         "2024-02-04 07:40:10"
        ],
        [
         "FT3345",
         "T3345",
         "velocity_check",
         0.8,
         "2024-01-27 02:59:51"
        ],
        [
         "FT2550",
         "T2550",
         "unusual_amount",
         0.9,
         "2024-07-18 21:36:44"
        ],
        [
         "FT6043",
         "T6043",
         "pattern_anomaly",
         0.7,
         "2024-06-24 10:53:58"
        ],
        [
         "FT2573",
         "T2573",
         "pattern_anomaly",
         0.7,
         "2024-01-09 21:54:31"
        ],
        [
         "FT6057",
         "T6057",
         "velocity_check",
         0.8,
         "2024-07-02 17:25:15"
        ],
        [
         "FT2613",
         "T2613",
         "unusual_amount",
         0.9,
         "2024-07-03 04:10:44"
        ],
        [
         "FT1785",
         "T1785",
         "unusual_amount",
         0.9,
         "2024-03-17 07:39:30"
        ],
        [
         "FT6106",
         "T6106",
         "unusual_amount",
         0.9,
         "2024-06-04 15:21:32"
        ],
        [
         "FT1689",
         "T1689",
         "pattern_anomaly",
         0.7,
         "2024-02-04 14:53:57"
        ],
        [
         "FT9775",
         "T9775",
         "velocity_check",
         0.8,
         "2024-05-04 22:33:56"
        ],
        [
         "FT2822",
         "T2822",
         "velocity_check",
         0.8,
         "2024-04-23 02:36:50"
        ],
        [
         "FT3455",
         "T3455",
         "unusual_amount",
         0.9,
         "2024-07-04 21:26:44"
        ],
        [
         "FT6509",
         "T6509",
         "velocity_check",
         0.8,
         "2024-02-01 12:36:09"
        ],
        [
         "FT5378",
         "T5378",
         "unusual_amount",
         0.9,
         "2024-06-25 03:56:01"
        ],
        [
         "FT6504",
         "T6504",
         "velocity_check",
         0.8,
         "2024-03-01 16:09:12"
        ],
        [
         "FT6989",
         "T6989",
         "unusual_amount",
         0.9,
         "2024-07-16 21:45:54"
        ],
        [
         "FT3111",
         "T3111",
         "pattern_anomaly",
         0.7,
         "2024-04-13 03:15:01"
        ],
        [
         "FT2878",
         "T2878",
         "unusual_amount",
         0.9,
         "2024-02-22 10:14:24"
        ],
        [
         "FT3167",
         "T3167",
         "velocity_check",
         0.8,
         "2024-01-18 08:29:00"
        ],
        [
         "FT8000",
         "T8000",
         "unusual_amount",
         0.9,
         "2024-02-16 02:38:34"
        ],
        [
         "FT2998",
         "T2998",
         "unusual_amount",
         0.9,
         "2024-02-08 21:03:42"
        ],
        [
         "FT3254",
         "T3254",
         "unusual_amount",
         0.9,
         "2024-03-12 19:43:27"
        ],
        [
         "FT2439",
         "T2439",
         "unusual_amount",
         0.9,
         "2024-07-01 23:52:01"
        ],
        [
         "FT4539",
         "T4539",
         "unusual_amount",
         0.9,
         "2024-05-10 16:55:28"
        ],
        [
         "FT3364",
         "T3364",
         "velocity_check",
         0.8,
         "2024-04-01 01:49:55"
        ],
        [
         "FT7711",
         "T7711",
         "unusual_amount",
         0.9,
         "2024-03-28 21:32:15"
        ],
        [
         "FT5438",
         "T5438",
         "pattern_anomaly",
         0.7,
         "2024-03-12 10:06:43"
        ],
        [
         "FT4335",
         "T4335",
         "pattern_anomaly",
         0.7,
         "2024-02-26 14:46:14"
        ],
        [
         "FT8929",
         "T8929",
         "unusual_amount",
         0.9,
         "2024-02-11 18:27:24"
        ],
        [
         "FT3060",
         "T3060",
         "unusual_amount",
         0.9,
         "2024-02-12 23:04:54"
        ],
        [
         "FT9884",
         "T9884",
         "unusual_amount",
         0.9,
         "2024-02-14 03:07:51"
        ],
        [
         "FT7732",
         "T7732",
         "unusual_amount",
         0.9,
         "2024-03-15 19:41:38"
        ],
        [
         "FT5047",
         "T5047",
         "unusual_amount",
         0.9,
         "2024-06-14 13:30:26"
        ],
        [
         "FT2902",
         "T2902",
         "unusual_amount",
         0.9,
         "2024-04-09 00:07:52"
        ],
        [
         "FT4444",
         "T4444",
         "unusual_amount",
         0.9,
         "2024-04-27 16:50:25"
        ],
        [
         "FT9111",
         "T9111",
         "pattern_anomaly",
         0.7,
         "2024-02-23 05:05:30"
        ],
        [
         "FT3952",
         "T3952",
         "unusual_amount",
         0.9,
         "2024-01-06 00:54:33"
        ],
        [
         "FT5370",
         "T5370",
         "velocity_check",
         0.8,
         "2024-02-25 01:30:57"
        ],
        [
         "FT1812",
         "T1812",
         "velocity_check",
         0.8,
         "2024-07-27 17:26:10"
        ],
        [
         "FT4333",
         "T4333",
         "velocity_check",
         0.8,
         "2024-07-18 23:03:14"
        ],
        [
         "FT3344",
         "T3344",
         "unusual_amount",
         0.9,
         "2024-03-10 09:51:43"
        ],
        [
         "FT2252",
         "T2252",
         "unusual_amount",
         0.9,
         "2024-04-30 10:51:16"
        ],
        [
         "FT8964",
         "T8964",
         "unusual_amount",
         0.9,
         "2024-07-03 18:35:02"
        ],
        [
         "FT6458",
         "T6458",
         "velocity_check",
         0.8,
         "2024-07-28 13:51:01"
        ],
        [
         "FT7313",
         "T7313",
         "velocity_check",
         0.8,
         "2024-06-10 17:46:54"
        ],
        [
         "FT6124",
         "T6124",
         "velocity_check",
         0.8,
         "2024-01-10 15:46:22"
        ],
        [
         "FT6461",
         "T6461",
         "velocity_check",
         0.8,
         "2024-06-20 06:06:18"
        ],
        [
         "FT1801",
         "T1801",
         "unusual_amount",
         0.9,
         "2024-05-18 14:40:20"
        ],
        [
         "FT2562",
         "T2562",
         "unusual_amount",
         0.9,
         "2024-01-06 07:07:37"
        ],
        [
         "FT1978",
         "T1978",
         "velocity_check",
         0.8,
         "2024-04-08 15:32:18"
        ],
        [
         "FT4866",
         "T4866",
         "unusual_amount",
         0.9,
         "2024-02-29 15:03:25"
        ],
        [
         "FT2207",
         "T2207",
         "velocity_check",
         0.8,
         "2024-04-29 00:56:31"
        ],
        [
         "FT7773",
         "T7773",
         "unusual_amount",
         0.9,
         "2024-07-13 21:36:54"
        ],
        [
         "FT1213",
         "T1213",
         "unusual_amount",
         0.9,
         "2024-06-29 00:01:55"
        ],
        [
         "FT5156",
         "T5156",
         "unusual_amount",
         0.9,
         "2024-03-24 14:25:55"
        ],
        [
         "FT1716",
         "T1716",
         "unusual_amount",
         0.9,
         "2024-06-28 01:18:54"
        ],
        [
         "FT3565",
         "T3565",
         "unusual_amount",
         0.9,
         "2024-03-28 04:03:04"
        ],
        [
         "FT7182",
         "T7182",
         "unusual_amount",
         0.9,
         "2024-04-10 09:11:15"
        ],
        [
         "FT1760",
         "T1760",
         "unusual_amount",
         0.9,
         "2024-06-16 22:58:29"
        ],
        [
         "FT6373",
         "T6373",
         "unusual_amount",
         0.9,
         "2024-01-12 05:29:48"
        ],
        [
         "FT7253",
         "T7253",
         "unusual_amount",
         0.9,
         "2024-05-20 16:04:13"
        ],
        [
         "FT8891",
         "T8891",
         "velocity_check",
         0.8,
         "2024-05-30 06:33:50"
        ],
        [
         "FT2401",
         "T2401",
         "pattern_anomaly",
         0.7,
         "2024-03-19 04:11:44"
        ],
        [
         "FT7893",
         "T7893",
         "unusual_amount",
         0.9,
         "2024-03-01 14:51:00"
        ],
        [
         "FT6407",
         "T6407",
         "unusual_amount",
         0.9,
         "2024-06-10 07:02:06"
        ],
        [
         "FT7828",
         "T7828",
         "velocity_check",
         0.8,
         "2024-03-24 03:54:38"
        ],
        [
         "FT6726",
         "T6726",
         "unusual_amount",
         0.9,
         "2024-03-27 21:51:42"
        ],
        [
         "FT3522",
         "T3522",
         "velocity_check",
         0.8,
         "2024-03-06 00:33:16"
        ],
        [
         "FT5522",
         "T5522",
         "unusual_amount",
         0.9,
         "2024-04-13 02:12:07"
        ],
        [
         "FT9297",
         "T9297",
         "unusual_amount",
         0.9,
         "2024-02-05 19:34:09"
        ],
        [
         "FT6631",
         "T6631",
         "unusual_amount",
         0.9,
         "2024-04-27 11:30:46"
        ],
        [
         "FT7071",
         "T7071",
         "unusual_amount",
         0.9,
         "2024-06-26 05:54:24"
        ],
        [
         "FT9609",
         "T9609",
         "unusual_amount",
         0.9,
         "2024-07-09 01:55:34"
        ],
        [
         "FT5477",
         "T5477",
         "unusual_amount",
         0.9,
         "2024-06-16 07:47:26"
        ],
        [
         "FT1900",
         "T1900",
         "unusual_amount",
         0.9,
         "2024-06-24 02:25:39"
        ],
        [
         "FT4299",
         "T4299",
         "unusual_amount",
         0.9,
         "2024-03-30 14:44:22"
        ],
        [
         "FT2371",
         "T2371",
         "pattern_anomaly",
         0.7,
         "2024-04-30 07:21:25"
        ],
        [
         "FT6372",
         "T6372",
         "pattern_anomaly",
         0.7,
         "2024-03-18 06:53:21"
        ],
        [
         "FT3664",
         "T3664",
         "velocity_check",
         0.8,
         "2024-06-12 20:39:28"
        ],
        [
         "FT6576",
         "T6576",
         "unusual_amount",
         0.9,
         "2024-01-24 11:51:50"
        ],
        [
         "FT5486",
         "T5486",
         "unusual_amount",
         0.9,
         "2024-06-30 04:53:19"
        ],
        [
         "FT4023",
         "T4023",
         "unusual_amount",
         0.9,
         "2024-06-14 23:11:46"
        ],
        [
         "FT8017",
         "T8017",
         "velocity_check",
         0.8,
         "2024-07-30 22:56:53"
        ],
        [
         "FT8197",
         "T8197",
         "unusual_amount",
         0.9,
         "2024-05-14 19:20:40"
        ],
        [
         "FT3667",
         "T3667",
         "unusual_amount",
         0.9,
         "2024-07-09 00:20:54"
        ],
        [
         "FT5429",
         "T5429",
         "velocity_check",
         0.8,
         "2024-07-05 06:22:59"
        ],
        [
         "FT7621",
         "T7621",
         "unusual_amount",
         0.9,
         "2024-03-17 16:08:01"
        ],
        [
         "FT7697",
         "T7697",
         "pattern_anomaly",
         0.7,
         "2024-01-02 18:34:03"
        ],
        [
         "FT7293",
         "T7293",
         "unusual_amount",
         0.9,
         "2024-05-13 16:24:13"
        ],
        [
         "FT2285",
         "T2285",
         "unusual_amount",
         0.9,
         "2024-07-05 16:50:08"
        ],
        [
         "FT8114",
         "T8114",
         "pattern_anomaly",
         0.7,
         "2024-02-06 07:43:41"
        ],
        [
         "FT9773",
         "T9773",
         "unusual_amount",
         0.9,
         "2024-02-12 11:40:30"
        ],
        [
         "FT7242",
         "T7242",
         "pattern_anomaly",
         0.7,
         "2024-05-23 16:03:00"
        ],
        [
         "FT8544",
         "T8544",
         "pattern_anomaly",
         0.7,
         "2024-06-14 09:51:07"
        ],
        [
         "FT2818",
         "T2818",
         "unusual_amount",
         0.9,
         "2024-07-02 12:53:21"
        ],
        [
         "FT5345",
         "T5345",
         "pattern_anomaly",
         0.7,
         "2024-03-29 03:58:21"
        ],
        [
         "FT9549",
         "T9549",
         "unusual_amount",
         0.9,
         "2024-07-23 08:26:30"
        ],
        [
         "FT8425",
         "T8425",
         "pattern_anomaly",
         0.7,
         "2024-06-02 19:04:59"
        ],
        [
         "FT6319",
         "T6319",
         "unusual_amount",
         0.9,
         "2024-06-08 15:13:56"
        ],
        [
         "FT5319",
         "T5319",
         "pattern_anomaly",
         0.7,
         "2024-02-12 01:22:50"
        ],
        [
         "FT6491",
         "T6491",
         "unusual_amount",
         0.9,
         "2024-03-05 20:32:50"
        ],
        [
         "FT4372",
         "T4372",
         "unusual_amount",
         0.9,
         "2024-07-03 23:11:49"
        ],
        [
         "FT1049",
         "T1049",
         "unusual_amount",
         0.9,
         "2024-03-03 01:17:18"
        ],
        [
         "FT5208",
         "T5208",
         "unusual_amount",
         0.9,
         "2024-05-26 21:03:24"
        ],
        [
         "FT6234",
         "T6234",
         "unusual_amount",
         0.9,
         "2024-03-16 07:54:21"
        ],
        [
         "FT4390",
         "T4390",
         "unusual_amount",
         0.9,
         "2024-07-11 16:44:12"
        ],
        [
         "FT2422",
         "T2422",
         "unusual_amount",
         0.9,
         "2024-04-04 04:01:41"
        ],
        [
         "FT9821",
         "T9821",
         "velocity_check",
         0.8,
         "2024-03-11 03:03:26"
        ],
        [
         "FT2088",
         "T2088",
         "velocity_check",
         0.8,
         "2024-02-05 20:02:41"
        ],
        [
         "FT9654",
         "T9654",
         "pattern_anomaly",
         0.7,
         "2024-01-02 05:53:07"
        ],
        [
         "FT9286",
         "T9286",
         "unusual_amount",
         0.9,
         "2024-05-03 08:11:16"
        ],
        [
         "FT4198",
         "T4198",
         "unusual_amount",
         0.9,
         "2024-02-26 22:25:20"
        ],
        [
         "FT8763",
         "T8763",
         "pattern_anomaly",
         0.7,
         "2024-03-31 00:41:40"
        ],
        [
         "FT3015",
         "T3015",
         "unusual_amount",
         0.9,
         "2024-04-11 02:08:06"
        ],
        [
         "FT2635",
         "T2635",
         "pattern_anomaly",
         0.7,
         "2024-01-12 00:45:21"
        ],
        [
         "FT7508",
         "T7508",
         "unusual_amount",
         0.9,
         "2024-06-01 05:28:57"
        ],
        [
         "FT9435",
         "T9435",
         "unusual_amount",
         0.9,
         "2024-06-23 00:47:01"
        ],
        [
         "FT6910",
         "T6910",
         "pattern_anomaly",
         0.7,
         "2024-06-18 14:17:49"
        ],
        [
         "FT4963",
         "T4963",
         "unusual_amount",
         0.9,
         "2024-02-02 05:14:16"
        ],
        [
         "FT2249",
         "T2249",
         "unusual_amount",
         0.9,
         "2024-02-18 06:26:38"
        ],
        [
         "FT8359",
         "T8359",
         "velocity_check",
         0.8,
         "2024-06-05 08:28:47"
        ],
        [
         "FT6688",
         "T6688",
         "velocity_check",
         0.8,
         "2024-03-12 06:40:20"
        ],
        [
         "FT9033",
         "T9033",
         "unusual_amount",
         0.9,
         "2024-03-04 17:44:14"
        ],
        [
         "FT4008",
         "T4008",
         "unusual_amount",
         0.9,
         "2024-06-21 17:05:12"
        ],
        [
         "FT7300",
         "T7300",
         "unusual_amount",
         0.9,
         "2024-02-17 07:13:37"
        ],
        [
         "FT6884",
         "T6884",
         "unusual_amount",
         0.9,
         "2024-03-08 11:43:39"
        ],
        [
         "FT3096",
         "T3096",
         "velocity_check",
         0.8,
         "2024-02-29 07:11:47"
        ],
        [
         "FT5591",
         "T5591",
         "pattern_anomaly",
         0.7,
         "2024-04-25 14:48:41"
        ],
        [
         "FT2580",
         "T2580",
         "unusual_amount",
         0.9,
         "2024-01-06 22:55:37"
        ],
        [
         "FT5717",
         "T5717",
         "unusual_amount",
         0.9,
         "2024-06-29 04:47:55"
        ],
        [
         "FT1085",
         "T1085",
         "unusual_amount",
         0.9,
         "2024-06-21 22:06:25"
        ],
        [
         "FT2491",
         "T2491",
         "pattern_anomaly",
         0.7,
         "2024-04-18 10:05:37"
        ],
        [
         "FT9875",
         "T9875",
         "velocity_check",
         0.8,
         "2024-05-03 14:30:35"
        ],
        [
         "FT9530",
         "T9530",
         "unusual_amount",
         0.9,
         "2024-02-22 18:08:25"
        ],
        [
         "FT1533",
         "T1533",
         "velocity_check",
         0.8,
         "2024-05-17 08:06:04"
        ],
        [
         "FT4472",
         "T4472",
         "unusual_amount",
         0.9,
         "2024-06-29 09:42:45"
        ],
        [
         "FT3652",
         "T3652",
         "velocity_check",
         0.8,
         "2024-07-19 08:20:01"
        ],
        [
         "FT4995",
         "T4995",
         "unusual_amount",
         0.9,
         "2024-02-05 23:06:18"
        ],
        [
         "FT1896",
         "T1896",
         "pattern_anomaly",
         0.7,
         "2024-02-11 05:06:28"
        ],
        [
         "FT2309",
         "T2309",
         "unusual_amount",
         0.9,
         "2024-07-11 16:57:22"
        ],
        [
         "FT3526",
         "T3526",
         "unusual_amount",
         0.9,
         "2024-05-28 21:22:43"
        ],
        [
         "FT2488",
         "T2488",
         "velocity_check",
         0.8,
         "2024-01-30 13:54:59"
        ],
        [
         "FT1567",
         "T1567",
         "unusual_amount",
         0.9,
         "2024-02-24 06:30:33"
        ],
        [
         "FT2367",
         "T2367",
         "unusual_amount",
         0.9,
         "2024-07-15 21:17:52"
        ],
        [
         "FT4893",
         "T4893",
         "unusual_amount",
         0.9,
         "2024-02-11 03:21:15"
        ],
        [
         "FT9583",
         "T9583",
         "unusual_amount",
         0.9,
         "2024-02-14 19:17:18"
        ],
        [
         "FT8948",
         "T8948",
         "velocity_check",
         0.8,
         "2024-05-09 22:43:12"
        ],
        [
         "FT6900",
         "T6900",
         "unusual_amount",
         0.9,
         "2024-03-08 15:16:53"
        ],
        [
         "FT7812",
         "T7812",
         "unusual_amount",
         0.9,
         "2024-02-20 00:49:31"
        ],
        [
         "FT9315",
         "T9315",
         "unusual_amount",
         0.9,
         "2024-05-28 09:50:16"
        ],
        [
         "FT9523",
         "T9523",
         "unusual_amount",
         0.9,
         "2024-01-07 23:05:07"
        ],
        [
         "FT4510",
         "T4510",
         "pattern_anomaly",
         0.7,
         "2024-02-19 12:02:50"
        ],
        [
         "FT2397",
         "T2397",
         "pattern_anomaly",
         0.7,
         "2024-06-17 12:46:45"
        ],
        [
         "FT9754",
         "T9754",
         "unusual_amount",
         0.9,
         "2024-03-03 17:50:22"
        ],
        [
         "FT6835",
         "T6835",
         "unusual_amount",
         0.9,
         "2024-02-26 22:29:22"
        ],
        [
         "FT6197",
         "T6197",
         "unusual_amount",
         0.9,
         "2024-04-18 18:55:35"
        ],
        [
         "FT6835",
         "T6835",
         "unusual_amount",
         0.9,
         "2024-02-26 22:14:18"
        ],
        [
         "FT3427",
         "T3427",
         "unusual_amount",
         0.9,
         "2024-07-11 03:06:57"
        ],
        [
         "FT8499",
         "T8499",
         "velocity_check",
         0.8,
         "2024-01-08 07:03:38"
        ],
        [
         "FT6235",
         "T6235",
         "unusual_amount",
         0.9,
         "2024-03-01 00:01:36"
        ],
        [
         "FT4487",
         "T4487",
         "unusual_amount",
         0.9,
         "2024-06-19 01:58:32"
        ],
        [
         "FT7587",
         "T7587",
         "unusual_amount",
         0.9,
         "2024-02-10 02:07:45"
        ],
        [
         "FT8040",
         "T8040",
         "unusual_amount",
         0.9,
         "2024-02-12 13:43:53"
        ],
        [
         "FT2060",
         "T2060",
         "velocity_check",
         0.8,
         "2024-02-03 00:58:49"
        ],
        [
         "FT2907",
         "T2907",
         "unusual_amount",
         0.9,
         "2024-05-01 23:14:52"
        ],
        [
         "FT8848",
         "T8848",
         "velocity_check",
         0.8,
         "2024-03-14 03:50:51"
        ],
        [
         "FT8042",
         "T8042",
         "velocity_check",
         0.8,
         "2024-06-16 15:18:00"
        ],
        [
         "FT9792",
         "T9792",
         "pattern_anomaly",
         0.7,
         "2024-06-18 04:34:43"
        ],
        [
         "FT6744",
         "T6744",
         "unusual_amount",
         0.9,
         "2024-02-24 17:15:38"
        ],
        [
         "FT3214",
         "T3214",
         "unusual_amount",
         0.9,
         "2024-05-08 07:13:01"
        ],
        [
         "FT7328",
         "T7328",
         "pattern_anomaly",
         0.7,
         "2024-07-02 02:00:10"
        ],
        [
         "FT9713",
         "T9713",
         "unusual_amount",
         0.9,
         "2024-03-27 21:03:04"
        ],
        [
         "FT2954",
         "T2954",
         "unusual_amount",
         0.9,
         "2024-01-25 21:41:23"
        ],
        [
         "FT6677",
         "T6677",
         "unusual_amount",
         0.9,
         "2024-05-14 17:01:40"
        ],
        [
         "FT8609",
         "T8609",
         "pattern_anomaly",
         0.7,
         "2024-04-27 11:46:18"
        ],
        [
         "FT1075",
         "T1075",
         "unusual_amount",
         0.9,
         "2024-04-16 01:43:52"
        ],
        [
         "FT4391",
         "T4391",
         "unusual_amount",
         0.9,
         "2024-02-16 19:45:28"
        ],
        [
         "FT9471",
         "T9471",
         "unusual_amount",
         0.9,
         "2024-02-14 06:42:27"
        ],
        [
         "FT6577",
         "T6577",
         "unusual_amount",
         0.9,
         "2024-03-06 01:14:48"
        ],
        [
         "FT8003",
         "T8003",
         "unusual_amount",
         0.9,
         "2024-04-16 20:26:38"
        ],
        [
         "FT1967",
         "T1967",
         "pattern_anomaly",
         0.7,
         "2024-02-28 19:32:34"
        ],
        [
         "FT7114",
         "T7114",
         "velocity_check",
         0.8,
         "2024-06-17 06:29:14"
        ],
        [
         "FT1375",
         "T1375",
         "pattern_anomaly",
         0.7,
         "2024-05-25 04:48:34"
        ],
        [
         "FT1850",
         "T1850",
         "velocity_check",
         0.8,
         "2024-04-05 09:37:35"
        ],
        [
         "FT8558",
         "T8558",
         "unusual_amount",
         0.9,
         "2024-05-12 22:48:36"
        ],
        [
         "FT5701",
         "T5701",
         "unusual_amount",
         0.9,
         "2024-01-20 01:50:40"
        ],
        [
         "FT5931",
         "T5931",
         "velocity_check",
         0.8,
         "2024-01-06 09:04:45"
        ],
        [
         "FT3824",
         "T3824",
         "unusual_amount",
         0.9,
         "2024-04-19 04:10:42"
        ],
        [
         "FT2643",
         "T2643",
         "velocity_check",
         0.8,
         "2024-07-10 10:24:33"
        ],
        [
         "FT4281",
         "T4281",
         "pattern_anomaly",
         0.7,
         "2024-06-01 03:21:16"
        ],
        [
         "FT3034",
         "T3034",
         "velocity_check",
         0.8,
         "2024-06-26 05:51:16"
        ],
        [
         "FT1862",
         "T1862",
         "pattern_anomaly",
         0.7,
         "2024-06-29 02:02:11"
        ],
        [
         "FT4258",
         "T4258",
         "unusual_amount",
         0.9,
         "2024-02-13 03:15:32"
        ],
        [
         "FT1554",
         "T1554",
         "velocity_check",
         0.8,
         "2024-03-08 10:01:27"
        ],
        [
         "FT7535",
         "T7535",
         "velocity_check",
         0.8,
         "2024-02-19 01:36:14"
        ],
        [
         "FT4177",
         "T4177",
         "unusual_amount",
         0.9,
         "2024-04-21 18:52:47"
        ],
        [
         "FT9612",
         "T9612",
         "unusual_amount",
         0.9,
         "2024-05-31 04:33:39"
        ],
        [
         "FT3789",
         "T3789",
         "unusual_amount",
         0.9,
         "2024-02-28 04:33:58"
        ],
        [
         "FT1399",
         "T1399",
         "velocity_check",
         0.8,
         "2024-04-09 21:36:06"
        ],
        [
         "FT1854",
         "T1854",
         "unusual_amount",
         0.9,
         "2024-04-30 18:13:46"
        ],
        [
         "FT7120",
         "T7120",
         "unusual_amount",
         0.9,
         "2024-02-02 02:03:37"
        ],
        [
         "FT8312",
         "T8312",
         "unusual_amount",
         0.9,
         "2024-06-09 18:08:46"
        ],
        [
         "FT6432",
         "T6432",
         "unusual_amount",
         0.9,
         "2024-04-11 20:49:36"
        ],
        [
         "FT5050",
         "T5050",
         "unusual_amount",
         0.9,
         "2024-06-22 21:32:14"
        ],
        [
         "FT3499",
         "T3499",
         "unusual_amount",
         0.9,
         "2024-03-06 01:26:30"
        ],
        [
         "FT3579",
         "T3579",
         "unusual_amount",
         0.9,
         "2024-03-25 00:52:19"
        ],
        [
         "FT7501",
         "T7501",
         "unusual_amount",
         0.9,
         "2024-07-28 05:49:40"
        ],
        [
         "FT7444",
         "T7444",
         "unusual_amount",
         0.9,
         "2024-04-07 22:41:24"
        ],
        [
         "FT5102",
         "T5102",
         "unusual_amount",
         0.9,
         "2024-04-06 14:31:07"
        ],
        [
         "FT2932",
         "T2932",
         "pattern_anomaly",
         0.7,
         "2024-01-07 12:03:13"
        ],
        [
         "FT7924",
         "T7924",
         "unusual_amount",
         0.9,
         "2024-06-16 16:04:02"
        ],
        [
         "FT1175",
         "T1175",
         "unusual_amount",
         0.9,
         "2024-02-01 22:46:44"
        ],
        [
         "FT6281",
         "T6281",
         "unusual_amount",
         0.9,
         "2024-01-18 12:10:19"
        ],
        [
         "FT4815",
         "T4815",
         "pattern_anomaly",
         0.7,
         "2024-02-21 00:02:35"
        ],
        [
         "FT2075",
         "T2075",
         "pattern_anomaly",
         0.7,
         "2024-06-17 03:24:13"
        ],
        [
         "FT7744",
         "T7744",
         "unusual_amount",
         0.9,
         "2024-04-13 01:52:31"
        ],
        [
         "FT8942",
         "T8942",
         "velocity_check",
         0.8,
         "2024-01-06 17:28:32"
        ],
        [
         "FT9877",
         "T9877",
         "pattern_anomaly",
         0.7,
         "2024-02-10 02:25:53"
        ],
        [
         "FT8581",
         "T8581",
         "unusual_amount",
         0.9,
         "2024-03-13 07:08:18"
        ],
        [
         "FT3351",
         "T3351",
         "unusual_amount",
         0.9,
         "2024-02-27 18:07:34"
        ],
        [
         "FT8262",
         "T8262",
         "unusual_amount",
         0.9,
         "2024-04-25 04:44:34"
        ],
        [
         "FT9645",
         "T9645",
         "unusual_amount",
         0.9,
         "2024-05-10 15:10:54"
        ],
        [
         "FT4907",
         "T4907",
         "unusual_amount",
         0.9,
         "2024-01-03 00:35:12"
        ],
        [
         "FT8266",
         "T8266",
         "velocity_check",
         0.8,
         "2024-01-20 16:33:08"
        ],
        [
         "FT6809",
         "T6809",
         "unusual_amount",
         0.9,
         "2024-05-06 17:12:57"
        ],
        [
         "FT9643",
         "T9643",
         "pattern_anomaly",
         0.7,
         "2024-06-03 07:33:59"
        ],
        [
         "FT7249",
         "T7249",
         "unusual_amount",
         0.9,
         "2024-02-22 06:07:18"
        ],
        [
         "FT1364",
         "T1364",
         "unusual_amount",
         0.9,
         "2024-02-27 01:17:12"
        ],
        [
         "FT8639",
         "T8639",
         "unusual_amount",
         0.9,
         "2024-01-28 22:43:03"
        ],
        [
         "FT3972",
         "T3972",
         "unusual_amount",
         0.9,
         "2024-07-29 20:44:14"
        ],
        [
         "FT8839",
         "T8839",
         "unusual_amount",
         0.9,
         "2024-01-23 18:32:45"
        ],
        [
         "FT8073",
         "T8073",
         "pattern_anomaly",
         0.7,
         "2024-06-04 06:24:09"
        ],
        [
         "FT6664",
         "T6664",
         "unusual_amount",
         0.9,
         "2024-04-24 17:52:03"
        ],
        [
         "FT5884",
         "T5884",
         "unusual_amount",
         0.9,
         "2024-06-07 00:52:01"
        ],
        [
         "FT9128",
         "T9128",
         "pattern_anomaly",
         0.7,
         "2024-01-24 23:40:15"
        ],
        [
         "FT9230",
         "T9230",
         "unusual_amount",
         0.9,
         "2024-02-26 06:49:12"
        ],
        [
         "FT9399",
         "T9399",
         "unusual_amount",
         0.9,
         "2024-02-12 04:52:49"
        ],
        [
         "FT8472",
         "T8472",
         "unusual_amount",
         0.9,
         "2024-01-16 08:57:40"
        ],
        [
         "FT7835",
         "T7835",
         "unusual_amount",
         0.9,
         "2024-05-08 12:38:34"
        ],
        [
         "FT4681",
         "T4681",
         "unusual_amount",
         0.9,
         "2024-05-10 17:20:07"
        ],
        [
         "FT1534",
         "T1534",
         "unusual_amount",
         0.9,
         "2024-03-15 04:01:21"
        ],
        [
         "FT9017",
         "T9017",
         "unusual_amount",
         0.9,
         "2024-03-10 05:23:44"
        ],
        [
         "FT4044",
         "T4044",
         "unusual_amount",
         0.9,
         "2024-03-18 05:04:55"
        ],
        [
         "FT5610",
         "T5610",
         "unusual_amount",
         0.9,
         "2024-02-05 11:35:05"
        ],
        [
         "FT4821",
         "T4821",
         "unusual_amount",
         0.9,
         "2024-05-13 20:49:44"
        ],
        [
         "FT2907",
         "T2907",
         "unusual_amount",
         0.9,
         "2024-04-05 15:02:33"
        ],
        [
         "FT8901",
         "T8901",
         "unusual_amount",
         0.9,
         "2024-01-24 03:26:33"
        ],
        [
         "FT3805",
         "T3805",
         "velocity_check",
         0.8,
         "2024-01-01 21:28:51"
        ],
        [
         "FT9179",
         "T9179",
         "unusual_amount",
         0.9,
         "2024-03-01 03:21:39"
        ],
        [
         "FT8244",
         "T8244",
         "unusual_amount",
         0.9,
         "2024-07-15 11:13:31"
        ],
        [
         "FT8356",
         "T8356",
         "unusual_amount",
         0.9,
         "2024-03-26 18:24:11"
        ],
        [
         "FT8836",
         "T8836",
         "velocity_check",
         0.8,
         "2024-06-02 21:03:08"
        ],
        [
         "FT5193",
         "T5193",
         "unusual_amount",
         0.9,
         "2024-06-20 08:37:19"
        ],
        [
         "FT5391",
         "T5391",
         "unusual_amount",
         0.9,
         "2024-01-13 03:38:24"
        ],
        [
         "FT5229",
         "T5229",
         "unusual_amount",
         0.9,
         "2024-05-23 07:18:31"
        ],
        [
         "FT7078",
         "T7078",
         "unusual_amount",
         0.9,
         "2024-07-18 06:38:52"
        ],
        [
         "FT9885",
         "T9885",
         "unusual_amount",
         0.9,
         "2024-03-05 16:48:27"
        ],
        [
         "FT8191",
         "T8191",
         "pattern_anomaly",
         0.7,
         "2024-03-17 23:56:40"
        ],
        [
         "FT4700",
         "T4700",
         "unusual_amount",
         0.9,
         "2024-06-26 07:15:53"
        ],
        [
         "FT8470",
         "T8470",
         "unusual_amount",
         0.9,
         "2024-06-19 05:57:36"
        ],
        [
         "FT3071",
         "T3071",
         "unusual_amount",
         0.9,
         "2024-06-05 20:27:00"
        ],
        [
         "FT6061",
         "T6061",
         "unusual_amount",
         0.9,
         "2024-07-01 14:32:08"
        ],
        [
         "FT8015",
         "T8015",
         "unusual_amount",
         0.9,
         "2024-02-27 07:59:58"
        ],
        [
         "FT9212",
         "T9212",
         "unusual_amount",
         0.9,
         "2024-02-25 22:27:08"
        ],
        [
         "FT6471",
         "T6471",
         "pattern_anomaly",
         0.7,
         "2024-04-27 17:23:44"
        ],
        [
         "FT2568",
         "T2568",
         "unusual_amount",
         0.9,
         "2024-07-13 17:06:34"
        ],
        [
         "FT2502",
         "T2502",
         "unusual_amount",
         0.9,
         "2024-06-22 01:53:57"
        ],
        [
         "FT7409",
         "T7409",
         "unusual_amount",
         0.9,
         "2024-01-04 05:23:16"
        ],
        [
         "FT2863",
         "T2863",
         "velocity_check",
         0.8,
         "2024-07-11 01:51:33"
        ],
        [
         "FT5363",
         "T5363",
         "unusual_amount",
         0.9,
         "2024-05-05 17:41:46"
        ],
        [
         "FT6510",
         "T6510",
         "unusual_amount",
         0.9,
         "2024-01-18 03:35:00"
        ],
        [
         "FT8021",
         "T8021",
         "velocity_check",
         0.8,
         "2024-02-25 05:03:22"
        ],
        [
         "FT5045",
         "T5045",
         "unusual_amount",
         0.9,
         "2024-04-26 07:13:27"
        ],
        [
         "FT9587",
         "T9587",
         "unusual_amount",
         0.9,
         "2024-04-19 05:52:38"
        ],
        [
         "FT1926",
         "T1926",
         "unusual_amount",
         0.9,
         "2024-01-09 19:44:23"
        ],
        [
         "FT6567",
         "T6567",
         "unusual_amount",
         0.9,
         "2024-04-01 12:38:00"
        ],
        [
         "FT3589",
         "T3589",
         "unusual_amount",
         0.9,
         "2024-01-03 00:05:35"
        ],
        [
         "FT7977",
         "T7977",
         "unusual_amount",
         0.9,
         "2024-06-15 20:41:44"
        ],
        [
         "FT5225",
         "T5225",
         "unusual_amount",
         0.9,
         "2024-02-18 19:54:08"
        ],
        [
         "FT9829",
         "T9829",
         "pattern_anomaly",
         0.7,
         "2024-05-03 22:52:55"
        ],
        [
         "FT2913",
         "T2913",
         "unusual_amount",
         0.9,
         "2024-01-24 18:57:41"
        ],
        [
         "FT7953",
         "T7953",
         "pattern_anomaly",
         0.7,
         "2024-05-13 23:52:47"
        ],
        [
         "FT3671",
         "T3671",
         "pattern_anomaly",
         0.7,
         "2024-07-19 08:55:07"
        ],
        [
         "FT7632",
         "T7632",
         "unusual_amount",
         0.9,
         "2024-04-29 07:38:56"
        ],
        [
         "FT6917",
         "T6917",
         "pattern_anomaly",
         0.7,
         "2024-04-15 08:44:24"
        ],
        [
         "FT6763",
         "T6763",
         "unusual_amount",
         0.9,
         "2024-02-03 04:13:53"
        ],
        [
         "FT1125",
         "T1125",
         "unusual_amount",
         0.9,
         "2024-06-17 07:26:56"
        ],
        [
         "FT3673",
         "T3673",
         "velocity_check",
         0.8,
         "2024-02-21 04:32:01"
        ],
        [
         "FT5857",
         "T5857",
         "pattern_anomaly",
         0.7,
         "2024-01-18 11:31:34"
        ],
        [
         "FT7411",
         "T7411",
         "velocity_check",
         0.8,
         "2024-07-13 17:03:52"
        ],
        [
         "FT2669",
         "T2669",
         "velocity_check",
         0.8,
         "2024-06-22 07:10:52"
        ],
        [
         "FT6876",
         "T6876",
         "unusual_amount",
         0.9,
         "2024-06-21 18:46:45"
        ],
        [
         "FT3550",
         "T3550",
         "unusual_amount",
         0.9,
         "2024-04-24 08:17:16"
        ],
        [
         "FT6418",
         "T6418",
         "unusual_amount",
         0.9,
         "2024-02-02 02:15:06"
        ],
        [
         "FT7375",
         "T7375",
         "pattern_anomaly",
         0.7,
         "2024-01-21 14:21:30"
        ],
        [
         "FT2083",
         "T2083",
         "unusual_amount",
         0.9,
         "2024-03-12 07:27:01"
        ],
        [
         "FT3169",
         "T3169",
         "velocity_check",
         0.8,
         "2024-03-01 00:00:37"
        ],
        [
         "FT8443",
         "T8443",
         "unusual_amount",
         0.9,
         "2024-07-04 18:02:10"
        ],
        [
         "FT9745",
         "T9745",
         "unusual_amount",
         0.9,
         "2024-05-31 21:55:46"
        ],
        [
         "FT8255",
         "T8255",
         "pattern_anomaly",
         0.7,
         "2024-04-17 06:43:39"
        ],
        [
         "FT8201",
         "T8201",
         "unusual_amount",
         0.9,
         "2024-04-29 22:59:27"
        ],
        [
         "FT2518",
         "T2518",
         "pattern_anomaly",
         0.7,
         "2024-02-03 05:23:08"
        ],
        [
         "FT4528",
         "T4528",
         "unusual_amount",
         0.9,
         "2024-05-10 01:26:47"
        ],
        [
         "FT4484",
         "T4484",
         "unusual_amount",
         0.9,
         "2024-02-12 04:49:08"
        ],
        [
         "FT6268",
         "T6268",
         "unusual_amount",
         0.9,
         "2024-05-02 13:33:32"
        ],
        [
         "FT5015",
         "T5015",
         "velocity_check",
         0.8,
         "2024-04-14 22:05:08"
        ],
        [
         "FT2485",
         "T2485",
         "unusual_amount",
         0.9,
         "2024-02-03 11:57:23"
        ],
        [
         "FT6722",
         "T6722",
         "unusual_amount",
         0.9,
         "2024-02-19 11:02:35"
        ],
        [
         "FT8417",
         "T8417",
         "unusual_amount",
         0.9,
         "2024-04-15 03:25:03"
        ],
        [
         "FT3283",
         "T3283",
         "unusual_amount",
         0.9,
         "2024-05-28 19:22:23"
        ],
        [
         "FT2079",
         "T2079",
         "unusual_amount",
         0.9,
         "2024-04-11 03:06:48"
        ],
        [
         "FT9696",
         "T9696",
         "velocity_check",
         0.8,
         "2024-01-05 07:23:03"
        ],
        [
         "FT4580",
         "T4580",
         "velocity_check",
         0.8,
         "2024-03-18 01:06:50"
        ],
        [
         "FT7131",
         "T7131",
         "velocity_check",
         0.8,
         "2024-05-13 23:55:46"
        ],
        [
         "FT4846",
         "T4846",
         "unusual_amount",
         0.9,
         "2024-05-21 20:05:01"
        ],
        [
         "FT6775",
         "T6775",
         "unusual_amount",
         0.9,
         "2024-07-22 15:50:59"
        ],
        [
         "FT1738",
         "T1738",
         "unusual_amount",
         0.9,
         "2024-03-28 16:06:18"
        ],
        [
         "FT6522",
         "T6522",
         "velocity_check",
         0.8,
         "2024-07-24 14:50:24"
        ],
        [
         "FT3650",
         "T3650",
         "velocity_check",
         0.8,
         "2024-03-04 01:12:10"
        ],
        [
         "FT7145",
         "T7145",
         "unusual_amount",
         0.9,
         "2024-03-03 07:10:13"
        ],
        [
         "FT5658",
         "T5658",
         "unusual_amount",
         0.9,
         "2024-02-14 08:23:01"
        ],
        [
         "FT3495",
         "T3495",
         "velocity_check",
         0.8,
         "2024-02-11 00:03:13"
        ],
        [
         "FT7569",
         "T7569",
         "unusual_amount",
         0.9,
         "2024-06-16 02:38:50"
        ],
        [
         "FT4590",
         "T4590",
         "pattern_anomaly",
         0.7,
         "2024-05-13 02:35:14"
        ],
        [
         "FT8710",
         "T8710",
         "unusual_amount",
         0.9,
         "2024-04-12 04:41:25"
        ],
        [
         "FT4394",
         "T4394",
         "unusual_amount",
         0.9,
         "2024-05-17 08:59:48"
        ],
        [
         "FT4733",
         "T4733",
         "pattern_anomaly",
         0.7,
         "2024-02-28 06:44:55"
        ],
        [
         "FT4018",
         "T4018",
         "unusual_amount",
         0.9,
         "2024-02-25 09:13:01"
        ],
        [
         "FT5994",
         "T5994",
         "unusual_amount",
         0.9,
         "2024-03-07 02:02:25"
        ],
        [
         "FT8800",
         "T8800",
         "pattern_anomaly",
         0.7,
         "2024-05-12 17:07:48"
        ],
        [
         "FT1684",
         "T1684",
         "pattern_anomaly",
         0.7,
         "2024-03-16 20:26:50"
        ],
        [
         "FT7021",
         "T7021",
         "unusual_amount",
         0.9,
         "2024-01-19 06:36:10"
        ],
        [
         "FT3934",
         "T3934",
         "unusual_amount",
         0.9,
         "2024-03-09 19:15:16"
        ],
        [
         "FT3830",
         "T3830",
         "pattern_anomaly",
         0.7,
         "2024-06-10 13:33:51"
        ],
        [
         "FT6583",
         "T6583",
         "unusual_amount",
         0.9,
         "2024-03-01 22:06:55"
        ],
        [
         "FT1552",
         "T1552",
         "unusual_amount",
         0.9,
         "2024-06-17 10:15:01"
        ],
        [
         "FT1800",
         "T1800",
         "unusual_amount",
         0.9,
         "2024-05-25 03:57:02"
        ],
        [
         "FT2308",
         "T2308",
         "velocity_check",
         0.8,
         "2024-04-05 15:20:43"
        ],
        [
         "FT2200",
         "T2200",
         "pattern_anomaly",
         0.7,
         "2024-02-07 14:48:14"
        ],
        [
         "FT9617",
         "T9617",
         "unusual_amount",
         0.9,
         "2024-06-09 17:58:36"
        ],
        [
         "FT7676",
         "T7676",
         "velocity_check",
         0.8,
         "2024-05-01 14:39:48"
        ],
        [
         "FT4904",
         "T4904",
         "unusual_amount",
         0.9,
         "2024-03-15 19:03:08"
        ],
        [
         "FT3901",
         "T3901",
         "unusual_amount",
         0.9,
         "2024-01-29 23:24:49"
        ],
        [
         "FT5035",
         "T5035",
         "unusual_amount",
         0.9,
         "2024-03-11 19:13:20"
        ],
        [
         "FT3990",
         "T3990",
         "unusual_amount",
         0.9,
         "2024-01-04 16:10:09"
        ],
        [
         "FT9112",
         "T9112",
         "unusual_amount",
         0.9,
         "2024-07-12 06:59:31"
        ],
        [
         "FT5479",
         "T5479",
         "velocity_check",
         0.8,
         "2024-01-08 19:16:14"
        ],
        [
         "FT8836",
         "T8836",
         "velocity_check",
         0.8,
         "2024-07-08 07:09:26"
        ],
        [
         "FT4130",
         "T4130",
         "unusual_amount",
         0.9,
         "2024-06-29 02:05:27"
        ],
        [
         "FT3585",
         "T3585",
         "unusual_amount",
         0.9,
         "2024-06-26 14:46:51"
        ],
        [
         "FT1246",
         "T1246",
         "unusual_amount",
         0.9,
         "2024-03-09 20:12:45"
        ],
        [
         "FT5643",
         "T5643",
         "unusual_amount",
         0.9,
         "2024-04-16 09:44:29"
        ],
        [
         "FT6982",
         "T6982",
         "velocity_check",
         0.8,
         "2024-01-23 18:06:43"
        ],
        [
         "FT3574",
         "T3574",
         "unusual_amount",
         0.9,
         "2024-04-08 02:31:43"
        ],
        [
         "FT2357",
         "T2357",
         "unusual_amount",
         0.9,
         "2024-03-26 09:46:58"
        ],
        [
         "FT7806",
         "T7806",
         "unusual_amount",
         0.9,
         "2024-02-24 20:32:53"
        ],
        [
         "FT1068",
         "T1068",
         "unusual_amount",
         0.9,
         "2024-02-20 23:49:00"
        ],
        [
         "FT8913",
         "T8913",
         "unusual_amount",
         0.9,
         "2024-06-17 23:16:09"
        ],
        [
         "FT4508",
         "T4508",
         "unusual_amount",
         0.9,
         "2024-01-20 07:58:51"
        ],
        [
         "FT8127",
         "T8127",
         "unusual_amount",
         0.9,
         "2024-02-02 08:00:00"
        ],
        [
         "FT4144",
         "T4144",
         "velocity_check",
         0.8,
         "2024-01-31 20:43:39"
        ],
        [
         "FT8262",
         "T8262",
         "unusual_amount",
         0.9,
         "2024-01-22 10:18:19"
        ],
        [
         "FT6725",
         "T6725",
         "unusual_amount",
         0.9,
         "2024-03-16 06:40:13"
        ],
        [
         "FT3938",
         "T3938",
         "unusual_amount",
         0.9,
         "2024-03-30 07:05:33"
        ],
        [
         "FT3566",
         "T3566",
         "unusual_amount",
         0.9,
         "2024-03-21 01:02:44"
        ],
        [
         "FT4646",
         "T4646",
         "velocity_check",
         0.8,
         "2024-02-27 03:02:53"
        ],
        [
         "FT5984",
         "T5984",
         "unusual_amount",
         0.9,
         "2024-05-02 21:20:03"
        ],
        [
         "FT1642",
         "T1642",
         "unusual_amount",
         0.9,
         "2024-07-19 16:57:09"
        ],
        [
         "FT7160",
         "T7160",
         "unusual_amount",
         0.9,
         "2024-02-14 12:51:01"
        ],
        [
         "FT8013",
         "T8013",
         "unusual_amount",
         0.9,
         "2024-01-25 08:32:46"
        ],
        [
         "FT8474",
         "T8474",
         "unusual_amount",
         0.9,
         "2024-01-09 11:04:46"
        ],
        [
         "FT3675",
         "T3675",
         "unusual_amount",
         0.9,
         "2024-01-28 09:05:22"
        ],
        [
         "FT5221",
         "T5221",
         "pattern_anomaly",
         0.7,
         "2024-02-07 05:34:28"
        ],
        [
         "FT7200",
         "T7200",
         "pattern_anomaly",
         0.7,
         "2024-02-10 01:27:47"
        ],
        [
         "FT9295",
         "T9295",
         "pattern_anomaly",
         0.7,
         "2024-01-15 17:22:08"
        ],
        [
         "FT4621",
         "T4621",
         "unusual_amount",
         0.9,
         "2024-04-08 07:24:02"
        ],
        [
         "FT2718",
         "T2718",
         "unusual_amount",
         0.9,
         "2024-01-11 18:00:01"
        ],
        [
         "FT1086",
         "T1086",
         "pattern_anomaly",
         0.7,
         "2024-06-05 04:50:49"
        ],
        [
         "FT7270",
         "T7270",
         "velocity_check",
         0.8,
         "2024-02-18 12:04:26"
        ],
        [
         "FT9187",
         "T9187",
         "unusual_amount",
         0.9,
         "2024-01-06 12:59:44"
        ],
        [
         "FT3232",
         "T3232",
         "unusual_amount",
         0.9,
         "2024-05-09 15:23:54"
        ],
        [
         "FT7461",
         "T7461",
         "unusual_amount",
         0.9,
         "2024-07-22 07:15:03"
        ],
        [
         "FT3028",
         "T3028",
         "unusual_amount",
         0.9,
         "2024-01-03 11:26:42"
        ],
        [
         "FT8009",
         "T8009",
         "unusual_amount",
         0.9,
         "2024-03-29 04:00:55"
        ],
        [
         "FT5705",
         "T5705",
         "unusual_amount",
         0.9,
         "2024-04-06 19:07:28"
        ],
        [
         "FT5274",
         "T5274",
         "unusual_amount",
         0.9,
         "2024-03-29 09:30:26"
        ],
        [
         "FT4635",
         "T4635",
         "unusual_amount",
         0.9,
         "2024-04-22 11:05:56"
        ],
        [
         "FT5877",
         "T5877",
         "unusual_amount",
         0.9,
         "2024-03-05 08:48:41"
        ],
        [
         "FT3608",
         "T3608",
         "velocity_check",
         0.8,
         "2024-01-25 22:31:31"
        ],
        [
         "FT9706",
         "T9706",
         "unusual_amount",
         0.9,
         "2024-06-26 01:28:54"
        ],
        [
         "FT5784",
         "T5784",
         "pattern_anomaly",
         0.7,
         "2024-06-06 13:30:07"
        ],
        [
         "FT4593",
         "T4593",
         "velocity_check",
         0.8,
         "2024-03-21 17:08:28"
        ],
        [
         "FT1670",
         "T1670",
         "unusual_amount",
         0.9,
         "2024-04-16 02:42:41"
        ],
        [
         "FT7259",
         "T7259",
         "unusual_amount",
         0.9,
         "2024-04-19 09:41:49"
        ],
        [
         "FT4910",
         "T4910",
         "unusual_amount",
         0.9,
         "2024-02-28 19:09:11"
        ],
        [
         "FT8563",
         "T8563",
         "unusual_amount",
         0.9,
         "2024-06-29 00:51:20"
        ],
        [
         "FT7951",
         "T7951",
         "pattern_anomaly",
         0.7,
         "2024-06-18 04:23:44"
        ],
        [
         "FT5031",
         "T5031",
         "unusual_amount",
         0.9,
         "2024-07-14 07:05:35"
        ],
        [
         "FT1248",
         "T1248",
         "unusual_amount",
         0.9,
         "2024-04-03 23:56:59"
        ],
        [
         "FT6309",
         "T6309",
         "unusual_amount",
         0.9,
         "2024-04-06 10:59:31"
        ],
        [
         "FT4666",
         "T4666",
         "pattern_anomaly",
         0.7,
         "2024-05-16 05:04:09"
        ],
        [
         "FT8362",
         "T8362",
         "unusual_amount",
         0.9,
         "2024-04-28 14:50:33"
        ],
        [
         "FT1041",
         "T1041",
         "unusual_amount",
         0.9,
         "2024-06-07 21:55:44"
        ],
        [
         "FT5572",
         "T5572",
         "pattern_anomaly",
         0.7,
         "2024-01-10 16:50:55"
        ],
        [
         "FT8604",
         "T8604",
         "unusual_amount",
         0.9,
         "2024-06-02 10:29:09"
        ],
        [
         "FT1175",
         "T1175",
         "velocity_check",
         0.8,
         "2024-06-22 18:33:35"
        ],
        [
         "FT7880",
         "T7880",
         "unusual_amount",
         0.9,
         "2024-06-21 03:48:24"
        ],
        [
         "FT4657",
         "T4657",
         "unusual_amount",
         0.9,
         "2024-04-02 19:01:28"
        ],
        [
         "FT1903",
         "T1903",
         "unusual_amount",
         0.9,
         "2024-03-12 21:04:17"
        ],
        [
         "FT5266",
         "T5266",
         "pattern_anomaly",
         0.7,
         "2024-06-25 23:43:33"
        ],
        [
         "FT8344",
         "T8344",
         "unusual_amount",
         0.9,
         "2024-07-22 11:42:16"
        ],
        [
         "FT8198",
         "T8198",
         "velocity_check",
         0.8,
         "2024-04-19 20:53:17"
        ],
        [
         "FT7257",
         "T7257",
         "unusual_amount",
         0.9,
         "2024-03-16 01:09:37"
        ],
        [
         "FT6842",
         "T6842",
         "velocity_check",
         0.8,
         "2024-07-13 02:41:27"
        ],
        [
         "FT1722",
         "T1722",
         "unusual_amount",
         0.9,
         "2024-04-22 03:32:54"
        ],
        [
         "FT9693",
         "T9693",
         "unusual_amount",
         0.9,
         "2024-02-03 15:12:42"
        ],
        [
         "FT4535",
         "T4535",
         "unusual_amount",
         0.9,
         "2024-04-26 14:57:54"
        ],
        [
         "FT9871",
         "T9871",
         "unusual_amount",
         0.9,
         "2024-04-03 19:45:28"
        ],
        [
         "FT2157",
         "T2157",
         "unusual_amount",
         0.9,
         "2024-02-03 16:12:13"
        ],
        [
         "FT8632",
         "T8632",
         "pattern_anomaly",
         0.7,
         "2024-03-02 22:45:13"
        ],
        [
         "FT6962",
         "T6962",
         "unusual_amount",
         0.9,
         "2024-04-16 21:23:42"
        ],
        [
         "FT6273",
         "T6273",
         "unusual_amount",
         0.9,
         "2024-05-06 02:04:02"
        ],
        [
         "FT3525",
         "T3525",
         "unusual_amount",
         0.9,
         "2024-07-06 11:09:12"
        ],
        [
         "FT6075",
         "T6075",
         "unusual_amount",
         0.9,
         "2024-03-14 03:47:06"
        ],
        [
         "FT6708",
         "T6708",
         "unusual_amount",
         0.9,
         "2024-03-09 19:19:48"
        ],
        [
         "FT1057",
         "T1057",
         "unusual_amount",
         0.9,
         "2024-01-08 09:34:20"
        ],
        [
         "FT6317",
         "T6317",
         "unusual_amount",
         0.9,
         "2024-05-23 19:33:38"
        ],
        [
         "FT9175",
         "T9175",
         "velocity_check",
         0.8,
         "2024-05-25 19:32:06"
        ],
        [
         "FT7348",
         "T7348",
         "unusual_amount",
         0.9,
         "2024-03-11 00:02:43"
        ],
        [
         "FT6426",
         "T6426",
         "unusual_amount",
         0.9,
         "2024-04-21 12:54:28"
        ],
        [
         "FT4829",
         "T4829",
         "unusual_amount",
         0.9,
         "2024-03-10 06:18:34"
        ],
        [
         "FT9087",
         "T9087",
         "unusual_amount",
         0.9,
         "2024-03-23 03:29:10"
        ],
        [
         "FT8195",
         "T8195",
         "unusual_amount",
         0.9,
         "2024-06-15 13:04:21"
        ],
        [
         "FT7123",
         "T7123",
         "unusual_amount",
         0.9,
         "2024-06-28 16:56:28"
        ],
        [
         "FT7871",
         "T7871",
         "unusual_amount",
         0.9,
         "2024-06-10 01:16:36"
        ],
        [
         "FT3164",
         "T3164",
         "unusual_amount",
         0.9,
         "2024-06-10 08:46:51"
        ],
        [
         "FT1287",
         "T1287",
         "unusual_amount",
         0.9,
         "2024-04-18 12:35:02"
        ],
        [
         "FT4606",
         "T4606",
         "unusual_amount",
         0.9,
         "2024-02-15 14:16:02"
        ],
        [
         "FT7786",
         "T7786",
         "unusual_amount",
         0.9,
         "2024-06-02 02:06:44"
        ],
        [
         "FT2571",
         "T2571",
         "unusual_amount",
         0.9,
         "2024-05-08 01:49:53"
        ],
        [
         "FT6434",
         "T6434",
         "unusual_amount",
         0.9,
         "2024-05-18 15:14:30"
        ],
        [
         "FT2163",
         "T2163",
         "unusual_amount",
         0.9,
         "2024-06-24 23:09:18"
        ],
        [
         "FT3687",
         "T3687",
         "unusual_amount",
         0.9,
         "2024-02-03 19:45:05"
        ],
        [
         "FT3690",
         "T3690",
         "unusual_amount",
         0.9,
         "2024-07-13 21:53:12"
        ],
        [
         "FT8272",
         "T8272",
         "unusual_amount",
         0.9,
         "2024-01-28 19:13:54"
        ],
        [
         "FT2284",
         "T2284",
         "unusual_amount",
         0.9,
         "2024-04-19 01:18:47"
        ],
        [
         "FT6344",
         "T6344",
         "unusual_amount",
         0.9,
         "2024-06-15 07:00:35"
        ],
        [
         "FT3666",
         "T3666",
         "unusual_amount",
         0.9,
         "2024-02-05 11:03:41"
        ],
        [
         "FT5106",
         "T5106",
         "unusual_amount",
         0.9,
         "2024-07-16 09:53:31"
        ],
        [
         "FT8989",
         "T8989",
         "unusual_amount",
         0.9,
         "2024-05-08 21:08:45"
        ],
        [
         "FT2970",
         "T2970",
         "unusual_amount",
         0.9,
         "2024-05-16 03:54:12"
        ],
        [
         "FT4031",
         "T4031",
         "pattern_anomaly",
         0.7,
         "2024-07-17 16:13:29"
        ],
        [
         "FT2409",
         "T2409",
         "velocity_check",
         0.8,
         "2024-07-22 19:55:54"
        ],
        [
         "FT6036",
         "T6036",
         "unusual_amount",
         0.9,
         "2024-05-15 02:51:04"
        ],
        [
         "FT9981",
         "T9981",
         "unusual_amount",
         0.9,
         "2024-02-21 05:25:51"
        ],
        [
         "FT7235",
         "T7235",
         "velocity_check",
         0.8,
         "2024-01-09 10:47:07"
        ],
        [
         "FT7778",
         "T7778",
         "unusual_amount",
         0.9,
         "2024-07-25 10:45:51"
        ],
        [
         "FT3629",
         "T3629",
         "velocity_check",
         0.8,
         "2024-01-29 12:01:09"
        ],
        [
         "FT6087",
         "T6087",
         "pattern_anomaly",
         0.7,
         "2024-02-24 22:03:05"
        ],
        [
         "FT4411",
         "T4411",
         "unusual_amount",
         0.9,
         "2024-04-24 05:04:30"
        ],
        [
         "FT5172",
         "T5172",
         "unusual_amount",
         0.9,
         "2024-07-23 16:52:15"
        ],
        [
         "FT5463",
         "T5463",
         "unusual_amount",
         0.9,
         "2024-03-21 01:24:42"
        ],
        [
         "FT7468",
         "T7468",
         "unusual_amount",
         0.9,
         "2024-01-21 07:06:48"
        ],
        [
         "FT9439",
         "T9439",
         "velocity_check",
         0.8,
         "2024-06-10 21:19:05"
        ],
        [
         "FT4800",
         "T4800",
         "unusual_amount",
         0.9,
         "2024-06-03 18:49:49"
        ],
        [
         "FT8255",
         "T8255",
         "unusual_amount",
         0.9,
         "2024-07-05 06:45:06"
        ],
        [
         "FT4556",
         "T4556",
         "unusual_amount",
         0.9,
         "2024-04-13 06:03:43"
        ],
        [
         "FT4909",
         "T4909",
         "unusual_amount",
         0.9,
         "2024-06-04 08:36:31"
        ],
        [
         "FT8938",
         "T8938",
         "velocity_check",
         0.8,
         "2024-04-09 06:03:27"
        ],
        [
         "FT9777",
         "T9777",
         "unusual_amount",
         0.9,
         "2024-06-22 09:56:10"
        ],
        [
         "FT1267",
         "T1267",
         "unusual_amount",
         0.9,
         "2024-07-19 02:43:16"
        ],
        [
         "FT5029",
         "T5029",
         "unusual_amount",
         0.9,
         "2024-04-13 01:57:34"
        ],
        [
         "FT5098",
         "T5098",
         "unusual_amount",
         0.9,
         "2024-06-19 06:51:31"
        ],
        [
         "FT9640",
         "T9640",
         "pattern_anomaly",
         0.7,
         "2024-03-07 09:09:34"
        ],
        [
         "FT3491",
         "T3491",
         "pattern_anomaly",
         0.7,
         "2024-01-27 02:30:19"
        ],
        [
         "FT2745",
         "T2745",
         "velocity_check",
         0.8,
         "2024-06-06 03:19:34"
        ],
        [
         "FT8268",
         "T8268",
         "unusual_amount",
         0.9,
         "2024-05-12 05:07:42"
        ],
        [
         "FT7622",
         "T7622",
         "pattern_anomaly",
         0.7,
         "2024-02-23 18:54:12"
        ],
        [
         "FT9324",
         "T9324",
         "pattern_anomaly",
         0.7,
         "2024-03-29 20:34:48"
        ],
        [
         "FT6955",
         "T6955",
         "unusual_amount",
         0.9,
         "2024-01-09 07:24:29"
        ],
        [
         "FT8345",
         "T8345",
         "unusual_amount",
         0.9,
         "2024-05-04 02:56:29"
        ],
        [
         "FT6199",
         "T6199",
         "unusual_amount",
         0.9,
         "2024-03-13 17:52:21"
        ],
        [
         "FT4352",
         "T4352",
         "pattern_anomaly",
         0.7,
         "2024-03-03 11:58:23"
        ],
        [
         "FT6474",
         "T6474",
         "unusual_amount",
         0.9,
         "2024-04-16 16:50:45"
        ],
        [
         "FT6047",
         "T6047",
         "pattern_anomaly",
         0.7,
         "2024-03-19 11:02:02"
        ],
        [
         "FT5815",
         "T5815",
         "velocity_check",
         0.8,
         "2024-04-08 06:01:26"
        ],
        [
         "FT1537",
         "T1537",
         "unusual_amount",
         0.9,
         "2024-06-24 19:13:53"
        ],
        [
         "FT9587",
         "T9587",
         "unusual_amount",
         0.9,
         "2024-04-06 01:03:24"
        ],
        [
         "FT8600",
         "T8600",
         "unusual_amount",
         0.9,
         "2024-07-06 10:41:25"
        ],
        [
         "FT3191",
         "T3191",
         "velocity_check",
         0.8,
         "2024-02-05 05:04:57"
        ],
        [
         "FT5376",
         "T5376",
         "unusual_amount",
         0.9,
         "2024-06-12 22:47:38"
        ],
        [
         "FT7836",
         "T7836",
         "unusual_amount",
         0.9,
         "2024-07-11 08:57:31"
        ],
        [
         "FT8477",
         "T8477",
         "unusual_amount",
         0.9,
         "2024-02-10 06:45:49"
        ],
        [
         "FT5898",
         "T5898",
         "unusual_amount",
         0.9,
         "2024-03-15 04:40:41"
        ],
        [
         "FT4543",
         "T4543",
         "velocity_check",
         0.8,
         "2024-01-18 13:16:45"
        ],
        [
         "FT7337",
         "T7337",
         "velocity_check",
         0.8,
         "2024-02-21 13:47:27"
        ],
        [
         "FT2925",
         "T2925",
         "unusual_amount",
         0.9,
         "2024-06-21 04:32:18"
        ],
        [
         "FT8770",
         "T8770",
         "unusual_amount",
         0.9,
         "2024-05-02 23:52:53"
        ],
        [
         "FT1129",
         "T1129",
         "velocity_check",
         0.8,
         "2024-04-20 09:44:16"
        ],
        [
         "FT3520",
         "T3520",
         "pattern_anomaly",
         0.7,
         "2024-05-11 23:14:23"
        ],
        [
         "FT9191",
         "T9191",
         "unusual_amount",
         0.9,
         "2024-05-04 20:08:14"
        ],
        [
         "FT6933",
         "T6933",
         "velocity_check",
         0.8,
         "2024-01-07 23:45:35"
        ],
        [
         "FT6534",
         "T6534",
         "unusual_amount",
         0.9,
         "2024-07-01 11:22:24"
        ],
        [
         "FT5025",
         "T5025",
         "unusual_amount",
         0.9,
         "2024-02-04 05:40:45"
        ],
        [
         "FT3385",
         "T3385",
         "unusual_amount",
         0.9,
         "2024-04-18 21:56:42"
        ],
        [
         "FT6204",
         "T6204",
         "pattern_anomaly",
         0.7,
         "2024-03-09 00:15:00"
        ],
        [
         "FT2310",
         "T2310",
         "unusual_amount",
         0.9,
         "2024-03-29 02:32:33"
        ],
        [
         "FT2639",
         "T2639",
         "unusual_amount",
         0.9,
         "2024-01-20 17:38:25"
        ],
        [
         "FT7713",
         "T7713",
         "unusual_amount",
         0.9,
         "2024-03-11 08:42:55"
        ],
        [
         "FT1750",
         "T1750",
         "unusual_amount",
         0.9,
         "2024-06-18 07:11:06"
        ],
        [
         "FT3218",
         "T3218",
         "unusual_amount",
         0.9,
         "2024-07-07 22:15:59"
        ],
        [
         "FT6993",
         "T6993",
         "unusual_amount",
         0.9,
         "2024-05-19 11:16:39"
        ],
        [
         "FT7104",
         "T7104",
         "unusual_amount",
         0.9,
         "2024-03-24 00:27:59"
        ],
        [
         "FT1451",
         "T1451",
         "velocity_check",
         0.8,
         "2024-05-14 16:24:23"
        ],
        [
         "FT8537",
         "T8537",
         "velocity_check",
         0.8,
         "2024-07-07 07:19:02"
        ],
        [
         "FT6648",
         "T6648",
         "unusual_amount",
         0.9,
         "2024-01-04 08:33:12"
        ],
        [
         "FT3252",
         "T3252",
         "unusual_amount",
         0.9,
         "2024-02-27 04:51:15"
        ],
        [
         "FT6093",
         "T6093",
         "unusual_amount",
         0.9,
         "2024-04-03 22:23:42"
        ],
        [
         "FT9620",
         "T9620",
         "unusual_amount",
         0.9,
         "2024-03-11 15:00:36"
        ],
        [
         "FT9775",
         "T9775",
         "unusual_amount",
         0.9,
         "2024-04-05 11:31:04"
        ],
        [
         "FT3235",
         "T3235",
         "unusual_amount",
         0.9,
         "2024-03-18 06:36:28"
        ],
        [
         "FT2434",
         "T2434",
         "pattern_anomaly",
         0.7,
         "2024-06-30 13:12:47"
        ],
        [
         "FT9730",
         "T9730",
         "unusual_amount",
         0.9,
         "2024-04-21 11:45:56"
        ],
        [
         "FT4269",
         "T4269",
         "unusual_amount",
         0.9,
         "2024-01-20 03:00:46"
        ],
        [
         "FT1856",
         "T1856",
         "velocity_check",
         0.8,
         "2024-07-04 04:16:07"
        ],
        [
         "FT5187",
         "T5187",
         "pattern_anomaly",
         0.7,
         "2024-06-18 03:24:27"
        ],
        [
         "FT5480",
         "T5480",
         "unusual_amount",
         0.9,
         "2024-02-21 03:09:35"
        ],
        [
         "FT5064",
         "T5064",
         "pattern_anomaly",
         0.7,
         "2024-06-12 18:34:17"
        ],
        [
         "FT1922",
         "T1922",
         "unusual_amount",
         0.9,
         "2024-07-25 16:53:30"
        ],
        [
         "FT6149",
         "T6149",
         "unusual_amount",
         0.9,
         "2024-07-29 23:21:49"
        ],
        [
         "FT7599",
         "T7599",
         "velocity_check",
         0.8,
         "2024-03-11 12:54:19"
        ],
        [
         "FT8096",
         "T8096",
         "unusual_amount",
         0.9,
         "2024-07-06 10:18:27"
        ],
        [
         "FT3517",
         "T3517",
         "unusual_amount",
         0.9,
         "2024-03-29 12:49:26"
        ],
        [
         "FT1134",
         "T1134",
         "unusual_amount",
         0.9,
         "2024-06-01 12:43:11"
        ],
        [
         "FT9143",
         "T9143",
         "velocity_check",
         0.8,
         "2024-01-14 10:42:52"
        ],
        [
         "FT8896",
         "T8896",
         "unusual_amount",
         0.9,
         "2024-04-05 00:48:42"
        ],
        [
         "FT5433",
         "T5433",
         "unusual_amount",
         0.9,
         "2024-05-10 00:06:45"
        ],
        [
         "FT3439",
         "T3439",
         "velocity_check",
         0.8,
         "2024-05-22 08:27:27"
        ],
        [
         "FT3160",
         "T3160",
         "unusual_amount",
         0.9,
         "2024-07-14 16:24:28"
        ],
        [
         "FT1466",
         "T1466",
         "unusual_amount",
         0.9,
         "2024-06-14 01:28:05"
        ],
        [
         "FT4190",
         "T4190",
         "pattern_anomaly",
         0.7,
         "2024-05-11 08:25:39"
        ],
        [
         "FT9263",
         "T9263",
         "velocity_check",
         0.8,
         "2024-04-03 05:24:13"
        ],
        [
         "FT2981",
         "T2981",
         "unusual_amount",
         0.9,
         "2024-06-20 13:20:06"
        ],
        [
         "FT5441",
         "T5441",
         "unusual_amount",
         0.9,
         "2024-02-14 17:47:06"
        ],
        [
         "FT7113",
         "T7113",
         "unusual_amount",
         0.9,
         "2024-05-10 12:46:42"
        ],
        [
         "FT9096",
         "T9096",
         "unusual_amount",
         0.9,
         "2024-03-02 14:50:57"
        ],
        [
         "FT3753",
         "T3753",
         "unusual_amount",
         0.9,
         "2024-07-11 17:30:56"
        ],
        [
         "FT2741",
         "T2741",
         "unusual_amount",
         0.9,
         "2024-02-29 13:03:36"
        ],
        [
         "FT7003",
         "T7003",
         "unusual_amount",
         0.9,
         "2024-03-04 03:52:45"
        ],
        [
         "FT4962",
         "T4962",
         "unusual_amount",
         0.9,
         "2024-02-03 11:53:57"
        ],
        [
         "FT6468",
         "T6468",
         "unusual_amount",
         0.9,
         "2024-06-15 00:35:11"
        ],
        [
         "FT8317",
         "T8317",
         "unusual_amount",
         0.9,
         "2024-07-16 18:05:42"
        ],
        [
         "FT6546",
         "T6546",
         "unusual_amount",
         0.9,
         "2024-05-06 18:44:07"
        ],
        [
         "FT2849",
         "T2849",
         "unusual_amount",
         0.9,
         "2024-04-02 08:36:48"
        ],
        [
         "FT3640",
         "T3640",
         "unusual_amount",
         0.9,
         "2024-01-17 19:49:03"
        ],
        [
         "FT6421",
         "T6421",
         "unusual_amount",
         0.9,
         "2024-04-13 05:53:05"
        ],
        [
         "FT5998",
         "T5998",
         "unusual_amount",
         0.9,
         "2024-07-01 06:24:01"
        ],
        [
         "FT4852",
         "T4852",
         "unusual_amount",
         0.9,
         "2024-06-01 19:12:11"
        ],
        [
         "FT1219",
         "T1219",
         "pattern_anomaly",
         0.7,
         "2024-02-26 00:27:20"
        ],
        [
         "FT5758",
         "T5758",
         "pattern_anomaly",
         0.7,
         "2024-05-01 09:39:32"
        ],
        [
         "FT4841",
         "T4841",
         "unusual_amount",
         0.9,
         "2024-06-28 14:16:34"
        ],
        [
         "FT2918",
         "T2918",
         "velocity_check",
         0.8,
         "2024-07-11 16:21:03"
        ],
        [
         "FT1078",
         "T1078",
         "unusual_amount",
         0.9,
         "2024-06-13 02:16:13"
        ],
        [
         "FT5113",
         "T5113",
         "unusual_amount",
         0.9,
         "2024-06-01 23:23:20"
        ],
        [
         "FT9928",
         "T9928",
         "unusual_amount",
         0.9,
         "2024-03-13 15:21:33"
        ],
        [
         "FT2316",
         "T2316",
         "velocity_check",
         0.8,
         "2024-01-29 20:48:26"
        ],
        [
         "FT3124",
         "T3124",
         "unusual_amount",
         0.9,
         "2024-07-26 10:20:11"
        ],
        [
         "FT1079",
         "T1079",
         "velocity_check",
         0.8,
         "2024-06-14 08:58:29"
        ],
        [
         "FT7597",
         "T7597",
         "unusual_amount",
         0.9,
         "2024-02-24 08:00:06"
        ],
        [
         "FT6535",
         "T6535",
         "unusual_amount",
         0.9,
         "2024-01-02 12:37:35"
        ],
        [
         "FT5418",
         "T5418",
         "unusual_amount",
         0.9,
         "2024-06-13 01:21:02"
        ],
        [
         "FT7024",
         "T7024",
         "unusual_amount",
         0.9,
         "2024-02-29 17:41:36"
        ],
        [
         "FT3929",
         "T3929",
         "unusual_amount",
         0.9,
         "2024-06-08 13:22:25"
        ],
        [
         "FT7724",
         "T7724",
         "unusual_amount",
         0.9,
         "2024-06-29 14:38:19"
        ],
        [
         "FT3085",
         "T3085",
         "velocity_check",
         0.8,
         "2024-01-13 10:40:35"
        ],
        [
         "FT2254",
         "T2254",
         "pattern_anomaly",
         0.7,
         "2024-04-27 11:38:52"
        ],
        [
         "FT5057",
         "T5057",
         "unusual_amount",
         0.9,
         "2024-07-24 03:21:06"
        ],
        [
         "FT5258",
         "T5258",
         "unusual_amount",
         0.9,
         "2024-03-19 05:40:44"
        ],
        [
         "FT9343",
         "T9343",
         "unusual_amount",
         0.9,
         "2024-04-07 19:22:46"
        ],
        [
         "FT4425",
         "T4425",
         "unusual_amount",
         0.9,
         "2024-06-20 19:50:21"
        ],
        [
         "FT2296",
         "T2296",
         "unusual_amount",
         0.9,
         "2024-01-03 16:12:28"
        ],
        [
         "FT5542",
         "T5542",
         "unusual_amount",
         0.9,
         "2024-07-31 05:28:03"
        ],
        [
         "FT3572",
         "T3572",
         "unusual_amount",
         0.9,
         "2024-06-13 09:09:07"
        ],
        [
         "FT8905",
         "T8905",
         "unusual_amount",
         0.9,
         "2024-01-25 16:13:08"
        ],
        [
         "FT2406",
         "T2406",
         "unusual_amount",
         0.9,
         "2024-04-10 04:15:13"
        ],
        [
         "FT9901",
         "T9901",
         "unusual_amount",
         0.9,
         "2024-02-22 09:11:37"
        ],
        [
         "FT4505",
         "T4505",
         "unusual_amount",
         0.9,
         "2024-03-18 11:28:18"
        ],
        [
         "FT4846",
         "T4846",
         "unusual_amount",
         0.9,
         "2024-01-17 07:26:56"
        ],
        [
         "FT8038",
         "T8038",
         "unusual_amount",
         0.9,
         "2024-06-03 07:17:32"
        ],
        [
         "FT4040",
         "T4040",
         "unusual_amount",
         0.9,
         "2024-06-03 22:14:32"
        ],
        [
         "FT4142",
         "T4142",
         "unusual_amount",
         0.9,
         "2024-03-29 23:09:00"
        ],
        [
         "FT6782",
         "T6782",
         "velocity_check",
         0.8,
         "2024-03-01 05:50:35"
        ],
        [
         "FT9883",
         "T9883",
         "unusual_amount",
         0.9,
         "2024-04-26 20:08:05"
        ],
        [
         "FT1844",
         "T1844",
         "pattern_anomaly",
         0.7,
         "2024-02-11 03:43:35"
        ],
        [
         "FT8027",
         "T8027",
         "unusual_amount",
         0.9,
         "2024-06-20 19:10:51"
        ],
        [
         "FT2123",
         "T2123",
         "pattern_anomaly",
         0.7,
         "2024-07-30 05:52:11"
        ],
        [
         "FT3241",
         "T3241",
         "unusual_amount",
         0.9,
         "2024-01-18 14:56:09"
        ],
        [
         "FT2536",
         "T2536",
         "pattern_anomaly",
         0.7,
         "2024-05-20 19:21:23"
        ],
        [
         "FT9735",
         "T9735",
         "unusual_amount",
         0.9,
         "2024-05-16 19:04:17"
        ],
        [
         "FT8948",
         "T8948",
         "unusual_amount",
         0.9,
         "2024-06-03 04:25:04"
        ],
        [
         "FT7945",
         "T7945",
         "velocity_check",
         0.8,
         "2024-04-26 05:48:11"
        ]
       ],
       "datasetInfos": [],
       "dbfsResultPath": null,
       "isJsonSchema": true,
       "metadata": {},
       "overflow": false,
       "plotOptions": {
        "customPlotOptions": {},
        "displayType": "table",
        "pivotAggregation": null,
        "pivotColumns": null,
        "xColumns": null,
        "yColumns": null
       },
       "removedWidgets": [],
       "schema": [
        {
         "metadata": "{}",
         "name": "flag_id",
         "type": "\"string\""
        },
        {
         "metadata": "{}",
         "name": "transaction_id",
         "type": "\"string\""
        },
        {
         "metadata": "{}",
         "name": "flag_type",
         "type": "\"string\""
        },
        {
         "metadata": "{}",
         "name": "confidence_score",
         "type": "\"double\""
        },
        {
         "metadata": "{}",
         "name": "timestamp",
         "type": "\"string\""
        }
       ],
       "type": "table"
      }
     },
     "output_type": "display_data"
    },
    {
     "output_type": "display_data",
     "data": {
      "text/plain": [
       "Databricks visualization. Run in Databricks to view."
      ]
     },
     "metadata": {
      "application/vnd.databricks.v1.subcommand+json": {
       "baseErrorDetails": null,
       "bindings": {},
       "collapsed": false,
       "command": "# Databricks no-op command",
       "commandTitle": "count Flag type",
       "commandType": "auto",
       "commandVersion": 0,
       "commentThread": [],
       "commentsVisible": false,
       "contentSha256Hex": null,
       "customPlotOptions": {
        "redashChart": [
         {
          "key": "type",
          "value": "CHART"
         },
         {
          "key": "options",
          "value": {
           "alignYAxesAtZero": true,
           "coefficient": 1,
           "columnConfigurationMap": {
            "x": {
             "column": "flag_type",
             "id": "column_30613d1a37"
            },
            "y": [
             {
              "column": "flag_id",
              "id": "column_30613d1a35",
              "transform": "COUNT"
             }
            ]
           },
           "dateTimeFormat": "DD/MM/YYYY HH:mm",
           "direction": {
            "type": "counterclockwise"
           },
           "error_y": {
            "type": "data",
            "visible": true
           },
           "globalSeriesType": "column",
           "isAggregationOn": true,
           "legend": {
            "traceorder": "normal"
           },
           "missingValuesAsZero": true,
           "numberFormat": "0,0.[00000]",
           "percentFormat": "0[.]00%",
           "series": {
            "error_y": {
             "type": "data",
             "visible": true
            },
            "stacking": null
           },
           "seriesOptions": {
            "column_30613d1a35": {
             "color": "#17BF51",
             "type": "column",
             "yAxis": 0
            }
           },
           "showDataLabels": false,
           "sizemode": "diameter",
           "sortX": true,
           "sortY": true,
           "swappedAxes": false,
           "textFormat": "",
           "useAggregationsUi": true,
           "valuesOptions": {},
           "version": 2,
           "xAxis": {
            "labels": {
             "enabled": true
            },
            "type": "-"
           },
           "yAxis": [
            {
             "type": "-"
            },
            {
             "opposite": true,
             "type": "-"
            }
           ]
          }
         }
        ]
       },
       "datasetPreviewNameToCmdIdMap": {},
       "diffDeletes": [],
       "diffInserts": [],
       "displayType": "redashChart",
       "error": null,
       "errorDetails": null,
       "errorSummary": null,
       "errorTraceType": null,
       "finishTime": 0,
       "globalVars": {},
       "guid": "",
       "height": "auto",
       "hideCommandCode": false,
       "hideCommandResult": false,
       "iPythonMetadata": null,
       "inputWidgets": {},
       "isLockedInExamMode": false,
       "latestUser": "a user",
       "latestUserId": null,
       "listResultMetadata": null,
       "metadata": {},
       "nuid": "72c4b1e1-1fe8-4bb2-b99a-f14e15c81936",
       "origId": 0,
       "parentHierarchy": [],
       "pivotAggregation": null,
       "pivotColumns": null,
       "position": 18.0,
       "resultDbfsErrorMessage": null,
       "resultDbfsStatus": "INLINED_IN_TREE",
       "results": null,
       "showCommandTitle": false,
       "startTime": 0,
       "state": "input",
       "streamStates": {},
       "subcommandOptions": {
        "queryPlan": {
         "groups": [
          {
           "column": "flag_type",
           "type": "column"
          }
         ],
         "selects": [
          {
           "column": "flag_type",
           "type": "column"
          },
          {
           "alias": "column_30613d1a35",
           "args": [
            {
             "column": "flag_id",
             "type": "column"
            }
           ],
           "function": "COUNT",
           "type": "function"
          }
         ]
        }
       },
       "submitTime": 0,
       "subtype": "tableResultSubCmd.visualization",
       "tableResultIndex": 0,
       "useConsistentColors": false,
       "version": "CommandV1",
       "width": "auto",
       "workflows": [],
       "xColumns": null,
       "yColumns": null
      }
     },
     "output_type": "display_data"
    },
    {
     "output_type": "display_data",
     "data": {
      "text/plain": [
       "Databricks visualization. Run in Databricks to view."
      ]
     },
     "metadata": {
      "application/vnd.databricks.v1.subcommand+json": {
       "baseErrorDetails": null,
       "bindings": {},
       "collapsed": false,
       "command": "# Databricks no-op command",
       "commandTitle": "Confidence score overtime",
       "commandType": "auto",
       "commandVersion": 0,
       "commentThread": [],
       "commentsVisible": false,
       "contentSha256Hex": null,
       "customPlotOptions": {
        "redashChart": [
         {
          "key": "type",
          "value": "CHART"
         },
         {
          "key": "options",
          "value": {
           "alignYAxesAtZero": true,
           "coefficient": 1,
           "columnConfigurationMap": {
            "x": {
             "column": "timestamp",
             "id": "column_30613d1a40"
            },
            "y": [
             {
              "column": "confidence_score",
              "id": "column_30613d1a44",
              "transform": "SUM"
             }
            ]
           },
           "dateTimeFormat": "DD/MM/YYYY HH:mm",
           "direction": {
            "type": "counterclockwise"
           },
           "error_y": {
            "type": "data",
            "visible": true
           },
           "globalSeriesType": "line",
           "isAggregationOn": true,
           "legend": {
            "traceorder": "normal"
           },
           "missingValuesAsZero": true,
           "numberFormat": "0,0.[00000]",
           "percentFormat": "0[.]00%",
           "series": {
            "error_y": {
             "type": "data",
             "visible": true
            },
            "stacking": null
           },
           "seriesOptions": {
            "column_30613d1a44": {
             "color": "#FF7DE3",
             "type": "line",
             "yAxis": 0
            }
           },
           "showDataLabels": false,
           "sizemode": "diameter",
           "sortX": true,
           "sortY": true,
           "swappedAxes": true,
           "textFormat": "",
           "useAggregationsUi": true,
           "valuesOptions": {},
           "version": 2,
           "xAxis": {
            "labels": {
             "enabled": true
            },
            "type": "-"
           },
           "yAxis": [
            {
             "type": "-"
            },
            {
             "opposite": true,
             "type": "-"
            }
           ]
          }
         }
        ]
       },
       "datasetPreviewNameToCmdIdMap": {},
       "diffDeletes": [],
       "diffInserts": [],
       "displayType": "redashChart",
       "error": null,
       "errorDetails": null,
       "errorSummary": null,
       "errorTraceType": null,
       "finishTime": 0,
       "globalVars": {},
       "guid": "",
       "height": "auto",
       "hideCommandCode": false,
       "hideCommandResult": false,
       "iPythonMetadata": null,
       "inputWidgets": {},
       "isLockedInExamMode": false,
       "latestUser": "a user",
       "latestUserId": null,
       "listResultMetadata": null,
       "metadata": {},
       "nuid": "14ff7b02-f39a-468c-a577-971f8078f964",
       "origId": 0,
       "parentHierarchy": [],
       "pivotAggregation": null,
       "pivotColumns": null,
       "position": 19.0,
       "resultDbfsErrorMessage": null,
       "resultDbfsStatus": "INLINED_IN_TREE",
       "results": null,
       "showCommandTitle": false,
       "startTime": 0,
       "state": "input",
       "streamStates": {},
       "subcommandOptions": {
        "queryPlan": {
         "groups": [
          {
           "column": "timestamp",
           "type": "column"
          }
         ],
         "selects": [
          {
           "column": "timestamp",
           "type": "column"
          },
          {
           "alias": "column_30613d1a44",
           "args": [
            {
             "column": "confidence_score",
             "type": "column"
            }
           ],
           "function": "SUM",
           "type": "function"
          }
         ]
        }
       },
       "submitTime": 0,
       "subtype": "tableResultSubCmd.visualization",
       "tableResultIndex": 0,
       "useConsistentColors": false,
       "version": "CommandV1",
       "width": "auto",
       "workflows": [],
       "xColumns": null,
       "yColumns": null
      }
     },
     "output_type": "display_data"
    }
   ],
   "source": [
    "\n",
    "fraud_flags = spark.readStream.table(\"silver_layer.fraud_flags\")\n",
    "fraud_flags.display()"
   ]
  },
  {
   "cell_type": "markdown",
   "metadata": {
    "application/vnd.databricks.v1+cell": {
     "cellMetadata": {},
     "inputWidgets": {},
     "nuid": "3cfd0e1f-b186-4706-a0f9-e19f3f1829f1",
     "showTitle": false,
     "title": ""
    }
   },
   "source": [
    "## Using Customer segment"
   ]
  },
  {
   "cell_type": "code",
   "execution_count": 0,
   "metadata": {
    "application/vnd.databricks.v1+cell": {
     "cellMetadata": {
      "byteLimit": 2048000,
      "rowLimit": 10000
     },
     "inputWidgets": {},
     "nuid": "174a7aff-59d8-4439-a41b-b101e441eb9b",
     "showTitle": false,
     "title": ""
    }
   },
   "outputs": [
    {
     "output_type": "display_data",
     "data": {
      "text/html": [
       "<style scoped>\n",
       "  .ansiout {\n",
       "    display: block;\n",
       "    unicode-bidi: embed;\n",
       "    white-space: pre-wrap;\n",
       "    word-wrap: break-word;\n",
       "    word-break: break-all;\n",
       "    font-family: \"Menlo\", \"Monaco\", \"Consolas\", \"Ubuntu Mono\", \"Source Code Pro\", monospace;\n",
       "    font-size: 13px;\n",
       "    color: #555;\n",
       "    margin-left: 4px;\n",
       "    line-height: 19px;\n",
       "  }\n",
       "</style>\n",
       "java.io.IOException: Connection failed\n",
       "\tat com.databricks.rpc.Jetty9Client$$anon$1.handleError(Jetty9Client.scala:848)\n",
       "\tat com.databricks.rpc.Jetty9Client$$anon$1.onFailure(Jetty9Client.scala:775)\n",
       "\tat shaded.v9_4.org.eclipse.jetty.client.ResponseNotifier.notifyFailure(ResponseNotifier.java:197)\n",
       "\tat shaded.v9_4.org.eclipse.jetty.client.ResponseNotifier.notifyFailure(ResponseNotifier.java:189)\n",
       "\tat shaded.v9_4.org.eclipse.jetty.client.HttpExchange.notifyFailureComplete(HttpExchange.java:275)\n",
       "\tat shaded.v9_4.org.eclipse.jetty.client.HttpExchange.abort(HttpExchange.java:247)\n",
       "\tat shaded.v9_4.org.eclipse.jetty.client.HttpConversation.abort(HttpConversation.java:164)\n",
       "\tat shaded.v9_4.org.eclipse.jetty.client.HttpRequest.abort(HttpRequest.java:821)\n",
       "\tat shaded.v9_4.org.eclipse.jetty.client.HttpDestination.abort(HttpDestination.java:559)\n",
       "\tat shaded.v9_4.org.eclipse.jetty.client.HttpDestination.failed(HttpDestination.java:313)\n",
       "\tat com.databricks.rpc.AbstractConnectionPool$1.failed(AbstractConnectionPool.java:161)\n",
       "\tat shaded.v9_4.org.eclipse.jetty.util.Promise$Wrapper.failed(Promise.java:136)\n",
       "\tat com.databricks.rpc.Jetty9Client$DatabricksHttpDestinationOverHTTP$$anon$2.failed(Jetty9Client.scala:1671)\n",
       "\tat shaded.v9_4.org.eclipse.jetty.util.Promise$Wrapper.failed(Promise.java:136)\n",
       "\tat shaded.v9_4.org.eclipse.jetty.client.HttpClient$1$1.failed(HttpClient.java:660)\n",
       "\tat shaded.v9_4.org.eclipse.jetty.client.AbstractConnectorHttpClientTransport.connectFailed(AbstractConnectorHttpClientTransport.java:138)\n",
       "\tat shaded.v9_4.org.eclipse.jetty.client.AbstractConnectorHttpClientTransport$ClientSelectorManager.connectionFailed(AbstractConnectorHttpClientTransport.java:188)\n",
       "\tat shaded.v9_4.org.eclipse.jetty.io.ManagedSelector$Connect.failed(ManagedSelector.java:966)\n",
       "\tat shaded.v9_4.org.eclipse.jetty.io.ManagedSelector.processConnect(ManagedSelector.java:369)\n",
       "\tat shaded.v9_4.org.eclipse.jetty.io.ManagedSelector.access$1700(ManagedSelector.java:65)\n",
       "\tat shaded.v9_4.org.eclipse.jetty.io.ManagedSelector$SelectorProducer.processSelected(ManagedSelector.java:676)\n",
       "\tat shaded.v9_4.org.eclipse.jetty.io.ManagedSelector$SelectorProducer.produce(ManagedSelector.java:535)\n",
       "\tat shaded.v9_4.org.eclipse.jetty.util.thread.strategy.EatWhatYouKill.produceTask(EatWhatYouKill.java:362)\n",
       "\tat shaded.v9_4.org.eclipse.jetty.util.thread.strategy.EatWhatYouKill.doProduce(EatWhatYouKill.java:186)\n",
       "\tat shaded.v9_4.org.eclipse.jetty.util.thread.strategy.EatWhatYouKill.tryProduce(EatWhatYouKill.java:173)\n",
       "\tat shaded.v9_4.org.eclipse.jetty.util.thread.strategy.EatWhatYouKill.run(EatWhatYouKill.java:131)\n",
       "\tat shaded.v9_4.org.eclipse.jetty.util.thread.ReservedThreadExecutor$ReservedThread.run(ReservedThreadExecutor.java:409)\n",
       "\tat com.databricks.rpc.ShadedInstrumentedQueuedThreadPool$$anon$2.$anonfun$run$4(InstrumentedQueuedThreadPool.scala:173)\n",
       "\tat scala.runtime.java8.JFunction0$mcV$sp.apply(JFunction0$mcV$sp.java:23)\n",
       "\tat com.databricks.logging.AttributionContextTracing.$anonfun$withAttributionContext$1(AttributionContextTracing.scala:48)\n",
       "\tat com.databricks.logging.AttributionContext$.$anonfun$withValue$1(AttributionContext.scala:279)\n",
       "\tat scala.util.DynamicVariable.withValue(DynamicVariable.scala:62)\n",
       "\tat com.databricks.logging.AttributionContext$.withValue(AttributionContext.scala:275)\n",
       "\tat com.databricks.logging.AttributionContextTracing.withAttributionContext(AttributionContextTracing.scala:46)\n",
       "\tat com.databricks.logging.AttributionContextTracing.withAttributionContext$(AttributionContextTracing.scala:43)\n",
       "\tat com.databricks.rpc.ShadedInstrumentedQueuedThreadPool.withAttributionContext(InstrumentedQueuedThreadPool.scala:125)\n",
       "\tat com.databricks.rpc.ShadedInstrumentedQueuedThreadPool$$anon$2.$anonfun$run$3(InstrumentedQueuedThreadPool.scala:173)\n",
       "\tat scala.runtime.java8.JFunction0$mcV$sp.apply(JFunction0$mcV$sp.java:23)\n",
       "\tat com.databricks.instrumentation.QueuedThreadPoolInstrumenter.trackActiveThreads(QueuedThreadPoolInstrumenter.scala:110)\n",
       "\tat com.databricks.instrumentation.QueuedThreadPoolInstrumenter.trackActiveThreads$(QueuedThreadPoolInstrumenter.scala:107)\n",
       "\tat com.databricks.rpc.ShadedInstrumentedQueuedThreadPool.trackActiveThreads(InstrumentedQueuedThreadPool.scala:125)\n",
       "\tat com.databricks.rpc.ShadedInstrumentedQueuedThreadPool$$anon$2.run(InstrumentedQueuedThreadPool.scala:167)\n",
       "\tat shaded.v9_4.org.eclipse.jetty.util.thread.QueuedThreadPool.runJob(QueuedThreadPool.java:883)\n",
       "\tat shaded.v9_4.org.eclipse.jetty.util.thread.QueuedThreadPool$Runner.run(QueuedThreadPool.java:1034)\n",
       "\tat java.base/java.lang.Thread.run(Thread.java:829)\n",
       "Caused by: java.net.ConnectException: Connection refused\n",
       "\tat java.base/sun.nio.ch.SocketChannelImpl.checkConnect(Native Method)\n",
       "\tat java.base/sun.nio.ch.SocketChannelImpl.finishConnect(SocketChannelImpl.java:777)\n",
       "\tat shaded.v9_4.org.eclipse.jetty.io.SelectorManager.doFinishConnect(SelectorManager.java:355)\n",
       "\tat shaded.v9_4.org.eclipse.jetty.io.ManagedSelector.processConnect(ManagedSelector.java:347)\n",
       "\t... 26 more"
      ]
     },
     "metadata": {
      "application/vnd.databricks.v1+output": {
       "arguments": {},
       "data": "java.io.IOException: Connection failed\n\tat com.databricks.rpc.Jetty9Client$$anon$1.handleError(Jetty9Client.scala:848)\n\tat com.databricks.rpc.Jetty9Client$$anon$1.onFailure(Jetty9Client.scala:775)\n\tat shaded.v9_4.org.eclipse.jetty.client.ResponseNotifier.notifyFailure(ResponseNotifier.java:197)\n\tat shaded.v9_4.org.eclipse.jetty.client.ResponseNotifier.notifyFailure(ResponseNotifier.java:189)\n\tat shaded.v9_4.org.eclipse.jetty.client.HttpExchange.notifyFailureComplete(HttpExchange.java:275)\n\tat shaded.v9_4.org.eclipse.jetty.client.HttpExchange.abort(HttpExchange.java:247)\n\tat shaded.v9_4.org.eclipse.jetty.client.HttpConversation.abort(HttpConversation.java:164)\n\tat shaded.v9_4.org.eclipse.jetty.client.HttpRequest.abort(HttpRequest.java:821)\n\tat shaded.v9_4.org.eclipse.jetty.client.HttpDestination.abort(HttpDestination.java:559)\n\tat shaded.v9_4.org.eclipse.jetty.client.HttpDestination.failed(HttpDestination.java:313)\n\tat com.databricks.rpc.AbstractConnectionPool$1.failed(AbstractConnectionPool.java:161)\n\tat shaded.v9_4.org.eclipse.jetty.util.Promise$Wrapper.failed(Promise.java:136)\n\tat com.databricks.rpc.Jetty9Client$DatabricksHttpDestinationOverHTTP$$anon$2.failed(Jetty9Client.scala:1671)\n\tat shaded.v9_4.org.eclipse.jetty.util.Promise$Wrapper.failed(Promise.java:136)\n\tat shaded.v9_4.org.eclipse.jetty.client.HttpClient$1$1.failed(HttpClient.java:660)\n\tat shaded.v9_4.org.eclipse.jetty.client.AbstractConnectorHttpClientTransport.connectFailed(AbstractConnectorHttpClientTransport.java:138)\n\tat shaded.v9_4.org.eclipse.jetty.client.AbstractConnectorHttpClientTransport$ClientSelectorManager.connectionFailed(AbstractConnectorHttpClientTransport.java:188)\n\tat shaded.v9_4.org.eclipse.jetty.io.ManagedSelector$Connect.failed(ManagedSelector.java:966)\n\tat shaded.v9_4.org.eclipse.jetty.io.ManagedSelector.processConnect(ManagedSelector.java:369)\n\tat shaded.v9_4.org.eclipse.jetty.io.ManagedSelector.access$1700(ManagedSelector.java:65)\n\tat shaded.v9_4.org.eclipse.jetty.io.ManagedSelector$SelectorProducer.processSelected(ManagedSelector.java:676)\n\tat shaded.v9_4.org.eclipse.jetty.io.ManagedSelector$SelectorProducer.produce(ManagedSelector.java:535)\n\tat shaded.v9_4.org.eclipse.jetty.util.thread.strategy.EatWhatYouKill.produceTask(EatWhatYouKill.java:362)\n\tat shaded.v9_4.org.eclipse.jetty.util.thread.strategy.EatWhatYouKill.doProduce(EatWhatYouKill.java:186)\n\tat shaded.v9_4.org.eclipse.jetty.util.thread.strategy.EatWhatYouKill.tryProduce(EatWhatYouKill.java:173)\n\tat shaded.v9_4.org.eclipse.jetty.util.thread.strategy.EatWhatYouKill.run(EatWhatYouKill.java:131)\n\tat shaded.v9_4.org.eclipse.jetty.util.thread.ReservedThreadExecutor$ReservedThread.run(ReservedThreadExecutor.java:409)\n\tat com.databricks.rpc.ShadedInstrumentedQueuedThreadPool$$anon$2.$anonfun$run$4(InstrumentedQueuedThreadPool.scala:173)\n\tat scala.runtime.java8.JFunction0$mcV$sp.apply(JFunction0$mcV$sp.java:23)\n\tat com.databricks.logging.AttributionContextTracing.$anonfun$withAttributionContext$1(AttributionContextTracing.scala:48)\n\tat com.databricks.logging.AttributionContext$.$anonfun$withValue$1(AttributionContext.scala:279)\n\tat scala.util.DynamicVariable.withValue(DynamicVariable.scala:62)\n\tat com.databricks.logging.AttributionContext$.withValue(AttributionContext.scala:275)\n\tat com.databricks.logging.AttributionContextTracing.withAttributionContext(AttributionContextTracing.scala:46)\n\tat com.databricks.logging.AttributionContextTracing.withAttributionContext$(AttributionContextTracing.scala:43)\n\tat com.databricks.rpc.ShadedInstrumentedQueuedThreadPool.withAttributionContext(InstrumentedQueuedThreadPool.scala:125)\n\tat com.databricks.rpc.ShadedInstrumentedQueuedThreadPool$$anon$2.$anonfun$run$3(InstrumentedQueuedThreadPool.scala:173)\n\tat scala.runtime.java8.JFunction0$mcV$sp.apply(JFunction0$mcV$sp.java:23)\n\tat com.databricks.instrumentation.QueuedThreadPoolInstrumenter.trackActiveThreads(QueuedThreadPoolInstrumenter.scala:110)\n\tat com.databricks.instrumentation.QueuedThreadPoolInstrumenter.trackActiveThreads$(QueuedThreadPoolInstrumenter.scala:107)\n\tat com.databricks.rpc.ShadedInstrumentedQueuedThreadPool.trackActiveThreads(InstrumentedQueuedThreadPool.scala:125)\n\tat com.databricks.rpc.ShadedInstrumentedQueuedThreadPool$$anon$2.run(InstrumentedQueuedThreadPool.scala:167)\n\tat shaded.v9_4.org.eclipse.jetty.util.thread.QueuedThreadPool.runJob(QueuedThreadPool.java:883)\n\tat shaded.v9_4.org.eclipse.jetty.util.thread.QueuedThreadPool$Runner.run(QueuedThreadPool.java:1034)\n\tat java.base/java.lang.Thread.run(Thread.java:829)\nCaused by: java.net.ConnectException: Connection refused\n\tat java.base/sun.nio.ch.SocketChannelImpl.checkConnect(Native Method)\n\tat java.base/sun.nio.ch.SocketChannelImpl.finishConnect(SocketChannelImpl.java:777)\n\tat shaded.v9_4.org.eclipse.jetty.io.SelectorManager.doFinishConnect(SelectorManager.java:355)\n\tat shaded.v9_4.org.eclipse.jetty.io.ManagedSelector.processConnect(ManagedSelector.java:347)\n\t... 26 more\n",
       "errorSummary": "Internal error. Attach your notebook to a different compute or restart the current compute.",
       "errorTraceType": null,
       "metadata": {},
       "type": "ipynbError"
      }
     },
     "output_type": "display_data"
    }
   ],
   "source": [
    "cust_seg = spark.readStream.table(\"Silver_layer.customer_segments\")\n",
    "cust_seg.display()"
   ]
  }
 ],
 "metadata": {
  "application/vnd.databricks.v1+notebook": {
   "dashboards": [],
   "environmentMetadata": null,
   "language": "python",
   "notebookMetadata": {
    "pythonIndentUnit": 4
   },
   "notebookName": "Visualization",
   "widgets": {}
  }
 },
 "nbformat": 4,
 "nbformat_minor": 0
}
