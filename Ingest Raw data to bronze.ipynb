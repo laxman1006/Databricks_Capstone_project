{
 "cells": [
  {
   "cell_type": "code",
   "execution_count": 0,
   "metadata": {
    "application/vnd.databricks.v1+cell": {
     "cellMetadata": {
      "byteLimit": 2048000,
      "rowLimit": 10000
     },
     "inputWidgets": {},
     "nuid": "4d8b5a73-c48a-4fa4-8335-a744462363f1",
     "showTitle": false,
     "title": ""
    }
   },
   "outputs": [
    {
     "output_type": "stream",
     "name": "stdout",
     "output_type": "stream",
     "text": [
      "Batch data processed and loaded to the bronze.\nstreaming started...\n"
     ]
    },
    {
     "output_type": "display_data",
     "data": {
      "text/html": [
       "<style scoped>\n",
       "  .ansiout {\n",
       "    display: block;\n",
       "    unicode-bidi: embed;\n",
       "    white-space: pre-wrap;\n",
       "    word-wrap: break-word;\n",
       "    word-break: break-all;\n",
       "    font-family: \"Menlo\", \"Monaco\", \"Consolas\", \"Ubuntu Mono\", \"Source Code Pro\", monospace;\n",
       "    font-size: 13px;\n",
       "    color: #555;\n",
       "    margin-left: 4px;\n",
       "    line-height: 19px;\n",
       "  }\n",
       "</style>"
      ]
     },
     "metadata": {
      "application/vnd.databricks.v1+output": {
       "arguments": {},
       "data": "",
       "errorSummary": "Cancelled",
       "errorTraceType": "html",
       "metadata": {},
       "type": "ipynbError"
      }
     },
     "output_type": "display_data"
    }
   ],
   "source": [
    "from pyspark.sql import SparkSession\n",
    "from pyspark.sql.functions import col\n",
    "\n",
    "\n",
    "\n",
    "# function for batch \n",
    "def process_and_save_batch_data():\n",
    "    try:\n",
    "        # reading data \n",
    "        customers_df = spark.read.table(\"raw_data.customers\")\n",
    "        branches_df = spark.read.table(\"raw_data.branches\")\n",
    "        \n",
    "        # saving to bronze\n",
    "        customers_df.write.format(\"delta\").mode(\"overwrite\").saveAsTable(\"Bronze_layer.customers\")\n",
    "        branches_df.write.format(\"delta\").mode(\"overwrite\").saveAsTable(\"Bronze_layer.branches\")\n",
    "\n",
    "        print(\"Batch data processed and loaded to the bronze.\")\n",
    "    except Exception as e:\n",
    "        print(f\"Error in batch processing: {e}\")\n",
    "\n",
    "# function for streaming\n",
    "def ingest_transactions():\n",
    "    try:\n",
    "        # read streaming\n",
    "        transactions_stream_df = spark.readStream \\\n",
    "            .table(\"raw_data.transactions\")\n",
    "\n",
    "        # writing stream\n",
    "        query = transactions_stream_df.writeStream.format(\"delta\").option(\"checkpointLocation\", \"Bronze_layer.checkpoint\").outputMode(\"append\").toTable(\"Bronze_layer.transactions\")\n",
    "\n",
    "       \n",
    "        print(\"streaming started...\")\n",
    "        return query\n",
    "    except Exception as e:\n",
    "        print(f\"Error starting streaming: {e}\")\n",
    "        return None\n",
    "\n",
    "# running batch function \n",
    "process_and_save_batch_data()\n",
    "\n",
    "# running streaming function\n",
    "query = ingest_transactions()\n",
    "if query:\n",
    "    try:\n",
    "        query.awaitTermination()\n",
    "    except KeyboardInterrupt:\n",
    "        print(\"streaming interrupted.\")\n",
    "else:\n",
    "    print(\"streaming  not working.\")\n"
   ]
  }
 ],
 "metadata": {
  "application/vnd.databricks.v1+notebook": {
   "dashboards": [],
   "environmentMetadata": null,
   "language": "python",
   "notebookMetadata": {
    "pythonIndentUnit": 4
   },
   "notebookName": "Ingest Raw data to bronze",
   "widgets": {}
  }
 },
 "nbformat": 4,
 "nbformat_minor": 0
}
