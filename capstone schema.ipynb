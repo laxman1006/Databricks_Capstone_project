{
 "cells": [
  {
   "cell_type": "code",
   "execution_count": 0,
   "metadata": {
    "application/vnd.databricks.v1+cell": {
     "cellMetadata": {},
     "inputWidgets": {},
     "nuid": "c041e7b8-9b72-4c1e-a85b-a78aa9328945",
     "showTitle": false,
     "title": ""
    }
   },
   "outputs": [],
   "source": [
    "# Define schemas\n",
    "\n",
    "##Design and implement a scalable data ingestion system that can handle 100 to 500 transactions per second from 10 to 50 global branches and digital channels.\n",
    "\n",
    "# transaction to be updated in real time\n",
    "transactions_schema = StructType([\n",
    "    StructField(\"transaction_id\", StringType(), True),\n",
    "    StructField(\"customer_id\", StringType(), True),\n",
    "    StructField(\"branch_id\", StringType(), True),\n",
    "    StructField(\"channel\", StringType(), True),\n",
    "    StructField(\"transaction_type\", StringType(), True),\n",
    "    StructField(\"amount\", FloatType(), True),\n",
    "    StructField(\"currency\", StringType(), True),\n",
    "    StructField(\"timestamp\", TimestampType(), True),\n",
    "    StructField(\"status\", StringType(), True)\n",
    "])\n",
    "\n",
    "customers_schema = StructType([\n",
    "    StructField(\"customer_id\", StringType(), True),\n",
    "    StructField(\"name\", StringType(), True),\n",
    "    StructField(\"email\", StringType(), True),\n",
    "    StructField(\"phone\", StringType(), True),\n",
    "    StructField(\"address\", StringType(), True),\n",
    "    StructField(\"credit_score\", IntegerType(), True),\n",
    "    StructField(\"join_date\", TimestampType(), True),\n",
    "    StructField(\"last_update\", TimestampType(), True)\n",
    "])\n",
    "\n",
    "branches_schema = StructType([\n",
    "    StructField(\"branch_id\", StringType(), True),\n",
    "    StructField(\"name\", StringType(), True),\n",
    "    StructField(\"location\", StringType(), True),\n",
    "    StructField(\"timezone\", StringType(), True)\n",
    "])\n",
    "\n",
    "fraud_flags_schema = StructType([\n",
    "    StructField(\"flag_id\", StringType(), True),\n",
    "    StructField(\"transaction_id\", StringType(), True),\n",
    "    StructField(\"flag_type\", StringType(), True),\n",
    "    StructField(\"confidence_score\", FloatType(), True),\n",
    "    StructField(\"timestamp\", TimestampType(), True)\n",
    "])\n",
    "\n",
    "customer_segments_schema = StructType([\n",
    "    StructField(\"segment_id\", StringType(), True),\n",
    "    StructField(\"customer_id\", StringType(), True),\n",
    "    StructField(\"segment_name\", StringType(), True),\n",
    "    StructField(\"segment_description\", StringType(), True),\n",
    "    StructField(\"last_updated\", TimestampType(), True)\n",
    "])"
   ]
  },
  {
   "cell_type": "code",
   "execution_count": 0,
   "metadata": {
    "application/vnd.databricks.v1+cell": {
     "cellMetadata": {
      "byteLimit": 2048000,
      "rowLimit": 10000
     },
     "inputWidgets": {},
     "nuid": "43efa252-54d9-4031-b8ad-1a6613f978db",
     "showTitle": false,
     "title": ""
    }
   },
   "outputs": [
    {
     "output_type": "stream",
     "name": "stdout",
     "output_type": "stream",
     "text": [
      "Out[13]: True"
     ]
    }
   ],
   "source": [
    "# Remove the folder under /mnt/delta/silver_layer/merged_data\n",
    "dbutils.fs.rm(\"/mnt/delta/silver_layer/fraud_flags_aggregation\", recurse=True)\n"
   ]
  },
  {
   "cell_type": "code",
   "execution_count": 0,
   "metadata": {
    "application/vnd.databricks.v1+cell": {
     "cellMetadata": {},
     "inputWidgets": {},
     "nuid": "6c30dce5-d1a7-4245-a1f5-b3e54c52640f",
     "showTitle": false,
     "title": ""
    }
   },
   "outputs": [],
   "source": [
    "Based on  transactions,customer,branch table aggreation , i need to create a table called fraud_flags and customer_segement those schema given below  and fraud_flags and customer_segement  table should be streaming..give the code for the transformation to get data as per below schema \n",
    "\n",
    "transaction:\n",
    "+--------------+-----------+---------+-------+----------------+-------+--------+--------------------+-------+\n",
    "|transaction_id|customer_id|branch_id|channel|transaction_type| amount|currency|           timestamp| status|\n",
    "+--------------+-----------+---------+-------+----------------+-------+--------+--------------------+-------+\n",
    "|         T4562|      C4432|    B0019| mobile|   balance_check|72600.0|     GBP|2024-03-22 22:20:...|success|\n",
    "|         T1449|      C6290|    B0005| mobile|         deposit|64200.0|     EUR|2024-01-04 20:41:...|success|\n",
    "|         T5357|      C4004|    B0023| mobile|        transfer|33300.0|     USD|2024-05-14 17:03:...|success|\n",
    "|         T3510|      C7404|    B0040| online|        transfer|38100.0|     USD|2024-04-09 07:14:...|pending|\n",
    "|         T5817|      C7705|    B0017|    ATM|         deposit|99100.0|     EUR|2024-05-19 12:30:...|pending|\n",
    "+--------------+-----------+---------+-------+----------------+-------+--------+--------------------+-------+\n",
    "\n",
    "branches\n",
    "---------+---------------+-----------------+--------+\n",
    "|branch_id|           name|         location|timezone|\n",
    "+---------+---------------+-----------------+--------+\n",
    "|    B0040|     Inc Branch|    New York, USA|    AEST|\n",
    "|    B0019|and Sons Branch|       London, UK|    AEST|\n",
    "|    B0005|   Group Branch|Sydney, Australia|     GMT|\n",
    "|    B0016|     Ltd Branch|       London, UK|     GMT|\n",
    "|    B0035|and Sons Branch|    New York, USA|    AEST|\n",
    "\n",
    "customers\n",
    "-----------+--------------+--------------------+-----------------+--------------------+------------+--------------------+--------------------+\n",
    "|customer_id|          name|               email|            phone|             address|credit_score|           join_date|         last_update|\n",
    "+-----------+--------------+--------------------+-----------------+--------------------+------------+--------------------+--------------------+\n",
    "|      C3976|  Holly Brooks|joegreen@example.com|     549.604.7443|22763 William Ter...|         710|2019-10-27 14:59:...|2024-04-03 13:27:...|\n",
    "|      C3253|Crystal Hansen|alexander18@examp...| 950.741.8500x037|45428 Ortega Vist...|         609|2022-05-20 01:03:...|2023-09-02 07:30:...|\n",
    "|      C5173|    Pam Rogers|whitedonna@exampl...|498.535.8861x6703|84130 Campbell Po...|         478|2022-04-05 11:49:...|2024-06-06 06:52:...|\n",
    "|      C4554|  Kevin Miller|beverlysmith@exam...|(350)957-4611x016|90893 Robert Bypa...|         720|2024-04-30 10:22:...|2024-03-16 04:15:...|\n",
    "|      C4160| Willie Sexton|davidhall@example...|816-775-3262x4910|42173 Lauren Ridg...|         522|2024-06-04 00:53:...|2024-07-02 17:57:...|\n",
    "+-----------+--------------+--------------------+-----------------+--------------------+------------+--------------------+--------------------+\n",
    "\n",
    "\n",
    "fraud_flags_schema = StructType([\n",
    "    StructField(\"flag_id\", StringType(), True),\n",
    "    StructField(\"transaction_id\", StringType(), True),\n",
    "    StructField(\"flag_type\", StringType(), True),\n",
    "    StructField(\"confidence_score\", FloatType(), True),\n",
    "    StructField(\"timestamp\", TimestampType(), True)\n",
    "])\n",
    "\n",
    "customer_segments_schema = StructType([\n",
    "    StructField(\"segment_id\", StringType(), True),\n",
    "    StructField(\"customer_id\", StringType(), True),\n",
    "    StructField(\"segment_name\", StringType(), True),\n",
    "    StructField(\"segment_description\", StringType(), True),\n",
    "    StructField(\"last_updated\", TimestampType(), True)\n",
    "])      \n",
    "\n"
   ]
  }
 ],
 "metadata": {
  "application/vnd.databricks.v1+notebook": {
   "dashboards": [],
   "environmentMetadata": null,
   "language": "python",
   "notebookMetadata": {
    "pythonIndentUnit": 4
   },
   "notebookName": "capstone schema",
   "widgets": {}
  }
 },
 "nbformat": 4,
 "nbformat_minor": 0
}
